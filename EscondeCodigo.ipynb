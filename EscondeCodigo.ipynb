from IPython.display import display, HTML
def hideCodeButton():
    display(HTML('''<script>
    code_show=true; 
    function code_toggle() {
     if (code_show){
     $('div.input').hide();
     } else {
     $('div.input').show();
     }
     code_show = !code_show
    } 
    </script>
    <form action="javascript:code_toggle()"><input type="submit" value="Mostrar/ocultar código fonte"></form>''')
    
# COMO USAR:
#
#import import_ipynb
#from DiretorioDoCodigo import EscondeCodigo
#EscondeCodigo.hideCodeButton()
