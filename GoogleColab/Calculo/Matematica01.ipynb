{
  "nbformat": 4,
  "nbformat_minor": 0,
  "metadata": {
    "colab": {
      "name": "Matematica.ipynb",
      "provenance": [],
      "authorship_tag": "ABX9TyPfqc/ZIzD4cCt5BwVHitib",
      "include_colab_link": true
    },
    "kernelspec": {
      "name": "python3",
      "display_name": "Python 3"
    }
  },
  "cells": [
    {
      "cell_type": "markdown",
      "metadata": {
        "id": "view-in-github",
        "colab_type": "text"
      },
      "source": [
        "<a href=\"https://colab.research.google.com/github/gabrielvieiraf/ProjetosPython/blob/master/GoogleColab/Calculo/Matematica01.ipynb\" target=\"_parent\"><img src=\"https://colab.research.google.com/assets/colab-badge.svg\" alt=\"Open In Colab\"/></a>"
      ]
    },
    {
      "cell_type": "markdown",
      "metadata": {
        "id": "gXQvokNFcKSU"
      },
      "source": [
        "# Matemática: Funções e Seus Usos"
      ]
    },
    {
      "cell_type": "markdown",
      "metadata": {
        "id": "uoMSjIkS9c-d"
      },
      "source": [
        "## Equação de segundo Grau com Python"
      ]
    },
    {
      "cell_type": "code",
      "metadata": {
        "id": "0jD5khf58vYY"
      },
      "source": [
        "from math import sqrt\n",
        "from sympy import *\n",
        "import math\n",
        "init_printing()\n",
        "\n",
        "a = 1\n",
        "b = 8\n",
        "c = 6"
      ],
      "execution_count": 1,
      "outputs": []
    },
    {
      "cell_type": "code",
      "metadata": {
        "id": "tRJ-_qoSoq1w"
      },
      "source": [
        "# Resolvendo equação de segundo grau\n",
        "def raizes(a, b, c):\n",
        "    x = Symbol('x')\n",
        "    # ax² + bx + c\n",
        "    return solve( a*x**2 + b*x + c , x)\n",
        "\n",
        "# Plotando equação de segundo grau\n",
        "def grafico_2grau(x1,x2):\n",
        "  eixo_x = []\n",
        "  eixo_y = []\n",
        "  zero = []\n",
        "\n",
        "  variacao = abs(x1 - x2)\n",
        "\n",
        "  if variacao < 3:\n",
        "      variacao = 3\n",
        "\n",
        "  for x in np.arange(x1 - variacao, x2 + variacao, variacao / 100):\n",
        "      y = a * (x ** 2 ) + b * (x) + c\n",
        "      eixo_x.append(x)\n",
        "      eixo_y.append(y)\n",
        "      zero.append(0.0)\n",
        "\n",
        "  # Desenha linha\n",
        "  plt.plot(eixo_x,eixo_y,color=\"blue\")\n",
        "\n",
        "  # Desenha pontos\n",
        "  plt.plot((x1,x2),(0,0), marker='o',color='red')\n",
        "  plt.plot(c, marker='o',color='red')\n",
        "\n",
        "  # Desenha eixos\n",
        "  plt.plot(eixo_x,zero,color=\"black\")\n",
        "  plt.plot(zero,eixo_y,color='black')\n",
        "\n",
        "  plt.show()\n",
        "\n",
        "r = raizes(a,b,c)"
      ],
      "execution_count": 2,
      "outputs": []
    },
    {
      "cell_type": "code",
      "metadata": {
        "id": "QKqscJ1QsLfl",
        "outputId": "6aafadb4-a83c-44c2-f4cc-132b5478568a",
        "colab": {
          "base_uri": "https://localhost:8080/",
          "height": 282
        }
      },
      "source": [
        "import matplotlib.pyplot as plt\n",
        "import numpy as np\n",
        "\n",
        "try:\n",
        "  x1 = float(r[0])\n",
        "  x2 = float(r[1])\n",
        "  grafico_2grau(x1,x2)\n",
        "  print('x1 = %0.3f' % x1, 'x2= %0.3f' % x2)\n",
        "except:\n",
        "  try:\n",
        "    x1 = complex(r[0])\n",
        "    x2 = complex(r[1])\n",
        "    print('O resultado das raízes é um número complexo')\n",
        "    print('x1 =', x1, '\\nx2 =', x2)\n",
        "  except:\n",
        "    print('O valor de a é 0, resultado indefinido.')"
      ],
      "execution_count": 3,
      "outputs": [
        {
          "output_type": "display_data",
          "data": {
            "image/png": "[encoded data removed]",
            "text/plain": [
              "<Figure size 432x288 with 1 Axes>"
            ]
          },
          "metadata": {
            "tags": [],
            "needs_background": "light"
          }
        },
        {
          "output_type": "stream",
          "text": [
            "x1 = -7.162 x2= -0.838\n"
          ],
          "name": "stdout"
        }
      ]
    },
    {
      "cell_type": "markdown",
      "metadata": {
        "id": "LvLBsMJylTxe"
      },
      "source": [
        "## Utilização do sympy para criar variáveis simbólicas"
      ]
    },
    {
      "cell_type": "code",
      "metadata": {
        "id": "eyeirkjrcF6t",
        "outputId": "c75d679f-715c-48a9-ccac-9c126e078060",
        "colab": {
          "base_uri": "https://localhost:8080/",
          "height": 38
        }
      },
      "source": [
        "# define x, y e z como variáveis simbólicas\n",
        "var('x y z')"
      ],
      "execution_count": 4,
      "outputs": [
        {
          "output_type": "execute_result",
          "data": {
            "image/png": "[encoded data removed]",
            "text/latex": "$$\\left ( x, \\quad y, \\quad z\\right )$$",
            "text/plain": [
              "(x, y, z)"
            ]
          },
          "metadata": {
            "tags": []
          },
          "execution_count": 4
        }
      ]
    },
    {
      "cell_type": "markdown",
      "metadata": {
        "id": "LNEvB-kkcBVD"
      },
      "source": [
        "# Funções"
      ]
    },
    {
      "cell_type": "markdown",
      "metadata": {
        "id": "xiZKqoUZcHSy"
      },
      "source": [
        "## Exemplo 01: Custo de operação de uma máquina\n",
        "\n",
        "\n",
        "*   A empresa deseja saber o custo de energia elátrica de uma máquina.\n",
        "*   A potência da máquina é de 500 kW\n",
        "*   O custo de cada kW*h é de R$ 0,10\n",
        "\n",
        "Qual a função matemática que descreve o consumo da máquina em função da hora?\n",
        "\n",
        "\n"
      ]
    },
    {
      "cell_type": "code",
      "metadata": {
        "id": "4WWdOwyYcEij",
        "outputId": "be9c8d73-2823-4ca0-9124-57f97c8f4aa8",
        "colab": {
          "base_uri": "https://localhost:8080/"
        }
      },
      "source": [
        "# Custo da máquina por hora\n",
        "def f(x): return 500*0.1*x\n",
        "x = 24 * 30\n",
        "print('O custo é de:', f(x), 'por %2.0f hora(s)' % x)\n",
        "\n",
        "# Custo da máquina por dia\n",
        "def C(x): return (500*0.1*x)*24\n",
        "x = 30\n",
        "print('O custo é de:', C(x), 'por %2.0f dia(s)' % x)"
      ],
      "execution_count": 5,
      "outputs": [
        {
          "output_type": "stream",
          "text": [
            "O custo é de: 36000.0 por 720 hora(s)\n",
            "O custo é de: 36000.0 por 30 dia(s)\n"
          ],
          "name": "stdout"
        }
      ]
    },
    {
      "cell_type": "markdown",
      "metadata": {
        "id": "kh5a8sJAe3Va"
      },
      "source": [
        "### Plotando Gráficos"
      ]
    },
    {
      "cell_type": "code",
      "metadata": {
        "id": "9qw6YjRoe1nM",
        "outputId": "a5763e9e-ebee-4a1e-8b0a-348a80ab59bf",
        "colab": {
          "base_uri": "https://localhost:8080/",
          "height": 312
        }
      },
      "source": [
        "# Calculando horas em um mês\n",
        "dias = 30\n",
        "horas = dias*24\n",
        "\n",
        "lista_preco = list()\n",
        "for hora in range(0,horas):\n",
        "  lista_preco.append(f(hora))\n",
        "\n",
        "# Gráfico\n",
        "\n",
        "fig, ax = plt.subplots()\n",
        "\n",
        "# Título do gráfico\n",
        "plt.title('Preço kW*h em um mês')\n",
        "\n",
        "# Eixos \n",
        "ax.set_xlabel('horas')\n",
        "ax.set_ylabel('Preço em (R$)')\n",
        "\n",
        "plt.plot(lista_preco)"
      ],
      "execution_count": 6,
      "outputs": [
        {
          "output_type": "execute_result",
          "data": {
            "text/plain": [
              "[<matplotlib.lines.Line2D at 0x7fcd731b5da0>]"
            ]
          },
          "metadata": {
            "tags": []
          },
          "execution_count": 6
        },
        {
          "output_type": "display_data",
          "data": {
            "image/png": "[encoded data removed]",
            "text/plain": [
              "<Figure size 432x288 with 1 Axes>"
            ]
          },
          "metadata": {
            "tags": [],
            "needs_background": "light"
          }
        }
      ]
    },
    {
      "cell_type": "code",
      "metadata": {
        "id": "GmmZm21BoKhe",
        "outputId": "ee80dab9-9c77-468d-fd83-81a012ae2212",
        "colab": {
          "base_uri": "https://localhost:8080/",
          "height": 312
        }
      },
      "source": [
        "# Podemos redefinir o preço em função dos dias\n",
        "\n",
        "dias = 30\n",
        "\n",
        "lista_preco2 = list()\n",
        "\n",
        "for dia in range(0,dias):\n",
        "  lista_preco2.append(C(dia))\n",
        "\n",
        "# Gráfico \n",
        "\n",
        "fig, ax = plt.subplots()\n",
        "\n",
        "# Título do gráfico\n",
        "plt.title('Preço kW*dia em um mês')\n",
        "\n",
        "# Eixos \n",
        "ax.set_xlabel('dias')\n",
        "ax.set_ylabel('Preço em (R$)')\n",
        "\n",
        "plt.plot(lista_preco2)"
      ],
      "execution_count": 7,
      "outputs": [
        {
          "output_type": "execute_result",
          "data": {
            "text/plain": [
              "[<matplotlib.lines.Line2D at 0x7fcd72c8d0f0>]"
            ]
          },
          "metadata": {
            "tags": []
          },
          "execution_count": 7
        },
        {
          "output_type": "display_data",
          "data": {
            "image/png": "[encoded data removed]",
            "text/plain": [
              "<Figure size 432x288 with 1 Axes>"
            ]
          },
          "metadata": {
            "tags": [],
            "needs_background": "light"
          }
        }
      ]
    },
    {
      "cell_type": "markdown",
      "metadata": {
        "id": "9duCqIFko3Cy"
      },
      "source": [
        "## Exemplo 02: Realizando Previsões com funções\n",
        "\n",
        "\n",
        "*   A situação problema da empresa é: temos a função custo C(x):\n",
        "\n",
        "<center><h4> C(x) =  0.02x² + 80/x </h4></center>\n",
        "\n",
        "*   Qual a dimensão x da caixa, a partir da qual o custo é maior ou igual a R$ 22,00?\n",
        "\n"
      ]
    },
    {
      "cell_type": "markdown",
      "metadata": {
        "id": "wA9uRyeXUN6v"
      },
      "source": [
        "### Definindo Funções para o exemplo"
      ]
    },
    {
      "cell_type": "code",
      "metadata": {
        "id": "aiMqK0fIp8yq"
      },
      "source": [
        "def C(x): return (0.02*(x**2)) + (80/x)\n",
        "\n",
        "def c(x): return round(C(x) - 22,2)\n",
        "\n",
        "def find_raizes(y,x1,x2,p=0.005):\n",
        "  lista_raizes = list()\n",
        "  lista_index = list()\n",
        "  raizes_= list()\n",
        "\n",
        "  for i in np.arange(x1,x2,step=0.001):\n",
        "    if (C(i)<= y and C(i)>= y-p):\n",
        "      # Preço\n",
        "      lista_raizes.append(round(C(i),4))\n",
        "      # m²\n",
        "      lista_index.append(round(i,2))\n",
        "\n",
        "  return lista_index, lista_raizes"
      ],
      "execution_count": 19,
      "outputs": []
    },
    {
      "cell_type": "markdown",
      "metadata": {
        "id": "jcaU2L_8tnn9"
      },
      "source": [
        "### Plotando Gráficos"
      ]
    },
    {
      "cell_type": "code",
      "metadata": {
        "id": "khSmrnsoUBID",
        "outputId": "8d8878b6-30e5-4a19-a05d-f9a05c5b5506",
        "colab": {
          "base_uri": "https://localhost:8080/"
        }
      },
      "source": [
        "resultado = find_raizes(22,3,5)\n",
        "\n",
        "import itertools\n",
        "\n",
        "for i, j in itertools.product(resultado[0], resultado[1]):\n",
        "  valor_x = float(i)\n",
        "  valor_y = float(j)\n",
        "\n",
        "print('O valor de x é:', valor_x)\n",
        "print('O valor de y é:', valor_y)\n",
        "\n",
        "resultado2 = find_raizes(22,30,35)\n",
        "\n",
        "print()\n",
        "\n",
        "for i, j in itertools.product(resultado2[0], resultado2[1]):\n",
        "  valor_x2 = float(i)\n",
        "  valor_y2 = float(j)\n",
        "\n",
        "print('O valor de x2 é:', valor_x2)\n",
        "print('O valor de y2 é:', valor_y2)\n"
      ],
      "execution_count": 24,
      "outputs": [
        {
          "output_type": "stream",
          "text": [
            "O valor de x é: 3.68\n",
            "O valor de y é: 21.9985\n",
            "\n",
            "O valor de x2 é: 31.17\n",
            "O valor de y2 é: 21.9991\n"
          ],
          "name": "stdout"
        }
      ]
    },
    {
      "cell_type": "code",
      "metadata": {
        "id": "GBVL_H3gsFDa",
        "outputId": "624660bd-a62f-493b-b6da-ac1722e7e232",
        "colab": {
          "base_uri": "https://localhost:8080/",
          "height": 312
        }
      },
      "source": [
        "lista_ex02 = list()\n",
        "\n",
        "x = 35\n",
        "\n",
        "zero_ex02 = []\n",
        "eixo_x_ex02 = []\n",
        "raiz = []\n",
        "\n",
        "for i in np.arange(0.5,x, step=0.01):\n",
        "  lista_ex02.append(C(i))\n",
        "  zero_ex02.append(22)\n",
        "  eixo_x_ex02.append(i)\n",
        "\n",
        "# Gráfico\n",
        "fig, ax = plt.subplots()\n",
        "\n",
        "# Título do gráfico\n",
        "plt.title('Custo de produção da caixa')\n",
        "\n",
        "# Eixos \n",
        "ax.set_xlabel('cm')\n",
        "ax.set_ylabel('Preço em (R$)')\n",
        "\n",
        "plt.plot(eixo_x_ex02,lista_ex02)\n",
        "\n",
        "plt.plot(eixo_x_ex02,zero_ex02,color='red')\n",
        "\n",
        "plt.plot(valor_x,valor_y, marker='o',color='black')\n",
        "plt.plot(valor_x2,valor_y2, marker='o',color='black')\n",
        "\n",
        "print('Logo, para tamanhos menores que: %0.2fcm e maiores que %0.2fcm, o custo de R$22,00 é inviável.' % (valor_x,valor_x2))"
      ],
      "execution_count": 42,
      "outputs": [
        {
          "output_type": "stream",
          "text": [
            "Logo, para tamanhos menores que: 3.68cm e maiores que 31.17cm, o custo de R$22,00 é inviável.\n"
          ],
          "name": "stdout"
        },
        {
          "output_type": "display_data",
          "data": {
            "image/png": "[encoded data removed]",
            "text/plain": [
              "<Figure size 432x288 with 1 Axes>"
            ]
          },
          "metadata": {
            "tags": [],
            "needs_background": "light"
          }
        }
      ]
    },
    {
      "cell_type": "markdown",
      "metadata": {
        "id": "Cm2LYHS6VIB8"
      },
      "source": [
        "## Variação Media de Função: Parte 1\n",
        "\n",
        "A variação média de uma função f(x), dentro do intervalo [a,b] é definida por:\n",
        "\n",
        "$\n",
        "\\dfrac{\\Delta f(x)}{\\Delta x} = \\dfrac{f(b)-f(a)}{b-a}\n",
        "$"
      ]
    },
    {
      "cell_type": "code",
      "metadata": {
        "id": "y_q4Sj3kVNsQ",
        "outputId": "d55ab4f8-1f0f-4dc4-e179-9fcb23876f16",
        "colab": {
          "base_uri": "https://localhost:8080/",
          "height": 298
        }
      },
      "source": [
        "var ('a b')\n",
        "\n",
        "def f(a): return 2*a**2-1\n",
        "f(a)\n",
        "\n",
        "eixo_x_exvm = []\n",
        "eixo_y_exvm = []\n",
        "raiz = []\n",
        "\n",
        "for i in np.arange(0,5,step=0.1):\n",
        "  eixo_y_exvm .append(f(i))\n",
        "  eixo_x_exvm.append(i)\n",
        "\n",
        "# Gráfico\n",
        "fig, ax = plt.subplots()\n",
        "\n",
        "# Título do gráfico\n",
        "plt.title('Gráfico da Função')\n",
        "\n",
        "plt.plot(eixo_x_exvm,eixo_y_exvm)"
      ],
      "execution_count": 109,
      "outputs": [
        {
          "output_type": "execute_result",
          "data": {
            "text/plain": [
              "[<matplotlib.lines.Line2D at 0x7fcd69933cc0>]"
            ]
          },
          "metadata": {
            "tags": []
          },
          "execution_count": 109
        },
        {
          "output_type": "display_data",
          "data": {
            "image/png": "[encoded data removed]",
            "text/plain": [
              "<Figure size 432x288 with 1 Axes>"
            ]
          },
          "metadata": {
            "tags": [],
            "needs_background": "light"
          }
        }
      ]
    },
    {
      "cell_type": "code",
      "metadata": {
        "id": "AO91SaK4X91J",
        "outputId": "447380c7-8248-46fd-94ed-839a13d9d280",
        "colab": {
          "base_uri": "https://localhost:8080/"
        }
      },
      "source": [
        "def variacao(a,b): return (f(b)-f(a))/(b-a)\n",
        "\n",
        "# Alguns exemplos de variação média da função\n",
        "print(variacao(4,2))\n",
        "print(variacao(5,2))\n",
        "print(variacao(1,2))\n",
        "print(variacao(3,5))"
      ],
      "execution_count": 121,
      "outputs": [
        {
          "output_type": "stream",
          "text": [
            "12.0\n",
            "14.0\n",
            "6.0\n",
            "16.0\n"
          ],
          "name": "stdout"
        }
      ]
    },
    {
      "cell_type": "markdown",
      "metadata": {
        "id": "PdkxypwVbMtp"
      },
      "source": [
        "## Variação Media de Função: Parte 2\n",
        "\n",
        "Uma descrição mais flexível para variação média de uma função é: \n",
        "\n",
        "A variação média da função f(x), no intevalo delta(x) é dada por:\n",
        "\n",
        "$\n",
        "\\dfrac{\\Delta f(x)}{\\Delta x} = \\dfrac{(f(x) + \\Delta x) - f(x)}{\\Delta x}\n",
        "$"
      ]
    },
    {
      "cell_type": "code",
      "metadata": {
        "id": "53d-MOPNbTcA",
        "outputId": "1872f735-5eef-4c2c-ad32-4ca51452a673",
        "colab": {
          "base_uri": "https://localhost:8080/"
        }
      },
      "source": [
        "var ('x delta_x p')\n",
        "def C(p): return 0.02*p**2+80/p\n",
        "print(C(p))\n",
        "def h(x,delta_x): return (C(x + delta_x) - C(x) )/ delta_x\n",
        "\n",
        "# A função h() pode ser usada para calcular a variação da média \n",
        "print(h(10,0.5))"
      ],
      "execution_count": 132,
      "outputs": [
        {
          "output_type": "stream",
          "text": [
            "0.02*p**2 + 80/p\n",
            "-0.3519047619047626\n"
          ],
          "name": "stdout"
        }
      ]
    },
    {
      "cell_type": "markdown",
      "metadata": {
        "id": "ndgcMwuG0B-R"
      },
      "source": [
        "## Dominio e Imagem de uma Função\n",
        "\n",
        "O domínio da função f(x) corresponde ao conjunto de todos os valores x onde f(x) pode ser calculada.\n",
        "\n",
        "A imagem da função f(x) corresponde ao conjunto de todos os valores que a função assume."
      ]
    },
    {
      "cell_type": "code",
      "metadata": {
        "id": "Mxtcv_1r0Ffc",
        "outputId": "494ca8dc-71ae-460c-bb63-286763fd9ce9",
        "colab": {
          "base_uri": "https://localhost:8080/",
          "height": 282
        }
      },
      "source": [
        "var ('x')\n",
        "def f(x): return sqrt(x-1)\n",
        "\n",
        "eixo_y_ex_dominio = list()\n",
        "eixo_x_ex_dominio = list()\n",
        "\n",
        "for i in np.arange(3,5, step=0.01):\n",
        "  eixo_y_ex_dominio.append(f(i))\n",
        "  eixo_x_ex_dominio.append(i)\n",
        "\n",
        "plt.plot(eixo_x_ex_dominio,eixo_y_ex_dominio)\n"
      ],
      "execution_count": 140,
      "outputs": [
        {
          "output_type": "execute_result",
          "data": {
            "text/plain": [
              "[<matplotlib.lines.Line2D at 0x7fcd6955eef0>]"
            ]
          },
          "metadata": {
            "tags": []
          },
          "execution_count": 140
        },
        {
          "output_type": "display_data",
          "data": {
            "image/png": "[encoded data removed]",
            "text/plain": [
              "<Figure size 432x288 with 1 Axes>"
            ]
          },
          "metadata": {
            "tags": [],
            "needs_background": "light"
          }
        }
      ]
    },
    {
      "cell_type": "markdown",
      "metadata": {
        "id": "R2RZeBPz3yVf"
      },
      "source": [
        "## Inversa de uma Função"
      ]
    },
    {
      "cell_type": "markdown",
      "metadata": {
        "id": "2uzY6G8hVkgm"
      },
      "source": [
        "### Função Injetora\n",
        " Uma função é injetora, se e somente se, para quaisquer x1 e x2 pertencentes ao domínio, temos que:\n",
        " \n",
        " $\n",
        " x1 \\neq x2 \\rightarrow f(x1) \\neq f(x2)\n",
        " $  "
      ]
    },
    {
      "cell_type": "markdown",
      "metadata": {
        "id": "bSu9Eri1_ULh"
      },
      "source": [
        "**Exemplo :** Note que: $ f: \\mathbb{R} \\rightarrow \\mathbb{R}  $ **tal que:** $ f(x) = 5 $ é uma função, mas não é injetora!"
      ]
    },
    {
      "cell_type": "code",
      "metadata": {
        "id": "VHPW-Tm53483",
        "outputId": "ccc04e3e-e58b-4076-dad4-f4b257a5f972",
        "colab": {
          "base_uri": "https://localhost:8080/",
          "height": 282
        }
      },
      "source": [
        "var ('x')\n",
        "def f(x): return 5\n",
        "\n",
        "eixo_x = list()\n",
        "eixo_y = list()\n",
        "\n",
        "for i in range(-5,6):\n",
        "  eixo_x.append(i)\n",
        "  eixo_y.append(f(i))\n",
        "\n",
        "plt.plot(eixo_x, eixo_y)"
      ],
      "execution_count": 152,
      "outputs": [
        {
          "output_type": "execute_result",
          "data": {
            "text/plain": [
              "[<matplotlib.lines.Line2D at 0x7fcd691c4e48>]"
            ]
          },
          "metadata": {
            "tags": []
          },
          "execution_count": 152
        },
        {
          "output_type": "display_data",
          "data": {
            "image/png": "[encoded data removed]",
            "text/plain": [
              "<Figure size 432x288 with 1 Axes>"
            ]
          },
          "metadata": {
            "tags": [],
            "needs_background": "light"
          }
        }
      ]
    },
    {
      "cell_type": "markdown",
      "metadata": {
        "id": "jdf8xMYDUCM1"
      },
      "source": [
        "**Exemplo02 :** Note que: $ f: \\mathbb{R} \\rightarrow \\mathbb{R}  $ **tal que:** $ f(x) = 5 * x $ é uma função injetora!"
      ]
    },
    {
      "cell_type": "code",
      "metadata": {
        "id": "5xCFA498TtS-",
        "outputId": "a11cdf44-08e8-49d5-870e-4777e5844875",
        "colab": {
          "base_uri": "https://localhost:8080/",
          "height": 282
        }
      },
      "source": [
        "var ('x')\n",
        "def f(x): return 5*x\n",
        "\n",
        "eixo_x = list()\n",
        "eixo_y = list()\n",
        "\n",
        "for i in range(-5,6):\n",
        "  eixo_x.append(i)\n",
        "  eixo_y.append(f(i))\n",
        "\n",
        "plt.plot(eixo_x, eixo_y)"
      ],
      "execution_count": 153,
      "outputs": [
        {
          "output_type": "execute_result",
          "data": {
            "text/plain": [
              "[<matplotlib.lines.Line2D at 0x7fcd6919d588>]"
            ]
          },
          "metadata": {
            "tags": []
          },
          "execution_count": 153
        },
        {
          "output_type": "display_data",
          "data": {
            "image/png": "[encoded data removed]",
            "text/plain": [
              "<Figure size 432x288 with 1 Axes>"
            ]
          },
          "metadata": {
            "tags": [],
            "needs_background": "light"
          }
        }
      ]
    },
    {
      "cell_type": "markdown",
      "metadata": {
        "id": "weTjI8gGUXx2"
      },
      "source": [
        "### Função Sobrejetora\n",
        "Uma função $ f: A \\rightarrow B $  é sobrejetora, se cada elemento do conjunto imagem de B é imagem de pelo menos um elemento de A. \n",
        "\n",
        "Em outras palavras, a imagem B de f é a totalidade do conjunto B.\n",
        " \n",
        "$ f: \\mathbb{R} \\rightarrow \\mathbb{R} | f(x) = 3*x  $ "
      ]
    },
    {
      "cell_type": "code",
      "metadata": {
        "id": "a-md1vrJVbm6",
        "outputId": "1f7ba384-e098-4a9e-f6a1-ceaefd20b88d",
        "colab": {
          "base_uri": "https://localhost:8080/",
          "height": 282
        }
      },
      "source": [
        "var ('x')\n",
        "def f(x): return 3*x\n",
        "\n",
        "eixo_x = list()\n",
        "eixo_y = list()\n",
        "\n",
        "for i in range(-5,6):\n",
        "  eixo_x.append(i)\n",
        "  eixo_y.append(f(i))\n",
        "\n",
        "plt.plot(eixo_x, eixo_y)"
      ],
      "execution_count": 155,
      "outputs": [
        {
          "output_type": "execute_result",
          "data": {
            "text/plain": [
              "[<matplotlib.lines.Line2D at 0x7fcd69114630>]"
            ]
          },
          "metadata": {
            "tags": []
          },
          "execution_count": 155
        },
        {
          "output_type": "display_data",
          "data": {
            "image/png": "[encoded data removed]",
            "text/plain": [
              "<Figure size 432x288 with 1 Axes>"
            ]
          },
          "metadata": {
            "tags": [],
            "needs_background": "light"
          }
        }
      ]
    },
    {
      "cell_type": "markdown",
      "metadata": {
        "id": "E5nvZS3BWDfm"
      },
      "source": [
        "### Função Bijetora\n",
        "\n",
        "Definição: Uma função que é injetora e subjetora.\n",
        "\n",
        "$ f(x) $ bijetora é reversível $ f^{-1}(x)$\n",
        "\n",
        "$ f^{-1}(f(x)) = x$"
      ]
    },
    {
      "cell_type": "code",
      "metadata": {
        "id": "BCrTlkz5YtmW"
      },
      "source": [
        ""
      ],
      "execution_count": null,
      "outputs": []
    },
    {
      "cell_type": "markdown",
      "metadata": {
        "id": "YpL0dTHBaI6F"
      },
      "source": [
        "# Limites"
      ]
    },
    {
      "cell_type": "markdown",
      "metadata": {
        "id": "FV0Rav8Wa4Yh"
      },
      "source": [
        "Podemos usar o SymPy para calcular o limite de uma função quando  x  tende a um ponto."
      ]
    },
    {
      "cell_type": "markdown",
      "metadata": {
        "id": "wNscRDYUcJos"
      },
      "source": [
        "## Exemplo 03: Calculando Limites"
      ]
    },
    {
      "cell_type": "code",
      "metadata": {
        "id": "nFAb-xz8aL2J",
        "outputId": "a61fef82-065c-485c-ae53-2a3f6fd6c42e",
        "colab": {
          "base_uri": "https://localhost:8080/"
        }
      },
      "source": [
        "# define x e y como variáveis simbólicas\n",
        "var('x y')\n",
        "\n",
        "# Definindo função\n",
        "f = Lambda(x, (x**2 -1))\n",
        "\n",
        "# Limite da função f(x) quando x tende a 2\n",
        "r1 = limit(f(x),x,2)\n",
        "\n",
        "# Limite da função f(x) quando x tende a -1\n",
        "r2 = limit(f(x),x,-1)\n",
        "\n",
        "# Limite da função f(x) quando x tende a 5\n",
        "r3 = limit(f(x),x,5)\n",
        "\n",
        "print(r1,r2,r3)"
      ],
      "execution_count": 44,
      "outputs": [
        {
          "output_type": "stream",
          "text": [
            "3 0 24\n"
          ],
          "name": "stdout"
        }
      ]
    },
    {
      "cell_type": "markdown",
      "metadata": {
        "id": "uPrMYAeocfse"
      },
      "source": [
        "### Gráfico da Função"
      ]
    },
    {
      "cell_type": "code",
      "metadata": {
        "id": "2XcOczJlce3D",
        "outputId": "2be6de4f-1d9d-4291-952c-d7c188601e21",
        "colab": {
          "base_uri": "https://localhost:8080/",
          "height": 298
        }
      },
      "source": [
        "def f(x): return (x**2 -1)\n",
        "\n",
        "lista_ex03 = list()\n",
        "\n",
        "x = 5\n",
        "\n",
        "eixo_x_ex03 = []\n",
        "raiz = []\n",
        "\n",
        "for i in np.arange(-1,x,step=0.1):\n",
        "  lista_ex03.append(f(i))\n",
        "  eixo_x_ex03.append(i)\n",
        "\n",
        "# Gráfico\n",
        "fig, ax = plt.subplots()\n",
        "\n",
        "# Título do gráfico\n",
        "plt.title('Gráfico da Função')\n",
        "\n",
        "plt.plot(eixo_x_ex03,lista_ex03)\n",
        "\n",
        "# Limites\n",
        "plt.plot(2,r1, marker='o',color='black')\n",
        "plt.plot(-1,r2, marker='o',color='black')\n",
        "plt.plot(5,r3, marker='o',color='black')"
      ],
      "execution_count": 45,
      "outputs": [
        {
          "output_type": "execute_result",
          "data": {
            "text/plain": [
              "[<matplotlib.lines.Line2D at 0x7fcd71f1b6d8>]"
            ]
          },
          "metadata": {
            "tags": []
          },
          "execution_count": 45
        },
        {
          "output_type": "display_data",
          "data": {
            "image/png": "[encoded data removed]",
            "text/plain": [
              "<Figure size 432x288 with 1 Axes>"
            ]
          },
          "metadata": {
            "tags": [],
            "needs_background": "light"
          }
        }
      ]
    },
    {
      "cell_type": "markdown",
      "metadata": {
        "id": "iwrBzqwIneQc"
      },
      "source": [
        "## Calculando Limites Laterais\n",
        "\n",
        "Como padrão, a função ```limit()```\n",
        "calcula o limite lateral pela direita.\n",
        "\n"
      ]
    },
    {
      "cell_type": "code",
      "metadata": {
        "id": "9Nno6aiFnuNW"
      },
      "source": [
        "limit(1/y, y, 0)"
      ],
      "execution_count": null,
      "outputs": []
    },
    {
      "cell_type": "markdown",
      "metadata": {
        "id": "sPONcQ9soIue"
      },
      "source": [
        "para calcularmos o limite lateral pela esquerda, basta digitar:"
      ]
    },
    {
      "cell_type": "code",
      "metadata": {
        "id": "UT7jUg4poOF5"
      },
      "source": [
        "limit(1/y, y, 0, '-')"
      ],
      "execution_count": null,
      "outputs": []
    },
    {
      "cell_type": "markdown",
      "metadata": {
        "id": "vuSjGyc4xCPp"
      },
      "source": [
        "### Exemplo 04\n",
        "\n",
        "Devido aos limites laterais não coincidirem, o limite da função não existe."
      ]
    },
    {
      "cell_type": "code",
      "metadata": {
        "id": "mSQGTR92rgzj",
        "outputId": "75e92e02-6008-42e0-ee2f-e00f6bab73ee",
        "colab": {
          "base_uri": "https://localhost:8080/",
          "height": 282
        }
      },
      "source": [
        "lista_ex04 = list()\n",
        "eixo_x_ex04 = list()\n",
        "\n",
        "for x in np.arange(0,6, step=0.1):\n",
        "  if (x<3):\n",
        "    lista_ex04.append(1+x**2)\n",
        "  else:\n",
        "    lista_ex04.append(20)\n",
        "  eixo_x_ex04.append(x)\n",
        "\n",
        "plt.plot(eixo_x_ex04,lista_ex04)"
      ],
      "execution_count": 48,
      "outputs": [
        {
          "output_type": "execute_result",
          "data": {
            "text/plain": [
              "[<matplotlib.lines.Line2D at 0x7fcd71e92e10>]"
            ]
          },
          "metadata": {
            "tags": []
          },
          "execution_count": 48
        },
        {
          "output_type": "display_data",
          "data": {
            "image/png": "[encoded data removed]",
            "text/plain": [
              "<Figure size 432x288 with 1 Axes>"
            ]
          },
          "metadata": {
            "tags": [],
            "needs_background": "light"
          }
        }
      ]
    },
    {
      "cell_type": "code",
      "metadata": {
        "id": "dIczjQdMyzIG",
        "outputId": "12d1e62e-ecb7-4e94-d1f0-62d9fd35d222",
        "colab": {
          "base_uri": "https://localhost:8080/"
        }
      },
      "source": [
        "# Limite de x quando x tende a 3\n",
        "limite01 = limit(1+x**2, x, 3, '-')\n",
        "\n",
        "# Limite de x quando x tende a 3\n",
        "limite02 = limit(20, x, 3)\n",
        "\n",
        "print('O limite pela direita é de:', limite01 )\n",
        "print('enquanto o limite pela esquerda é de:' , limite02 )"
      ],
      "execution_count": 103,
      "outputs": [
        {
          "output_type": "stream",
          "text": [
            "O limite pela direita é de: 10\n",
            "enquanto o limite pela esquerda é de: 20\n"
          ],
          "name": "stdout"
        }
      ]
    },
    {
      "cell_type": "markdown",
      "metadata": {
        "id": "p4VygNNd0BwX"
      },
      "source": [
        "**Conclusão:** Os limites laterais refletem o fato de que podemos nos aproximar de um dado valor, quer seja pela esquerda ou pela direita.\n",
        "\n",
        "Em alguns casos, o valor resultante do limite pode ser igual pela equerda e pela direita, mas em outros pode não ser."
      ]
    },
    {
      "cell_type": "markdown",
      "metadata": {
        "id": "27c2Bn4306qj"
      },
      "source": [
        "## Propriedades Limites: Parte 1"
      ]
    },
    {
      "cell_type": "markdown",
      "metadata": {
        "id": "8m4237TM0-YL"
      },
      "source": [
        "1 - O limite da soma de duas funções quando x se aproxima de x0, é igual à soma dos limites das funções.\n",
        "\n",
        "$\n",
        "\\lim_{x \\to x0} (f(x) + g(x))= \\lim_{x \\to x0} f(x) + \\lim_{x \\to x0} g(x)\n",
        "$\n",
        "\n",
        "\n",
        "2 - Propriedade da multiplicação por escalar do Limite:\n",
        "\n",
        "$\n",
        "\\lim_{x \\to x0} C( f(x))= C \\lim_{x \\to x0} f(x)\n",
        "$"
      ]
    },
    {
      "cell_type": "markdown",
      "metadata": {
        "id": "7vgiNXSSGswp"
      },
      "source": [
        "### Soma de **Funções**"
      ]
    },
    {
      "cell_type": "code",
      "metadata": {
        "id": "601tF5dP5MZR",
        "outputId": "201cba9b-772d-4e10-9213-112487f242ff",
        "colab": {
          "base_uri": "https://localhost:8080/"
        }
      },
      "source": [
        "def f(z): return z + 1\n",
        "def g(z): return z\n",
        "\n",
        "soma_funcoes = f(z) + g(z)\n",
        "print('O limite da soma das funções é:',limit(soma_funcoes,z, 1))\n",
        "\n",
        "soma_limites = limit(g(z),z,1) + limit(f(z),z,1)\n",
        "\n",
        "print('A soma dos limites das funções é:',soma_limites)\n"
      ],
      "execution_count": 60,
      "outputs": [
        {
          "output_type": "stream",
          "text": [
            "O limite da soma das funções é: 3\n",
            "A soma dos limites das funções é: 3\n"
          ],
          "name": "stdout"
        }
      ]
    },
    {
      "cell_type": "markdown",
      "metadata": {
        "id": "fFbec3-sJEDn"
      },
      "source": [
        "### Constante vezes função"
      ]
    },
    {
      "cell_type": "code",
      "metadata": {
        "id": "sDehUvJ2JHkh",
        "outputId": "4478b8fe-0112-4bf8-c399-52f6a27f4ce9",
        "colab": {
          "base_uri": "https://localhost:8080/"
        }
      },
      "source": [
        "soma_funcoes = 4 * (f(z) + g(z))\n",
        "print('O limite da soma das funções é:',limit(soma_funcoes,z, 1))\n",
        "\n",
        "soma_limites = 4 * (limit(g(z),z,1) + limit(f(z),z,1))\n",
        "\n",
        "print('A soma dos limites das funções é:',soma_limites)"
      ],
      "execution_count": 68,
      "outputs": [
        {
          "output_type": "stream",
          "text": [
            "O limite da soma das funções é: 12\n",
            "A soma dos limites das funções é: 12\n"
          ],
          "name": "stdout"
        }
      ]
    },
    {
      "cell_type": "markdown",
      "metadata": {
        "id": "rEdGTyk0J9K9"
      },
      "source": [
        "## Propriedades Limites: Parte 2"
      ]
    },
    {
      "cell_type": "markdown",
      "metadata": {
        "id": "yeeqtb6_Kj3M"
      },
      "source": [
        "1 - O limite do produto das funções é equivalente ao produto dos limites.\n",
        "\n",
        "$\n",
        "\\lim_{x \\to x0} f(x)  *g(x) = \\lim_{x \\to x0} f(x) * \\lim_{x \\to x0} g(x)\n",
        "$\n",
        "\n",
        "2 - O limite da divisão das funções é equivalente à divisão dos limites.\n",
        "\n",
        "$\n",
        "\\lim_{x \\to x0} \\dfrac{f(x)}{g(x)} =  \\dfrac{\\lim_{x \\to x0}f(x)}{\\lim_{x \\to x0} g(x)}\n",
        "$\n",
        "\n",
        "\n",
        "**Desde que:**\n",
        "\n",
        "$\n",
        "\\lim_{x \\to x0} g(x) \\neq 0\n",
        "$"
      ]
    },
    {
      "cell_type": "code",
      "metadata": {
        "id": "hZ5fuKsEKD2n",
        "outputId": "0a22ec20-1937-4a19-b56d-81797f2ad0b8",
        "colab": {
          "base_uri": "https://localhost:8080/"
        }
      },
      "source": [
        "# Reutilizando as funções já criadas na parte 01\n",
        "print(f(z),g(z),'\\n')\n",
        "\n",
        "produto_funcoes = f(z) * g(z)\n",
        "print('O limite do produto das funções é:',limit(produto_funcoes, z, 2))\n",
        "\n",
        "produto_limites = limit(f(z),z, 2) * limit(g(z), z, 2)\n",
        "print('O limite do produto dos limites é:',limit(produto_limites, z, 2))\n",
        "\n",
        "print()\n",
        "try: \n",
        "  divisao_funcoes = f(z) / g(z)\n",
        "  print('O limite da divisão das funções é:',limit(divisao_funcoes, z, 2))\n",
        "\n",
        "  divisao_limites = limit(f(z),z, 2) / limit(g(z), z, 2)\n",
        "  print('O limite da divisão dos limites é:',limit(divisao_limites, z, 2))\n",
        "except:\n",
        "  print('g(x) == 0')"
      ],
      "execution_count": 82,
      "outputs": [
        {
          "output_type": "stream",
          "text": [
            "z + 1 z \n",
            "\n",
            "O limite do produto das funções é: 6\n",
            "O limite do produto dos limites é: 6\n",
            "\n",
            "O limite da divisão das funções é: 3/2\n",
            "O limite da divisão dos limites é: 3/2\n"
          ],
          "name": "stdout"
        }
      ]
    },
    {
      "cell_type": "markdown",
      "metadata": {
        "id": "4o41FdFSQ3Dm"
      },
      "source": [
        "## Existência do Limite"
      ]
    },
    {
      "cell_type": "code",
      "metadata": {
        "id": "CvrwpUr7Q6Ty",
        "outputId": "2101e387-b5ae-4e19-e76a-992e2b1a754d",
        "colab": {
          "base_uri": "https://localhost:8080/",
          "height": 289
        }
      },
      "source": [
        "var('x')\n",
        "def f(x): return 2*x**2\n",
        "\n",
        "eixo_x_ex05 = list()\n",
        "eixo_y_ex05 = list()\n",
        "\n",
        "for i in np.arange(0,5, step= 0.1):\n",
        "  eixo_x_ex05.append(i)\n",
        "  eixo_y_ex05.append(f(i))\n",
        "\n",
        "plt.plot(eixo_x_ex05,eixo_y_ex05)"
      ],
      "execution_count": 89,
      "outputs": [
        {
          "output_type": "execute_result",
          "data": {
            "image/png": "[encoded data removed]",
            "text/latex": "$$2 x^{2}$$",
            "text/plain": [
              "   2\n",
              "2⋅x "
            ]
          },
          "metadata": {
            "tags": []
          },
          "execution_count": 89
        },
        {
          "output_type": "display_data",
          "data": {
            "image/png": "[encoded data removed]",
            "text/plain": [
              "<Figure size 432x288 with 1 Axes>"
            ]
          },
          "metadata": {
            "tags": [],
            "needs_background": "light"
          }
        }
      ]
    },
    {
      "cell_type": "code",
      "metadata": {
        "id": "sH7WGycTSvx4",
        "outputId": "74fa7930-800f-4b96-c1c2-3b668e1d20e4",
        "colab": {
          "base_uri": "https://localhost:8080/"
        }
      },
      "source": [
        "print('Limite Lateral pela Direita:',limit(f(x),x,2))\n",
        "print('Limite Lateral pela Esquerda:',limit(f(x),x,2,'-'))"
      ],
      "execution_count": 95,
      "outputs": [
        {
          "output_type": "stream",
          "text": [
            "Limite Lateral pela Direita: 8\n",
            "Limite Lateral pela Esquerda: 8\n"
          ],
          "name": "stdout"
        }
      ]
    }
  ]
}