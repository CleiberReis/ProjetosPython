{
  "nbformat": 4,
  "nbformat_minor": 0,
  "metadata": {
    "colab": {
      "name": "Estudos de estatistica",
      "provenance": [],
      "collapsed_sections": []
    },
    "kernelspec": {
      "name": "python3",
      "display_name": "Python 3"
    }
  },
  "cells": [
    {
      "cell_type": "markdown",
      "metadata": {
        "id": "3UbEhaOrf6Jv"
      },
      "source": [
        "# **Exercícios Probabilidade Binomial**"
      ]
    },
    {
      "cell_type": "markdown",
      "metadata": {
        "id": "tQ-79uFtB6aK"
      },
      "source": [
        "## **Problema 01**\n",
        "Em um concurso para preencher uma vaga de cientista de dados,\n",
        "temos um total de 80 questoes de múltipla escolha, cada uma com três\n",
        " alternativas possíveis, essas questões têm o mesmo valor, supõe que um\n",
        "  candidato resolva se aventurar sem ter estudado absolutamente nada, \n",
        "  e resolva fazer a prova totalmente no chute.\n",
        "   Assumindo que a prova vale 10 pontos, e que a nota de corte é 5, \n",
        "   ou seja, se o cara tirar 5 ou mais, ele passa, se tirar menos que isso,\n",
        "    é reprovado, eu pergunto para você, qual a chance desse candidato passar\n",
        "     para próxima etapa do processo seletivo?"
      ]
    },
    {
      "cell_type": "code",
      "metadata": {
        "id": "zEYHDhLrF3vw",
        "outputId": "3ac22153-cd93-441d-f5cd-e2949c053fe0",
        "colab": {
          "base_uri": "https://localhost:8080/"
        }
      },
      "source": [
        "# Numero de ensaios \n",
        "n = 10\n",
        "\n",
        "# Quantidade de alterativas\n",
        "alternativas = 3\n",
        "\n",
        "# Probabilidade de sucesso \n",
        "p = 1/alternativas\n",
        "\n",
        "# Probabilidade de fracasso \n",
        "q = 1 - p\n",
        "\n",
        "# Quantidades de eventos para obter sucesso\n",
        "k = 5\n",
        "\n",
        "# Método 01\n",
        "# Probabilidade de acertar 5 questões\n",
        "prob = (comb(n,k)* (p ** k) * (q ** (n-k)))\n",
        "print('%0.10f' % prob)\n",
        "\n",
        "# Método 02\n",
        "from scipy.stats import binom\n",
        "\n",
        "# Probabilidade de acertar 5 questões\n",
        "prob = binom.pmf(k,n,p)\n",
        "print('%0.10f' % prob)\n",
        "\n",
        "# Chance Acumulada de passar na prova\n",
        "chance = binom.sf(4,n,p)*100\n",
        "print('A chance do candidato passar chutando é de: %0.02f' % chance,'%')"
      ],
      "execution_count": 28,
      "outputs": [
        {
          "output_type": "stream",
          "text": [
            "0.1365645481\n",
            "0.1365645481\n",
            "A chance do candidato passar chutando é de: 21.31 %\n"
          ],
          "name": "stdout"
        }
      ]
    },
    {
      "cell_type": "markdown",
      "metadata": {
        "id": "Hn7heRN4K-BW"
      },
      "source": [
        "## **Problema 02**\n",
        "\n",
        "Uma moeda, perfeitamente equilibrada, é lançada para o alto quatro vezes. Utilizando a distribuição binomial, obtenha a probabilidade de a moeda cair com a face coroa voltada para cima duas vezes."
      ]
    },
    {
      "cell_type": "code",
      "metadata": {
        "id": "Q4TGWOtzLD26",
        "outputId": "58ffb310-f1be-49cf-892f-20a944801847",
        "colab": {
          "base_uri": "https://localhost:8080/"
        }
      },
      "source": [
        "from scipy.stats import binom\n",
        "\n",
        "p = 1 / 2  # Probabilidade de sair COROA\n",
        "n = 4      # Total de lançamentos\n",
        "k = 2      # Total de sucessos (faces COROA voltada para cima)\n",
        "\n",
        "binom.pmf(k, n, p)"
      ],
      "execution_count": 31,
      "outputs": [
        {
          "output_type": "execute_result",
          "data": {
            "text/plain": [
              "0.3750000000000001"
            ]
          },
          "metadata": {
            "tags": []
          },
          "execution_count": 31
        }
      ]
    },
    {
      "cell_type": "markdown",
      "metadata": {
        "id": "1zpK0VodNBKI"
      },
      "source": [
        "## **Problema 03**\n",
        "Suponha que a probabilidade de um casal ter filhos com olhos azuis seja de 22%. \n",
        "Em 50 famílias, com 3 crianças cada uma, quantas podemos esperar que tenham dois filhos com olhos azuis?\n",
        "\n",
        "\n",
        "\n"
      ]
    },
    {
      "cell_type": "code",
      "metadata": {
        "id": "0mwEh6LHNK9A",
        "outputId": "ec8e1f5b-f1dc-4d3e-a15d-ae807d626cf1",
        "colab": {
          "base_uri": "https://localhost:8080/"
        }
      },
      "source": [
        "p = 0.22\n",
        "n = 3\n",
        "k = 2\n",
        "\n",
        "prob = binom.pmf(k, n, p)*50\n",
        "prob"
      ],
      "execution_count": 35,
      "outputs": [
        {
          "output_type": "execute_result",
          "data": {
            "text/plain": [
              "5.662799999999999"
            ]
          },
          "metadata": {
            "tags": []
          },
          "execution_count": 35
        }
      ]
    },
    {
      "cell_type": "markdown",
      "metadata": {
        "id": "EhvfeejoOsg_"
      },
      "source": [
        "## **Problema 04**\n",
        "Um restaurante recebe, em média, 20 pedidos por hora. Qual a chance de que, em determinada hora escolhida ao acaso, o restaurante receba 15 pedidos?"
      ]
    },
    {
      "cell_type": "code",
      "metadata": {
        "id": "TicTL-rCO0OS",
        "outputId": "84f89a99-ef77-414d-bce1-e3062fc70060",
        "colab": {
          "base_uri": "https://localhost:8080/"
        }
      },
      "source": [
        "import numpy as np\n",
        "\n",
        "# Numero médio de ocorrências\n",
        "media = 20\n",
        "# Numero de ocorrências\n",
        "k = 15\n",
        "\n",
        "# Método 01\n",
        "# Equação probabilidade\n",
        "prob = (np.e **(-media))*(media**k)/(np.math.factorial(k))\n",
        "prob\n",
        "\n",
        "# Método 02\n",
        "from scipy.stats import poisson\n",
        "# Equação probabilidade\n",
        "prob = poisson.pmf(k,media)\n",
        "prob"
      ],
      "execution_count": 40,
      "outputs": [
        {
          "output_type": "execute_result",
          "data": {
            "text/plain": [
              "0.05164885353175814"
            ]
          },
          "metadata": {
            "tags": []
          },
          "execution_count": 40
        }
      ]
    },
    {
      "cell_type": "markdown",
      "metadata": {
        "id": "n2J2QROUCaj5"
      },
      "source": [
        "### **Distribuição de probabilidade binomial**"
      ]
    },
    {
      "cell_type": "code",
      "metadata": {
        "id": "cuTb5J91DRT1",
        "outputId": "7b1e465b-3be0-4de6-af87-b2f3b6b2579c",
        "colab": {
          "base_uri": "https://localhost:8080/"
        }
      },
      "source": [
        "from scipy.special import comb\n",
        "\n",
        "# Combinações\n",
        "\n",
        "# Exemplo MegaSena\n",
        "# 6 números em 60 \n",
        "combinacoes = comb(60,6)\n",
        "print('Combinações de números possíveis na Mega Sena são de:', int(combinacoes), 'Combinações')\n",
        "\n",
        "#Probabilidade de Ganhar na Mega Sena com 1 bilhete\n",
        "prob = 1/combinacoes\n",
        "print('%0.10f' % prob)\n",
        "\n",
        "# Exemplo Show de Premios Alura\n",
        "combinacoes = comb(25,20)\n",
        "print('Combinações de números possíveis na Mega Sena são de:', int(combinacoes), 'Combinações')\n",
        "\n",
        "#Probabilidade de Ganhar no Show de Premios Alura com 1 bilhete\n",
        "prob = 1/combinacoes\n",
        "prob\n",
        "print('%0.10f' % prob)\n"
      ],
      "execution_count": 16,
      "outputs": [
        {
          "output_type": "stream",
          "text": [
            "Combinações de números possíveis na Mega Sena são de: 50063860 Combinações\n",
            "0.0000000200\n",
            "Combinações de números possíveis na Mega Sena são de: 53130 Combinações\n",
            "0.0000188218\n"
          ],
          "name": "stdout"
        }
      ]
    },
    {
      "cell_type": "markdown",
      "metadata": {
        "id": "clbZ6d2QS3ZP"
      },
      "source": [
        "## **Problema 05**\n",
        "\n",
        "O número médio de clientes que entram em uma padaria por hora é igual a 20. Obtenha a probabilidade de, na próxima hora, entrarem exatamente 25 clientes."
      ]
    },
    {
      "cell_type": "code",
      "metadata": {
        "id": "82OhqHupTECY",
        "outputId": "52ad0b70-c610-46ee-cd28-2ab2b2c3ad88",
        "colab": {
          "base_uri": "https://localhost:8080/"
        }
      },
      "source": [
        "from scipy.stats import poisson\n",
        "\n",
        "media = 20\n",
        "k = 25\n",
        "\n",
        "probabilidade = poisson.pmf(k, media)\n",
        "print(\"{0:.2%}\".format(probabilidade))"
      ],
      "execution_count": 41,
      "outputs": [
        {
          "output_type": "stream",
          "text": [
            "4.46%\n"
          ],
          "name": "stdout"
        }
      ]
    },
    {
      "cell_type": "markdown",
      "metadata": {
        "id": "mHpnDLAeU_fS"
      },
      "source": [
        "# **Distribuição Normal**"
      ]
    },
    {
      "cell_type": "code",
      "metadata": {
        "id": "23YIrYAJVH1g",
        "outputId": "7215a184-2696-42ea-abad-8a074b9f6e42",
        "colab": {
          "base_uri": "https://localhost:8080/"
        }
      },
      "source": [
        "media = 1.7\n",
        "desvio = 0.1\n",
        "z = (1.8 - media)/desvio\n",
        "z\n",
        "\n",
        "from scipy.stats import norm\n",
        "norm.cdf(z)"
      ],
      "execution_count": 43,
      "outputs": [
        {
          "output_type": "execute_result",
          "data": {
            "text/plain": [
              "0.8413447460685431"
            ]
          },
          "metadata": {
            "tags": []
          },
          "execution_count": 43
        }
      ]
    },
    {
      "cell_type": "markdown",
      "metadata": {
        "id": "wgYUPtM-WL-5"
      },
      "source": [
        "## **Problema 06**\n",
        "A aplicação de uma prova de estatística em um concurso apresentou um conjunto de notas normalmente distribuídas. Verificou-se que o conjunto de notas tinha média 70 e desvio padrão de 5 pontos.\n",
        "\n",
        "Qual a probabilidade de um aluno, selecionado ao acaso, ter nota menor que 85?"
      ]
    },
    {
      "cell_type": "code",
      "metadata": {
        "id": "L-Ooxfz1WKus",
        "outputId": "605894f5-ead5-4e8a-f22b-8cdd095ea88e",
        "colab": {
          "base_uri": "https://localhost:8080/"
        }
      },
      "source": [
        "media = 70\n",
        "desvio = 5\n",
        "\n",
        "z = (85-media)/desvio\n",
        "z\n",
        "\n",
        "from scipy.stats import norm\n",
        "norm.cdf(z)"
      ],
      "execution_count": 45,
      "outputs": [
        {
          "output_type": "execute_result",
          "data": {
            "text/plain": [
              "0.9986501019683699"
            ]
          },
          "metadata": {
            "tags": []
          },
          "execution_count": 45
        }
      ]
    },
    {
      "cell_type": "markdown",
      "metadata": {
        "id": "f4nEqsQjXvQz"
      },
      "source": [
        "## **Problema 07**\n",
        "\n",
        "O faturamento diário de um motorista de aplicativo segue uma distribuição aproximadamente normal, com média RS 300,00 e desvio padrão igual a RS 50,00. Obtenha as probabilidades de que, em um dia aleatório, o motorista ganhe:\n",
        "\n",
        "1) Entre RS 250,00 e RS 350,00\n",
        "\n",
        "2) Entre RS 400,00 e RS 500,00"
      ]
    },
    {
      "cell_type": "code",
      "metadata": {
        "id": "ld266OmJYAZ4",
        "outputId": "39881a13-06a0-4817-fc1e-133a80337b86",
        "colab": {
          "base_uri": "https://localhost:8080/"
        }
      },
      "source": [
        "media = 300\n",
        "desvio = 50\n",
        "\n",
        "#1\n",
        "z_inferior = (250-media)/desvio\n",
        "z_superior = (350-media)/desvio\n",
        "print(z_inferior,z_superior)\n",
        "\n",
        "from scipy.stats import norm\n",
        "prob = norm.cdf(z_superior) - norm.cdf(z_inferior)\n",
        "print(prob)\n",
        "\n",
        "#2\n",
        "z_inferior2 = (400-media)/desvio\n",
        "z_superior2 = (500-media)/desvio\n",
        "\n",
        "print(z_inferior2,z_superior2)\n",
        "\n",
        "prob2 = norm.cdf(z_superior2) - norm.cdf(z_inferior2)\n",
        "print(prob2)"
      ],
      "execution_count": 64,
      "outputs": [
        {
          "output_type": "stream",
          "text": [
            "-1.0 1.0\n",
            "0.6826894921370859\n",
            "2.0 4.0\n",
            "0.02271846070634609\n"
          ],
          "name": "stdout"
        }
      ]
    },
    {
      "cell_type": "markdown",
      "metadata": {
        "id": "Ur6mJJs_c2tA"
      },
      "source": [
        "## **Problema 08**\n",
        "\n",
        "O Inmetro verificou que as lâmpadas incandescentes da fabricante XPTO apresentam uma vida útil normalmente distribuída, com média igual a 720 dias e desvio padrão igual a 30 dias. Calcule a probabilidade de uma lâmpada, escolhida ao acaso, durar:\n",
        "\n",
        "1) Entre 650 e 750 dias\n",
        "\n",
        "2) Mais que 800 dias\n",
        "\n",
        "3) Menos que 700 dias"
      ]
    },
    {
      "cell_type": "code",
      "metadata": {
        "id": "54muGNqnc6b1",
        "outputId": "b1839fab-4a78-4243-a166-6c35378c7212",
        "colab": {
          "base_uri": "https://localhost:8080/"
        }
      },
      "source": [
        "from scipy.stats import norm\n",
        "\n",
        "media = 720\n",
        "desvio= 30\n",
        "\n",
        "# 1\n",
        "Z_inferior = (650 - media) / desvio\n",
        "Z_superior = (750 - media) / desvio\n",
        "\n",
        "probabilidade = norm.cdf(Z_superior) - norm.cdf(Z_inferior)\n",
        "print(\"{0:.2%}\".format(probabilidade))\n",
        "\n",
        "# 2\n",
        "Z = (800 - media) / desvio\n",
        "\n",
        "probabilidade = 1 - norm.cdf(Z)\n",
        "print(\"{0:.2%}\".format(probabilidade))\n",
        "\n",
        "# 3\n",
        "Z = (700 - media) / desvio\n",
        "\n",
        "probabilidade = norm.cdf(Z)\n",
        "print(\"{0:.2%}\".format(probabilidade))"
      ],
      "execution_count": 66,
      "outputs": [
        {
          "output_type": "stream",
          "text": [
            "83.15%\n",
            "0.38%\n",
            "25.25%\n"
          ],
          "name": "stdout"
        }
      ]
    },
    {
      "cell_type": "markdown",
      "metadata": {
        "id": "WQ_wY2RndTPo"
      },
      "source": [
        "## **Problema 09**\n",
        "Utilizando a tabela padronizada, ou o ferramental disponibilizado pelo Python, encontre a área sob a curva normal para os valores de Z abaixo:\n",
        "\n",
        "1) Z < 1,96\n",
        "\n",
        "2) Z > 2,15\n",
        "\n",
        "3) Z < -0,80\n",
        "\n",
        "4) Z > 0,59"
      ]
    },
    {
      "cell_type": "code",
      "metadata": {
        "id": "lgukcxMxdXuE",
        "outputId": "77e8858e-4038-489e-e398-e4577d78073b",
        "colab": {
          "base_uri": "https://localhost:8080/"
        }
      },
      "source": [
        "from scipy.stats import norm\n",
        "\n",
        "# 1\n",
        "probabilidade = norm.cdf(1.96)\n",
        "print(\"{0:0.4f}\".format(probabilidade))\n",
        "\n",
        "# 2\n",
        "probabilidade = 1 - norm.cdf(2.15)\n",
        "# ou -> probabilidade = norm.sf(2.15)\n",
        "print(\"{0:0.4f}\".format(probabilidade))\n",
        "\n",
        "# 3\n",
        "probabilidade = norm.cdf(-0.78)\n",
        "print(\"{0:0.4f}\".format(probabilidade))\n",
        "\n",
        "# 4\n",
        "probabilidade = 1 - norm.cdf(0.59)\n",
        "# ou -> probabilidade = norm.sf(0.59)\n",
        "print(\"{0:0.4f}\".format(probabilidade))"
      ],
      "execution_count": 67,
      "outputs": [
        {
          "output_type": "stream",
          "text": [
            "0.9750\n",
            "0.0158\n",
            "0.2177\n",
            "0.2776\n"
          ],
          "name": "stdout"
        }
      ]
    },
    {
      "cell_type": "markdown",
      "metadata": {
        "id": "E7blJu3KfTXd"
      },
      "source": [
        "# **Amostragem**"
      ]
    },
    {
      "cell_type": "markdown",
      "metadata": {
        "id": "G5JnGkmJR5RJ"
      },
      "source": [
        "## **Dados População**"
      ]
    },
    {
      "cell_type": "code",
      "metadata": {
        "id": "r6rwubJXA0Vo",
        "outputId": "471f24f8-2209-4d3b-ebe7-5dfc902229ed",
        "colab": {
          "base_uri": "https://localhost:8080/",
          "height": 376
        }
      },
      "source": [
        "import pandas as pd\n",
        "\n",
        "# Permite Importar dados do Google Drive\n",
        "from google.colab import drive\n",
        "drive.mount('/content/drive')\n",
        "\n",
        "# Caminho para dados do arquivo csv \n",
        "csv = '/content/drive/My Drive/Colab Notebooks/Alura/dados.csv'\n",
        "dados = pd.read_csv(csv, sep = \",\")\n",
        "dados.head(10)"
      ],
      "execution_count": null,
      "outputs": [
        {
          "output_type": "stream",
          "text": [
            "Drive already mounted at /content/drive; to attempt to forcibly remount, call drive.mount(\"/content/drive\", force_remount=True).\n"
          ],
          "name": "stdout"
        },
        {
          "output_type": "execute_result",
          "data": {
            "text/html": [
              "<div>\n",
              "<style scoped>\n",
              "    .dataframe tbody tr th:only-of-type {\n",
              "        vertical-align: middle;\n",
              "    }\n",
              "\n",
              "    .dataframe tbody tr th {\n",
              "        vertical-align: top;\n",
              "    }\n",
              "\n",
              "    .dataframe thead th {\n",
              "        text-align: right;\n",
              "    }\n",
              "</style>\n",
              "<table border=\"1\" class=\"dataframe\">\n",
              "  <thead>\n",
              "    <tr style=\"text-align: right;\">\n",
              "      <th></th>\n",
              "      <th>UF</th>\n",
              "      <th>Sexo</th>\n",
              "      <th>Idade</th>\n",
              "      <th>Cor</th>\n",
              "      <th>Anos de Estudo</th>\n",
              "      <th>Renda</th>\n",
              "      <th>Altura</th>\n",
              "    </tr>\n",
              "  </thead>\n",
              "  <tbody>\n",
              "    <tr>\n",
              "      <th>0</th>\n",
              "      <td>11</td>\n",
              "      <td>0</td>\n",
              "      <td>23</td>\n",
              "      <td>8</td>\n",
              "      <td>12</td>\n",
              "      <td>800</td>\n",
              "      <td>1.603808</td>\n",
              "    </tr>\n",
              "    <tr>\n",
              "      <th>1</th>\n",
              "      <td>11</td>\n",
              "      <td>1</td>\n",
              "      <td>23</td>\n",
              "      <td>2</td>\n",
              "      <td>12</td>\n",
              "      <td>1150</td>\n",
              "      <td>1.739790</td>\n",
              "    </tr>\n",
              "    <tr>\n",
              "      <th>2</th>\n",
              "      <td>11</td>\n",
              "      <td>1</td>\n",
              "      <td>35</td>\n",
              "      <td>8</td>\n",
              "      <td>15</td>\n",
              "      <td>880</td>\n",
              "      <td>1.760444</td>\n",
              "    </tr>\n",
              "    <tr>\n",
              "      <th>3</th>\n",
              "      <td>11</td>\n",
              "      <td>0</td>\n",
              "      <td>46</td>\n",
              "      <td>2</td>\n",
              "      <td>6</td>\n",
              "      <td>3500</td>\n",
              "      <td>1.783158</td>\n",
              "    </tr>\n",
              "    <tr>\n",
              "      <th>4</th>\n",
              "      <td>11</td>\n",
              "      <td>1</td>\n",
              "      <td>47</td>\n",
              "      <td>8</td>\n",
              "      <td>9</td>\n",
              "      <td>150</td>\n",
              "      <td>1.690631</td>\n",
              "    </tr>\n",
              "    <tr>\n",
              "      <th>5</th>\n",
              "      <td>11</td>\n",
              "      <td>1</td>\n",
              "      <td>34</td>\n",
              "      <td>8</td>\n",
              "      <td>12</td>\n",
              "      <td>790</td>\n",
              "      <td>1.637906</td>\n",
              "    </tr>\n",
              "    <tr>\n",
              "      <th>6</th>\n",
              "      <td>11</td>\n",
              "      <td>0</td>\n",
              "      <td>57</td>\n",
              "      <td>8</td>\n",
              "      <td>12</td>\n",
              "      <td>3150</td>\n",
              "      <td>1.570078</td>\n",
              "    </tr>\n",
              "    <tr>\n",
              "      <th>7</th>\n",
              "      <td>11</td>\n",
              "      <td>1</td>\n",
              "      <td>60</td>\n",
              "      <td>8</td>\n",
              "      <td>12</td>\n",
              "      <td>1700</td>\n",
              "      <td>1.608495</td>\n",
              "    </tr>\n",
              "    <tr>\n",
              "      <th>8</th>\n",
              "      <td>11</td>\n",
              "      <td>1</td>\n",
              "      <td>50</td>\n",
              "      <td>4</td>\n",
              "      <td>14</td>\n",
              "      <td>1800</td>\n",
              "      <td>1.780329</td>\n",
              "    </tr>\n",
              "    <tr>\n",
              "      <th>9</th>\n",
              "      <td>11</td>\n",
              "      <td>0</td>\n",
              "      <td>26</td>\n",
              "      <td>8</td>\n",
              "      <td>12</td>\n",
              "      <td>1150</td>\n",
              "      <td>1.793203</td>\n",
              "    </tr>\n",
              "  </tbody>\n",
              "</table>\n",
              "</div>"
            ],
            "text/plain": [
              "   UF  Sexo  Idade  Cor  Anos de Estudo  Renda    Altura\n",
              "0  11     0     23    8              12    800  1.603808\n",
              "1  11     1     23    2              12   1150  1.739790\n",
              "2  11     1     35    8              15    880  1.760444\n",
              "3  11     0     46    2               6   3500  1.783158\n",
              "4  11     1     47    8               9    150  1.690631\n",
              "5  11     1     34    8              12    790  1.637906\n",
              "6  11     0     57    8              12   3150  1.570078\n",
              "7  11     1     60    8              12   1700  1.608495\n",
              "8  11     1     50    4              14   1800  1.780329\n",
              "9  11     0     26    8              12   1150  1.793203"
            ]
          },
          "metadata": {
            "tags": []
          },
          "execution_count": 2
        }
      ]
    },
    {
      "cell_type": "markdown",
      "metadata": {
        "id": "mlEAkDT9gZ2C"
      },
      "source": [
        "## **Amostragem Aleatória Simples**"
      ]
    },
    {
      "cell_type": "code",
      "metadata": {
        "id": "7kE1ItmogTOX",
        "outputId": "a2acf1fe-276d-4209-e1b1-c1886aee06be",
        "colab": {
          "base_uri": "https://localhost:8080/"
        }
      },
      "source": [
        "# Cria Amostra\n",
        "amostra = dados.sample(n=100, random_state=101)\n",
        "\n",
        "# Conta valores de total e da amostra\n",
        "sexo_total = dados.Sexo.value_counts(normalize=True)\n",
        "sexo_amostra = amostra.Sexo.value_counts(normalize=True)\n",
        "\n",
        "# Imprime valores\n",
        "print(sexo_total,sexo_amostra)"
      ],
      "execution_count": 69,
      "outputs": [
        {
          "output_type": "stream",
          "text": [
            "0    0.692998\n",
            "1    0.307002\n",
            "Name: Sexo, dtype: float64 0    0.69\n",
            "1    0.31\n",
            "Name: Sexo, dtype: float64\n"
          ],
          "name": "stdout"
        }
      ]
    },
    {
      "cell_type": "markdown",
      "metadata": {
        "id": "HmrR7g-glYPM"
      },
      "source": [
        "## **Nivel de confiança e significância**"
      ]
    },
    {
      "cell_type": "code",
      "metadata": {
        "id": "TvMl9a8RiqR1",
        "outputId": "a4f11e50-e203-4381-a1c9-d107b4a3914f",
        "colab": {
          "base_uri": "https://localhost:8080/"
        }
      },
      "source": [
        "significancia = 0.05\n",
        "confianca = 1 - significancia\n",
        "x = 0.5 + confianca/2\n",
        "z = norm.ppf(x)\n",
        "z\n",
        "\n",
        "# Obtendo sigma\n",
        "desvio_padrao = 150\n",
        "n = 20\n",
        "\n",
        "sigma = desvio_padrao/np.sqrt(n)\n",
        "sigma\n",
        "\n",
        "# Obtendo e\n",
        "e = z*sigma\n",
        "e\n",
        "\n",
        "# media amostra \n",
        "media = 5050\n",
        "\n",
        "# Calculando o intervalo de confiança\n",
        "intervalo = (media - e, media + e)\n",
        "intervalo\n",
        "\n",
        "# Calculando o intervalo de significância com np\n",
        "norm.interval(alpha = 0.95, loc = media, scale = sigma)"
      ],
      "execution_count": 77,
      "outputs": [
        {
          "output_type": "execute_result",
          "data": {
            "text/plain": [
              "(4984.260809456757, 5115.739190543243)"
            ]
          },
          "metadata": {
            "tags": []
          },
          "execution_count": 77
        }
      ]
    },
    {
      "cell_type": "markdown",
      "metadata": {
        "id": "pTkKsqMro2jk"
      },
      "source": [
        "## **Problema 10**\n",
        "\n",
        "Para estimar o valor médio gasto por cada cliente de uma grande rede de fast-food, foi selecionada uma amostra de 50 clientes.\n",
        "\n",
        "Assumindo que o valor do desvio padrão da população seja de R$ 6,00 e que esta população se distribui normalmente, obtenha a margem de erro desta estimativa para um nível de confiança de 95%."
      ]
    },
    {
      "cell_type": "code",
      "metadata": {
        "id": "0fw-MwV2o66C",
        "outputId": "5a130ee1-a554-4460-c857-258b9d99c18d",
        "colab": {
          "base_uri": "https://localhost:8080/"
        }
      },
      "source": [
        "significancia = 0.05\n",
        "confianca = 0.95 \n",
        "\n",
        "x = 0.5 + confianca/2\n",
        "z = norm.ppf(x)\n",
        "z\n",
        "\n",
        "# Obtendo sigma\n",
        "desvio_padrao = 6 \n",
        "n = 50\n",
        "\n",
        "sigma = desvio_padrao/np.sqrt(n)\n",
        "sigma\n",
        "\n",
        "# Obtendo e\n",
        "e = z*sigma\n",
        "e\n"
      ],
      "execution_count": 79,
      "outputs": [
        {
          "output_type": "execute_result",
          "data": {
            "text/plain": [
              "1.6630845892196133"
            ]
          },
          "metadata": {
            "tags": []
          },
          "execution_count": 79
        }
      ]
    },
    {
      "cell_type": "markdown",
      "metadata": {
        "id": "FzJY2D4X0ke8"
      },
      "source": [
        "## **Problema 11**\n",
        "\n",
        "Uma amostra aleatória simples de 1976 itens de uma população normalmente distribuída, com desvio padrão igual a 11, resultou em uma média amostral de 28.\n",
        "\n",
        "Qual o intervalo de confiança de 90% para a média populacional?"
      ]
    },
    {
      "cell_type": "code",
      "metadata": {
        "id": "y0AGlZ4Y0rg4",
        "outputId": "7f7c6467-ebe2-4169-b6bb-2bc39c3e81c8",
        "colab": {
          "base_uri": "https://localhost:8080/"
        }
      },
      "source": [
        "# Intervalo de Confiança\n",
        "confianca = 0.9\n",
        "\n",
        "x = 0.5 + confianca/2\n",
        "z = norm.ppf(x)\n",
        "z\n",
        "\n",
        "# Obtendo sigma\n",
        "desvio_padrao = 11\n",
        "n = 1976\n",
        "\n",
        "sigma = desvio_padrao/np.sqrt(n)\n",
        "sigma\n",
        "\n",
        "# Obtendo e\n",
        "e = z*sigma\n",
        "e\n",
        "\n",
        "# media amostra \n",
        "media = 28\n",
        "\n",
        "# Calculando o intervalo de confiança\n",
        "intervalo = (media - e, media + e)\n",
        "print(intervalo)\n",
        "\n",
        "# Calculando o intervalo de significância com np\n",
        "norm.interval(alpha = 0.9, loc = media, scale = sigma)"
      ],
      "execution_count": 83,
      "outputs": [
        {
          "output_type": "stream",
          "text": [
            "(27.592969951356466, 28.407030048643534)\n"
          ],
          "name": "stdout"
        },
        {
          "output_type": "execute_result",
          "data": {
            "text/plain": [
              "(27.592969951356466, 28.407030048643534)"
            ]
          },
          "metadata": {
            "tags": []
          },
          "execution_count": 83
        }
      ]
    },
    {
      "cell_type": "markdown",
      "metadata": {
        "id": "6Wf-ImIg2C4e"
      },
      "source": [
        "## **Calculando o Tamanho da Amostra**"
      ]
    },
    {
      "cell_type": "code",
      "metadata": {
        "id": "P2UY18z-2Kpf",
        "outputId": "6a384c5f-8e3e-40e4-9d0f-65903ecccd21",
        "colab": {
          "base_uri": "https://localhost:8080/"
        }
      },
      "source": [
        "n = (z * (sigma/ e)) ** 2 \n",
        "int(round(n))"
      ],
      "execution_count": 86,
      "outputs": [
        {
          "output_type": "execute_result",
          "data": {
            "text/plain": [
              "1"
            ]
          },
          "metadata": {
            "tags": []
          },
          "execution_count": 86
        }
      ]
    },
    {
      "cell_type": "markdown",
      "metadata": {
        "id": "D55h3B5t4TLq"
      },
      "source": [
        "## **Problema 12**\n",
        "O valor do gasto médio dos clientes de uma loja de conveniência é de RS 45,50. Assumindo que o desvio padrão dos gastos é igual a RS 15,00, qual deve ser o tamanho da amostra para estimarmos a média populacional com um nível de significância de 10%?\n",
        "\n",
        "Considere que o erro máximo aceitável seja de 10%."
      ]
    },
    {
      "cell_type": "code",
      "metadata": {
        "id": "5nf__Wmm4oMw",
        "outputId": "5232d218-a5bb-44b8-bc20-cec248252693",
        "colab": {
          "base_uri": "https://localhost:8080/"
        }
      },
      "source": [
        "from scipy.stats import norm\n",
        "\n",
        "media = 45.5\n",
        "sigma = 15\n",
        "significancia = 0.10\n",
        "confianca = 1 - significancia\n",
        "\n",
        "z = norm.ppf(0.5 + (confianca / 2))\n",
        "erro_percentual = 0.10\n",
        "e = media * erro_percentual\n",
        "\n",
        "n = (z * (sigma / e)) ** 2\n",
        "n.round()"
      ],
      "execution_count": 87,
      "outputs": [
        {
          "output_type": "execute_result",
          "data": {
            "text/plain": [
              "29.0"
            ]
          },
          "metadata": {
            "tags": []
          },
          "execution_count": 87
        }
      ]
    },
    {
      "cell_type": "markdown",
      "metadata": {
        "id": "Xlg62cvp6ZU3"
      },
      "source": [
        "## **Problema 13**\n",
        "Um fabricante de farinha verificou que, em uma amostra aleatória formada por 200 sacos de 25 kg de um lote formado por 2.000 sacos, apresentou um desvio padrão amostral do peso igual a 480 g.\n",
        "\n",
        "Considerando um erro máximo associado à média populacional igual a 0,3 kg e um nível de confiança igual a 95%, qual tamanho de amostra deveria ser selecionado para obtermos uma estimativa confiável do parâmetro populacional?"
      ]
    },
    {
      "cell_type": "code",
      "metadata": {
        "id": "u7E8yLR16mJJ",
        "outputId": "8f946c1a-cc82-4025-c82f-33f298ab2713",
        "colab": {
          "base_uri": "https://localhost:8080/"
        }
      },
      "source": [
        "from scipy.stats import norm\n",
        "\n",
        "N = 2000\n",
        "z = norm.ppf(0.5 + (0.95 / 2))\n",
        "s = 480\n",
        "e = 0.3 * 1000   # Convertendo kg para g\n",
        "\n",
        "n = ((z**2) * (s**2) * (N)) / (((z**2) * (s**2)) + ((e**2) * (N - 1)))\n",
        "int(n.round())"
      ],
      "execution_count": 88,
      "outputs": [
        {
          "output_type": "execute_result",
          "data": {
            "text/plain": [
              "10"
            ]
          },
          "metadata": {
            "tags": []
          },
          "execution_count": 88
        }
      ]
    },
    {
      "cell_type": "code",
      "metadata": {
        "id": "cN_eGCHs6mIR"
      },
      "source": [
        ""
      ],
      "execution_count": null,
      "outputs": []
    }
  ]
}