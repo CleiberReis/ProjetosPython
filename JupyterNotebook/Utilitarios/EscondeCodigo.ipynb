from IPython.display import display, HTML
def hideCodeButton():
    display(HTML('''<script>
    code_show=true; 
    function code_toggle() {
     if (code_show){
     $('div.input').hide();
     } else {
     $('div.input').show();
     }
     code_show = !code_show
    } 
    </script>
    <form action="javascript:code_toggle()"><input style = 'background: #ffffff;
        border: 1px solid #e7e9ef;
        border-radius: 11px;
        box-shadow: 0 2px #828282;
        padding: 10px 15px;
        color: #30b0a8;
        display: inline-block;
        font: normal bold 15px/1 "Open Sans", sans-serif;
        text-align: center;' type="submit" value="Mostrar/Ocultar código"></form>'''))
    
# COMO USAR:
#
#import import_ipynb
#from JupyterNotebook (Diretório) import EscondeCodigo (Código)
#EscondeCodigo.hideCodeButton()
