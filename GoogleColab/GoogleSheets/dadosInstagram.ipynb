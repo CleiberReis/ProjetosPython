{
  "nbformat": 4,
  "nbformat_minor": 0,
  "metadata": {
    "colab": {
      "name": "webscraping.ipynb",
      "provenance": [],
      "authorship_tag": "ABX9TyNAdo83fet+HRdmBKwgrlkL",
      "include_colab_link": true
    },
    "kernelspec": {
      "name": "python3",
      "display_name": "Python 3"
    },
    "language_info": {
      "name": "python"
    }
  },
  "cells": [
    {
      "cell_type": "markdown",
      "metadata": {
        "id": "view-in-github",
        "colab_type": "text"
      },
      "source": [
        "<a href=\"https://colab.research.google.com/github/gabrielvieiraf/ProjetosPython/blob/master/GoogleColab/GoogleSheets/dadosInstagram.ipynb\" target=\"_parent\"><img src=\"https://colab.research.google.com/assets/colab-badge.svg\" alt=\"Open In Colab\"/></a>"
      ]
    },
    {
      "cell_type": "code",
      "metadata": {
        "colab": {
          "base_uri": "https://localhost:8080/"
        },
        "id": "ZHYV24tMt8nJ",
        "outputId": "9c905086-50f2-440e-e13a-53640f8354a1"
      },
      "source": [
        "!apt install chromium-chromedriver\n",
        "!cp /usr/lib/chromium-browser/chromedriver /usr/bin\n",
        "!pip install selenium"
      ],
      "execution_count": 42,
      "outputs": [
        {
          "output_type": "stream",
          "text": [
            "Reading package lists... Done\n",
            "Building dependency tree       \n",
            "Reading state information... Done\n",
            "chromium-chromedriver is already the newest version (91.0.4472.101-0ubuntu0.18.04.1).\n",
            "0 upgraded, 0 newly installed, 0 to remove and 39 not upgraded.\n",
            "cp: '/usr/lib/chromium-browser/chromedriver' and '/usr/bin/chromedriver' are the same file\n",
            "Requirement already satisfied: selenium in /usr/local/lib/python3.7/dist-packages (3.141.0)\n",
            "Requirement already satisfied: urllib3 in /usr/local/lib/python3.7/dist-packages (from selenium) (1.24.3)\n",
            "\n"
          ],
          "name": "stdout"
        }
      ]
    },
    {
      "cell_type": "code",
      "metadata": {
        "colab": {
          "base_uri": "https://localhost:8080/"
        },
        "id": "eK7UD6CN9pvX",
        "outputId": "9f8fbebd-a8d4-4238-b0c4-6684a67298cc"
      },
      "source": [
        "from selenium import webdriver\n",
        "from bs4 import BeautifulSoup as bs\n",
        "from selenium.webdriver.common.by import By\n",
        "from selenium.webdriver.support.ui import WebDriverWait\n",
        "from selenium.webdriver.support import expected_conditions as ec\n",
        "\n",
        "options = webdriver.ChromeOptions()\n",
        "options.add_argument('-headless')\n",
        "options.add_argument('-no-sandbox')\n",
        "options.add_argument('-disable-dev-shm-usage')\n",
        "\n",
        "wd = webdriver.Chrome('chromedriver',options=options)\n",
        "perfil = 'neymarjr'\n",
        "wd.get(f'https://socialauditor.io/report?profile={perfil}&v=1')\n",
        "\n",
        "wait = WebDriverWait(wd, 30)\n",
        "men_menu = wait.until(ec.visibility_of_element_located((By.XPATH, \"//div[@class='details']\")))\n",
        "\n",
        "soup = bs(wd.page_source, 'html.parser')\n",
        "\n",
        "resultado = ''\n",
        "\n",
        "#print(soup.findAll('div', attrs={'class':'details'}))\n",
        "\n",
        "for a in soup.findAll('div', attrs={'class':'details'}):\n",
        "    for i in a.findAll('span'):\n",
        "      resultado += i.text\n",
        "\n",
        "print(resultado) # resultado"
      ],
      "execution_count": 51,
      "outputs": [
        {
          "output_type": "stream",
          "text": [
            "\n",
            "                  Posts: 5k|\n",
            "                  Followers: 152.3M|\n",
            "                  Followed: 1.5k\n"
          ],
          "name": "stdout"
        }
      ]
    },
    {
      "cell_type": "code",
      "metadata": {
        "colab": {
          "base_uri": "https://localhost:8080/"
        },
        "id": "v911eZrXuFqN",
        "outputId": "e33e7f35-2143-4f78-c3e4-6ed3ae005a8f"
      },
      "source": [
        "from google.colab import auth\n",
        "auth.authenticate_user()\n",
        "\n",
        "import gspread\n",
        "from oauth2client.client import GoogleCredentials\n",
        "import json\n",
        "\n",
        "gc = gspread.authorize(GoogleCredentials.get_application_default())\n",
        "\n",
        "sh = gc.open_by_url('url')\n",
        "\n",
        "# Abrindo Planilha na Primeira Página\n",
        "worksheet = sh.sheet1\n",
        "\n",
        "worksheet.update_cell(1, 1, resultado)\n"
      ],
      "execution_count": 52,
      "outputs": [
        {
          "output_type": "execute_result",
          "data": {
            "text/plain": [
              "{'spreadsheetId': '1siG9Hh2CrXt2vWCAm8f-TI4853uqa1FwoGpHS06IQGg',\n",
              " 'updatedCells': 1,\n",
              " 'updatedColumns': 1,\n",
              " 'updatedRange': \"'Página1'!A1\",\n",
              " 'updatedRows': 1}"
            ]
          },
          "metadata": {
            "tags": []
          },
          "execution_count": 52
        }
      ]
    }
  ]
}