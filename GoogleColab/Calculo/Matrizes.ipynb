{
  "nbformat": 4,
  "nbformat_minor": 0,
  "metadata": {
    "colab": {
      "name": "Matrizes.ipynb",
      "provenance": [],
      "authorship_tag": "ABX9TyOiBlxJcnbFDDtEi+fdousS",
      "include_colab_link": true
    },
    "kernelspec": {
      "name": "python3",
      "display_name": "Python 3"
    }
  },
  "cells": [
    {
      "cell_type": "markdown",
      "metadata": {
        "id": "view-in-github",
        "colab_type": "text"
      },
      "source": [
        "<a href=\"https://colab.research.google.com/github/gabrielvieiraf/ProjetosPython/blob/master/GoogleColab/Calculo/Matrizes.ipynb\" target=\"_parent\"><img src=\"https://colab.research.google.com/assets/colab-badge.svg\" alt=\"Open In Colab\"/></a>"
      ]
    },
    {
      "cell_type": "markdown",
      "metadata": {
        "id": "BntLL5m-JNxT"
      },
      "source": [
        "# Matemática: Operações com Matrizes"
      ]
    },
    {
      "cell_type": "markdown",
      "metadata": {
        "id": "Lyi24QlKJTtz"
      },
      "source": [
        "Matrizes são estruturas tabelas com linhas e colunas muito ultilizadas na matemática.\n",
        "\n",
        "Uma matriz em Python pode ser representada como uma lista de listas."
      ]
    },
    {
      "cell_type": "markdown",
      "metadata": {
        "id": "jxHjeJDxbKuQ"
      },
      "source": [
        "##  Soma de matrizes\n",
        "\n",
        "**Exemplo 01**\n",
        "\n",
        "Uma determinada empreiteira quer saber qual funcionário realizou o maior numero de trabalho por $ m² $.\n",
        "\n",
        "Para isso, o supervisor anotou os dados de trÊs dos melhores funcionários, em duas obras distintas. Encontre o resultado final de todos os dias trabalhados para descobrir o funcionário mais produtivo."
      ]
    },
    {
      "cell_type": "markdown",
      "metadata": {
        "id": "3ng3Ge2sf_mw"
      },
      "source": [
        "### Importando dados do Google Drive"
      ]
    },
    {
      "cell_type": "code",
      "metadata": {
        "id": "XLjnog3EbN1i",
        "outputId": "20818e60-469e-4ddf-b3ad-d7b39b2a095e",
        "colab": {
          "base_uri": "https://localhost:8080/",
          "height": 0
        }
      },
      "source": [
        "import pandas as pd\n",
        "\n",
        "# Permite Importar dados do Google Drive\n",
        "from google.colab import drive\n",
        "drive.mount('/content/drive')\n",
        "\n",
        "# Caminho para dados do arquivo csv \n",
        "csv01 = '/content/drive/My Drive/Colab Notebooks/Alura/Colaboradores01.csv'\n",
        "obra01 = pd.read_csv(csv01)\n",
        "obra01.rename(columns= {'Unnamed: 0':'Colaboradores'}, inplace=True)\n",
        "\n",
        "print('\\nObra 01')\n",
        "display(obra01)\n",
        "\n",
        "print()\n",
        "\n",
        "print('Obra 02')\n",
        "# Caminho para dados do arquivo csv \n",
        "csv02 = '/content/drive/My Drive/Colab Notebooks/Alura/Colaboradores02.csv'\n",
        "obra02 = pd.read_csv(csv02)\n",
        "\n",
        "obra02.rename(columns= {'Unnamed: 0':'Colaboradores'}, inplace=True)\n",
        "display(obra02)"
      ],
      "execution_count": 1,
      "outputs": [
        {
          "output_type": "stream",
          "text": [
            "Drive already mounted at /content/drive; to attempt to forcibly remount, call drive.mount(\"/content/drive\", force_remount=True).\n",
            "\n",
            "Obra 01\n"
          ],
          "name": "stdout"
        },
        {
          "output_type": "display_data",
          "data": {
            "text/html": [
              "<div>\n",
              "<style scoped>\n",
              "    .dataframe tbody tr th:only-of-type {\n",
              "        vertical-align: middle;\n",
              "    }\n",
              "\n",
              "    .dataframe tbody tr th {\n",
              "        vertical-align: top;\n",
              "    }\n",
              "\n",
              "    .dataframe thead th {\n",
              "        text-align: right;\n",
              "    }\n",
              "</style>\n",
              "<table border=\"1\" class=\"dataframe\">\n",
              "  <thead>\n",
              "    <tr style=\"text-align: right;\">\n",
              "      <th></th>\n",
              "      <th>Colaboradores</th>\n",
              "      <th>Dia1</th>\n",
              "      <th>Dia2</th>\n",
              "      <th>Dia3</th>\n",
              "      <th>Dia4</th>\n",
              "      <th>Dia5</th>\n",
              "    </tr>\n",
              "  </thead>\n",
              "  <tbody>\n",
              "    <tr>\n",
              "      <th>0</th>\n",
              "      <td>Colaborador(a) 1</td>\n",
              "      <td>12</td>\n",
              "      <td>5</td>\n",
              "      <td>10</td>\n",
              "      <td>7</td>\n",
              "      <td>4</td>\n",
              "    </tr>\n",
              "    <tr>\n",
              "      <th>1</th>\n",
              "      <td>Colaborador(a) 2</td>\n",
              "      <td>4</td>\n",
              "      <td>7</td>\n",
              "      <td>6</td>\n",
              "      <td>8</td>\n",
              "      <td>8</td>\n",
              "    </tr>\n",
              "    <tr>\n",
              "      <th>2</th>\n",
              "      <td>Colaborador(a) 3</td>\n",
              "      <td>7</td>\n",
              "      <td>12</td>\n",
              "      <td>13</td>\n",
              "      <td>10</td>\n",
              "      <td>5</td>\n",
              "    </tr>\n",
              "  </tbody>\n",
              "</table>\n",
              "</div>"
            ],
            "text/plain": [
              "      Colaboradores  Dia1  Dia2  Dia3  Dia4  Dia5\n",
              "0  Colaborador(a) 1    12     5    10     7     4\n",
              "1  Colaborador(a) 2     4     7     6     8     8\n",
              "2  Colaborador(a) 3     7    12    13    10     5"
            ]
          },
          "metadata": {
            "tags": []
          }
        },
        {
          "output_type": "stream",
          "text": [
            "\n",
            "Obra 02\n"
          ],
          "name": "stdout"
        },
        {
          "output_type": "display_data",
          "data": {
            "text/html": [
              "<div>\n",
              "<style scoped>\n",
              "    .dataframe tbody tr th:only-of-type {\n",
              "        vertical-align: middle;\n",
              "    }\n",
              "\n",
              "    .dataframe tbody tr th {\n",
              "        vertical-align: top;\n",
              "    }\n",
              "\n",
              "    .dataframe thead th {\n",
              "        text-align: right;\n",
              "    }\n",
              "</style>\n",
              "<table border=\"1\" class=\"dataframe\">\n",
              "  <thead>\n",
              "    <tr style=\"text-align: right;\">\n",
              "      <th></th>\n",
              "      <th>Colaboradores</th>\n",
              "      <th>Dia1</th>\n",
              "      <th>Dia2</th>\n",
              "      <th>Dia3</th>\n",
              "      <th>Dia4</th>\n",
              "      <th>Dia5</th>\n",
              "    </tr>\n",
              "  </thead>\n",
              "  <tbody>\n",
              "    <tr>\n",
              "      <th>0</th>\n",
              "      <td>Colaborador(a) 1</td>\n",
              "      <td>12</td>\n",
              "      <td>14</td>\n",
              "      <td>15</td>\n",
              "      <td>16</td>\n",
              "      <td>12</td>\n",
              "    </tr>\n",
              "    <tr>\n",
              "      <th>1</th>\n",
              "      <td>Colaborador(a) 2</td>\n",
              "      <td>7</td>\n",
              "      <td>14</td>\n",
              "      <td>17</td>\n",
              "      <td>8</td>\n",
              "      <td>7</td>\n",
              "    </tr>\n",
              "    <tr>\n",
              "      <th>2</th>\n",
              "      <td>Colaborador(a) 3</td>\n",
              "      <td>4</td>\n",
              "      <td>5</td>\n",
              "      <td>8</td>\n",
              "      <td>6</td>\n",
              "      <td>6</td>\n",
              "    </tr>\n",
              "  </tbody>\n",
              "</table>\n",
              "</div>"
            ],
            "text/plain": [
              "      Colaboradores  Dia1  Dia2  Dia3  Dia4  Dia5\n",
              "0  Colaborador(a) 1    12    14    15    16    12\n",
              "1  Colaborador(a) 2     7    14    17     8     7\n",
              "2  Colaborador(a) 3     4     5     8     6     6"
            ]
          },
          "metadata": {
            "tags": []
          }
        }
      ]
    },
    {
      "cell_type": "markdown",
      "metadata": {
        "id": "VbJ4r-_HgDLZ"
      },
      "source": [
        "### Transformando DataFrame em matriz para soma"
      ]
    },
    {
      "cell_type": "code",
      "metadata": {
        "id": "m7UB9KeFdob2",
        "outputId": "f995838f-4010-44b3-fb03-caebe7210765",
        "colab": {
          "base_uri": "https://localhost:8080/",
          "height": 0
        }
      },
      "source": [
        "import numpy as np\n",
        "\n",
        "# Transformando Dataframe em Matriz\n",
        "del obra01['Colaboradores']\n",
        "\n",
        "matriz_A = np.array(obra01)\n",
        "display(matriz_A)\n",
        "print()\n",
        "\n",
        "del obra02['Colaboradores']\n",
        "\n",
        "matriz_B = np.array(obra02)\n",
        "display(matriz_B)\n",
        "print()\n",
        "\n",
        "matriz_C = matriz_A + matriz_B\n",
        "display(matriz_C)"
      ],
      "execution_count": 2,
      "outputs": [
        {
          "output_type": "display_data",
          "data": {
            "text/plain": [
              "array([[12,  5, 10,  7,  4],\n",
              "       [ 4,  7,  6,  8,  8],\n",
              "       [ 7, 12, 13, 10,  5]])"
            ]
          },
          "metadata": {
            "tags": []
          }
        },
        {
          "output_type": "stream",
          "text": [
            "\n"
          ],
          "name": "stdout"
        },
        {
          "output_type": "display_data",
          "data": {
            "text/plain": [
              "array([[12, 14, 15, 16, 12],\n",
              "       [ 7, 14, 17,  8,  7],\n",
              "       [ 4,  5,  8,  6,  6]])"
            ]
          },
          "metadata": {
            "tags": []
          }
        },
        {
          "output_type": "stream",
          "text": [
            "\n"
          ],
          "name": "stdout"
        },
        {
          "output_type": "display_data",
          "data": {
            "text/plain": [
              "array([[24, 19, 25, 23, 16],\n",
              "       [11, 21, 23, 16, 15],\n",
              "       [11, 17, 21, 16, 11]])"
            ]
          },
          "metadata": {
            "tags": []
          }
        }
      ]
    },
    {
      "cell_type": "markdown",
      "metadata": {
        "id": "zhkJPLI3gLhF"
      },
      "source": [
        "### Encontrando funcionário mais produtivo"
      ]
    },
    {
      "cell_type": "code",
      "metadata": {
        "id": "ibuhQheUfHoJ",
        "outputId": "6126079c-f76b-40ce-c216-d445d31172b2",
        "colab": {
          "base_uri": "https://localhost:8080/",
          "height": 0
        }
      },
      "source": [
        "colaborador_01 = sum(matriz_C[0])\n",
        "colaborador_02 = sum(matriz_C[1])\n",
        "colaborador_03 = sum(matriz_C[2])\n",
        "\n",
        "colaboradores = {'Colaborador 01': colaborador_01,\n",
        "                 'Colaborador 02': colaborador_02,\n",
        "                 'Colaborador 03': colaborador_03}\n",
        "\n",
        "resultado = pd.DataFrame(list(colaboradores.items()),columns = ['Colaboradores','m2'])\n",
        "resultado"
      ],
      "execution_count": 3,
      "outputs": [
        {
          "output_type": "execute_result",
          "data": {
            "text/html": [
              "<div>\n",
              "<style scoped>\n",
              "    .dataframe tbody tr th:only-of-type {\n",
              "        vertical-align: middle;\n",
              "    }\n",
              "\n",
              "    .dataframe tbody tr th {\n",
              "        vertical-align: top;\n",
              "    }\n",
              "\n",
              "    .dataframe thead th {\n",
              "        text-align: right;\n",
              "    }\n",
              "</style>\n",
              "<table border=\"1\" class=\"dataframe\">\n",
              "  <thead>\n",
              "    <tr style=\"text-align: right;\">\n",
              "      <th></th>\n",
              "      <th>Colaboradores</th>\n",
              "      <th>m2</th>\n",
              "    </tr>\n",
              "  </thead>\n",
              "  <tbody>\n",
              "    <tr>\n",
              "      <th>0</th>\n",
              "      <td>Colaborador 01</td>\n",
              "      <td>107</td>\n",
              "    </tr>\n",
              "    <tr>\n",
              "      <th>1</th>\n",
              "      <td>Colaborador 02</td>\n",
              "      <td>86</td>\n",
              "    </tr>\n",
              "    <tr>\n",
              "      <th>2</th>\n",
              "      <td>Colaborador 03</td>\n",
              "      <td>76</td>\n",
              "    </tr>\n",
              "  </tbody>\n",
              "</table>\n",
              "</div>"
            ],
            "text/plain": [
              "    Colaboradores   m2\n",
              "0  Colaborador 01  107\n",
              "1  Colaborador 02   86\n",
              "2  Colaborador 03   76"
            ]
          },
          "metadata": {
            "tags": []
          },
          "execution_count": 3
        }
      ]
    },
    {
      "cell_type": "markdown",
      "metadata": {
        "id": "7sux2vIUg5HV"
      },
      "source": [
        "## Subtração de Matrizes\n",
        "\n",
        "**Exemplo 02**\n",
        "\n",
        "O coordenador de qualidade de uma empresa de cursos de capacitação quer descobrir quais cursos de sua plataforma estão com menos procura e quais os turnos menos procurados."
      ]
    },
    {
      "cell_type": "markdown",
      "metadata": {
        "id": "CCmElnsThtxE"
      },
      "source": [
        "### Importando Dados do Google Drive"
      ]
    },
    {
      "cell_type": "code",
      "metadata": {
        "id": "bcBnzuwMg82V",
        "outputId": "114794de-6530-42aa-dcb3-39606eba479a",
        "colab": {
          "base_uri": "https://localhost:8080/",
          "height": 0
        }
      },
      "source": [
        "# Caminho para dados do arquivo csv \n",
        "csv03 = '/content/drive/My Drive/Colab Notebooks/Alura/cursos01.csv'\n",
        "cursos01 = pd.read_csv(csv03)\n",
        "\n",
        "print('\\nCursos 01')\n",
        "display(cursos01)\n",
        "\n",
        "print()\n",
        "\n",
        "print('Cursos 02')\n",
        "# Caminho para dados do arquivo csv \n",
        "csv04 = '/content/drive/My Drive/Colab Notebooks/Alura/cursos02.csv'\n",
        "cursos02 = pd.read_csv(csv04)\n",
        "\n",
        "\n",
        "display(cursos02)"
      ],
      "execution_count": 4,
      "outputs": [
        {
          "output_type": "stream",
          "text": [
            "\n",
            "Cursos 01\n"
          ],
          "name": "stdout"
        },
        {
          "output_type": "display_data",
          "data": {
            "text/html": [
              "<div>\n",
              "<style scoped>\n",
              "    .dataframe tbody tr th:only-of-type {\n",
              "        vertical-align: middle;\n",
              "    }\n",
              "\n",
              "    .dataframe tbody tr th {\n",
              "        vertical-align: top;\n",
              "    }\n",
              "\n",
              "    .dataframe thead th {\n",
              "        text-align: right;\n",
              "    }\n",
              "</style>\n",
              "<table border=\"1\" class=\"dataframe\">\n",
              "  <thead>\n",
              "    <tr style=\"text-align: right;\">\n",
              "      <th></th>\n",
              "      <th>turno</th>\n",
              "      <th>tec_eletronica</th>\n",
              "      <th>tec_eletrotecnica</th>\n",
              "      <th>tec_informatica</th>\n",
              "    </tr>\n",
              "  </thead>\n",
              "  <tbody>\n",
              "    <tr>\n",
              "      <th>0</th>\n",
              "      <td>manha</td>\n",
              "      <td>35</td>\n",
              "      <td>38</td>\n",
              "      <td>30</td>\n",
              "    </tr>\n",
              "    <tr>\n",
              "      <th>1</th>\n",
              "      <td>tarde</td>\n",
              "      <td>28</td>\n",
              "      <td>35</td>\n",
              "      <td>35</td>\n",
              "    </tr>\n",
              "    <tr>\n",
              "      <th>2</th>\n",
              "      <td>noite</td>\n",
              "      <td>40</td>\n",
              "      <td>33</td>\n",
              "      <td>30</td>\n",
              "    </tr>\n",
              "  </tbody>\n",
              "</table>\n",
              "</div>"
            ],
            "text/plain": [
              "   turno  tec_eletronica  tec_eletrotecnica  tec_informatica\n",
              "0  manha              35                 38               30\n",
              "1  tarde              28                 35               35\n",
              "2  noite              40                 33               30"
            ]
          },
          "metadata": {
            "tags": []
          }
        },
        {
          "output_type": "stream",
          "text": [
            "\n",
            "Cursos 02\n"
          ],
          "name": "stdout"
        },
        {
          "output_type": "display_data",
          "data": {
            "text/html": [
              "<div>\n",
              "<style scoped>\n",
              "    .dataframe tbody tr th:only-of-type {\n",
              "        vertical-align: middle;\n",
              "    }\n",
              "\n",
              "    .dataframe tbody tr th {\n",
              "        vertical-align: top;\n",
              "    }\n",
              "\n",
              "    .dataframe thead th {\n",
              "        text-align: right;\n",
              "    }\n",
              "</style>\n",
              "<table border=\"1\" class=\"dataframe\">\n",
              "  <thead>\n",
              "    <tr style=\"text-align: right;\">\n",
              "      <th></th>\n",
              "      <th>turno</th>\n",
              "      <th>tec_eletronica</th>\n",
              "      <th>tec_eletrotecnica</th>\n",
              "      <th>tec_informatica</th>\n",
              "    </tr>\n",
              "  </thead>\n",
              "  <tbody>\n",
              "    <tr>\n",
              "      <th>0</th>\n",
              "      <td>manha</td>\n",
              "      <td>23</td>\n",
              "      <td>20</td>\n",
              "      <td>17</td>\n",
              "    </tr>\n",
              "    <tr>\n",
              "      <th>1</th>\n",
              "      <td>tarde</td>\n",
              "      <td>22</td>\n",
              "      <td>23</td>\n",
              "      <td>18</td>\n",
              "    </tr>\n",
              "    <tr>\n",
              "      <th>2</th>\n",
              "      <td>noite</td>\n",
              "      <td>17</td>\n",
              "      <td>22</td>\n",
              "      <td>20</td>\n",
              "    </tr>\n",
              "  </tbody>\n",
              "</table>\n",
              "</div>"
            ],
            "text/plain": [
              "   turno  tec_eletronica  tec_eletrotecnica  tec_informatica\n",
              "0  manha              23                 20               17\n",
              "1  tarde              22                 23               18\n",
              "2  noite              17                 22               20"
            ]
          },
          "metadata": {
            "tags": []
          }
        }
      ]
    },
    {
      "cell_type": "markdown",
      "metadata": {
        "id": "e4bTiTWQsvVF"
      },
      "source": [
        "### Transformando DataFrame em matriz para subtração"
      ]
    },
    {
      "cell_type": "code",
      "metadata": {
        "id": "n49XTCq0jJjw",
        "outputId": "2f41cae9-1595-448c-cb12-cd4175ef2657",
        "colab": {
          "base_uri": "https://localhost:8080/",
          "height": 0
        }
      },
      "source": [
        "del cursos01['turno']\n",
        "matriz_D = np.array(cursos01)\n",
        "\n",
        "del cursos02['turno']\n",
        "matriz_E = np.array(cursos02)\n",
        "\n",
        "matriz_F = matriz_D - matriz_E\n",
        "\n",
        "display(matriz_F)"
      ],
      "execution_count": 5,
      "outputs": [
        {
          "output_type": "display_data",
          "data": {
            "text/plain": [
              "array([[12, 18, 13],\n",
              "       [ 6, 12, 17],\n",
              "       [23, 11, 10]])"
            ]
          },
          "metadata": {
            "tags": []
          }
        }
      ]
    },
    {
      "cell_type": "markdown",
      "metadata": {
        "id": "3BwVdmBWs-tr"
      },
      "source": [
        "### Encontrando Turno e cursos com menos alunos"
      ]
    },
    {
      "cell_type": "code",
      "metadata": {
        "id": "Kc6fWxPkmMRE",
        "outputId": "1f4805f3-9b42-458b-e205-cb1c625ffafd",
        "colab": {
          "base_uri": "https://localhost:8080/",
          "height": 0
        }
      },
      "source": [
        "resultado = pd.DataFrame(matriz_F)\n",
        "display(resultado[0])\n",
        "\n",
        "eletronica = sum(resultado[0])\n",
        "eletrotecnica = sum(resultado[1])\n",
        "informatica = sum(resultado[2])\n",
        "\n",
        "cursos = {'Eletrônica': eletronica,\n",
        "          'Eletrotécnica': eletrotecnica,\n",
        "          'Informática': informatica}\n",
        "\n",
        "resultado = pd.DataFrame(list(cursos.items()),columns = ['Cursos','n_alunos'])\n",
        "display(resultado)\n",
        "\n",
        "print()\n",
        "\n",
        "manha = sum(matriz_F[0])\n",
        "tarde = sum(matriz_F[1])\n",
        "noite = sum(matriz_F[2])\n",
        "\n",
        "turnos = {'Manhã': manha,\n",
        "          'Tarde': tarde,\n",
        "          'Noite': noite}\n",
        "\n",
        "resultado = pd.DataFrame(list(turnos.items()),columns = ['Turnos','n_alunos'])\n",
        "resultado"
      ],
      "execution_count": 6,
      "outputs": [
        {
          "output_type": "display_data",
          "data": {
            "text/plain": [
              "0    12\n",
              "1     6\n",
              "2    23\n",
              "Name: 0, dtype: int64"
            ]
          },
          "metadata": {
            "tags": []
          }
        },
        {
          "output_type": "display_data",
          "data": {
            "text/html": [
              "<div>\n",
              "<style scoped>\n",
              "    .dataframe tbody tr th:only-of-type {\n",
              "        vertical-align: middle;\n",
              "    }\n",
              "\n",
              "    .dataframe tbody tr th {\n",
              "        vertical-align: top;\n",
              "    }\n",
              "\n",
              "    .dataframe thead th {\n",
              "        text-align: right;\n",
              "    }\n",
              "</style>\n",
              "<table border=\"1\" class=\"dataframe\">\n",
              "  <thead>\n",
              "    <tr style=\"text-align: right;\">\n",
              "      <th></th>\n",
              "      <th>Cursos</th>\n",
              "      <th>n_alunos</th>\n",
              "    </tr>\n",
              "  </thead>\n",
              "  <tbody>\n",
              "    <tr>\n",
              "      <th>0</th>\n",
              "      <td>Eletrônica</td>\n",
              "      <td>41</td>\n",
              "    </tr>\n",
              "    <tr>\n",
              "      <th>1</th>\n",
              "      <td>Eletrotécnica</td>\n",
              "      <td>41</td>\n",
              "    </tr>\n",
              "    <tr>\n",
              "      <th>2</th>\n",
              "      <td>Informática</td>\n",
              "      <td>40</td>\n",
              "    </tr>\n",
              "  </tbody>\n",
              "</table>\n",
              "</div>"
            ],
            "text/plain": [
              "          Cursos  n_alunos\n",
              "0     Eletrônica        41\n",
              "1  Eletrotécnica        41\n",
              "2    Informática        40"
            ]
          },
          "metadata": {
            "tags": []
          }
        },
        {
          "output_type": "stream",
          "text": [
            "\n"
          ],
          "name": "stdout"
        },
        {
          "output_type": "execute_result",
          "data": {
            "text/html": [
              "<div>\n",
              "<style scoped>\n",
              "    .dataframe tbody tr th:only-of-type {\n",
              "        vertical-align: middle;\n",
              "    }\n",
              "\n",
              "    .dataframe tbody tr th {\n",
              "        vertical-align: top;\n",
              "    }\n",
              "\n",
              "    .dataframe thead th {\n",
              "        text-align: right;\n",
              "    }\n",
              "</style>\n",
              "<table border=\"1\" class=\"dataframe\">\n",
              "  <thead>\n",
              "    <tr style=\"text-align: right;\">\n",
              "      <th></th>\n",
              "      <th>Turnos</th>\n",
              "      <th>n_alunos</th>\n",
              "    </tr>\n",
              "  </thead>\n",
              "  <tbody>\n",
              "    <tr>\n",
              "      <th>0</th>\n",
              "      <td>Manhã</td>\n",
              "      <td>43</td>\n",
              "    </tr>\n",
              "    <tr>\n",
              "      <th>1</th>\n",
              "      <td>Tarde</td>\n",
              "      <td>35</td>\n",
              "    </tr>\n",
              "    <tr>\n",
              "      <th>2</th>\n",
              "      <td>Noite</td>\n",
              "      <td>44</td>\n",
              "    </tr>\n",
              "  </tbody>\n",
              "</table>\n",
              "</div>"
            ],
            "text/plain": [
              "  Turnos  n_alunos\n",
              "0  Manhã        43\n",
              "1  Tarde        35\n",
              "2  Noite        44"
            ]
          },
          "metadata": {
            "tags": []
          },
          "execution_count": 6
        }
      ]
    },
    {
      "cell_type": "markdown",
      "metadata": {
        "id": "DGNnwDjWtY9n"
      },
      "source": [
        "## Multiplicação de Matrizes por um Número\n",
        "\n",
        "**Exemplo 03**\n",
        "\n",
        "Uma empresa de painéis solares deseja saber quanto está sendo pago aos colaboradores no mês de Julho, sabendo que 8% da venda dos projetos é dado aos colaboradores. \n",
        "\n",
        "O departamento de vendas elaborou uma tabela para conseguir apurar essa informação, contendo todos os dados necessários.\n",
        "\n"
      ]
    },
    {
      "cell_type": "code",
      "metadata": {
        "id": "IJLNI-yCtcm0",
        "outputId": "aa06760e-ca9d-4ebb-a9ff-076cab24a1f0",
        "colab": {
          "base_uri": "https://localhost:8080/",
          "height": 0
        }
      },
      "source": [
        "matriz_J = np.array([[2500,3000,4700],[28000,31000,42000]])\n",
        "display(matriz_J)\n",
        "\n",
        "# 8% da venda\n",
        "contribuicao = 0.08\n",
        "\n",
        "matriz_H = contribuicao * matriz_J\n",
        "\n",
        "print()\n",
        "\n",
        "display(matriz_H)"
      ],
      "execution_count": 7,
      "outputs": [
        {
          "output_type": "display_data",
          "data": {
            "text/plain": [
              "array([[ 2500,  3000,  4700],\n",
              "       [28000, 31000, 42000]])"
            ]
          },
          "metadata": {
            "tags": []
          }
        },
        {
          "output_type": "stream",
          "text": [
            "\n"
          ],
          "name": "stdout"
        },
        {
          "output_type": "display_data",
          "data": {
            "text/plain": [
              "array([[ 200.,  240.,  376.],\n",
              "       [2240., 2480., 3360.]])"
            ]
          },
          "metadata": {
            "tags": []
          }
        }
      ]
    },
    {
      "cell_type": "code",
      "metadata": {
        "id": "3NJEOC57vwGK",
        "outputId": "e5545f8f-5220-4e9c-f945-cdc54be53082",
        "colab": {
          "base_uri": "https://localhost:8080/",
          "height": 0
        }
      },
      "source": [
        "vendas_julho = pd.DataFrame(matriz_H, columns = ['Vendedor 1','Vendedor 2','Vendedor 3'], index=['Projeto','Sistemas'])\n",
        "vendas_julho"
      ],
      "execution_count": 8,
      "outputs": [
        {
          "output_type": "execute_result",
          "data": {
            "text/html": [
              "<div>\n",
              "<style scoped>\n",
              "    .dataframe tbody tr th:only-of-type {\n",
              "        vertical-align: middle;\n",
              "    }\n",
              "\n",
              "    .dataframe tbody tr th {\n",
              "        vertical-align: top;\n",
              "    }\n",
              "\n",
              "    .dataframe thead th {\n",
              "        text-align: right;\n",
              "    }\n",
              "</style>\n",
              "<table border=\"1\" class=\"dataframe\">\n",
              "  <thead>\n",
              "    <tr style=\"text-align: right;\">\n",
              "      <th></th>\n",
              "      <th>Vendedor 1</th>\n",
              "      <th>Vendedor 2</th>\n",
              "      <th>Vendedor 3</th>\n",
              "    </tr>\n",
              "  </thead>\n",
              "  <tbody>\n",
              "    <tr>\n",
              "      <th>Projeto</th>\n",
              "      <td>200.0</td>\n",
              "      <td>240.0</td>\n",
              "      <td>376.0</td>\n",
              "    </tr>\n",
              "    <tr>\n",
              "      <th>Sistemas</th>\n",
              "      <td>2240.0</td>\n",
              "      <td>2480.0</td>\n",
              "      <td>3360.0</td>\n",
              "    </tr>\n",
              "  </tbody>\n",
              "</table>\n",
              "</div>"
            ],
            "text/plain": [
              "          Vendedor 1  Vendedor 2  Vendedor 3\n",
              "Projeto        200.0       240.0       376.0\n",
              "Sistemas      2240.0      2480.0      3360.0"
            ]
          },
          "metadata": {
            "tags": []
          },
          "execution_count": 8
        }
      ]
    },
    {
      "cell_type": "code",
      "metadata": {
        "id": "ULnCqx2Oxd19",
        "outputId": "b229320d-f939-425c-f841-5f8a9244f5cf",
        "colab": {
          "base_uri": "https://localhost:8080/"
        }
      },
      "source": [
        "soma = vendas_julho.sum(axis=0)\n",
        "soma"
      ],
      "execution_count": 9,
      "outputs": [
        {
          "output_type": "execute_result",
          "data": {
            "text/plain": [
              "Vendedor 1    2440.0\n",
              "Vendedor 2    2720.0\n",
              "Vendedor 3    3736.0\n",
              "dtype: float64"
            ]
          },
          "metadata": {
            "tags": []
          },
          "execution_count": 9
        }
      ]
    },
    {
      "cell_type": "code",
      "metadata": {
        "id": "Q8RiFSE7yNfI",
        "outputId": "c4437ba4-bfb8-43e4-fb15-d082909b4d05",
        "colab": {
          "base_uri": "https://localhost:8080/",
          "height": 0
        }
      },
      "source": [
        "vendas_julho = pd.DataFrame(soma, columns = ['Quantia em R$'])\n",
        "vendas_julho"
      ],
      "execution_count": 10,
      "outputs": [
        {
          "output_type": "execute_result",
          "data": {
            "text/html": [
              "<div>\n",
              "<style scoped>\n",
              "    .dataframe tbody tr th:only-of-type {\n",
              "        vertical-align: middle;\n",
              "    }\n",
              "\n",
              "    .dataframe tbody tr th {\n",
              "        vertical-align: top;\n",
              "    }\n",
              "\n",
              "    .dataframe thead th {\n",
              "        text-align: right;\n",
              "    }\n",
              "</style>\n",
              "<table border=\"1\" class=\"dataframe\">\n",
              "  <thead>\n",
              "    <tr style=\"text-align: right;\">\n",
              "      <th></th>\n",
              "      <th>Quantia em R$</th>\n",
              "    </tr>\n",
              "  </thead>\n",
              "  <tbody>\n",
              "    <tr>\n",
              "      <th>Vendedor 1</th>\n",
              "      <td>2440.0</td>\n",
              "    </tr>\n",
              "    <tr>\n",
              "      <th>Vendedor 2</th>\n",
              "      <td>2720.0</td>\n",
              "    </tr>\n",
              "    <tr>\n",
              "      <th>Vendedor 3</th>\n",
              "      <td>3736.0</td>\n",
              "    </tr>\n",
              "  </tbody>\n",
              "</table>\n",
              "</div>"
            ],
            "text/plain": [
              "            Quantia em R$\n",
              "Vendedor 1         2440.0\n",
              "Vendedor 2         2720.0\n",
              "Vendedor 3         3736.0"
            ]
          },
          "metadata": {
            "tags": []
          },
          "execution_count": 10
        }
      ]
    },
    {
      "cell_type": "markdown",
      "metadata": {
        "id": "nALul3NzzS64"
      },
      "source": [
        "## Multiplicação de Matrizes\n",
        "\n",
        "**Exemplo 04**\n",
        "\n",
        "A gerente financeira de obras de uma determinada organização, está com duas obras em andamento, e ela precisa comprar materiais para essas duas obras.\n",
        "\n",
        "A gerente quer fazer a cotação de preço entre os fornecedores, pois a empresa costuma comprar materiais apenas de um fornecedor por vez para facilitar as questões fiscais. \n",
        "\n",
        "Você está encarregado de encontrar o melhor fornecedor entre as cotações que a gerente financeira conseguiu.\n",
        "\n"
      ]
    },
    {
      "cell_type": "markdown",
      "metadata": {
        "id": "r_yl2G0BQmCO"
      },
      "source": [
        "### **Dados:**\n",
        "\n",
        "## **Obra 01**\n",
        "\n",
        "\n",
        "*   25 kg de areia\n",
        "*   20 kg de pedra\n",
        "*   30 kg de cimento\n",
        "*   32 kg de impermeabilizante\n",
        "\n",
        "## **Obra 2**\n",
        "\n",
        "*   28 kg de areia\n",
        "*   24 kg de pedra\n",
        "*   35 kg de cimento\n",
        "*   38 kg de impermeabilizante"
      ]
    },
    {
      "cell_type": "markdown",
      "metadata": {
        "id": "nsP2CRQ24lVX"
      },
      "source": [
        "### Importando tabela de fornecedores do Google Drive"
      ]
    },
    {
      "cell_type": "code",
      "metadata": {
        "id": "bqhEFjAyzfAr",
        "outputId": "7550fa51-bd5f-4de1-dd05-7552fa5448f2",
        "colab": {
          "base_uri": "https://localhost:8080/",
          "height": 162
        }
      },
      "source": [
        "# Caminho para dados do arquivo csv \n",
        "csv05 = '/content/drive/My Drive/Colab Notebooks/Alura/valores.csv'\n",
        "fornecedores = pd.read_csv(csv05)\n",
        "\n",
        "display(fornecedores)\n"
      ],
      "execution_count": 11,
      "outputs": [
        {
          "output_type": "display_data",
          "data": {
            "text/html": [
              "<div>\n",
              "<style scoped>\n",
              "    .dataframe tbody tr th:only-of-type {\n",
              "        vertical-align: middle;\n",
              "    }\n",
              "\n",
              "    .dataframe tbody tr th {\n",
              "        vertical-align: top;\n",
              "    }\n",
              "\n",
              "    .dataframe thead th {\n",
              "        text-align: right;\n",
              "    }\n",
              "</style>\n",
              "<table border=\"1\" class=\"dataframe\">\n",
              "  <thead>\n",
              "    <tr style=\"text-align: right;\">\n",
              "      <th></th>\n",
              "      <th>produto(1kg)</th>\n",
              "      <th>fornecedor 1</th>\n",
              "      <th>fornecedor 2</th>\n",
              "    </tr>\n",
              "  </thead>\n",
              "  <tbody>\n",
              "    <tr>\n",
              "      <th>0</th>\n",
              "      <td>Areia</td>\n",
              "      <td>0.20</td>\n",
              "      <td>0.2</td>\n",
              "    </tr>\n",
              "    <tr>\n",
              "      <th>1</th>\n",
              "      <td>Pedra</td>\n",
              "      <td>4.00</td>\n",
              "      <td>3.4</td>\n",
              "    </tr>\n",
              "    <tr>\n",
              "      <th>2</th>\n",
              "      <td>Cimento</td>\n",
              "      <td>0.40</td>\n",
              "      <td>0.6</td>\n",
              "    </tr>\n",
              "    <tr>\n",
              "      <th>3</th>\n",
              "      <td>Impermeabilizante</td>\n",
              "      <td>12.96</td>\n",
              "      <td>11.2</td>\n",
              "    </tr>\n",
              "  </tbody>\n",
              "</table>\n",
              "</div>"
            ],
            "text/plain": [
              "        produto(1kg)  fornecedor 1   fornecedor 2\n",
              "0              Areia          0.20            0.2\n",
              "1              Pedra          4.00            3.4\n",
              "2            Cimento          0.40            0.6\n",
              "3  Impermeabilizante         12.96           11.2"
            ]
          },
          "metadata": {
            "tags": []
          }
        }
      ]
    },
    {
      "cell_type": "markdown",
      "metadata": {
        "id": "5vlYdhje5rRO"
      },
      "source": [
        "### Criando Matrizes das Obras\n",
        "\n",
        "Para uma melhor visualização dos dados enquanto trabalhamos com matriz, podemos usar a matriz transposta."
      ]
    },
    {
      "cell_type": "code",
      "metadata": {
        "id": "XF7knEKg5wrm",
        "outputId": "a696e360-9b8e-4b50-c0c3-4bcb1cf7a01c",
        "colab": {
          "base_uri": "https://localhost:8080/",
          "height": 492
        }
      },
      "source": [
        "matriz_I = np.transpose(np.array([[25,20,30,32],[28,24,35,38]]))\n",
        "matriz_N = np.transpose(np.array([[28,24,35,38],[25,20,30,32]]))\n",
        "\n",
        "obras = pd.DataFrame(matriz_I, columns= ['Obra 01 (kg)', 'Obra 02 (kg)'])\n",
        "obras['Materiais'] = ['Areia','Pedra','Cimento','Impermeabilizante']\n",
        "\n",
        "# Reordenando Dataframe\n",
        "obras = obras[['Materiais','Obra 01 (kg)', 'Obra 02 (kg)']]\n",
        "display(obras)\n",
        "\n",
        "print('\\n Matriz_I transposta:\\n')\n",
        "df = pd.DataFrame(matriz_I)\n",
        "display(df)\n",
        "\n",
        "print('\\n Matriz_I:\\n')\n",
        "df = pd.DataFrame(np.array([[25,20,30,32],[28,24,35,38]]))\n",
        "display(df)"
      ],
      "execution_count": 64,
      "outputs": [
        {
          "output_type": "display_data",
          "data": {
            "text/html": [
              "<div>\n",
              "<style scoped>\n",
              "    .dataframe tbody tr th:only-of-type {\n",
              "        vertical-align: middle;\n",
              "    }\n",
              "\n",
              "    .dataframe tbody tr th {\n",
              "        vertical-align: top;\n",
              "    }\n",
              "\n",
              "    .dataframe thead th {\n",
              "        text-align: right;\n",
              "    }\n",
              "</style>\n",
              "<table border=\"1\" class=\"dataframe\">\n",
              "  <thead>\n",
              "    <tr style=\"text-align: right;\">\n",
              "      <th></th>\n",
              "      <th>Materiais</th>\n",
              "      <th>Obra 01 (kg)</th>\n",
              "      <th>Obra 02 (kg)</th>\n",
              "    </tr>\n",
              "  </thead>\n",
              "  <tbody>\n",
              "    <tr>\n",
              "      <th>0</th>\n",
              "      <td>Areia</td>\n",
              "      <td>25</td>\n",
              "      <td>28</td>\n",
              "    </tr>\n",
              "    <tr>\n",
              "      <th>1</th>\n",
              "      <td>Pedra</td>\n",
              "      <td>20</td>\n",
              "      <td>24</td>\n",
              "    </tr>\n",
              "    <tr>\n",
              "      <th>2</th>\n",
              "      <td>Cimento</td>\n",
              "      <td>30</td>\n",
              "      <td>35</td>\n",
              "    </tr>\n",
              "    <tr>\n",
              "      <th>3</th>\n",
              "      <td>Impermeabilizante</td>\n",
              "      <td>32</td>\n",
              "      <td>38</td>\n",
              "    </tr>\n",
              "  </tbody>\n",
              "</table>\n",
              "</div>"
            ],
            "text/plain": [
              "           Materiais  Obra 01 (kg)  Obra 02 (kg)\n",
              "0              Areia            25            28\n",
              "1              Pedra            20            24\n",
              "2            Cimento            30            35\n",
              "3  Impermeabilizante            32            38"
            ]
          },
          "metadata": {
            "tags": []
          }
        },
        {
          "output_type": "stream",
          "text": [
            "\n",
            " Matriz_I transposta:\n",
            "\n"
          ],
          "name": "stdout"
        },
        {
          "output_type": "display_data",
          "data": {
            "text/html": [
              "<div>\n",
              "<style scoped>\n",
              "    .dataframe tbody tr th:only-of-type {\n",
              "        vertical-align: middle;\n",
              "    }\n",
              "\n",
              "    .dataframe tbody tr th {\n",
              "        vertical-align: top;\n",
              "    }\n",
              "\n",
              "    .dataframe thead th {\n",
              "        text-align: right;\n",
              "    }\n",
              "</style>\n",
              "<table border=\"1\" class=\"dataframe\">\n",
              "  <thead>\n",
              "    <tr style=\"text-align: right;\">\n",
              "      <th></th>\n",
              "      <th>0</th>\n",
              "      <th>1</th>\n",
              "    </tr>\n",
              "  </thead>\n",
              "  <tbody>\n",
              "    <tr>\n",
              "      <th>0</th>\n",
              "      <td>25</td>\n",
              "      <td>28</td>\n",
              "    </tr>\n",
              "    <tr>\n",
              "      <th>1</th>\n",
              "      <td>20</td>\n",
              "      <td>24</td>\n",
              "    </tr>\n",
              "    <tr>\n",
              "      <th>2</th>\n",
              "      <td>30</td>\n",
              "      <td>35</td>\n",
              "    </tr>\n",
              "    <tr>\n",
              "      <th>3</th>\n",
              "      <td>32</td>\n",
              "      <td>38</td>\n",
              "    </tr>\n",
              "  </tbody>\n",
              "</table>\n",
              "</div>"
            ],
            "text/plain": [
              "    0   1\n",
              "0  25  28\n",
              "1  20  24\n",
              "2  30  35\n",
              "3  32  38"
            ]
          },
          "metadata": {
            "tags": []
          }
        },
        {
          "output_type": "stream",
          "text": [
            "\n",
            " Matriz_I:\n",
            "\n"
          ],
          "name": "stdout"
        },
        {
          "output_type": "display_data",
          "data": {
            "text/html": [
              "<div>\n",
              "<style scoped>\n",
              "    .dataframe tbody tr th:only-of-type {\n",
              "        vertical-align: middle;\n",
              "    }\n",
              "\n",
              "    .dataframe tbody tr th {\n",
              "        vertical-align: top;\n",
              "    }\n",
              "\n",
              "    .dataframe thead th {\n",
              "        text-align: right;\n",
              "    }\n",
              "</style>\n",
              "<table border=\"1\" class=\"dataframe\">\n",
              "  <thead>\n",
              "    <tr style=\"text-align: right;\">\n",
              "      <th></th>\n",
              "      <th>0</th>\n",
              "      <th>1</th>\n",
              "      <th>2</th>\n",
              "      <th>3</th>\n",
              "    </tr>\n",
              "  </thead>\n",
              "  <tbody>\n",
              "    <tr>\n",
              "      <th>0</th>\n",
              "      <td>25</td>\n",
              "      <td>20</td>\n",
              "      <td>30</td>\n",
              "      <td>32</td>\n",
              "    </tr>\n",
              "    <tr>\n",
              "      <th>1</th>\n",
              "      <td>28</td>\n",
              "      <td>24</td>\n",
              "      <td>35</td>\n",
              "      <td>38</td>\n",
              "    </tr>\n",
              "  </tbody>\n",
              "</table>\n",
              "</div>"
            ],
            "text/plain": [
              "    0   1   2   3\n",
              "0  25  20  30  32\n",
              "1  28  24  35  38"
            ]
          },
          "metadata": {
            "tags": []
          }
        }
      ]
    },
    {
      "cell_type": "code",
      "metadata": {
        "id": "bGDannJ__Vqx",
        "outputId": "bf8b7a9c-699b-4512-a7cf-3c6a93382413",
        "colab": {
          "base_uri": "https://localhost:8080/",
          "height": 541
        }
      },
      "source": [
        "try:\n",
        "  del obras['Materiais']\n",
        "  del fornecedores['produto(1kg)']\n",
        "except:\n",
        "  print('Coluna já excluida, prosseguindo...\\n')\n",
        "\n",
        "matriz_M = np.array(fornecedores)\n",
        "\n",
        "# Multiplicando matrizes \n",
        "\n",
        "matriz_L = np.multiply(matriz_M,matriz_I )\n",
        "matriz_O = np.multiply(matriz_M,matriz_N )\n",
        "\n",
        "# Criando visualização dos resultados\n",
        "\n",
        "print('Matriz_L')\n",
        "df = pd.DataFrame(matriz_L)\n",
        "display(df)\n",
        "\n",
        "\n",
        "print('\\n\\nMatriz_O')\n",
        "df = pd.DataFrame(matriz_O)\n",
        "display(df)\n",
        "\n",
        "# Somando preços das obras 1 e 2\n",
        "preco = matriz_L.sum(axis=0) + matriz_O.sum(axis=0)\n",
        "\n",
        "# Criando DataFreme final para a conclusão do problema\n",
        "print('\\n\\ndf final')\n",
        "preco_df = pd.DataFrame(preco, index= ['Fornecedo 01','Fornecedor 02'], columns =['Preço em (R$)'])\n",
        "preco_df\n"
      ],
      "execution_count": 69,
      "outputs": [
        {
          "output_type": "stream",
          "text": [
            "Coluna já excluida, prosseguindo...\n",
            "\n",
            "Matriz_L\n"
          ],
          "name": "stdout"
        },
        {
          "output_type": "display_data",
          "data": {
            "text/html": [
              "<div>\n",
              "<style scoped>\n",
              "    .dataframe tbody tr th:only-of-type {\n",
              "        vertical-align: middle;\n",
              "    }\n",
              "\n",
              "    .dataframe tbody tr th {\n",
              "        vertical-align: top;\n",
              "    }\n",
              "\n",
              "    .dataframe thead th {\n",
              "        text-align: right;\n",
              "    }\n",
              "</style>\n",
              "<table border=\"1\" class=\"dataframe\">\n",
              "  <thead>\n",
              "    <tr style=\"text-align: right;\">\n",
              "      <th></th>\n",
              "      <th>0</th>\n",
              "      <th>1</th>\n",
              "    </tr>\n",
              "  </thead>\n",
              "  <tbody>\n",
              "    <tr>\n",
              "      <th>0</th>\n",
              "      <td>5.00</td>\n",
              "      <td>5.6</td>\n",
              "    </tr>\n",
              "    <tr>\n",
              "      <th>1</th>\n",
              "      <td>80.00</td>\n",
              "      <td>81.6</td>\n",
              "    </tr>\n",
              "    <tr>\n",
              "      <th>2</th>\n",
              "      <td>12.00</td>\n",
              "      <td>21.0</td>\n",
              "    </tr>\n",
              "    <tr>\n",
              "      <th>3</th>\n",
              "      <td>414.72</td>\n",
              "      <td>425.6</td>\n",
              "    </tr>\n",
              "  </tbody>\n",
              "</table>\n",
              "</div>"
            ],
            "text/plain": [
              "        0      1\n",
              "0    5.00    5.6\n",
              "1   80.00   81.6\n",
              "2   12.00   21.0\n",
              "3  414.72  425.6"
            ]
          },
          "metadata": {
            "tags": []
          }
        },
        {
          "output_type": "stream",
          "text": [
            "\n",
            "\n",
            "Matriz_O\n"
          ],
          "name": "stdout"
        },
        {
          "output_type": "display_data",
          "data": {
            "text/html": [
              "<div>\n",
              "<style scoped>\n",
              "    .dataframe tbody tr th:only-of-type {\n",
              "        vertical-align: middle;\n",
              "    }\n",
              "\n",
              "    .dataframe tbody tr th {\n",
              "        vertical-align: top;\n",
              "    }\n",
              "\n",
              "    .dataframe thead th {\n",
              "        text-align: right;\n",
              "    }\n",
              "</style>\n",
              "<table border=\"1\" class=\"dataframe\">\n",
              "  <thead>\n",
              "    <tr style=\"text-align: right;\">\n",
              "      <th></th>\n",
              "      <th>0</th>\n",
              "      <th>1</th>\n",
              "    </tr>\n",
              "  </thead>\n",
              "  <tbody>\n",
              "    <tr>\n",
              "      <th>0</th>\n",
              "      <td>5.60</td>\n",
              "      <td>5.0</td>\n",
              "    </tr>\n",
              "    <tr>\n",
              "      <th>1</th>\n",
              "      <td>96.00</td>\n",
              "      <td>68.0</td>\n",
              "    </tr>\n",
              "    <tr>\n",
              "      <th>2</th>\n",
              "      <td>14.00</td>\n",
              "      <td>18.0</td>\n",
              "    </tr>\n",
              "    <tr>\n",
              "      <th>3</th>\n",
              "      <td>492.48</td>\n",
              "      <td>358.4</td>\n",
              "    </tr>\n",
              "  </tbody>\n",
              "</table>\n",
              "</div>"
            ],
            "text/plain": [
              "        0      1\n",
              "0    5.60    5.0\n",
              "1   96.00   68.0\n",
              "2   14.00   18.0\n",
              "3  492.48  358.4"
            ]
          },
          "metadata": {
            "tags": []
          }
        },
        {
          "output_type": "stream",
          "text": [
            "\n",
            "\n",
            "df final\n"
          ],
          "name": "stdout"
        },
        {
          "output_type": "execute_result",
          "data": {
            "text/html": [
              "<div>\n",
              "<style scoped>\n",
              "    .dataframe tbody tr th:only-of-type {\n",
              "        vertical-align: middle;\n",
              "    }\n",
              "\n",
              "    .dataframe tbody tr th {\n",
              "        vertical-align: top;\n",
              "    }\n",
              "\n",
              "    .dataframe thead th {\n",
              "        text-align: right;\n",
              "    }\n",
              "</style>\n",
              "<table border=\"1\" class=\"dataframe\">\n",
              "  <thead>\n",
              "    <tr style=\"text-align: right;\">\n",
              "      <th></th>\n",
              "      <th>Preço em (R$)</th>\n",
              "    </tr>\n",
              "  </thead>\n",
              "  <tbody>\n",
              "    <tr>\n",
              "      <th>Fornecedo 01</th>\n",
              "      <td>1119.8</td>\n",
              "    </tr>\n",
              "    <tr>\n",
              "      <th>Fornecedor 02</th>\n",
              "      <td>983.2</td>\n",
              "    </tr>\n",
              "  </tbody>\n",
              "</table>\n",
              "</div>"
            ],
            "text/plain": [
              "               Preço em (R$)\n",
              "Fornecedo 01          1119.8\n",
              "Fornecedor 02          983.2"
            ]
          },
          "metadata": {
            "tags": []
          },
          "execution_count": 69
        }
      ]
    }
  ]
}