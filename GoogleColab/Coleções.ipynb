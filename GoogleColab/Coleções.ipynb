{
  "nbformat": 4,
  "nbformat_minor": 0,
  "metadata": {
    "colab": {
      "name": "Coleções.ipynb",
      "provenance": [],
      "authorship_tag": "ABX9TyOJf+PdsU8TSMr4L1ylVLtv",
      "include_colab_link": true
    },
    "kernelspec": {
      "name": "python3",
      "display_name": "Python 3"
    }
  },
  "cells": [
    {
      "cell_type": "markdown",
      "metadata": {
        "id": "view-in-github",
        "colab_type": "text"
      },
      "source": [
        "<a href=\"https://colab.research.google.com/github/gabrielvieiraf/ProjetosPython/blob/master/GoogleColab/Cole%C3%A7%C3%B5es.ipynb\" target=\"_parent\"><img src=\"https://colab.research.google.com/assets/colab-badge.svg\" alt=\"Open In Colab\"/></a>"
      ]
    },
    {
      "cell_type": "markdown",
      "metadata": {
        "id": "RlsFacGI3gqA"
      },
      "source": [
        "> # Coleções em Python\r\n"
      ]
    },
    {
      "cell_type": "markdown",
      "metadata": {
        "id": "SDKj2g0Y3pJa"
      },
      "source": [
        "## Listas"
      ]
    },
    {
      "cell_type": "markdown",
      "metadata": {
        "id": "x4dvVnSP9usW"
      },
      "source": [
        "### Declarando listas"
      ]
    },
    {
      "cell_type": "code",
      "metadata": {
        "colab": {
          "base_uri": "https://localhost:8080/"
        },
        "id": "DLV0YU6729H9",
        "outputId": "132a7cfd-a3e3-4a32-a2b4-91bd155741ec"
      },
      "source": [
        "# Declarando lista\r\n",
        "lista = []\r\n",
        "lista = list()\r\n",
        "\r\n",
        "# Outro uso para list()\r\n",
        "# String em lista\r\n",
        "string = 'auczcoco'\r\n",
        "lista = list(string)\r\n",
        "print(f'Lista gerada: {lista}')\r\n",
        "\r\n",
        "# Lista em string\r\n",
        "listay = ''.join(lista)\r\n",
        "print(listay)\r\n",
        "\r\n",
        "# Tipos\r\n",
        "# int, string, mista, etc...\r\n",
        "lista0 = [89,90,91,91]\r\n",
        "lista1 = [\"90\",\"90\",\"90\"]\r\n",
        "lista2 = [2.9,\"90\",2]"
      ],
      "execution_count": 13,
      "outputs": [
        {
          "output_type": "stream",
          "text": [
            "Lista gerada: ['a', 'u', 'c', 'z', 'c', 'o', 'c', 'o']\n",
            "auczcoco\n"
          ],
          "name": "stdout"
        }
      ]
    },
    {
      "cell_type": "markdown",
      "metadata": {
        "id": "G13Ef7mN-fl9"
      },
      "source": [
        "### Verificando tipo, tamanho, valores máximos/mínimos e count"
      ]
    },
    {
      "cell_type": "code",
      "metadata": {
        "colab": {
          "base_uri": "https://localhost:8080/"
        },
        "id": "II-8pT46-kV8",
        "outputId": "f724d642-8e60-4d3a-c2a8-253d1badae5c"
      },
      "source": [
        "print(type(lista0))\r\n",
        "print(f'O tamanho da lista é: {len(lista0)}')\r\n",
        "print(f'O valor máximo na lista é: {max(lista0)}')\r\n",
        "print(f'O valor mínimo na lista é: {min(lista0)}')\r\n",
        "print(f'Vezes em que o nº 91 aparece na lista: {lista0.count(91)}')"
      ],
      "execution_count": 14,
      "outputs": [
        {
          "output_type": "stream",
          "text": [
            "<class 'list'>\n",
            "O tamanho da lista é: 4\n",
            "O valor máximo na lista é: 91\n",
            "O valor mínimo na lista é: 89\n",
            "Vezes em que o nº 91 aparece na lista: 2\n"
          ],
          "name": "stdout"
        }
      ]
    },
    {
      "cell_type": "markdown",
      "metadata": {
        "id": "Kl4spgYV_eDM"
      },
      "source": [
        "### Ordenando Lista"
      ]
    },
    {
      "cell_type": "code",
      "metadata": {
        "colab": {
          "base_uri": "https://localhost:8080/"
        },
        "id": "oS7745Gc_fu7",
        "outputId": "8c9e94b3-4e61-4f26-87ce-f8ada34ed1cb"
      },
      "source": [
        "# Sort\r\n",
        "lista0.sort()\r\n",
        "print(lista0)\r\n",
        "\r\n",
        "# sort reverso\r\n",
        "lista0.sort(reverse=True)\r\n",
        "print(lista0)\r\n",
        "\r\n",
        "# Tamanho e tipo da lista\r\n",
        "print(len(lista0),type(lista0))"
      ],
      "execution_count": 8,
      "outputs": [
        {
          "output_type": "stream",
          "text": [
            "[89, 90, 91]\n",
            "[91, 90, 89]\n",
            "3 <class 'list'>\n"
          ],
          "name": "stdout"
        }
      ]
    },
    {
      "cell_type": "markdown",
      "metadata": {
        "id": "5rgKLMfyALZW"
      },
      "source": [
        "### Concatenando Listas"
      ]
    },
    {
      "cell_type": "code",
      "metadata": {
        "colab": {
          "base_uri": "https://localhost:8080/"
        },
        "id": "3R2gAJJkALiV",
        "outputId": "c41f5266-f4e1-446e-9b0a-37ea9c533029"
      },
      "source": [
        "# Fazer append de listas\r\n",
        "lista0.append(lista1)\r\n",
        "print(lista0)\r\n",
        "print(lista0 + lista2)\r\n",
        "\r\n",
        "# Inserir elementos de uma lista em outra\r\n",
        "lista0.extend(lista1)\r\n",
        "print(lista0)\r\n",
        "\r\n",
        "# Pegando valores pelo indice\r\n",
        "print(lista2[0])\r\n",
        "\r\n",
        "# Inserindo valor na lista (indice,valor)\r\n",
        "lista2.insert(0,'inseri uma string :)')\r\n",
        "print(lista2[0])"
      ],
      "execution_count": 16,
      "outputs": [
        {
          "output_type": "stream",
          "text": [
            "[89, 90, 91, 91, ['90', '90', '90']]\n",
            "[89, 90, 91, 91, ['90', '90', '90'], 2]\n",
            "[89, 90, 91, 91, ['90', '90', '90'], '90', '90', '90']\n",
            "2\n",
            "inseri uma string :)\n"
          ],
          "name": "stdout"
        }
      ]
    },
    {
      "cell_type": "markdown",
      "metadata": {
        "id": "qo7MMte5A-ZT"
      },
      "source": [
        "### Removendo valores"
      ]
    },
    {
      "cell_type": "code",
      "metadata": {
        "colab": {
          "base_uri": "https://localhost:8080/"
        },
        "id": "7GphoklcBBSz",
        "outputId": "62d4426d-1383-4e70-dd9d-eb2579b26def"
      },
      "source": [
        "#remover algo da lista pelo indice\r\n",
        "lista2.pop(0)\r\n",
        "\r\n",
        "#remover \r\n",
        "lista2.remove('90')\r\n",
        "print(lista2)"
      ],
      "execution_count": 15,
      "outputs": [
        {
          "output_type": "stream",
          "text": [
            "[2]\n"
          ],
          "name": "stdout"
        }
      ]
    }
  ]
}