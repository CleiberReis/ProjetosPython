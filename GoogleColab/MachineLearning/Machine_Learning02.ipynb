{
  "nbformat": 4,
  "nbformat_minor": 0,
  "metadata": {
    "colab": {
      "name": "Machine_Learning02.ipynb",
      "provenance": [],
      "authorship_tag": "ABX9TyM/cSI+eNUFlr4If1xk5JRv",
      "include_colab_link": true
    },
    "kernelspec": {
      "name": "python3",
      "display_name": "Python 3"
    }
  },
  "cells": [
    {
      "cell_type": "markdown",
      "metadata": {
        "id": "view-in-github",
        "colab_type": "text"
      },
      "source": [
        "<a href=\"https://colab.research.google.com/github/gabrielvieiraf/ProjetosPython/blob/master/GoogleColab/MachineLearning/Machine_Learning02.ipynb\" target=\"_parent\"><img src=\"https://colab.research.google.com/assets/colab-badge.svg\" alt=\"Open In Colab\"/></a>"
      ]
    },
    {
      "cell_type": "markdown",
      "metadata": {
        "id": "32OU-UqC8wwC"
      },
      "source": [
        "# **Iniciando com Machine Learning 02**"
      ]
    },
    {
      "cell_type": "markdown",
      "metadata": {
        "id": "1WiVwAjQ9DgO"
      },
      "source": [
        "## Exemplo 03"
      ]
    },
    {
      "cell_type": "markdown",
      "metadata": {
        "id": "Sc9haMdB9Gsj"
      },
      "source": [
        "### Tratando dados"
      ]
    },
    {
      "cell_type": "code",
      "metadata": {
        "id": "-fxgRtA-3FJM",
        "outputId": "3a734b71-d872-4033-f388-a0168ae9d92b",
        "colab": {
          "base_uri": "https://localhost:8080/",
          "height": 546
        }
      },
      "source": [
        "import pandas as pd\n",
        "\n",
        "dados = pd.read_csv('https://gist.githubusercontent.com/guilhermesilveira/1b7d5475863c15f484ac495bd70975cf/raw/16aff7a0aee67e7c100a2a48b676a2d2d142f646/projects.csv')\n",
        "\n",
        "# Visualizando dados\n",
        "print(dados.head(10))\n",
        "\n",
        "# Renomeando Colunas \n",
        "dados.rename(columns = {'expected_hours':'horas_esperadas',\n",
        "             'price':'preco'}, inplace= True)\n",
        "\n",
        "# Invertendo valores no Dataframe\n",
        "troca = {\n",
        "    0:1,\n",
        "    1:0\n",
        "}\n",
        "# Realizando troca dos 0 e 1\n",
        "dados['finalizado'] = dados['unfinished'].map(troca)\n",
        "\n",
        "# Deletando coluna\n",
        "del dados['unfinished']\n",
        "\n",
        "# Visualizando dados\n",
        "dados.head(10)"
      ],
      "execution_count": 4,
      "outputs": [
        {
          "output_type": "stream",
          "text": [
            "   unfinished  expected_hours  price\n",
            "0           1              26    192\n",
            "1           1              88   9015\n",
            "2           1              89   2577\n",
            "3           1              42    275\n",
            "4           1              39    170\n",
            "5           1              33    173\n",
            "6           1              64   1965\n",
            "7           1              99   1993\n",
            "8           1              45    278\n",
            "9           0              96  12479\n"
          ],
          "name": "stdout"
        },
        {
          "output_type": "execute_result",
          "data": {
            "text/html": [
              "<div>\n",
              "<style scoped>\n",
              "    .dataframe tbody tr th:only-of-type {\n",
              "        vertical-align: middle;\n",
              "    }\n",
              "\n",
              "    .dataframe tbody tr th {\n",
              "        vertical-align: top;\n",
              "    }\n",
              "\n",
              "    .dataframe thead th {\n",
              "        text-align: right;\n",
              "    }\n",
              "</style>\n",
              "<table border=\"1\" class=\"dataframe\">\n",
              "  <thead>\n",
              "    <tr style=\"text-align: right;\">\n",
              "      <th></th>\n",
              "      <th>horas_esperadas</th>\n",
              "      <th>preco</th>\n",
              "      <th>finalizado</th>\n",
              "    </tr>\n",
              "  </thead>\n",
              "  <tbody>\n",
              "    <tr>\n",
              "      <th>0</th>\n",
              "      <td>26</td>\n",
              "      <td>192</td>\n",
              "      <td>0</td>\n",
              "    </tr>\n",
              "    <tr>\n",
              "      <th>1</th>\n",
              "      <td>88</td>\n",
              "      <td>9015</td>\n",
              "      <td>0</td>\n",
              "    </tr>\n",
              "    <tr>\n",
              "      <th>2</th>\n",
              "      <td>89</td>\n",
              "      <td>2577</td>\n",
              "      <td>0</td>\n",
              "    </tr>\n",
              "    <tr>\n",
              "      <th>3</th>\n",
              "      <td>42</td>\n",
              "      <td>275</td>\n",
              "      <td>0</td>\n",
              "    </tr>\n",
              "    <tr>\n",
              "      <th>4</th>\n",
              "      <td>39</td>\n",
              "      <td>170</td>\n",
              "      <td>0</td>\n",
              "    </tr>\n",
              "    <tr>\n",
              "      <th>5</th>\n",
              "      <td>33</td>\n",
              "      <td>173</td>\n",
              "      <td>0</td>\n",
              "    </tr>\n",
              "    <tr>\n",
              "      <th>6</th>\n",
              "      <td>64</td>\n",
              "      <td>1965</td>\n",
              "      <td>0</td>\n",
              "    </tr>\n",
              "    <tr>\n",
              "      <th>7</th>\n",
              "      <td>99</td>\n",
              "      <td>1993</td>\n",
              "      <td>0</td>\n",
              "    </tr>\n",
              "    <tr>\n",
              "      <th>8</th>\n",
              "      <td>45</td>\n",
              "      <td>278</td>\n",
              "      <td>0</td>\n",
              "    </tr>\n",
              "    <tr>\n",
              "      <th>9</th>\n",
              "      <td>96</td>\n",
              "      <td>12479</td>\n",
              "      <td>1</td>\n",
              "    </tr>\n",
              "  </tbody>\n",
              "</table>\n",
              "</div>"
            ],
            "text/plain": [
              "   horas_esperadas  preco  finalizado\n",
              "0               26    192           0\n",
              "1               88   9015           0\n",
              "2               89   2577           0\n",
              "3               42    275           0\n",
              "4               39    170           0\n",
              "5               33    173           0\n",
              "6               64   1965           0\n",
              "7               99   1993           0\n",
              "8               45    278           0\n",
              "9               96  12479           1"
            ]
          },
          "metadata": {
            "tags": []
          },
          "execution_count": 4
        }
      ]
    },
    {
      "cell_type": "markdown",
      "metadata": {
        "id": "CttIoJiA9LOL"
      },
      "source": [
        "### Criando modelo"
      ]
    },
    {
      "cell_type": "code",
      "metadata": {
        "id": "onnQG6SY7rLZ",
        "outputId": "d463165e-ba94-4877-c6ea-09e931940906",
        "colab": {
          "base_uri": "https://localhost:8080/"
        }
      },
      "source": [
        "# Declarando x e y\n",
        "x = dados[['horas_esperadas','preco']]\n",
        "y = dados[['finalizado']]\n",
        "\n",
        "# Método 02\n",
        "from sklearn.model_selection import train_test_split\n",
        "\n",
        "SEED = 20\n",
        "\n",
        "treino_x, teste_x, treino_y, teste_y = train_test_split (x, y,\n",
        "                                                         random_state= SEED,\n",
        "                                                         test_size= 0.25,\n",
        "                                                         stratify = y)\n",
        "\n",
        "print('Treinaremos com %d elementos e testaremos com %d elementos.' % (len(treino_x), len(teste_x)))"
      ],
      "execution_count": 5,
      "outputs": [
        {
          "output_type": "stream",
          "text": [
            "Treinaremos com 1617 elementos e testaremos com 540 elementos.\n"
          ],
          "name": "stdout"
        }
      ]
    },
    {
      "cell_type": "code",
      "metadata": {
        "id": "X6mOTeBx9md2",
        "outputId": "0775d1ff-5c0a-483c-c5ad-b25b4ce3f8a8",
        "colab": {
          "base_uri": "https://localhost:8080/"
        }
      },
      "source": [
        "# Importando sklearn\n",
        "from sklearn.svm import LinearSVC\n",
        "from sklearn.metrics import accuracy_score\n",
        "\n",
        "# Criando modelo\n",
        "modelo = LinearSVC()\n",
        "\n",
        "# Treinando o robô\n",
        "modelo.fit(treino_x,treino_y.values.ravel())\n",
        "\n",
        "previsoes = modelo.predict(teste_x)\n",
        "previsoes.shape[0]\n",
        "\n",
        "# Método 02 para taxa de acerto\n",
        "taxa_de_acerto = accuracy_score(teste_y, previsoes)*100\n",
        "\n",
        "print(\"O acerto foi de: %.2f\" % taxa_de_acerto,'%' )"
      ],
      "execution_count": 7,
      "outputs": [
        {
          "output_type": "stream",
          "text": [
            "O acerto foi de: 54.44 %\n"
          ],
          "name": "stdout"
        },
        {
          "output_type": "stream",
          "text": [
            "/usr/local/lib/python3.6/dist-packages/sklearn/svm/_base.py:947: ConvergenceWarning: Liblinear failed to converge, increase the number of iterations.\n",
            "  \"the number of iterations.\", ConvergenceWarning)\n"
          ],
          "name": "stderr"
        }
      ]
    },
    {
      "cell_type": "markdown",
      "metadata": {
        "id": "Dr9YUthL_wMh"
      },
      "source": [
        "### Criando baseline"
      ]
    },
    {
      "cell_type": "code",
      "metadata": {
        "id": "UTkNzisk-_8D",
        "outputId": "d3d84ca2-8d59-4f6c-fa09-f890085fecd1",
        "colab": {
          "base_uri": "https://localhost:8080/"
        }
      },
      "source": [
        "import numpy as np\n",
        "previsao_de_base = np.ones(540)\n",
        "\n",
        "# Método 02 para taxa de acerto\n",
        "taxa_de_acerto = accuracy_score(teste_y, previsao)*100\n",
        "\n",
        "print(\"O baseline foi de: %.2f\" % taxa_de_acerto,'%' )"
      ],
      "execution_count": 12,
      "outputs": [
        {
          "output_type": "stream",
          "text": [
            "O baseline foi de: 52.59 %\n"
          ],
          "name": "stdout"
        }
      ]
    },
    {
      "cell_type": "markdown",
      "metadata": {
        "id": "6j7MwgrXGtWs"
      },
      "source": [
        "### Visualizando dados"
      ]
    },
    {
      "cell_type": "code",
      "metadata": {
        "id": "tlJ4CQzi_vEd",
        "outputId": "06881c87-748a-434e-bbde-0e7913ce613c",
        "colab": {
          "base_uri": "https://localhost:8080/",
          "height": 280
        }
      },
      "source": [
        "import seaborn as sns\n",
        "\n",
        "sns.scatterplot(x='horas_esperadas', y='preco', hue = teste_y.values.ravel(), data= teste_x)\n",
        "\n",
        "x_min = teste_x.horas_esperadas.min()\n",
        "x_max = teste_x.horas_esperadas.max()\n",
        "\n",
        "y_min = teste_x.preco.min()\n",
        "y_max = teste_x.preco.max()\n"
      ],
      "execution_count": 26,
      "outputs": [
        {
          "output_type": "display_data",
          "data": {
            "image/png": "[encoded data removed]",
            "text/plain": [
              "<Figure size 432x288 with 1 Axes>"
            ]
          },
          "metadata": {
            "tags": [],
            "needs_background": "light"
          }
        }
      ]
    },
    {
      "cell_type": "code",
      "metadata": {
        "id": "_8QVfm8ZCpio",
        "outputId": "726b8c7f-125d-46d3-8d14-14760936b353",
        "colab": {
          "base_uri": "https://localhost:8080/"
        }
      },
      "source": [
        "pixels = 100\n",
        "\n",
        "eixo_x = np.arange(x_min, x_max, ( x_max - x_min ) / pixels)\n",
        "eixo_y = np.arange(y_min, y_max, ( y_max - y_min ) / pixels)\n",
        "\n",
        "xx, yy = np.meshgrid(eixo_x,eixo_y)\n",
        "\n",
        "pontos = np.c_[xx.ravel(),yy.ravel()]\n",
        "\n",
        "Z = modelo.predict(pontos)\n",
        "\n",
        "Z.reshape(xx.shape)\n",
        "Z"
      ],
      "execution_count": 50,
      "outputs": [
        {
          "output_type": "execute_result",
          "data": {
            "text/plain": [
              "array([0, 0, 0, ..., 1, 1, 1])"
            ]
          },
          "metadata": {
            "tags": []
          },
          "execution_count": 50
        }
      ]
    },
    {
      "cell_type": "code",
      "metadata": {
        "id": "7FUFx_XoEccE",
        "outputId": "fa170196-f2ec-41b5-dddb-68ff442680a5",
        "colab": {
          "base_uri": "https://localhost:8080/",
          "height": 282
        }
      },
      "source": [
        "import matplotlib.pyplot as plt\n",
        "\n",
        "plt.scatter(teste_x.horas_esperadas, teste_x.preco, c= teste_y.values, s= 1.4)"
      ],
      "execution_count": 53,
      "outputs": [
        {
          "output_type": "execute_result",
          "data": {
            "text/plain": [
              "<matplotlib.collections.PathCollection at 0x7fb7f9e9a630>"
            ]
          },
          "metadata": {
            "tags": []
          },
          "execution_count": 53
        },
        {
          "output_type": "display_data",
          "data": {
            "image/png": "[encoded data removed]",
            "text/plain": [
              "<Figure size 432x288 with 1 Axes>"
            ]
          },
          "metadata": {
            "tags": [],
            "needs_background": "light"
          }
        }
      ]
    }
  ]
}