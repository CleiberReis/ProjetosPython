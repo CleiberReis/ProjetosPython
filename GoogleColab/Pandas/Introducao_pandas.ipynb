{
  "nbformat": 4,
  "nbformat_minor": 0,
  "metadata": {
    "colab": {
      "name": "Introducao_pandas.ipynb",
      "provenance": [],
      "authorship_tag": "ABX9TyMeLu4fgPdmoGYzMk2ejoBC",
      "include_colab_link": true
    },
    "kernelspec": {
      "name": "python3",
      "display_name": "Python 3"
    }
  },
  "cells": [
    {
      "cell_type": "markdown",
      "metadata": {
        "id": "view-in-github",
        "colab_type": "text"
      },
      "source": [
        "<a href=\"https://colab.research.google.com/github/gabrielvieiraf/ProjetosPython/blob/master/GoogleColab/Pandas/Introducao_pandas.ipynb\" target=\"_parent\"><img src=\"https://colab.research.google.com/assets/colab-badge.svg\" alt=\"Open In Colab\"/></a>"
      ]
    },
    {
      "cell_type": "markdown",
      "metadata": {
        "id": "9gXgAvcxvkh2"
      },
      "source": [
        "> # Introdução ao Pandas"
      ]
    },
    {
      "cell_type": "markdown",
      "metadata": {
        "id": "TrlvfEllvq6K"
      },
      "source": [
        "> ## Importando biblioteca mais comuns"
      ]
    },
    {
      "cell_type": "code",
      "metadata": {
        "id": "x3hTAmKVvnjK"
      },
      "source": [
        "import pandas as pd\n",
        "import matplotlib.pyplot as plt\n",
        "import numpy as np"
      ],
      "execution_count": 1,
      "outputs": []
    },
    {
      "cell_type": "markdown",
      "metadata": {
        "id": "5aBLZiXQwDia"
      },
      "source": [
        "> ## Criando Objetos"
      ]
    },
    {
      "cell_type": "markdown",
      "metadata": {
        "id": "yuj2SHlXwG2y"
      },
      "source": [
        "> ### Criando uma [```Series```](https://pandas.pydata.org/pandas-docs/stable/reference/api/pandas.Series.html) passando uma lista de valores, permitindo a criação de um index inteiro padrão\n",
        "\n",
        "Uso: ``` pandas.Series(data=None, index=None, dtype=None, name=None, copy=False, fastpath=False)```\n",
        "\n",
        "\n",
        "\n",
        "\n",
        "\n",
        "\n"
      ]
    },
    {
      "cell_type": "markdown",
      "metadata": {
        "id": "GOJHo18KArwh"
      },
      "source": [
        "Uma séries é uma lista de valores que possuem um index. O index  serve para ajudar a referenciar valores, nos permitindo acessá-los pelos seus rótulos.\n"
      ]
    },
    {
      "cell_type": "code",
      "metadata": {
        "colab": {
          "base_uri": "https://localhost:8080/",
          "height": 212
        },
        "id": "RLnwnzyiwGGY",
        "outputId": "1c9ff650-556a-4218-8b03-7b34ec16b880"
      },
      "source": [
        "lista_de_valores = [1,2,3,np.nan,5,6,7,8,9]\n",
        "serie = pd.Series(lista_de_valores)\n",
        "# Mostrando todos os valores dentro da nossa serie\n",
        "display(serie)\n",
        "\n",
        "print()\n",
        "\n",
        "# Mostrando no display apenas o valor do index 0\n",
        "display(serie[0])"
      ],
      "execution_count": 2,
      "outputs": [
        {
          "output_type": "display_data",
          "data": {
            "text/plain": [
              "0    1.0\n",
              "1    2.0\n",
              "2    3.0\n",
              "3    NaN\n",
              "4    5.0\n",
              "5    6.0\n",
              "6    7.0\n",
              "7    8.0\n",
              "8    9.0\n",
              "dtype: float64"
            ]
          },
          "metadata": {
            "tags": []
          }
        },
        {
          "output_type": "stream",
          "text": [
            "\n"
          ],
          "name": "stdout"
        },
        {
          "output_type": "display_data",
          "data": {
            "text/plain": [
              "1.0"
            ]
          },
          "metadata": {
            "tags": []
          }
        }
      ]
    },
    {
      "cell_type": "markdown",
      "metadata": {
        "id": "Rvap62xYzmNM"
      },
      "source": [
        "> ## Criando um [```DataFrame```](https://https://pandas.pydata.org/pandas-docs/stable/reference/api/pandas.DataFrame.html) passando um array numpy, com um índex datetime e colunas nomeadas\n",
        "\n",
        "uso : ```  pandas.DataFrame(data=None, index=None, columns=None, dtype=None, copy=False) ```\n"
      ]
    },
    {
      "cell_type": "code",
      "metadata": {
        "colab": {
          "base_uri": "https://localhost:8080/"
        },
        "id": "RQhEDICX0Szh",
        "outputId": "615d31a3-d068-4b3f-a38c-41d503a8bab0"
      },
      "source": [
        "datas = pd.date_range('20200201',periods=10)\n",
        "datas"
      ],
      "execution_count": 3,
      "outputs": [
        {
          "output_type": "execute_result",
          "data": {
            "text/plain": [
              "DatetimeIndex(['2020-02-01', '2020-02-02', '2020-02-03', '2020-02-04',\n",
              "               '2020-02-05', '2020-02-06', '2020-02-07', '2020-02-08',\n",
              "               '2020-02-09', '2020-02-10'],\n",
              "              dtype='datetime64[ns]', freq='D')"
            ]
          },
          "metadata": {
            "tags": []
          },
          "execution_count": 3
        }
      ]
    },
    {
      "cell_type": "code",
      "metadata": {
        "colab": {
          "base_uri": "https://localhost:8080/",
          "height": 335
        },
        "id": "yTm1oywr0kqS",
        "outputId": "4e09d9d5-f233-4742-abb7-7155e8400a66"
      },
      "source": [
        "lista_colunas = ['Coluna_1','Coluna_2','Coluna_3','Coluna_4','Coluna_5','Coluna_6']\n",
        "df = pd.DataFrame(np.random.randn(10,6), index=datas, columns= lista_colunas)\n",
        "df"
      ],
      "execution_count": 4,
      "outputs": [
        {
          "output_type": "execute_result",
          "data": {
            "text/html": [
              "<div>\n",
              "<style scoped>\n",
              "    .dataframe tbody tr th:only-of-type {\n",
              "        vertical-align: middle;\n",
              "    }\n",
              "\n",
              "    .dataframe tbody tr th {\n",
              "        vertical-align: top;\n",
              "    }\n",
              "\n",
              "    .dataframe thead th {\n",
              "        text-align: right;\n",
              "    }\n",
              "</style>\n",
              "<table border=\"1\" class=\"dataframe\">\n",
              "  <thead>\n",
              "    <tr style=\"text-align: right;\">\n",
              "      <th></th>\n",
              "      <th>Coluna_1</th>\n",
              "      <th>Coluna_2</th>\n",
              "      <th>Coluna_3</th>\n",
              "      <th>Coluna_4</th>\n",
              "      <th>Coluna_5</th>\n",
              "      <th>Coluna_6</th>\n",
              "    </tr>\n",
              "  </thead>\n",
              "  <tbody>\n",
              "    <tr>\n",
              "      <th>2020-02-01</th>\n",
              "      <td>-0.289619</td>\n",
              "      <td>-1.763019</td>\n",
              "      <td>0.645946</td>\n",
              "      <td>-0.297356</td>\n",
              "      <td>1.562807</td>\n",
              "      <td>2.359756</td>\n",
              "    </tr>\n",
              "    <tr>\n",
              "      <th>2020-02-02</th>\n",
              "      <td>-0.065921</td>\n",
              "      <td>0.103278</td>\n",
              "      <td>-1.698709</td>\n",
              "      <td>-0.370761</td>\n",
              "      <td>2.099022</td>\n",
              "      <td>2.001117</td>\n",
              "    </tr>\n",
              "    <tr>\n",
              "      <th>2020-02-03</th>\n",
              "      <td>0.169227</td>\n",
              "      <td>-0.525319</td>\n",
              "      <td>-1.255965</td>\n",
              "      <td>1.495975</td>\n",
              "      <td>-0.062286</td>\n",
              "      <td>0.291526</td>\n",
              "    </tr>\n",
              "    <tr>\n",
              "      <th>2020-02-04</th>\n",
              "      <td>-1.204275</td>\n",
              "      <td>-1.525250</td>\n",
              "      <td>-0.153588</td>\n",
              "      <td>-2.128064</td>\n",
              "      <td>1.294407</td>\n",
              "      <td>-1.598468</td>\n",
              "    </tr>\n",
              "    <tr>\n",
              "      <th>2020-02-05</th>\n",
              "      <td>1.374545</td>\n",
              "      <td>0.523885</td>\n",
              "      <td>-0.922959</td>\n",
              "      <td>-0.942346</td>\n",
              "      <td>-0.899317</td>\n",
              "      <td>0.211526</td>\n",
              "    </tr>\n",
              "    <tr>\n",
              "      <th>2020-02-06</th>\n",
              "      <td>0.764156</td>\n",
              "      <td>1.039352</td>\n",
              "      <td>-0.880943</td>\n",
              "      <td>-0.730071</td>\n",
              "      <td>-0.967862</td>\n",
              "      <td>2.091847</td>\n",
              "    </tr>\n",
              "    <tr>\n",
              "      <th>2020-02-07</th>\n",
              "      <td>1.642094</td>\n",
              "      <td>1.029290</td>\n",
              "      <td>0.262801</td>\n",
              "      <td>0.598830</td>\n",
              "      <td>0.176675</td>\n",
              "      <td>-0.508796</td>\n",
              "    </tr>\n",
              "    <tr>\n",
              "      <th>2020-02-08</th>\n",
              "      <td>-1.099962</td>\n",
              "      <td>0.215155</td>\n",
              "      <td>-0.437886</td>\n",
              "      <td>0.992226</td>\n",
              "      <td>0.993246</td>\n",
              "      <td>0.288808</td>\n",
              "    </tr>\n",
              "    <tr>\n",
              "      <th>2020-02-09</th>\n",
              "      <td>0.655818</td>\n",
              "      <td>0.695256</td>\n",
              "      <td>-1.859091</td>\n",
              "      <td>-0.412978</td>\n",
              "      <td>-0.601338</td>\n",
              "      <td>-1.048222</td>\n",
              "    </tr>\n",
              "    <tr>\n",
              "      <th>2020-02-10</th>\n",
              "      <td>-0.120044</td>\n",
              "      <td>-0.110786</td>\n",
              "      <td>-1.211694</td>\n",
              "      <td>-1.234215</td>\n",
              "      <td>0.249510</td>\n",
              "      <td>0.265677</td>\n",
              "    </tr>\n",
              "  </tbody>\n",
              "</table>\n",
              "</div>"
            ],
            "text/plain": [
              "            Coluna_1  Coluna_2  Coluna_3  Coluna_4  Coluna_5  Coluna_6\n",
              "2020-02-01 -0.289619 -1.763019  0.645946 -0.297356  1.562807  2.359756\n",
              "2020-02-02 -0.065921  0.103278 -1.698709 -0.370761  2.099022  2.001117\n",
              "2020-02-03  0.169227 -0.525319 -1.255965  1.495975 -0.062286  0.291526\n",
              "2020-02-04 -1.204275 -1.525250 -0.153588 -2.128064  1.294407 -1.598468\n",
              "2020-02-05  1.374545  0.523885 -0.922959 -0.942346 -0.899317  0.211526\n",
              "2020-02-06  0.764156  1.039352 -0.880943 -0.730071 -0.967862  2.091847\n",
              "2020-02-07  1.642094  1.029290  0.262801  0.598830  0.176675 -0.508796\n",
              "2020-02-08 -1.099962  0.215155 -0.437886  0.992226  0.993246  0.288808\n",
              "2020-02-09  0.655818  0.695256 -1.859091 -0.412978 -0.601338 -1.048222\n",
              "2020-02-10 -0.120044 -0.110786 -1.211694 -1.234215  0.249510  0.265677"
            ]
          },
          "metadata": {
            "tags": []
          },
          "execution_count": 4
        }
      ]
    },
    {
      "cell_type": "markdown",
      "metadata": {
        "id": "_FvqrWRz10eK"
      },
      "source": [
        "> ## Criando um ```DataFrame``` passando um dicionário de objetos que podem ser convertido em ```Series```."
      ]
    },
    {
      "cell_type": "code",
      "metadata": {
        "colab": {
          "base_uri": "https://localhost:8080/",
          "height": 335
        },
        "id": "w6bK1qwS1_i0",
        "outputId": "d96f4d55-372c-436e-8392-3f9bf4ea7866"
      },
      "source": [
        "dic = { 'Coluna_1': pd.date_range('20200201',periods=10),\n",
        "        'Coluna_2': pd.Series(np.random.randn(10),index=list(range(10)),\n",
        "                              dtype='float32'),\n",
        "        'Coluna_3': pd.Categorical([\"teste\",\"treino\",\"teste\",\"treino\",\n",
        "                                    \"teste\",\"treino\",\"teste\",\"treino\",\n",
        "                                    \"teste\",\"treino\"])\n",
        "}\n",
        "df_2 = pd.DataFrame(dic)\n",
        "df_2"
      ],
      "execution_count": 5,
      "outputs": [
        {
          "output_type": "execute_result",
          "data": {
            "text/html": [
              "<div>\n",
              "<style scoped>\n",
              "    .dataframe tbody tr th:only-of-type {\n",
              "        vertical-align: middle;\n",
              "    }\n",
              "\n",
              "    .dataframe tbody tr th {\n",
              "        vertical-align: top;\n",
              "    }\n",
              "\n",
              "    .dataframe thead th {\n",
              "        text-align: right;\n",
              "    }\n",
              "</style>\n",
              "<table border=\"1\" class=\"dataframe\">\n",
              "  <thead>\n",
              "    <tr style=\"text-align: right;\">\n",
              "      <th></th>\n",
              "      <th>Coluna_1</th>\n",
              "      <th>Coluna_2</th>\n",
              "      <th>Coluna_3</th>\n",
              "    </tr>\n",
              "  </thead>\n",
              "  <tbody>\n",
              "    <tr>\n",
              "      <th>0</th>\n",
              "      <td>2020-02-01</td>\n",
              "      <td>-0.380843</td>\n",
              "      <td>teste</td>\n",
              "    </tr>\n",
              "    <tr>\n",
              "      <th>1</th>\n",
              "      <td>2020-02-02</td>\n",
              "      <td>-1.043489</td>\n",
              "      <td>treino</td>\n",
              "    </tr>\n",
              "    <tr>\n",
              "      <th>2</th>\n",
              "      <td>2020-02-03</td>\n",
              "      <td>-1.430312</td>\n",
              "      <td>teste</td>\n",
              "    </tr>\n",
              "    <tr>\n",
              "      <th>3</th>\n",
              "      <td>2020-02-04</td>\n",
              "      <td>-0.305398</td>\n",
              "      <td>treino</td>\n",
              "    </tr>\n",
              "    <tr>\n",
              "      <th>4</th>\n",
              "      <td>2020-02-05</td>\n",
              "      <td>1.747468</td>\n",
              "      <td>teste</td>\n",
              "    </tr>\n",
              "    <tr>\n",
              "      <th>5</th>\n",
              "      <td>2020-02-06</td>\n",
              "      <td>1.352453</td>\n",
              "      <td>treino</td>\n",
              "    </tr>\n",
              "    <tr>\n",
              "      <th>6</th>\n",
              "      <td>2020-02-07</td>\n",
              "      <td>0.232247</td>\n",
              "      <td>teste</td>\n",
              "    </tr>\n",
              "    <tr>\n",
              "      <th>7</th>\n",
              "      <td>2020-02-08</td>\n",
              "      <td>0.367277</td>\n",
              "      <td>treino</td>\n",
              "    </tr>\n",
              "    <tr>\n",
              "      <th>8</th>\n",
              "      <td>2020-02-09</td>\n",
              "      <td>0.049926</td>\n",
              "      <td>teste</td>\n",
              "    </tr>\n",
              "    <tr>\n",
              "      <th>9</th>\n",
              "      <td>2020-02-10</td>\n",
              "      <td>-0.501801</td>\n",
              "      <td>treino</td>\n",
              "    </tr>\n",
              "  </tbody>\n",
              "</table>\n",
              "</div>"
            ],
            "text/plain": [
              "    Coluna_1  Coluna_2 Coluna_3\n",
              "0 2020-02-01 -0.380843    teste\n",
              "1 2020-02-02 -1.043489   treino\n",
              "2 2020-02-03 -1.430312    teste\n",
              "3 2020-02-04 -0.305398   treino\n",
              "4 2020-02-05  1.747468    teste\n",
              "5 2020-02-06  1.352453   treino\n",
              "6 2020-02-07  0.232247    teste\n",
              "7 2020-02-08  0.367277   treino\n",
              "8 2020-02-09  0.049926    teste\n",
              "9 2020-02-10 -0.501801   treino"
            ]
          },
          "metadata": {
            "tags": []
          },
          "execution_count": 5
        }
      ]
    },
    {
      "cell_type": "markdown",
      "metadata": {
        "id": "V2TgV_Lt56Kp"
      },
      "source": [
        "> ### Observe que as colunas possuem diferentes [```dtypes```](https://pandas.pydata.org/pandas-docs/stable/user_guide/basics.html)\n",
        "\n",
        "---\n",
        "\n"
      ]
    },
    {
      "cell_type": "code",
      "metadata": {
        "colab": {
          "base_uri": "https://localhost:8080/"
        },
        "id": "sTi1BGEq5rov",
        "outputId": "5f1651d9-361b-4028-a738-6d94235fd553"
      },
      "source": [
        "df_2.dtypes"
      ],
      "execution_count": 6,
      "outputs": [
        {
          "output_type": "execute_result",
          "data": {
            "text/plain": [
              "Coluna_1    datetime64[ns]\n",
              "Coluna_2           float32\n",
              "Coluna_3          category\n",
              "dtype: object"
            ]
          },
          "metadata": {
            "tags": []
          },
          "execution_count": 6
        }
      ]
    },
    {
      "cell_type": "markdown",
      "metadata": {
        "id": "d5mzxOOi8eQo"
      },
      "source": [
        "> ## ```head()``` e ```tail()``` de um ```DataFrame``` ou de uma ```Series``` \n"
      ]
    },
    {
      "cell_type": "markdown",
      "metadata": {
        "id": "onDC8LPi8w1Q"
      },
      "source": [
        "Podemos usar uma pequena amostra de um objeto Series ou DataFrame usando os métodos ```head()``` e ```tail()```.\n",
        "O número padrão de elementos a serem exibidos é cinco, mas você pode passar um número personalizado.\n",
        "Vamos aos exemplos:"
      ]
    },
    {
      "cell_type": "markdown",
      "metadata": {
        "id": "gEn1UCRu-161"
      },
      "source": [
        "> ###  Head, do inglês \"Cabeça\", permite com que você pegue os primeiros elementos de uma ```Series``` ou ```DataFrame```. "
      ]
    },
    {
      "cell_type": "code",
      "metadata": {
        "colab": {
          "base_uri": "https://localhost:8080/",
          "height": 0
        },
        "id": "rg6xm77O8Tdj",
        "outputId": "e2376cb4-f933-4026-c27c-393d36a0f7cf"
      },
      "source": [
        "df_2.head()"
      ],
      "execution_count": 7,
      "outputs": [
        {
          "output_type": "execute_result",
          "data": {
            "text/html": [
              "<div>\n",
              "<style scoped>\n",
              "    .dataframe tbody tr th:only-of-type {\n",
              "        vertical-align: middle;\n",
              "    }\n",
              "\n",
              "    .dataframe tbody tr th {\n",
              "        vertical-align: top;\n",
              "    }\n",
              "\n",
              "    .dataframe thead th {\n",
              "        text-align: right;\n",
              "    }\n",
              "</style>\n",
              "<table border=\"1\" class=\"dataframe\">\n",
              "  <thead>\n",
              "    <tr style=\"text-align: right;\">\n",
              "      <th></th>\n",
              "      <th>Coluna_1</th>\n",
              "      <th>Coluna_2</th>\n",
              "      <th>Coluna_3</th>\n",
              "    </tr>\n",
              "  </thead>\n",
              "  <tbody>\n",
              "    <tr>\n",
              "      <th>0</th>\n",
              "      <td>2020-02-01</td>\n",
              "      <td>-0.380843</td>\n",
              "      <td>teste</td>\n",
              "    </tr>\n",
              "    <tr>\n",
              "      <th>1</th>\n",
              "      <td>2020-02-02</td>\n",
              "      <td>-1.043489</td>\n",
              "      <td>treino</td>\n",
              "    </tr>\n",
              "    <tr>\n",
              "      <th>2</th>\n",
              "      <td>2020-02-03</td>\n",
              "      <td>-1.430312</td>\n",
              "      <td>teste</td>\n",
              "    </tr>\n",
              "    <tr>\n",
              "      <th>3</th>\n",
              "      <td>2020-02-04</td>\n",
              "      <td>-0.305398</td>\n",
              "      <td>treino</td>\n",
              "    </tr>\n",
              "    <tr>\n",
              "      <th>4</th>\n",
              "      <td>2020-02-05</td>\n",
              "      <td>1.747468</td>\n",
              "      <td>teste</td>\n",
              "    </tr>\n",
              "  </tbody>\n",
              "</table>\n",
              "</div>"
            ],
            "text/plain": [
              "    Coluna_1  Coluna_2 Coluna_3\n",
              "0 2020-02-01 -0.380843    teste\n",
              "1 2020-02-02 -1.043489   treino\n",
              "2 2020-02-03 -1.430312    teste\n",
              "3 2020-02-04 -0.305398   treino\n",
              "4 2020-02-05  1.747468    teste"
            ]
          },
          "metadata": {
            "tags": []
          },
          "execution_count": 7
        }
      ]
    },
    {
      "cell_type": "markdown",
      "metadata": {
        "id": "2xNrh4jp_MIC"
      },
      "source": [
        "> ###  Como visto, o parâmetro padrão é 5, mas podemos pegar mais ou menos linhas se desejarmos."
      ]
    },
    {
      "cell_type": "code",
      "metadata": {
        "colab": {
          "base_uri": "https://localhost:8080/",
          "height": 0
        },
        "id": "wBIKruD6_WXs",
        "outputId": "6e4946b1-aeab-491b-d779-d9a05c9d2dcc"
      },
      "source": [
        "display(df_2.head(1))\n",
        "print()\n",
        "display(df_2.head(2))\n",
        "print()\n",
        "display(df_2.head(3))"
      ],
      "execution_count": 8,
      "outputs": [
        {
          "output_type": "display_data",
          "data": {
            "text/html": [
              "<div>\n",
              "<style scoped>\n",
              "    .dataframe tbody tr th:only-of-type {\n",
              "        vertical-align: middle;\n",
              "    }\n",
              "\n",
              "    .dataframe tbody tr th {\n",
              "        vertical-align: top;\n",
              "    }\n",
              "\n",
              "    .dataframe thead th {\n",
              "        text-align: right;\n",
              "    }\n",
              "</style>\n",
              "<table border=\"1\" class=\"dataframe\">\n",
              "  <thead>\n",
              "    <tr style=\"text-align: right;\">\n",
              "      <th></th>\n",
              "      <th>Coluna_1</th>\n",
              "      <th>Coluna_2</th>\n",
              "      <th>Coluna_3</th>\n",
              "    </tr>\n",
              "  </thead>\n",
              "  <tbody>\n",
              "    <tr>\n",
              "      <th>0</th>\n",
              "      <td>2020-02-01</td>\n",
              "      <td>-0.380843</td>\n",
              "      <td>teste</td>\n",
              "    </tr>\n",
              "  </tbody>\n",
              "</table>\n",
              "</div>"
            ],
            "text/plain": [
              "    Coluna_1  Coluna_2 Coluna_3\n",
              "0 2020-02-01 -0.380843    teste"
            ]
          },
          "metadata": {
            "tags": []
          }
        },
        {
          "output_type": "stream",
          "text": [
            "\n"
          ],
          "name": "stdout"
        },
        {
          "output_type": "display_data",
          "data": {
            "text/html": [
              "<div>\n",
              "<style scoped>\n",
              "    .dataframe tbody tr th:only-of-type {\n",
              "        vertical-align: middle;\n",
              "    }\n",
              "\n",
              "    .dataframe tbody tr th {\n",
              "        vertical-align: top;\n",
              "    }\n",
              "\n",
              "    .dataframe thead th {\n",
              "        text-align: right;\n",
              "    }\n",
              "</style>\n",
              "<table border=\"1\" class=\"dataframe\">\n",
              "  <thead>\n",
              "    <tr style=\"text-align: right;\">\n",
              "      <th></th>\n",
              "      <th>Coluna_1</th>\n",
              "      <th>Coluna_2</th>\n",
              "      <th>Coluna_3</th>\n",
              "    </tr>\n",
              "  </thead>\n",
              "  <tbody>\n",
              "    <tr>\n",
              "      <th>0</th>\n",
              "      <td>2020-02-01</td>\n",
              "      <td>-0.380843</td>\n",
              "      <td>teste</td>\n",
              "    </tr>\n",
              "    <tr>\n",
              "      <th>1</th>\n",
              "      <td>2020-02-02</td>\n",
              "      <td>-1.043489</td>\n",
              "      <td>treino</td>\n",
              "    </tr>\n",
              "  </tbody>\n",
              "</table>\n",
              "</div>"
            ],
            "text/plain": [
              "    Coluna_1  Coluna_2 Coluna_3\n",
              "0 2020-02-01 -0.380843    teste\n",
              "1 2020-02-02 -1.043489   treino"
            ]
          },
          "metadata": {
            "tags": []
          }
        },
        {
          "output_type": "stream",
          "text": [
            "\n"
          ],
          "name": "stdout"
        },
        {
          "output_type": "display_data",
          "data": {
            "text/html": [
              "<div>\n",
              "<style scoped>\n",
              "    .dataframe tbody tr th:only-of-type {\n",
              "        vertical-align: middle;\n",
              "    }\n",
              "\n",
              "    .dataframe tbody tr th {\n",
              "        vertical-align: top;\n",
              "    }\n",
              "\n",
              "    .dataframe thead th {\n",
              "        text-align: right;\n",
              "    }\n",
              "</style>\n",
              "<table border=\"1\" class=\"dataframe\">\n",
              "  <thead>\n",
              "    <tr style=\"text-align: right;\">\n",
              "      <th></th>\n",
              "      <th>Coluna_1</th>\n",
              "      <th>Coluna_2</th>\n",
              "      <th>Coluna_3</th>\n",
              "    </tr>\n",
              "  </thead>\n",
              "  <tbody>\n",
              "    <tr>\n",
              "      <th>0</th>\n",
              "      <td>2020-02-01</td>\n",
              "      <td>-0.380843</td>\n",
              "      <td>teste</td>\n",
              "    </tr>\n",
              "    <tr>\n",
              "      <th>1</th>\n",
              "      <td>2020-02-02</td>\n",
              "      <td>-1.043489</td>\n",
              "      <td>treino</td>\n",
              "    </tr>\n",
              "    <tr>\n",
              "      <th>2</th>\n",
              "      <td>2020-02-03</td>\n",
              "      <td>-1.430312</td>\n",
              "      <td>teste</td>\n",
              "    </tr>\n",
              "  </tbody>\n",
              "</table>\n",
              "</div>"
            ],
            "text/plain": [
              "    Coluna_1  Coluna_2 Coluna_3\n",
              "0 2020-02-01 -0.380843    teste\n",
              "1 2020-02-02 -1.043489   treino\n",
              "2 2020-02-03 -1.430312    teste"
            ]
          },
          "metadata": {
            "tags": []
          }
        }
      ]
    },
    {
      "cell_type": "markdown",
      "metadata": {
        "id": "CLhtoOmnCzQG"
      },
      "source": [
        "> ### Tail, do inglês \"Calda\", permite com que você pegue os primeiros elementos de uma ```Series``` ou ```DataFrame```"
      ]
    },
    {
      "cell_type": "code",
      "metadata": {
        "colab": {
          "base_uri": "https://localhost:8080/",
          "height": 0
        },
        "id": "Bm1fTqyDC-zX",
        "outputId": "5df3b421-e4a4-482e-dbee-29d1f832c1eb"
      },
      "source": [
        "display(df_2.tail(1))\n",
        "print()\n",
        "display(df_2.tail(2))\n",
        "print()\n",
        "display(df_2.tail(3))"
      ],
      "execution_count": 9,
      "outputs": [
        {
          "output_type": "display_data",
          "data": {
            "text/html": [
              "<div>\n",
              "<style scoped>\n",
              "    .dataframe tbody tr th:only-of-type {\n",
              "        vertical-align: middle;\n",
              "    }\n",
              "\n",
              "    .dataframe tbody tr th {\n",
              "        vertical-align: top;\n",
              "    }\n",
              "\n",
              "    .dataframe thead th {\n",
              "        text-align: right;\n",
              "    }\n",
              "</style>\n",
              "<table border=\"1\" class=\"dataframe\">\n",
              "  <thead>\n",
              "    <tr style=\"text-align: right;\">\n",
              "      <th></th>\n",
              "      <th>Coluna_1</th>\n",
              "      <th>Coluna_2</th>\n",
              "      <th>Coluna_3</th>\n",
              "    </tr>\n",
              "  </thead>\n",
              "  <tbody>\n",
              "    <tr>\n",
              "      <th>9</th>\n",
              "      <td>2020-02-10</td>\n",
              "      <td>-0.501801</td>\n",
              "      <td>treino</td>\n",
              "    </tr>\n",
              "  </tbody>\n",
              "</table>\n",
              "</div>"
            ],
            "text/plain": [
              "    Coluna_1  Coluna_2 Coluna_3\n",
              "9 2020-02-10 -0.501801   treino"
            ]
          },
          "metadata": {
            "tags": []
          }
        },
        {
          "output_type": "stream",
          "text": [
            "\n"
          ],
          "name": "stdout"
        },
        {
          "output_type": "display_data",
          "data": {
            "text/html": [
              "<div>\n",
              "<style scoped>\n",
              "    .dataframe tbody tr th:only-of-type {\n",
              "        vertical-align: middle;\n",
              "    }\n",
              "\n",
              "    .dataframe tbody tr th {\n",
              "        vertical-align: top;\n",
              "    }\n",
              "\n",
              "    .dataframe thead th {\n",
              "        text-align: right;\n",
              "    }\n",
              "</style>\n",
              "<table border=\"1\" class=\"dataframe\">\n",
              "  <thead>\n",
              "    <tr style=\"text-align: right;\">\n",
              "      <th></th>\n",
              "      <th>Coluna_1</th>\n",
              "      <th>Coluna_2</th>\n",
              "      <th>Coluna_3</th>\n",
              "    </tr>\n",
              "  </thead>\n",
              "  <tbody>\n",
              "    <tr>\n",
              "      <th>8</th>\n",
              "      <td>2020-02-09</td>\n",
              "      <td>0.049926</td>\n",
              "      <td>teste</td>\n",
              "    </tr>\n",
              "    <tr>\n",
              "      <th>9</th>\n",
              "      <td>2020-02-10</td>\n",
              "      <td>-0.501801</td>\n",
              "      <td>treino</td>\n",
              "    </tr>\n",
              "  </tbody>\n",
              "</table>\n",
              "</div>"
            ],
            "text/plain": [
              "    Coluna_1  Coluna_2 Coluna_3\n",
              "8 2020-02-09  0.049926    teste\n",
              "9 2020-02-10 -0.501801   treino"
            ]
          },
          "metadata": {
            "tags": []
          }
        },
        {
          "output_type": "stream",
          "text": [
            "\n"
          ],
          "name": "stdout"
        },
        {
          "output_type": "display_data",
          "data": {
            "text/html": [
              "<div>\n",
              "<style scoped>\n",
              "    .dataframe tbody tr th:only-of-type {\n",
              "        vertical-align: middle;\n",
              "    }\n",
              "\n",
              "    .dataframe tbody tr th {\n",
              "        vertical-align: top;\n",
              "    }\n",
              "\n",
              "    .dataframe thead th {\n",
              "        text-align: right;\n",
              "    }\n",
              "</style>\n",
              "<table border=\"1\" class=\"dataframe\">\n",
              "  <thead>\n",
              "    <tr style=\"text-align: right;\">\n",
              "      <th></th>\n",
              "      <th>Coluna_1</th>\n",
              "      <th>Coluna_2</th>\n",
              "      <th>Coluna_3</th>\n",
              "    </tr>\n",
              "  </thead>\n",
              "  <tbody>\n",
              "    <tr>\n",
              "      <th>7</th>\n",
              "      <td>2020-02-08</td>\n",
              "      <td>0.367277</td>\n",
              "      <td>treino</td>\n",
              "    </tr>\n",
              "    <tr>\n",
              "      <th>8</th>\n",
              "      <td>2020-02-09</td>\n",
              "      <td>0.049926</td>\n",
              "      <td>teste</td>\n",
              "    </tr>\n",
              "    <tr>\n",
              "      <th>9</th>\n",
              "      <td>2020-02-10</td>\n",
              "      <td>-0.501801</td>\n",
              "      <td>treino</td>\n",
              "    </tr>\n",
              "  </tbody>\n",
              "</table>\n",
              "</div>"
            ],
            "text/plain": [
              "    Coluna_1  Coluna_2 Coluna_3\n",
              "7 2020-02-08  0.367277   treino\n",
              "8 2020-02-09  0.049926    teste\n",
              "9 2020-02-10 -0.501801   treino"
            ]
          },
          "metadata": {
            "tags": []
          }
        }
      ]
    },
    {
      "cell_type": "markdown",
      "metadata": {
        "id": "KYzkTh8HDh0i"
      },
      "source": [
        "> ## Podemos utilizar o [```Describe()```](https://pandas.pydata.org/pandas-docs/stable/reference/api/pandas.DataFrame.describe.html) para verificar algumas estatísticas de nosso  ```DataFrame```:\n",
        "\n",
        "\n",
        "Uso:  ```DataFrame.describe(percentiles=None, include=None, exclude=None)```\n"
      ]
    },
    {
      "cell_type": "markdown",
      "metadata": {
        "id": "eEVJyVkf5-So"
      },
      "source": [
        "\n",
        "### Parâmetros:\n",
        "\n",
        "\n",
        "\n",
        "*  percentiles --> Lista como tipo de dados de números entre 0-1 para retornar o percentual;\n",
        "\n",
        "*  include --> Lista de tipos de dados a serem incluídos ao descrever o dataframe. O padrão é ```None```;\n",
        "\n",
        "*  exclude -->Lista de tipos de dados a serem excluídos ao descrever o dataframe. O padrão é ```None```;\n",
        "\n",
        "\n",
        "### Por padrão, temos o seguinte retorno:\n",
        "\n",
        "*   Numero de valores\n",
        "*   Média\n",
        "*   Desvio Padrão\n",
        "*   Valor minimo\n",
        "*   25 % dos dados\n",
        "*   50 % dos dados\n",
        "*   75 % dos dados\n",
        "*   Valor máximo\n"
      ]
    },
    {
      "cell_type": "code",
      "metadata": {
        "colab": {
          "base_uri": "https://localhost:8080/",
          "height": 277
        },
        "id": "yuHXokiFDkRd",
        "outputId": "17241cce-bd14-4605-ba1c-c0d6ae86b0b0"
      },
      "source": [
        " df_2.describe()"
      ],
      "execution_count": 10,
      "outputs": [
        {
          "output_type": "execute_result",
          "data": {
            "text/html": [
              "<div>\n",
              "<style scoped>\n",
              "    .dataframe tbody tr th:only-of-type {\n",
              "        vertical-align: middle;\n",
              "    }\n",
              "\n",
              "    .dataframe tbody tr th {\n",
              "        vertical-align: top;\n",
              "    }\n",
              "\n",
              "    .dataframe thead th {\n",
              "        text-align: right;\n",
              "    }\n",
              "</style>\n",
              "<table border=\"1\" class=\"dataframe\">\n",
              "  <thead>\n",
              "    <tr style=\"text-align: right;\">\n",
              "      <th></th>\n",
              "      <th>Coluna_2</th>\n",
              "    </tr>\n",
              "  </thead>\n",
              "  <tbody>\n",
              "    <tr>\n",
              "      <th>count</th>\n",
              "      <td>10.000000</td>\n",
              "    </tr>\n",
              "    <tr>\n",
              "      <th>mean</th>\n",
              "      <td>0.008753</td>\n",
              "    </tr>\n",
              "    <tr>\n",
              "      <th>std</th>\n",
              "      <td>0.983085</td>\n",
              "    </tr>\n",
              "    <tr>\n",
              "      <th>min</th>\n",
              "      <td>-1.430312</td>\n",
              "    </tr>\n",
              "    <tr>\n",
              "      <th>25%</th>\n",
              "      <td>-0.471562</td>\n",
              "    </tr>\n",
              "    <tr>\n",
              "      <th>50%</th>\n",
              "      <td>-0.127736</td>\n",
              "    </tr>\n",
              "    <tr>\n",
              "      <th>75%</th>\n",
              "      <td>0.333519</td>\n",
              "    </tr>\n",
              "    <tr>\n",
              "      <th>max</th>\n",
              "      <td>1.747468</td>\n",
              "    </tr>\n",
              "  </tbody>\n",
              "</table>\n",
              "</div>"
            ],
            "text/plain": [
              "        Coluna_2\n",
              "count  10.000000\n",
              "mean    0.008753\n",
              "std     0.983085\n",
              "min    -1.430312\n",
              "25%    -0.471562\n",
              "50%    -0.127736\n",
              "75%     0.333519\n",
              "max     1.747468"
            ]
          },
          "metadata": {
            "tags": []
          },
          "execution_count": 10
        }
      ]
    },
    {
      "cell_type": "markdown",
      "metadata": {
        "id": "kAdsaMAKw6H2"
      },
      "source": [
        "> ## Métodos de acesso de dados ```.at ``` ,```.loc``` e ```.iloc ```.\n",
        "\n",
        "\n"
      ]
    },
    {
      "cell_type": "markdown",
      "metadata": {
        "id": "tpy5ak2Jx0C5"
      },
      "source": [
        "> ### Selecionando apenas uma coluna de um ```DataFrame```"
      ]
    },
    {
      "cell_type": "code",
      "metadata": {
        "colab": {
          "base_uri": "https://localhost:8080/",
          "height": 0
        },
        "id": "qfGCVZzWxG6a",
        "outputId": "f00970d0-3ad3-4ff6-9eb1-fd0774d07459"
      },
      "source": [
        "df_2[['Coluna_3']]"
      ],
      "execution_count": 11,
      "outputs": [
        {
          "output_type": "execute_result",
          "data": {
            "text/html": [
              "<div>\n",
              "<style scoped>\n",
              "    .dataframe tbody tr th:only-of-type {\n",
              "        vertical-align: middle;\n",
              "    }\n",
              "\n",
              "    .dataframe tbody tr th {\n",
              "        vertical-align: top;\n",
              "    }\n",
              "\n",
              "    .dataframe thead th {\n",
              "        text-align: right;\n",
              "    }\n",
              "</style>\n",
              "<table border=\"1\" class=\"dataframe\">\n",
              "  <thead>\n",
              "    <tr style=\"text-align: right;\">\n",
              "      <th></th>\n",
              "      <th>Coluna_3</th>\n",
              "    </tr>\n",
              "  </thead>\n",
              "  <tbody>\n",
              "    <tr>\n",
              "      <th>0</th>\n",
              "      <td>teste</td>\n",
              "    </tr>\n",
              "    <tr>\n",
              "      <th>1</th>\n",
              "      <td>treino</td>\n",
              "    </tr>\n",
              "    <tr>\n",
              "      <th>2</th>\n",
              "      <td>teste</td>\n",
              "    </tr>\n",
              "    <tr>\n",
              "      <th>3</th>\n",
              "      <td>treino</td>\n",
              "    </tr>\n",
              "    <tr>\n",
              "      <th>4</th>\n",
              "      <td>teste</td>\n",
              "    </tr>\n",
              "    <tr>\n",
              "      <th>5</th>\n",
              "      <td>treino</td>\n",
              "    </tr>\n",
              "    <tr>\n",
              "      <th>6</th>\n",
              "      <td>teste</td>\n",
              "    </tr>\n",
              "    <tr>\n",
              "      <th>7</th>\n",
              "      <td>treino</td>\n",
              "    </tr>\n",
              "    <tr>\n",
              "      <th>8</th>\n",
              "      <td>teste</td>\n",
              "    </tr>\n",
              "    <tr>\n",
              "      <th>9</th>\n",
              "      <td>treino</td>\n",
              "    </tr>\n",
              "  </tbody>\n",
              "</table>\n",
              "</div>"
            ],
            "text/plain": [
              "  Coluna_3\n",
              "0    teste\n",
              "1   treino\n",
              "2    teste\n",
              "3   treino\n",
              "4    teste\n",
              "5   treino\n",
              "6    teste\n",
              "7   treino\n",
              "8    teste\n",
              "9   treino"
            ]
          },
          "metadata": {
            "tags": []
          },
          "execution_count": 11
        }
      ]
    },
    {
      "cell_type": "markdown",
      "metadata": {
        "id": "NTM2C0uPyX9T"
      },
      "source": [
        "> ### Selecionando via ```[   ]``` que corta as linhas"
      ]
    },
    {
      "cell_type": "code",
      "metadata": {
        "colab": {
          "base_uri": "https://localhost:8080/",
          "height": 133
        },
        "id": "j-Ci83GJyqU9",
        "outputId": "367e054d-b652-4ed2-f3ba-9b1382bfaa38"
      },
      "source": [
        "df_2[:3]"
      ],
      "execution_count": 12,
      "outputs": [
        {
          "output_type": "execute_result",
          "data": {
            "text/html": [
              "<div>\n",
              "<style scoped>\n",
              "    .dataframe tbody tr th:only-of-type {\n",
              "        vertical-align: middle;\n",
              "    }\n",
              "\n",
              "    .dataframe tbody tr th {\n",
              "        vertical-align: top;\n",
              "    }\n",
              "\n",
              "    .dataframe thead th {\n",
              "        text-align: right;\n",
              "    }\n",
              "</style>\n",
              "<table border=\"1\" class=\"dataframe\">\n",
              "  <thead>\n",
              "    <tr style=\"text-align: right;\">\n",
              "      <th></th>\n",
              "      <th>Coluna_1</th>\n",
              "      <th>Coluna_2</th>\n",
              "      <th>Coluna_3</th>\n",
              "    </tr>\n",
              "  </thead>\n",
              "  <tbody>\n",
              "    <tr>\n",
              "      <th>0</th>\n",
              "      <td>2020-02-01</td>\n",
              "      <td>-0.380843</td>\n",
              "      <td>teste</td>\n",
              "    </tr>\n",
              "    <tr>\n",
              "      <th>1</th>\n",
              "      <td>2020-02-02</td>\n",
              "      <td>-1.043489</td>\n",
              "      <td>treino</td>\n",
              "    </tr>\n",
              "    <tr>\n",
              "      <th>2</th>\n",
              "      <td>2020-02-03</td>\n",
              "      <td>-1.430312</td>\n",
              "      <td>teste</td>\n",
              "    </tr>\n",
              "  </tbody>\n",
              "</table>\n",
              "</div>"
            ],
            "text/plain": [
              "    Coluna_1  Coluna_2 Coluna_3\n",
              "0 2020-02-01 -0.380843    teste\n",
              "1 2020-02-02 -1.043489   treino\n",
              "2 2020-02-03 -1.430312    teste"
            ]
          },
          "metadata": {
            "tags": []
          },
          "execution_count": 12
        }
      ]
    },
    {
      "cell_type": "markdown",
      "metadata": {
        "id": "s9ZJe7JFy1gD"
      },
      "source": [
        "> ### Selecionando via rótulo"
      ]
    },
    {
      "cell_type": "code",
      "metadata": {
        "colab": {
          "base_uri": "https://localhost:8080/"
        },
        "id": "INp6Mf1ty5QO",
        "outputId": "60319549-f89b-4b9f-90b0-72762a88f0e9"
      },
      "source": [
        "df_2.loc[0]"
      ],
      "execution_count": 13,
      "outputs": [
        {
          "output_type": "execute_result",
          "data": {
            "text/plain": [
              "Coluna_1    2020-02-01 00:00:00\n",
              "Coluna_2              -0.380843\n",
              "Coluna_3                  teste\n",
              "Name: 0, dtype: object"
            ]
          },
          "metadata": {
            "tags": []
          },
          "execution_count": 13
        }
      ]
    },
    {
      "cell_type": "markdown",
      "metadata": {
        "id": "z7ebuPny3AMk"
      },
      "source": [
        "> ### Setando valores pela posição\n"
      ]
    },
    {
      "cell_type": "code",
      "metadata": {
        "colab": {
          "base_uri": "https://localhost:8080/",
          "height": 335
        },
        "id": "qcN2i2y43Htx",
        "outputId": "0c2b6fc2-ad92-4049-8865-2678583140d6"
      },
      "source": [
        "df_2.iat[0,1] = 0\n",
        "df_2.iat[3,1] = 0\n",
        "df_2.iat[3,0] = 'mudei'\n",
        "df_2.iat[0,0] = 'mudei'\n",
        "df_2"
      ],
      "execution_count": 20,
      "outputs": [
        {
          "output_type": "execute_result",
          "data": {
            "text/html": [
              "<div>\n",
              "<style scoped>\n",
              "    .dataframe tbody tr th:only-of-type {\n",
              "        vertical-align: middle;\n",
              "    }\n",
              "\n",
              "    .dataframe tbody tr th {\n",
              "        vertical-align: top;\n",
              "    }\n",
              "\n",
              "    .dataframe thead th {\n",
              "        text-align: right;\n",
              "    }\n",
              "</style>\n",
              "<table border=\"1\" class=\"dataframe\">\n",
              "  <thead>\n",
              "    <tr style=\"text-align: right;\">\n",
              "      <th></th>\n",
              "      <th>Coluna_1</th>\n",
              "      <th>Coluna_2</th>\n",
              "      <th>Coluna_3</th>\n",
              "    </tr>\n",
              "  </thead>\n",
              "  <tbody>\n",
              "    <tr>\n",
              "      <th>0</th>\n",
              "      <td>mudei</td>\n",
              "      <td>0.000000</td>\n",
              "      <td>teste</td>\n",
              "    </tr>\n",
              "    <tr>\n",
              "      <th>1</th>\n",
              "      <td>2020-02-02 00:00:00</td>\n",
              "      <td>-1.043489</td>\n",
              "      <td>treino</td>\n",
              "    </tr>\n",
              "    <tr>\n",
              "      <th>2</th>\n",
              "      <td>2020-02-03 00:00:00</td>\n",
              "      <td>-1.430312</td>\n",
              "      <td>teste</td>\n",
              "    </tr>\n",
              "    <tr>\n",
              "      <th>3</th>\n",
              "      <td>mudei</td>\n",
              "      <td>0.000000</td>\n",
              "      <td>treino</td>\n",
              "    </tr>\n",
              "    <tr>\n",
              "      <th>4</th>\n",
              "      <td>2020-02-05 00:00:00</td>\n",
              "      <td>1.747468</td>\n",
              "      <td>teste</td>\n",
              "    </tr>\n",
              "    <tr>\n",
              "      <th>5</th>\n",
              "      <td>2020-02-06 00:00:00</td>\n",
              "      <td>1.352453</td>\n",
              "      <td>treino</td>\n",
              "    </tr>\n",
              "    <tr>\n",
              "      <th>6</th>\n",
              "      <td>2020-02-07 00:00:00</td>\n",
              "      <td>0.232247</td>\n",
              "      <td>teste</td>\n",
              "    </tr>\n",
              "    <tr>\n",
              "      <th>7</th>\n",
              "      <td>2020-02-08 00:00:00</td>\n",
              "      <td>0.367277</td>\n",
              "      <td>treino</td>\n",
              "    </tr>\n",
              "    <tr>\n",
              "      <th>8</th>\n",
              "      <td>2020-02-09 00:00:00</td>\n",
              "      <td>0.049926</td>\n",
              "      <td>teste</td>\n",
              "    </tr>\n",
              "    <tr>\n",
              "      <th>9</th>\n",
              "      <td>2020-02-10 00:00:00</td>\n",
              "      <td>-0.501801</td>\n",
              "      <td>treino</td>\n",
              "    </tr>\n",
              "  </tbody>\n",
              "</table>\n",
              "</div>"
            ],
            "text/plain": [
              "              Coluna_1  Coluna_2 Coluna_3\n",
              "0                mudei  0.000000    teste\n",
              "1  2020-02-02 00:00:00 -1.043489   treino\n",
              "2  2020-02-03 00:00:00 -1.430312    teste\n",
              "3                mudei  0.000000   treino\n",
              "4  2020-02-05 00:00:00  1.747468    teste\n",
              "5  2020-02-06 00:00:00  1.352453   treino\n",
              "6  2020-02-07 00:00:00  0.232247    teste\n",
              "7  2020-02-08 00:00:00  0.367277   treino\n",
              "8  2020-02-09 00:00:00  0.049926    teste\n",
              "9  2020-02-10 00:00:00 -0.501801   treino"
            ]
          },
          "metadata": {
            "tags": []
          },
          "execution_count": 20
        }
      ]
    },
    {
      "cell_type": "markdown",
      "metadata": {
        "id": "vLsTAhr-4XDW"
      },
      "source": [
        "> ### Selecione através da posição dos inteiros passados"
      ]
    },
    {
      "cell_type": "code",
      "metadata": {
        "colab": {
          "base_uri": "https://localhost:8080/"
        },
        "id": "kbgyDykj3TAh",
        "outputId": "3dc59b5e-9c53-40ad-b6a6-9c26f59b6799"
      },
      "source": [
        "df_2.iloc[0]"
      ],
      "execution_count": 26,
      "outputs": [
        {
          "output_type": "execute_result",
          "data": {
            "text/plain": [
              "Coluna_1    mudei\n",
              "Coluna_2        0\n",
              "Coluna_3    teste\n",
              "Name: 0, dtype: object"
            ]
          },
          "metadata": {
            "tags": []
          },
          "execution_count": 26
        }
      ]
    }
  ]
}