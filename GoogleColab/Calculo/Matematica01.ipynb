{
  "nbformat": 4,
  "nbformat_minor": 0,
  "metadata": {
    "colab": {
      "name": "Matematica.ipynb",
      "provenance": [],
      "authorship_tag": "ABX9TyNqDU2Djw2PEhrZFpV39hdC",
      "include_colab_link": true
    },
    "kernelspec": {
      "name": "python3",
      "display_name": "Python 3"
    }
  },
  "cells": [
    {
      "cell_type": "markdown",
      "metadata": {
        "id": "view-in-github",
        "colab_type": "text"
      },
      "source": [
        "<a href=\"https://colab.research.google.com/github/gabrielvieiraf/ProjetosPython/blob/master/GoogleColab/Calculo/Matematica01.ipynb\" target=\"_parent\"><img src=\"https://colab.research.google.com/assets/colab-badge.svg\" alt=\"Open In Colab\"/></a>"
      ]
    },
    {
      "cell_type": "markdown",
      "metadata": {
        "id": "gXQvokNFcKSU"
      },
      "source": [
        "# Matemática: Continuidade de funções e seus limites"
      ]
    },
    {
      "cell_type": "markdown",
      "metadata": {
        "id": "uoMSjIkS9c-d"
      },
      "source": [
        "## Equação de segundo Grau com Python"
      ]
    },
    {
      "cell_type": "code",
      "metadata": {
        "id": "0jD5khf58vYY"
      },
      "source": [
        "from math import sqrt\n",
        "from sympy import *\n",
        "import math\n",
        "init_printing()\n",
        "\n",
        "a = 1\n",
        "b = 8\n",
        "c = 6"
      ],
      "execution_count": 84,
      "outputs": []
    },
    {
      "cell_type": "code",
      "metadata": {
        "id": "tRJ-_qoSoq1w"
      },
      "source": [
        "# Resolvendo equação de segundo grau\n",
        "def raizes(a, b, c):\n",
        "    x = Symbol('x')\n",
        "    # ax² + bx + c\n",
        "    return solve( a*x**2 + b*x + c , x)\n",
        "\n",
        "# Plotando equação de segundo grau\n",
        "def grafico_2grau(x1,x2):\n",
        "  eixo_x = []\n",
        "  eixo_y = []\n",
        "  zero = []\n",
        "\n",
        "  variacao = abs(x1 - x2)\n",
        "\n",
        "  if variacao < 3:\n",
        "      variacao = 3\n",
        "\n",
        "  for x in np.arange(x1 - variacao, x2 + variacao, variacao / 100):\n",
        "      y = a * (x ** 2 ) + b * (x) + c\n",
        "      eixo_x.append(x)\n",
        "      eixo_y.append(y)\n",
        "      zero.append(0.0)\n",
        "\n",
        "  # Desenha linha\n",
        "  plt.plot(eixo_x,eixo_y,color=\"blue\")\n",
        "\n",
        "  # Desenha pontos\n",
        "  plt.plot((x1,x2),(0,0), marker='o',color='red')\n",
        "  plt.plot(c, marker='o',color='red')\n",
        "\n",
        "  # Desenha eixos\n",
        "  plt.plot(eixo_x,zero,color=\"black\")\n",
        "  plt.plot(zero,eixo_y,color='black')\n",
        "\n",
        "  plt.show()\n",
        "\n",
        "r = raizes(a,b,c)"
      ],
      "execution_count": 85,
      "outputs": []
    },
    {
      "cell_type": "code",
      "metadata": {
        "id": "QKqscJ1QsLfl",
        "outputId": "9e6229e1-856e-4e76-fceb-3aef818a7da2",
        "colab": {
          "base_uri": "https://localhost:8080/",
          "height": 282
        }
      },
      "source": [
        "import matplotlib.pyplot as plt\n",
        "import numpy as np\n",
        "\n",
        "try:\n",
        "  x1 = float(r[0])\n",
        "  x2 = float(r[1])\n",
        "  grafico_2grau(x1,x2)\n",
        "  print('x1 = %0.3f' % x1, 'x2= %0.3f' % x2)\n",
        "except:\n",
        "  try:\n",
        "    x1 = complex(r[0])\n",
        "    x2 = complex(r[1])\n",
        "    print('O resultado das raízes é um número complexo')\n",
        "    print('x1 =', x1, '\\nx2 =', x2)\n",
        "  except:\n",
        "    print('O valor de a é 0, resultado indefinido.')"
      ],
      "execution_count": 3,
      "outputs": [
        {
          "output_type": "display_data",
          "data": {
            "image/png": "[encoded data removed]",
            "text/plain": [
              "<Figure size 432x288 with 1 Axes>"
            ]
          },
          "metadata": {
            "tags": [],
            "needs_background": "light"
          }
        },
        {
          "output_type": "stream",
          "text": [
            "x1 = -7.162 x2= -0.838\n"
          ],
          "name": "stdout"
        }
      ]
    },
    {
      "cell_type": "markdown",
      "metadata": {
        "id": "LvLBsMJylTxe"
      },
      "source": [
        "## Utilização do sympy para criar variáveis simbólicas"
      ]
    },
    {
      "cell_type": "code",
      "metadata": {
        "id": "eyeirkjrcF6t",
        "outputId": "0ae83195-6814-41b2-d5d5-0b26f06c5c0d",
        "colab": {
          "base_uri": "https://localhost:8080/",
          "height": 38
        }
      },
      "source": [
        "# define x, y e z como variáveis simbólicas\n",
        "var('x y z')"
      ],
      "execution_count": 349,
      "outputs": [
        {
          "output_type": "execute_result",
          "data": {
            "image/png": "[encoded data removed]",
            "text/latex": "$$\\left ( x, \\quad y, \\quad z\\right )$$",
            "text/plain": [
              "(x, y, z)"
            ]
          },
          "metadata": {
            "tags": []
          },
          "execution_count": 349
        }
      ]
    },
    {
      "cell_type": "markdown",
      "metadata": {
        "id": "LNEvB-kkcBVD"
      },
      "source": [
        "# Funções"
      ]
    },
    {
      "cell_type": "markdown",
      "metadata": {
        "id": "xiZKqoUZcHSy"
      },
      "source": [
        "## Exemplo 01: Custo de operação de uma máquina\n",
        "\n",
        "\n",
        "*   A empresa deseja saber o custo de energia elátrica de uma máquina.\n",
        "*   A potência da máquina é de 500 kW\n",
        "*   O custo de cada kW*h é de R$ 0,10\n",
        "\n",
        "Qual a função matemática que descreve o consumo da máquina em função da hora?\n",
        "\n",
        "\n"
      ]
    },
    {
      "cell_type": "code",
      "metadata": {
        "id": "4WWdOwyYcEij",
        "outputId": "960ea0e0-883b-4f53-a9bd-e269741a5f80",
        "colab": {
          "base_uri": "https://localhost:8080/"
        }
      },
      "source": [
        "# Custo da máquina por hora\n",
        "def f(x): return 500*0.1*x\n",
        "x = 24 * 30\n",
        "print('O custo é de:', f(x), 'por %2.0f hora(s)' % x)\n",
        "\n",
        "# Custo da máquina por dia\n",
        "def C(x): return (500*0.1*x)*24\n",
        "x = 30\n",
        "print('O custo é de:', C(x), 'por %2.0f dia(s)' % x)"
      ],
      "execution_count": 5,
      "outputs": [
        {
          "output_type": "stream",
          "text": [
            "O custo é de: 36000.0 por 720 hora(s)\n",
            "O custo é de: 36000.0 por 30 dia(s)\n"
          ],
          "name": "stdout"
        }
      ]
    },
    {
      "cell_type": "markdown",
      "metadata": {
        "id": "kh5a8sJAe3Va"
      },
      "source": [
        "### Plotando Gráficos"
      ]
    },
    {
      "cell_type": "code",
      "metadata": {
        "id": "9qw6YjRoe1nM",
        "outputId": "06963413-085f-4d5f-b4bd-ee15f0351755",
        "colab": {
          "base_uri": "https://localhost:8080/",
          "height": 312
        }
      },
      "source": [
        "# Calculando horas em um mês\n",
        "dias = 30\n",
        "horas = dias*24\n",
        "\n",
        "lista_preco = list()\n",
        "for hora in range(0,horas):\n",
        "  lista_preco.append(f(hora))\n",
        "\n",
        "# Gráfico\n",
        "\n",
        "fig, ax = plt.subplots()\n",
        "\n",
        "# Título do gráfico\n",
        "plt.title('Preço kW*h em um mês')\n",
        "\n",
        "# Eixos \n",
        "ax.set_xlabel('horas')\n",
        "ax.set_ylabel('Preço em (R$)')\n",
        "\n",
        "plt.plot(lista_preco)"
      ],
      "execution_count": 6,
      "outputs": [
        {
          "output_type": "execute_result",
          "data": {
            "text/plain": [
              "[<matplotlib.lines.Line2D at 0x7fe827d9b7f0>]"
            ]
          },
          "metadata": {
            "tags": []
          },
          "execution_count": 6
        },
        {
          "output_type": "display_data",
          "data": {
            "image/png": "[encoded data removed]",
            "text/plain": [
              "<Figure size 432x288 with 1 Axes>"
            ]
          },
          "metadata": {
            "tags": [],
            "needs_background": "light"
          }
        }
      ]
    },
    {
      "cell_type": "code",
      "metadata": {
        "id": "GmmZm21BoKhe",
        "outputId": "3a38e3a1-db99-4c6c-e7ec-6bc38ce28f22",
        "colab": {
          "base_uri": "https://localhost:8080/",
          "height": 312
        }
      },
      "source": [
        "# Podemos redefinir o preço em função dos dias\n",
        "\n",
        "dias = 30\n",
        "\n",
        "lista_preco2 = list()\n",
        "\n",
        "for dia in range(0,dias):\n",
        "  lista_preco2.append(C(dia))\n",
        "\n",
        "# Gráfico \n",
        "\n",
        "fig, ax = plt.subplots()\n",
        "\n",
        "# Título do gráfico\n",
        "plt.title('Preço kW*dia em um mês')\n",
        "\n",
        "# Eixos \n",
        "ax.set_xlabel('dias')\n",
        "ax.set_ylabel('Preço em (R$)')\n",
        "\n",
        "plt.plot(lista_preco2)"
      ],
      "execution_count": 7,
      "outputs": [
        {
          "output_type": "execute_result",
          "data": {
            "text/plain": [
              "[<matplotlib.lines.Line2D at 0x7fe827864d30>]"
            ]
          },
          "metadata": {
            "tags": []
          },
          "execution_count": 7
        },
        {
          "output_type": "display_data",
          "data": {
            "image/png": "[encoded data removed]",
            "text/plain": [
              "<Figure size 432x288 with 1 Axes>"
            ]
          },
          "metadata": {
            "tags": [],
            "needs_background": "light"
          }
        }
      ]
    },
    {
      "cell_type": "markdown",
      "metadata": {
        "id": "9duCqIFko3Cy"
      },
      "source": [
        "## Exemplo 02: Realizando Previsões com funções\n",
        "\n",
        "\n",
        "*   A situação problema da empresa é: temos a função custo C(x):\n",
        "\n",
        "<center><h4> C(x) =  0.02x² + 80/x </h4></center>\n",
        "\n",
        "*   Qual a dimensão x da caixa, a partir da qual o custo é maior ou igual a R$ 22,00?\n",
        "\n"
      ]
    },
    {
      "cell_type": "markdown",
      "metadata": {
        "id": "wA9uRyeXUN6v"
      },
      "source": [
        "### Definindo Funções para o exemplo"
      ]
    },
    {
      "cell_type": "code",
      "metadata": {
        "id": "aiMqK0fIp8yq"
      },
      "source": [
        "def C(x): return (0.02*(x**2)) + (80/x)\n",
        "\n",
        "def c(x): return round(C(x) - 22,2)\n",
        "\n",
        "def find_raizes(y,x1,x2,p=0.0005):\n",
        "  lista_raizes = list()\n",
        "  lista_index = list()\n",
        "  raizes_= list()\n",
        "\n",
        "  for i in np.arange(x1,x2,step=0.001):\n",
        "    if (C(i)<= y and C(i)>= y-p):\n",
        "      # Preço\n",
        "      lista_raizes.append(round(C(i),4))\n",
        "      # m²\n",
        "      lista_index.append(round(i,2))\n",
        "\n",
        "  return lista_index, lista_raizes"
      ],
      "execution_count": 251,
      "outputs": []
    },
    {
      "cell_type": "markdown",
      "metadata": {
        "id": "jcaU2L_8tnn9"
      },
      "source": [
        "### Plotando Gráficos"
      ]
    },
    {
      "cell_type": "code",
      "metadata": {
        "id": "khSmrnsoUBID",
        "outputId": "a0383fee-654c-4fcd-94c0-6c8f7c47f972",
        "colab": {
          "base_uri": "https://localhost:8080/"
        }
      },
      "source": [
        "resultado = find_raizes(22,3,5)\n",
        "\n",
        "import itertools\n",
        "\n",
        "for i, j in itertools.product(resultado[0], resultado[1]):\n",
        "  valor_x = float(i)\n",
        "  valor_y = float(j)\n",
        "\n",
        "print('O valor de x é:', valor_x)\n",
        "print('O valor de y é:', valor_y)\n",
        "\n",
        "resultado2 = find_raizes(22,30,35)\n",
        "\n",
        "print()\n",
        "\n",
        "for i, j in itertools.product(resultado2[0], resultado2[1]):\n",
        "  valor_x2 = float(i)\n",
        "  valor_y2 = float(j)\n",
        "\n",
        "print('O valor de x2 é:', valor_x2)\n",
        "print('O valor de y2 é:', valor_y2)\n"
      ],
      "execution_count": 252,
      "outputs": [
        {
          "output_type": "stream",
          "text": [
            "O valor de x é: 3.68\n",
            "O valor de y é: 21.9985\n",
            "\n",
            "O valor de x2 é: 31.17\n",
            "O valor de y2 é: 21.9991\n"
          ],
          "name": "stdout"
        }
      ]
    },
    {
      "cell_type": "code",
      "metadata": {
        "id": "GBVL_H3gsFDa",
        "outputId": "3275dd6d-c063-442d-a40e-9c8b3f1ae65b",
        "colab": {
          "base_uri": "https://localhost:8080/",
          "height": 312
        }
      },
      "source": [
        "lista = list()\n",
        "\n",
        "x = 35\n",
        "\n",
        "zero = []\n",
        "eixo_x = []\n",
        "raiz = []\n",
        "\n",
        "for i in np.arange(1,x):\n",
        "  lista.append(C(i))\n",
        "  eixo_x.append(i)\n",
        "  zero.append(22)\n",
        "\n",
        "# Gráfico\n",
        "fig, ax = plt.subplots()\n",
        "\n",
        "# Título do gráfico\n",
        "plt.title('Custo de produção da caixa')\n",
        "\n",
        "# Eixos \n",
        "ax.set_xlabel('cm')\n",
        "ax.set_ylabel('Preço em (R$)')\n",
        "\n",
        "plt.plot(lista)\n",
        "\n",
        "plt.plot(eixo_x,zero,color='red')\n",
        "\n",
        "# Como o gráfico começa em x=1, faremos valor_x-1 para encontrar o ponto.\n",
        "plt.plot(valor_x-1,valor_y, marker='o',color='black')\n",
        "\n",
        "# Como o gráfico começa em x=1, faremos valor_x2-1 para encontrar o ponto.\n",
        "plt.plot(valor_x2-1,valor_y2, marker='o',color='black')\n",
        "\n",
        "print('Logo, para tamanhos menores que: %0.2fcm e maiores que %0.2fcm, o custo de R$22,00 é inviável.' % (valor_x,valor_x2))"
      ],
      "execution_count": 259,
      "outputs": [
        {
          "output_type": "stream",
          "text": [
            "Logo, para tamanhos menores que: 3.68cm e maiores que 31.17cm, o custo de R$22,00 é inviável.\n"
          ],
          "name": "stdout"
        },
        {
          "output_type": "display_data",
          "data": {
            "image/png": "[encoded data removed]",
            "text/plain": [
              "<Figure size 432x288 with 1 Axes>"
            ]
          },
          "metadata": {
            "tags": [],
            "needs_background": "light"
          }
        }
      ]
    },
    {
      "cell_type": "markdown",
      "metadata": {
        "id": "YpL0dTHBaI6F"
      },
      "source": [
        "# Limites"
      ]
    },
    {
      "cell_type": "markdown",
      "metadata": {
        "id": "FV0Rav8Wa4Yh"
      },
      "source": [
        "Podemos usar o SymPy para calcular o limite de uma função quando  x  tende a um ponto."
      ]
    },
    {
      "cell_type": "markdown",
      "metadata": {
        "id": "wNscRDYUcJos"
      },
      "source": [
        "## Exemplo 03: Calculando Limites"
      ]
    },
    {
      "cell_type": "code",
      "metadata": {
        "id": "nFAb-xz8aL2J",
        "outputId": "b88600d7-6bf0-4eef-9f53-2b4bbe4adc4a",
        "colab": {
          "base_uri": "https://localhost:8080/"
        }
      },
      "source": [
        "# define x e y como variáveis simbólicas\n",
        "var('x y')\n",
        "\n",
        "# Definindo função\n",
        "f = Lambda(x, (x**2 -1))\n",
        "\n",
        "# Limite da função f(x) quando x tende a 2\n",
        "r1 = limit(f(x),x,2)\n",
        "\n",
        "# Limite da função f(x) quando x tende a -1\n",
        "r2 = limit(f(x),x,-1)\n",
        "\n",
        "# Limite da função f(x) quando x tende a 5\n",
        "r3 = limit(f(x),x,5)\n",
        "\n",
        "print(r1,r2,r3)"
      ],
      "execution_count": 280,
      "outputs": [
        {
          "output_type": "stream",
          "text": [
            "3 0 24\n"
          ],
          "name": "stdout"
        }
      ]
    },
    {
      "cell_type": "markdown",
      "metadata": {
        "id": "uPrMYAeocfse"
      },
      "source": [
        "### Gráfico da Função"
      ]
    },
    {
      "cell_type": "code",
      "metadata": {
        "id": "2XcOczJlce3D",
        "outputId": "ba987e63-6cfb-4de9-c4ec-3a58fb4d05b5",
        "colab": {
          "base_uri": "https://localhost:8080/",
          "height": 298
        }
      },
      "source": [
        "def f(x): return (x**2 -1)\n",
        "\n",
        "lista = list()\n",
        "\n",
        "x = 5\n",
        "\n",
        "eixo_x = []\n",
        "raiz = []\n",
        "\n",
        "for i in np.arange(-1,x,step=0.1):\n",
        "  lista.append(f(i))\n",
        "  eixo_x.append(i)\n",
        "\n",
        "# Gráfico\n",
        "fig, ax = plt.subplots()\n",
        "\n",
        "# Título do gráfico\n",
        "plt.title('Gráfico da Função')\n",
        "\n",
        "plt.plot(eixo_x,lista)\n",
        "\n",
        "# Limites\n",
        "plt.plot(2,r1, marker='o',color='black')\n",
        "plt.plot(-1,r2, marker='o',color='black')\n",
        "plt.plot(5,r3, marker='o',color='black')"
      ],
      "execution_count": 283,
      "outputs": [
        {
          "output_type": "execute_result",
          "data": {
            "text/plain": [
              "[<matplotlib.lines.Line2D at 0x7fe81ef4a978>]"
            ]
          },
          "metadata": {
            "tags": []
          },
          "execution_count": 283
        },
        {
          "output_type": "display_data",
          "data": {
            "image/png": "[encoded data removed]",
            "text/plain": [
              "<Figure size 432x288 with 1 Axes>"
            ]
          },
          "metadata": {
            "tags": [],
            "needs_background": "light"
          }
        }
      ]
    },
    {
      "cell_type": "markdown",
      "metadata": {
        "id": "iwrBzqwIneQc"
      },
      "source": [
        "## Calculando Limites Laterais\n",
        "\n",
        "Como padrão, a função ```limit()```\n",
        "calcula o limite lateral pela direita.\n",
        "\n"
      ]
    },
    {
      "cell_type": "code",
      "metadata": {
        "id": "9Nno6aiFnuNW",
        "outputId": "9d77718b-15c1-4ffd-fb28-d2aae7958b0c",
        "colab": {
          "base_uri": "https://localhost:8080/",
          "height": 37
        }
      },
      "source": [
        "limit(1/y, y, 0)"
      ],
      "execution_count": 346,
      "outputs": [
        {
          "output_type": "execute_result",
          "data": {
            "image/png": "[encoded data removed]",
            "text/latex": "$$\\infty$$",
            "text/plain": [
              "∞"
            ]
          },
          "metadata": {
            "tags": []
          },
          "execution_count": 346
        }
      ]
    },
    {
      "cell_type": "markdown",
      "metadata": {
        "id": "sPONcQ9soIue"
      },
      "source": [
        "para calcularmos o limite lateral pela esquerda, basta digitar:"
      ]
    },
    {
      "cell_type": "code",
      "metadata": {
        "id": "UT7jUg4poOF5",
        "outputId": "4ddd52eb-61fb-4829-e256-f03ff28a921b",
        "colab": {
          "base_uri": "https://localhost:8080/",
          "height": 37
        }
      },
      "source": [
        "limit(1/y, y, 0, '-')"
      ],
      "execution_count": 347,
      "outputs": [
        {
          "output_type": "execute_result",
          "data": {
            "image/png": "[encoded data removed]",
            "text/latex": "$$-\\infty$$",
            "text/plain": [
              "-∞"
            ]
          },
          "metadata": {
            "tags": []
          },
          "execution_count": 347
        }
      ]
    },
    {
      "cell_type": "markdown",
      "metadata": {
        "id": "vuSjGyc4xCPp"
      },
      "source": [
        "### Exemplo 04"
      ]
    },
    {
      "cell_type": "code",
      "metadata": {
        "id": "mSQGTR92rgzj",
        "outputId": "12e15716-6027-42d0-e53c-91b1a4435457",
        "colab": {
          "base_uri": "https://localhost:8080/",
          "height": 282
        }
      },
      "source": [
        "lista_ex04 = list()\n",
        "eixo_ex04 = list()\n",
        "\n",
        "for x in np.arange(0,6, step=0.1):\n",
        "  if (x<3):\n",
        "    lista_ex04.append(1+x**2)\n",
        "  else:\n",
        "    lista_ex04.append(20)\n",
        "  eixo_ex04.append(x)\n",
        "\n",
        "plt.plot(eixo_ex04,lista_ex04)"
      ],
      "execution_count": 344,
      "outputs": [
        {
          "output_type": "execute_result",
          "data": {
            "text/plain": [
              "[<matplotlib.lines.Line2D at 0x7fe81ed3b860>]"
            ]
          },
          "metadata": {
            "tags": []
          },
          "execution_count": 344
        },
        {
          "output_type": "display_data",
          "data": {
            "image/png": "[encoded data removed]",
            "text/plain": [
              "<Figure size 432x288 with 1 Axes>"
            ]
          },
          "metadata": {
            "tags": [],
            "needs_background": "light"
          }
        }
      ]
    },
    {
      "cell_type": "code",
      "metadata": {
        "id": "dIczjQdMyzIG",
        "outputId": "8c98bcae-ed4e-4a5a-a848-0717e916a741",
        "colab": {
          "base_uri": "https://localhost:8080/",
          "height": 37
        }
      },
      "source": [
        "# Limite de x quando x tende a 3\n",
        "limit(1+x**2, x, 3, '-')\n",
        "\n",
        "# Limite de x quando x tende a 3\n",
        "limit(20, x, 3)"
      ],
      "execution_count": 357,
      "outputs": [
        {
          "output_type": "execute_result",
          "data": {
            "image/png": "[encoded data removed]",
            "text/latex": "$$20$$",
            "text/plain": [
              "20"
            ]
          },
          "metadata": {
            "tags": []
          },
          "execution_count": 357
        }
      ]
    },
    {
      "cell_type": "markdown",
      "metadata": {
        "id": "p4VygNNd0BwX"
      },
      "source": [
        "**Conclusão:** Os limites laterais refletem o fato de que podemos nos aproximar de um dado valor, quer seja pela esquerda ou pela direita.\n",
        "\n",
        "Em alguns casos, o valor resultante do limite pode ser igual pela equerda e pela direita, mas em outros pode não ser."
      ]
    },
    {
      "cell_type": "markdown",
      "metadata": {
        "id": "27c2Bn4306qj"
      },
      "source": [
        "## Propriedades Limites Parte 1"
      ]
    },
    {
      "cell_type": "markdown",
      "metadata": {
        "id": "8m4237TM0-YL"
      },
      "source": [
        "1 - O limite da soma de duas funções quando x se aproxima de x0, é igual à soma dos limites das funções.\n",
        "\n",
        "$\n",
        "\\lim_{x \\to x0} (f(x) + g(x))= \\lim_{x \\to x0} f(x) + \\lim_{x \\to x0} g(x)\n",
        "$\n",
        "\n",
        "\n",
        "2 - Propriedade da multiplicação por escalar do Limite:\n",
        "\n",
        "$\n",
        "\\lim_{x \\to x0} C( f(x))= C \\lim_{x \\to x0} f(x)\n",
        "$"
      ]
    },
    {
      "cell_type": "code",
      "metadata": {
        "id": "601tF5dP5MZR"
      },
      "source": [
        ""
      ],
      "execution_count": null,
      "outputs": []
    }
  ]
}