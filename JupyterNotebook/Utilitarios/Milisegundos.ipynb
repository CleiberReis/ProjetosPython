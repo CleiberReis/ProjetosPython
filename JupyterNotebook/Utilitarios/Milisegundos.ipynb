import math, time, datetime
# contantes para timestamps em millisecs
def agora():
    return math.floor(time.time()*1000)
segundo = 1000
minuto = 60*segundo
hora = 60*minuto
dia = 24*hora
semana = 7*dia
mes = 30.4166666666666666667*dia
ano = 12*mes

def to_date(millis):
    return datetime.datetime.fromtimestamp(millis/1000).date()
def to_datetime(millis):
    return datetime.datetime.fromtimestamp(millis/1000)
def from_date(adate, earliest=True):
    adatetime = datetime.datetime.combine(adate, datetime.time.min if earliest else datetime.time.max)
    return math.floor(adatetime.timestamp()*segundo)
def from_datetime(adatetime):
    return math.floor(adatetime.timestamp()*segundo)
