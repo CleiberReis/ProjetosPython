{
  "nbformat": 4,
  "nbformat_minor": 0,
  "metadata": {
    "colab": {
      "name": "Machine_Learning03.ipynb",
      "provenance": [],
      "authorship_tag": "ABX9TyNYEGUGPodY2AAriwheuS2Z",
      "include_colab_link": true
    },
    "kernelspec": {
      "name": "python3",
      "display_name": "Python 3"
    }
  },
  "cells": [
    {
      "cell_type": "markdown",
      "metadata": {
        "id": "view-in-github",
        "colab_type": "text"
      },
      "source": [
        "<a href=\"https://colab.research.google.com/github/gabrielvieiraf/ProjetosPython/blob/master/GoogleColab/MachineLearning/Machine_Learning03.ipynb\" target=\"_parent\"><img src=\"https://colab.research.google.com/assets/colab-badge.svg\" alt=\"Open In Colab\"/></a>"
      ]
    },
    {
      "cell_type": "markdown",
      "metadata": {
        "id": "m5pnmc_vRbdo"
      },
      "source": [
        "# **Iniciando com Machine Learning 03**"
      ]
    },
    {
      "cell_type": "markdown",
      "metadata": {
        "id": "tBDADBlxV6_C"
      },
      "source": [
        "## **Exemplo 04**"
      ]
    },
    {
      "cell_type": "code",
      "metadata": {
        "id": "ZT-sjHqqRZmk",
        "outputId": "ee758de9-2407-444c-ca78-e32dad7ddafe",
        "colab": {
          "base_uri": "https://localhost:8080/",
          "height": 197
        }
      },
      "source": [
        "import pandas as pd\n",
        "\n",
        "# Importando dados\n",
        "url = 'https://gist.githubusercontent.com/guilhermesilveira/4d1d4a16ccbf6ea4e0a64a38a24ec884/raw/afd05cb0c796d18f3f5a6537053ded308ba94bf7/car-prices.csv'\n",
        "dados = pd.read_csv(url)\n",
        "dados.head()\n",
        "\n",
        "# Renomeando Colunas\n",
        "dados.rename(columns= {'mileage_per_year':'milhas_por_ano',\n",
        "             'model_year':'ano_modelo',\n",
        "             'price':'preco'}, inplace= True)\n",
        "\n",
        "# Traduzindo Tabela\n",
        "dados['vendido'] = dados.sold.map({'yes':'1','no':'0'})\n",
        "\n",
        "# Excluindo colunas\n",
        "del dados['sold'],dados['Unnamed: 0']\n",
        "dados.head()"
      ],
      "execution_count": 1,
      "outputs": [
        {
          "output_type": "execute_result",
          "data": {
            "text/html": [
              "<div>\n",
              "<style scoped>\n",
              "    .dataframe tbody tr th:only-of-type {\n",
              "        vertical-align: middle;\n",
              "    }\n",
              "\n",
              "    .dataframe tbody tr th {\n",
              "        vertical-align: top;\n",
              "    }\n",
              "\n",
              "    .dataframe thead th {\n",
              "        text-align: right;\n",
              "    }\n",
              "</style>\n",
              "<table border=\"1\" class=\"dataframe\">\n",
              "  <thead>\n",
              "    <tr style=\"text-align: right;\">\n",
              "      <th></th>\n",
              "      <th>milhas_por_ano</th>\n",
              "      <th>ano_modelo</th>\n",
              "      <th>preco</th>\n",
              "      <th>vendido</th>\n",
              "    </tr>\n",
              "  </thead>\n",
              "  <tbody>\n",
              "    <tr>\n",
              "      <th>0</th>\n",
              "      <td>21801</td>\n",
              "      <td>2000</td>\n",
              "      <td>30941.02</td>\n",
              "      <td>1</td>\n",
              "    </tr>\n",
              "    <tr>\n",
              "      <th>1</th>\n",
              "      <td>7843</td>\n",
              "      <td>1998</td>\n",
              "      <td>40557.96</td>\n",
              "      <td>1</td>\n",
              "    </tr>\n",
              "    <tr>\n",
              "      <th>2</th>\n",
              "      <td>7109</td>\n",
              "      <td>2006</td>\n",
              "      <td>89627.50</td>\n",
              "      <td>0</td>\n",
              "    </tr>\n",
              "    <tr>\n",
              "      <th>3</th>\n",
              "      <td>26823</td>\n",
              "      <td>2015</td>\n",
              "      <td>95276.14</td>\n",
              "      <td>0</td>\n",
              "    </tr>\n",
              "    <tr>\n",
              "      <th>4</th>\n",
              "      <td>7935</td>\n",
              "      <td>2014</td>\n",
              "      <td>117384.68</td>\n",
              "      <td>1</td>\n",
              "    </tr>\n",
              "  </tbody>\n",
              "</table>\n",
              "</div>"
            ],
            "text/plain": [
              "   milhas_por_ano  ano_modelo      preco vendido\n",
              "0           21801        2000   30941.02       1\n",
              "1            7843        1998   40557.96       1\n",
              "2            7109        2006   89627.50       0\n",
              "3           26823        2015   95276.14       0\n",
              "4            7935        2014  117384.68       1"
            ]
          },
          "metadata": {
            "tags": []
          },
          "execution_count": 1
        }
      ]
    },
    {
      "cell_type": "code",
      "metadata": {
        "id": "lBHN0nuuTtPU",
        "outputId": "352cf5b7-71bc-4671-e91e-f7f9c7e0cfbb",
        "colab": {
          "base_uri": "https://localhost:8080/",
          "height": 197
        }
      },
      "source": [
        "from datetime import datetime\n",
        "\n",
        "ano_atual = datetime.today().year\n",
        "dados['idade_modelo'] = ano_atual - dados['ano_modelo']\n",
        "\n",
        "del dados['ano_modelo']\n",
        "dados.head()\n",
        "\n",
        "dados['km_por_ano'] = dados['milhas_por_ano'] * 1.60934\n",
        "del dados['milhas_por_ano']\n",
        "dados.head()"
      ],
      "execution_count": 2,
      "outputs": [
        {
          "output_type": "execute_result",
          "data": {
            "text/html": [
              "<div>\n",
              "<style scoped>\n",
              "    .dataframe tbody tr th:only-of-type {\n",
              "        vertical-align: middle;\n",
              "    }\n",
              "\n",
              "    .dataframe tbody tr th {\n",
              "        vertical-align: top;\n",
              "    }\n",
              "\n",
              "    .dataframe thead th {\n",
              "        text-align: right;\n",
              "    }\n",
              "</style>\n",
              "<table border=\"1\" class=\"dataframe\">\n",
              "  <thead>\n",
              "    <tr style=\"text-align: right;\">\n",
              "      <th></th>\n",
              "      <th>preco</th>\n",
              "      <th>vendido</th>\n",
              "      <th>idade_modelo</th>\n",
              "      <th>km_por_ano</th>\n",
              "    </tr>\n",
              "  </thead>\n",
              "  <tbody>\n",
              "    <tr>\n",
              "      <th>0</th>\n",
              "      <td>30941.02</td>\n",
              "      <td>1</td>\n",
              "      <td>20</td>\n",
              "      <td>35085.22134</td>\n",
              "    </tr>\n",
              "    <tr>\n",
              "      <th>1</th>\n",
              "      <td>40557.96</td>\n",
              "      <td>1</td>\n",
              "      <td>22</td>\n",
              "      <td>12622.05362</td>\n",
              "    </tr>\n",
              "    <tr>\n",
              "      <th>2</th>\n",
              "      <td>89627.50</td>\n",
              "      <td>0</td>\n",
              "      <td>14</td>\n",
              "      <td>11440.79806</td>\n",
              "    </tr>\n",
              "    <tr>\n",
              "      <th>3</th>\n",
              "      <td>95276.14</td>\n",
              "      <td>0</td>\n",
              "      <td>5</td>\n",
              "      <td>43167.32682</td>\n",
              "    </tr>\n",
              "    <tr>\n",
              "      <th>4</th>\n",
              "      <td>117384.68</td>\n",
              "      <td>1</td>\n",
              "      <td>6</td>\n",
              "      <td>12770.11290</td>\n",
              "    </tr>\n",
              "  </tbody>\n",
              "</table>\n",
              "</div>"
            ],
            "text/plain": [
              "       preco vendido  idade_modelo   km_por_ano\n",
              "0   30941.02       1            20  35085.22134\n",
              "1   40557.96       1            22  12622.05362\n",
              "2   89627.50       0            14  11440.79806\n",
              "3   95276.14       0             5  43167.32682\n",
              "4  117384.68       1             6  12770.11290"
            ]
          },
          "metadata": {
            "tags": []
          },
          "execution_count": 2
        }
      ]
    },
    {
      "cell_type": "code",
      "metadata": {
        "id": "O4noqzD4VrL3",
        "outputId": "0be43bf2-19de-4d6a-a0eb-fcdc0e2ff52b",
        "colab": {
          "base_uri": "https://localhost:8080/"
        }
      },
      "source": [
        "x = dados[['preco','idade_modelo','km_por_ano']]\n",
        "y = dados[['vendido']]\n",
        "\n",
        "# Importando sklearn\n",
        "from sklearn.model_selection import train_test_split\n",
        "from sklearn.svm import LinearSVC\n",
        "from sklearn.metrics import accuracy_score\n",
        "import numpy as np\n",
        "\n",
        "# Ignorar warnings \n",
        "import warnings\n",
        "warnings.filterwarnings(\"ignore\")\n",
        "\n",
        "# Cria semente para números aleatórios\n",
        "SEED = 5\n",
        "np.random.seed(SEED)\n",
        "\n",
        "treino_x, teste_x, treino_y, teste_y = train_test_split (x, y,\n",
        "                                                         test_size= 0.25,\n",
        "                                                         stratify = y)\n",
        "\n",
        "print('Treinaremos com %d elementos e testaremos com %d elementos.' % (len(treino_x), len(teste_x)))\n",
        "\n",
        "# Criando modelo\n",
        "modelo = LinearSVC()\n",
        "\n",
        "# Treinando o robô\n",
        "modelo.fit(treino_x,treino_y.values.ravel())\n",
        "previsoes = modelo.predict(teste_x)\n",
        "\n",
        "# Método 02 para taxa de acerto\n",
        "taxa_de_acerto = accuracy_score(teste_y, previsoes)*100\n",
        "\n",
        "print(\"O acerto foi de: %.2f\" % taxa_de_acerto,'%' )"
      ],
      "execution_count": 3,
      "outputs": [
        {
          "output_type": "stream",
          "text": [
            "Treinaremos com 7500 elementos e testaremos com 2500 elementos.\n",
            "O acerto foi de: 58.00 %\n"
          ],
          "name": "stdout"
        }
      ]
    },
    {
      "cell_type": "markdown",
      "metadata": {
        "id": "3zXrFEFBYCvo"
      },
      "source": [
        "## Criando baseline"
      ]
    },
    {
      "cell_type": "code",
      "metadata": {
        "id": "S4yxopnHYElJ",
        "outputId": "aea01d9d-9b65-42fd-ee2c-a1faa2436a88",
        "colab": {
          "base_uri": "https://localhost:8080/"
        }
      },
      "source": [
        "from sklearn.dummy import DummyClassifier\n",
        "dummy_mais_frequente = DummyClassifier()\n",
        "\n",
        "# Treinando o robô dummy\n",
        "dummy_mais_frequente .fit(treino_x,treino_y.values.ravel())\n",
        "\n",
        "# Outro método para verificar o acerto\n",
        "taxa_de_acerto = dummy_mais_frequente.score(teste_x,teste_y)*100\n",
        "print(\"O acerto dummy foi de: %.2f %%\" % taxa_de_acerto )"
      ],
      "execution_count": 4,
      "outputs": [
        {
          "output_type": "stream",
          "text": [
            "O acerto dummy foi de: 52.44 %\n"
          ],
          "name": "stdout"
        }
      ]
    },
    {
      "cell_type": "code",
      "metadata": {
        "id": "sdFUJQN6am6O",
        "outputId": "4f379d06-9ab7-446d-8472-a694e11116ae",
        "colab": {
          "base_uri": "https://localhost:8080/"
        }
      },
      "source": [
        "# Importando sklearn\n",
        "from sklearn.preprocessing import StandardScaler\n",
        "from sklearn.model_selection import train_test_split\n",
        "from sklearn.svm import SVC\n",
        "from sklearn.metrics import accuracy_score\n",
        "import numpy as np\n",
        "\n",
        "# Cria semente para números aleatórios\n",
        "SEED = 5\n",
        "np.random.seed(SEED)\n",
        "\n",
        "raw_treino_x, raw_teste_x, treino_y, teste_y = train_test_split (x, y,\n",
        "                                                         test_size= 0.25,\n",
        "                                                         stratify = y)\n",
        "\n",
        "print('Treinaremos com %d elementos e testaremos com %d elementos.' % (len(treino_x), len(teste_x)))\n",
        "\n",
        "scaler = StandardScaler()\n",
        "scaler.fit(raw_treino_x)\n",
        "\n",
        "# Tira a média e divide pelo desvio padrão\n",
        "treino_x = scaler.transform(raw_treino_x)\n",
        "teste_x = scaler.transform(raw_teste_x)\n",
        "\n",
        "# Treinando modelo\n",
        "modelo = SVC()\n",
        "modelo.fit(treino_x,treino_y)\n",
        "\n",
        "previsoes = modelo.predict(teste_x)\n",
        "\n",
        "# Método 02 para taxa de acerto\n",
        "taxa_de_acerto = accuracy_score(teste_y, previsoes)*100\n",
        "\n",
        "print(\"O acerto foi de: %.2f\" % taxa_de_acerto,'%' )"
      ],
      "execution_count": 5,
      "outputs": [
        {
          "output_type": "stream",
          "text": [
            "Treinaremos com 7500 elementos e testaremos com 2500 elementos.\n",
            "O acerto foi de: 77.48 %\n"
          ],
          "name": "stdout"
        }
      ]
    }
  ]
}