{
  "nbformat": 4,
  "nbformat_minor": 0,
  "metadata": {
    "colab": {
      "name": "Machine_Learning.ipynb",
      "provenance": [],
      "authorship_tag": "ABX9TyM+8ZSZL2/p2LNlr3CgC7/T",
      "include_colab_link": true
    },
    "kernelspec": {
      "name": "python3",
      "display_name": "Python 3"
    }
  },
  "cells": [
    {
      "cell_type": "markdown",
      "metadata": {
        "id": "view-in-github",
        "colab_type": "text"
      },
      "source": [
        "<a href=\"https://colab.research.google.com/github/gabrielvieiraf/ProjetosPython/blob/master/GoogleColab/Machine_Learning.ipynb\" target=\"_parent\"><img src=\"https://colab.research.google.com/assets/colab-badge.svg\" alt=\"Open In Colab\"/></a>"
      ]
    },
    {
      "cell_type": "markdown",
      "metadata": {
        "id": "BADQeXpI-dIY"
      },
      "source": [
        "# **Iniciando com Machine Learning**\n",
        "\n",
        "Primeiro projeto didático com machine learning, o objetivo é descobrir a raça do animal seguindo 3 parâmetros inicialmente atribuídos. "
      ]
    },
    {
      "cell_type": "code",
      "metadata": {
        "id": "x2vGxyF0-l7N",
        "outputId": "38533d5f-7d51-4f17-a6c9-bff438a52024",
        "colab": {
          "base_uri": "https://localhost:8080/"
        }
      },
      "source": [
        "# Características\n",
        "\n",
        "# Teremos 3 características que irão diferenciar as raças:\n",
        "# 1 --> O animal tem pelo longo?\n",
        "# 2 --> O animal tem perna Longa?\n",
        "# 3 --> O animal late?\n",
        "\n",
        "porco1 = [0,1,0]\n",
        "porco2 = [1,1,0]\n",
        "\n",
        "cachorro1 = [0,0,1]\n",
        "cachorro2 = [1,1,1]\n",
        "\n",
        "# Dados \n",
        "treino_x = [porco1,porco2,cachorro1,cachorro2]\n",
        "\n",
        "# Porco = 1 Cachorro = 0\n",
        "# Classes dos animais\n",
        "treino_y = [1,1,0,0]\n",
        "\n",
        "# Importando sklearn\n",
        "from sklearn.svm import LinearSVC\n",
        "from sklearn.metrics import accuracy_score\n",
        "\n",
        "# Criando modelo\n",
        "model = LinearSVC()\n",
        "model.fit(treino_x,treino_y)\n",
        "\n",
        "# Cachorros\n",
        "animal_misterioso = [1,1,1]\n",
        "animal_misterioso2 = [1,1,1]\n",
        "\n",
        "# Porcos\n",
        "animal_misterioso3 = [0,0,0]\n",
        "animal_misterioso4 = [1,1,0]\n",
        "\n",
        "testes_x = [animal_misterioso,animal_misterioso2,animal_misterioso3,animal_misterioso4]\n",
        "testes_y = [0,0,1,1]\n",
        "\n",
        "previsoes = model.predict(testes_x)\n",
        "\n",
        "# Método 01 para taxa de acerto\n",
        "taxa_acerto = ((previsoes == testes_y).sum()/len(testes_x))*100\n",
        "print(\"O acerto foi de: %.2f\" % taxa_acerto,'%' )\n",
        "\n",
        "# Método 02 para taxa de acerto\n",
        "taxa_de_acerto2 = accuracy_score(testes_y,previsoes)*100\n",
        "print(\"O acerto foi de: %.2f\" % taxa_de_acerto2,'%' )\n"
      ],
      "execution_count": 1,
      "outputs": [
        {
          "output_type": "stream",
          "text": [
            "O acerto foi de: 100.00 %\n",
            "O acerto foi de: 100.00 %\n"
          ],
          "name": "stdout"
        }
      ]
    },
    {
      "cell_type": "markdown",
      "metadata": {
        "id": "iGf5k-YQH3p5"
      },
      "source": [
        "# **Exemplo 02**\n",
        "\n",
        "Criando modelo de previsão de compra de um site web."
      ]
    },
    {
      "cell_type": "code",
      "metadata": {
        "id": "ogCJQwQfH7-N",
        "outputId": "59ad0fe4-2815-473b-ba6e-80a36b7823fd",
        "colab": {
          "base_uri": "https://localhost:8080/"
        }
      },
      "source": [
        "import pandas as pd\n",
        "\n",
        "dados = pd.read_csv('https://gist.githubusercontent.com/guilhermesilveira/2d2efa37d66b6c84a722ea627a897ced/raw/10968b997d885cbded1c92938c7a9912ba41c615/tracking.csv')\n",
        "dados.head()\n",
        "\n",
        "# Traduzindo colunas\n",
        "dados.rename(columns = {'home':'Inicio',\n",
        "                        'how_it_works':'Como_funciona',\n",
        "                        'contact':'Contato',\n",
        "                        'bought':'Comprou'},\n",
        "             inplace = True)\n",
        "\n",
        "# Atribuindo valor aos eixos\n",
        "x = dados[['Inicio','Como_funciona','Contato']]\n",
        "y = dados[['Comprou']]\n",
        "\n",
        "# Método 01\n",
        "# Separando 25% treino 75% teste\n",
        "porcentagem_dados = round(round(dados.shape[0]*0.75))\n",
        "\n",
        "# 75%\n",
        "treino_x = x[:porcentagem_dados]\n",
        "treino_y = y[:porcentagem_dados]\n",
        "\n",
        "# 25%\n",
        "teste_x = x[porcentagem_dados:]\n",
        "teste_y = y[porcentagem_dados:]\n",
        "\n",
        "print('Treinaremos com %d elementos e testaremos com %d elementos.' % (len(treino_x), len(teste_x)))\n",
        "\n",
        "# Método 02\n",
        "from sklearn.model_selection import train_test_split\n",
        "\n",
        "SEED = 20\n",
        "\n",
        "treino_x, teste_x, treino_y, teste_y = train_test_split (x, y,\n",
        "                                                         random_state=SEED,\n",
        "                                                         test_size=0.25,\n",
        "                                                         stratify = y)\n",
        "\n",
        "print('Treinaremos com %d elementos e testaremos com %d elementos.' % (len(treino_x), len(teste_x)))\n"
      ],
      "execution_count": 9,
      "outputs": [
        {
          "output_type": "stream",
          "text": [
            "Treinaremos com 74 elementos e testaremos com 25 elementos.\n",
            "Treinaremos com 74 elementos e testaremos com 25 elementos.\n"
          ],
          "name": "stdout"
        }
      ]
    },
    {
      "cell_type": "markdown",
      "metadata": {
        "id": "lLIdmtuhQHb7"
      },
      "source": [
        "## **Importando biblioteca e criando modelo**"
      ]
    },
    {
      "cell_type": "code",
      "metadata": {
        "id": "lVceqonnQEz7",
        "outputId": "6e76e270-1034-4b08-9373-d2dc6c46860c",
        "colab": {
          "base_uri": "https://localhost:8080/"
        }
      },
      "source": [
        "# Importando sklearn\n",
        "from sklearn.svm import LinearSVC\n",
        "from sklearn.metrics import accuracy_score\n",
        "\n",
        "# Criando modelo\n",
        "modelo = LinearSVC()\n",
        "\n",
        "# Treinando o robô\n",
        "modelo.fit(treino_x,treino_y)\n",
        "\n",
        "previsoes = modelo.predict(teste_x)\n",
        "previsoes.shape[0]\n",
        "\n",
        "# Método 02 para taxa de acerto\n",
        "taxa_de_acerto = accuracy_score(teste_y, previsoes)*100\n",
        "\n",
        "print(\"O acerto foi de: %.2f\" % taxa_de_acerto,'%' )"
      ],
      "execution_count": 10,
      "outputs": [
        {
          "output_type": "stream",
          "text": [
            "O acerto foi de: 96.00 %\n"
          ],
          "name": "stdout"
        },
        {
          "output_type": "stream",
          "text": [
            "/usr/local/lib/python3.6/dist-packages/sklearn/utils/validation.py:760: DataConversionWarning: A column-vector y was passed when a 1d array was expected. Please change the shape of y to (n_samples, ), for example using ravel().\n",
            "  y = column_or_1d(y, warn=True)\n"
          ],
          "name": "stderr"
        }
      ]
    },
    {
      "cell_type": "code",
      "metadata": {
        "id": "GUa1HoJtQNrs",
        "outputId": "5b9e2a80-0069-441b-97b0-fbb711efaa7e",
        "colab": {
          "base_uri": "https://localhost:8080/"
        }
      },
      "source": [
        "treino_y.value_counts()"
      ],
      "execution_count": 11,
      "outputs": [
        {
          "output_type": "execute_result",
          "data": {
            "text/plain": [
              "Comprou\n",
              "0          49\n",
              "1          25\n",
              "dtype: int64"
            ]
          },
          "metadata": {
            "tags": []
          },
          "execution_count": 11
        }
      ]
    },
    {
      "cell_type": "code",
      "metadata": {
        "id": "WX9gp_LTbox-",
        "outputId": "8ba73bbb-417b-485d-b995-d42e8edb3914",
        "colab": {
          "base_uri": "https://localhost:8080/"
        }
      },
      "source": [
        "teste_y.value_counts()"
      ],
      "execution_count": 12,
      "outputs": [
        {
          "output_type": "execute_result",
          "data": {
            "text/plain": [
              "Comprou\n",
              "0          17\n",
              "1           8\n",
              "dtype: int64"
            ]
          },
          "metadata": {
            "tags": []
          },
          "execution_count": 12
        }
      ]
    }
  ]
}