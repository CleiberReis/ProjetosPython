{
  "nbformat": 4,
  "nbformat_minor": 0,
  "metadata": {
    "colab": {
      "name": "Derivadas.ipynb",
      "provenance": [],
      "authorship_tag": "ABX9TyM2AI5j+oeYfYQQfBZggnKB",
      "include_colab_link": true
    },
    "kernelspec": {
      "name": "python3",
      "display_name": "Python 3"
    }
  },
  "cells": [
    {
      "cell_type": "markdown",
      "metadata": {
        "id": "view-in-github",
        "colab_type": "text"
      },
      "source": [
        "<a href=\"https://colab.research.google.com/github/gabrielvieiraf/ProjetosPython/blob/master/GoogleColab/Calculo/Derivadas.ipynb\" target=\"_parent\"><img src=\"https://colab.research.google.com/assets/colab-badge.svg\" alt=\"Open In Colab\"/></a>"
      ]
    },
    {
      "cell_type": "markdown",
      "metadata": {
        "id": "oTX48mMGddKd"
      },
      "source": [
        "# Matemática: Introdução ao Cálculo de Derivadas"
      ]
    },
    {
      "cell_type": "markdown",
      "metadata": {
        "id": "PXZpn9huec2B"
      },
      "source": [
        "# Variação Instantânea de uma Função\n",
        "\n",
        "## **Exemplo 01**\n",
        "\n",
        "O modelo de oscilação de um amortecedor é descrito pela seguinte função:\n",
        "\n",
        "**Distância entre as extremidades**\n",
        "\n",
        "$ g(x) = e^{\\sqrt{X}}cos(x)$\n",
        "\n",
        "**Função arbitrária para comparação**\n",
        "\n",
        "$ f(x) = x + 1$\n"
      ]
    },
    {
      "cell_type": "markdown",
      "metadata": {
        "id": "8luhSVQ6dIAa"
      },
      "source": [
        "## Definindo Funções"
      ]
    },
    {
      "cell_type": "code",
      "metadata": {
        "id": "dJMu1Eb6UrnK",
        "outputId": "d7eafa76-fab6-4554-9638-64c79796ebe1",
        "colab": {
          "base_uri": "https://localhost:8080/"
        }
      },
      "source": [
        "from sympy import *\n",
        "import math\n",
        "from math import *\n",
        "init_printing()\n",
        "\n",
        "var('x')\n",
        "\n",
        "# Trabalhando em Radianos\n",
        "def g(x): return ( e ** ( sqrt( x ) )) * ( cos( x ) ) \n",
        "def f(x): return x + 1\n",
        "\n",
        "print(g(0))\n",
        "print(f(0))\n"
      ],
      "execution_count": 92,
      "outputs": [
        {
          "output_type": "stream",
          "text": [
            "1.0\n",
            "1\n"
          ],
          "name": "stdout"
        }
      ]
    },
    {
      "cell_type": "markdown",
      "metadata": {
        "id": "d90sz3WmDdsd"
      },
      "source": [
        "## Variação Média da Função\n",
        "\n",
        "A variação média de uma função f(x), dentro do intervalo [a,b] é definida por:\n",
        "\n",
        "$\n",
        "\\dfrac{\\Delta f(x)}{\\Delta x} = \\dfrac{f(b)-f(a)}{b-a}\n",
        "$\n",
        "\n"
      ]
    },
    {
      "cell_type": "code",
      "metadata": {
        "id": "W8Twh-goDhj9",
        "outputId": "4af5c26f-5be4-4556-81e0-de4ac60342d2",
        "colab": {
          "base_uri": "https://localhost:8080/"
        }
      },
      "source": [
        "def variacao_f(a,b): return (f(b)-f(a))/(b -a)\n",
        "def variacao_g(a,b): return (g(b)-g(a))/(b -a)\n",
        "\n",
        "print(variacao_f(0,5.39))\n",
        "print(variacao_g(0,5.39))"
      ],
      "execution_count": 93,
      "outputs": [
        {
          "output_type": "stream",
          "text": [
            "1.0\n",
            "0.9999863432970383\n"
          ],
          "name": "stdout"
        }
      ]
    },
    {
      "cell_type": "markdown",
      "metadata": {
        "id": "2tgrU6OdMvJh"
      },
      "source": [
        "### Utilizando Bokeh para plotar gráficos"
      ]
    },
    {
      "cell_type": "code",
      "metadata": {
        "id": "vYO40SVvKk0p",
        "outputId": "ae3a2b96-b3ff-422f-ff50-798c06ec5afe",
        "colab": {
          "base_uri": "https://localhost:8080/",
          "height": 617
        }
      },
      "source": [
        "from bokeh.plotting import figure, output_notebook, show\n",
        "from bokeh.io import curdoc, show\n",
        "from bokeh.io import output_notebook\n",
        "from bokeh.models.tools import HoverTool\n",
        "\n",
        "output_notebook()\n",
        "\n",
        "import numpy as np\n",
        "\n",
        "x = list()\n",
        "y = list()\n",
        "\n",
        "for i in np.arange(0,20, step=0.1):\n",
        "  x.append(i)\n",
        "  y.append(g(i))\n",
        "\n",
        "# Gerando canvas\n",
        "fig = figure(title='Gráfico com Bokeh',\n",
        "             x_axis_label='x',\n",
        "             y_axis_label='y',\n",
        "             width=600,\n",
        "             height=600)\n",
        "# Desenhando a linha\n",
        "fig.line(x, y, \n",
        "         line_alpha=1,\n",
        "         legend_label='g (x)', \n",
        "         line_width=3)\n",
        "\n",
        "x2 = list()\n",
        "y2 = list()\n",
        "\n",
        "for i in np.arange(0,20, step=0.1):\n",
        "  x2.append(i)\n",
        "  y2.append(f(i))\n",
        "\n",
        "\n",
        "# Desenhando a linha\n",
        "fig.line(x2, y2, \n",
        "         line_alpha=1,\n",
        "         legend_label='f (x)', \n",
        "         line_width=3, \n",
        "         color= 'green')\n",
        "\n",
        "fig.add_tools(HoverTool(\n",
        "    tooltips='<font face=\"Arial\" size=\"3\"> x = @x{0.00}, y = @y{0.00}</font>',\n",
        "    mode='vline'\n",
        "))\n",
        "\n",
        "show(fig)\n"
      ],
      "execution_count": 103,
      "outputs": [
        {
          "output_type": "display_data",
          "data": {
            "application/javascript": [
              "\n",
              "(function(root) {\n",
              "  function now() {\n",
              "    return new Date();\n",
              "  }\n",
              "\n",
              "  var force = true;\n",
              "\n",
              "  if (typeof root._bokeh_onload_callbacks === \"undefined\" || force === true) {\n",
              "    root._bokeh_onload_callbacks = [];\n",
              "    root._bokeh_is_loading = undefined;\n",
              "  }\n",
              "\n",
              "  var JS_MIME_TYPE = 'application/javascript';\n",
              "  var HTML_MIME_TYPE = 'text/html';\n",
              "  var EXEC_MIME_TYPE = 'application/vnd.bokehjs_exec.v0+json';\n",
              "  var CLASS_NAME = 'output_bokeh rendered_html';\n",
              "\n",
              "  /**\n",
              "   * Render data to the DOM node\n",
              "   */\n",
              "  function render(props, node) {\n",
              "    var script = document.createElement(\"script\");\n",
              "    node.appendChild(script);\n",
              "  }\n",
              "\n",
              "  /**\n",
              "   * Handle when an output is cleared or removed\n",
              "   */\n",
              "  function handleClearOutput(event, handle) {\n",
              "    var cell = handle.cell;\n",
              "\n",
              "    var id = cell.output_area._bokeh_element_id;\n",
              "    var server_id = cell.output_area._bokeh_server_id;\n",
              "    // Clean up Bokeh references\n",
              "    if (id != null && id in Bokeh.index) {\n",
              "      Bokeh.index[id].model.document.clear();\n",
              "      delete Bokeh.index[id];\n",
              "    }\n",
              "\n",
              "    if (server_id !== undefined) {\n",
              "      // Clean up Bokeh references\n",
              "      var cmd = \"from bokeh.io.state import curstate; print(curstate().uuid_to_server['\" + server_id + \"'].get_sessions()[0].document.roots[0]._id)\";\n",
              "      cell.notebook.kernel.execute(cmd, {\n",
              "        iopub: {\n",
              "          output: function(msg) {\n",
              "            var id = msg.content.text.trim();\n",
              "            if (id in Bokeh.index) {\n",
              "              Bokeh.index[id].model.document.clear();\n",
              "              delete Bokeh.index[id];\n",
              "            }\n",
              "          }\n",
              "        }\n",
              "      });\n",
              "      // Destroy server and session\n",
              "      var cmd = \"import bokeh.io.notebook as ion; ion.destroy_server('\" + server_id + \"')\";\n",
              "      cell.notebook.kernel.execute(cmd);\n",
              "    }\n",
              "  }\n",
              "\n",
              "  /**\n",
              "   * Handle when a new output is added\n",
              "   */\n",
              "  function handleAddOutput(event, handle) {\n",
              "    var output_area = handle.output_area;\n",
              "    var output = handle.output;\n",
              "\n",
              "    // limit handleAddOutput to display_data with EXEC_MIME_TYPE content only\n",
              "    if ((output.output_type != \"display_data\") || (!output.data.hasOwnProperty(EXEC_MIME_TYPE))) {\n",
              "      return\n",
              "    }\n",
              "\n",
              "    var toinsert = output_area.element.find(\".\" + CLASS_NAME.split(' ')[0]);\n",
              "\n",
              "    if (output.metadata[EXEC_MIME_TYPE][\"id\"] !== undefined) {\n",
              "      toinsert[toinsert.length - 1].firstChild.textContent = output.data[JS_MIME_TYPE];\n",
              "      // store reference to embed id on output_area\n",
              "      output_area._bokeh_element_id = output.metadata[EXEC_MIME_TYPE][\"id\"];\n",
              "    }\n",
              "    if (output.metadata[EXEC_MIME_TYPE][\"server_id\"] !== undefined) {\n",
              "      var bk_div = document.createElement(\"div\");\n",
              "      bk_div.innerHTML = output.data[HTML_MIME_TYPE];\n",
              "      var script_attrs = bk_div.children[0].attributes;\n",
              "      for (var i = 0; i < script_attrs.length; i++) {\n",
              "        toinsert[toinsert.length - 1].firstChild.setAttribute(script_attrs[i].name, script_attrs[i].value);\n",
              "        toinsert[toinsert.length - 1].firstChild.textContent = bk_div.children[0].textContent\n",
              "      }\n",
              "      // store reference to server id on output_area\n",
              "      output_area._bokeh_server_id = output.metadata[EXEC_MIME_TYPE][\"server_id\"];\n",
              "    }\n",
              "  }\n",
              "\n",
              "  function register_renderer(events, OutputArea) {\n",
              "\n",
              "    function append_mime(data, metadata, element) {\n",
              "      // create a DOM node to render to\n",
              "      var toinsert = this.create_output_subarea(\n",
              "        metadata,\n",
              "        CLASS_NAME,\n",
              "        EXEC_MIME_TYPE\n",
              "      );\n",
              "      this.keyboard_manager.register_events(toinsert);\n",
              "      // Render to node\n",
              "      var props = {data: data, metadata: metadata[EXEC_MIME_TYPE]};\n",
              "      render(props, toinsert[toinsert.length - 1]);\n",
              "      element.append(toinsert);\n",
              "      return toinsert\n",
              "    }\n",
              "\n",
              "    /* Handle when an output is cleared or removed */\n",
              "    events.on('clear_output.CodeCell', handleClearOutput);\n",
              "    events.on('delete.Cell', handleClearOutput);\n",
              "\n",
              "    /* Handle when a new output is added */\n",
              "    events.on('output_added.OutputArea', handleAddOutput);\n",
              "\n",
              "    /**\n",
              "     * Register the mime type and append_mime function with output_area\n",
              "     */\n",
              "    OutputArea.prototype.register_mime_type(EXEC_MIME_TYPE, append_mime, {\n",
              "      /* Is output safe? */\n",
              "      safe: true,\n",
              "      /* Index of renderer in `output_area.display_order` */\n",
              "      index: 0\n",
              "    });\n",
              "  }\n",
              "\n",
              "  // register the mime type if in Jupyter Notebook environment and previously unregistered\n",
              "  if (root.Jupyter !== undefined) {\n",
              "    var events = require('base/js/events');\n",
              "    var OutputArea = require('notebook/js/outputarea').OutputArea;\n",
              "\n",
              "    if (OutputArea.prototype.mime_types().indexOf(EXEC_MIME_TYPE) == -1) {\n",
              "      register_renderer(events, OutputArea);\n",
              "    }\n",
              "  }\n",
              "\n",
              "  \n",
              "  if (typeof (root._bokeh_timeout) === \"undefined\" || force === true) {\n",
              "    root._bokeh_timeout = Date.now() + 5000;\n",
              "    root._bokeh_failed_load = false;\n",
              "  }\n",
              "\n",
              "  var NB_LOAD_WARNING = {'data': {'text/html':\n",
              "     \"<div style='background-color: #fdd'>\\n\"+\n",
              "     \"<p>\\n\"+\n",
              "     \"BokehJS does not appear to have successfully loaded. If loading BokehJS from CDN, this \\n\"+\n",
              "     \"may be due to a slow or bad network connection. Possible fixes:\\n\"+\n",
              "     \"</p>\\n\"+\n",
              "     \"<ul>\\n\"+\n",
              "     \"<li>re-rerun `output_notebook()` to attempt to load from CDN again, or</li>\\n\"+\n",
              "     \"<li>use INLINE resources instead, as so:</li>\\n\"+\n",
              "     \"</ul>\\n\"+\n",
              "     \"<code>\\n\"+\n",
              "     \"from bokeh.resources import INLINE\\n\"+\n",
              "     \"output_notebook(resources=INLINE)\\n\"+\n",
              "     \"</code>\\n\"+\n",
              "     \"</div>\"}};\n",
              "\n",
              "  function display_loaded() {\n",
              "    var el = document.getElementById(null);\n",
              "    if (el != null) {\n",
              "      el.textContent = \"BokehJS is loading...\";\n",
              "    }\n",
              "    if (root.Bokeh !== undefined) {\n",
              "      if (el != null) {\n",
              "        el.textContent = \"BokehJS \" + root.Bokeh.version + \" successfully loaded.\";\n",
              "      }\n",
              "    } else if (Date.now() < root._bokeh_timeout) {\n",
              "      setTimeout(display_loaded, 100)\n",
              "    }\n",
              "  }\n",
              "\n",
              "\n",
              "  function run_callbacks() {\n",
              "    try {\n",
              "      root._bokeh_onload_callbacks.forEach(function(callback) {\n",
              "        if (callback != null)\n",
              "          callback();\n",
              "      });\n",
              "    } finally {\n",
              "      delete root._bokeh_onload_callbacks\n",
              "    }\n",
              "    console.debug(\"Bokeh: all callbacks have finished\");\n",
              "  }\n",
              "\n",
              "  function load_libs(css_urls, js_urls, callback) {\n",
              "    if (css_urls == null) css_urls = [];\n",
              "    if (js_urls == null) js_urls = [];\n",
              "\n",
              "    root._bokeh_onload_callbacks.push(callback);\n",
              "    if (root._bokeh_is_loading > 0) {\n",
              "      console.debug(\"Bokeh: BokehJS is being loaded, scheduling callback at\", now());\n",
              "      return null;\n",
              "    }\n",
              "    if (js_urls == null || js_urls.length === 0) {\n",
              "      run_callbacks();\n",
              "      return null;\n",
              "    }\n",
              "    console.debug(\"Bokeh: BokehJS not loaded, scheduling load and callback at\", now());\n",
              "    root._bokeh_is_loading = css_urls.length + js_urls.length;\n",
              "\n",
              "    function on_load() {\n",
              "      root._bokeh_is_loading--;\n",
              "      if (root._bokeh_is_loading === 0) {\n",
              "        console.debug(\"Bokeh: all BokehJS libraries/stylesheets loaded\");\n",
              "        run_callbacks()\n",
              "      }\n",
              "    }\n",
              "\n",
              "    function on_error() {\n",
              "      console.error(\"failed to load \" + url);\n",
              "    }\n",
              "\n",
              "    for (var i = 0; i < css_urls.length; i++) {\n",
              "      var url = css_urls[i];\n",
              "      const element = document.createElement(\"link\");\n",
              "      element.onload = on_load;\n",
              "      element.onerror = on_error;\n",
              "      element.rel = \"stylesheet\";\n",
              "      element.type = \"text/css\";\n",
              "      element.href = url;\n",
              "      console.debug(\"Bokeh: injecting link tag for BokehJS stylesheet: \", url);\n",
              "      document.body.appendChild(element);\n",
              "    }\n",
              "\n",
              "    const hashes = {\"https://cdn.bokeh.org/bokeh/release/bokeh-2.1.1.min.js\": \"kLr4fYcqcSpbuI95brIH3vnnYCquzzSxHPU6XGQCIkQRGJwhg0StNbj1eegrHs12\", \"https://cdn.bokeh.org/bokeh/release/bokeh-widgets-2.1.1.min.js\": \"xIGPmVtaOm+z0BqfSOMn4lOR6ciex448GIKG4eE61LsAvmGj48XcMQZtKcE/UXZe\", \"https://cdn.bokeh.org/bokeh/release/bokeh-tables-2.1.1.min.js\": \"Dc9u1wF/0zApGIWoBbH77iWEHtdmkuYWG839Uzmv8y8yBLXebjO9ZnERsde5Ln/P\", \"https://cdn.bokeh.org/bokeh/release/bokeh-gl-2.1.1.min.js\": \"cT9JaBz7GiRXdENrJLZNSC6eMNF3nh3fa5fTF51Svp+ukxPdwcU5kGXGPBgDCa2j\"};\n",
              "\n",
              "    for (var i = 0; i < js_urls.length; i++) {\n",
              "      var url = js_urls[i];\n",
              "      var element = document.createElement('script');\n",
              "      element.onload = on_load;\n",
              "      element.onerror = on_error;\n",
              "      element.async = false;\n",
              "      element.src = url;\n",
              "      if (url in hashes) {\n",
              "        element.crossOrigin = \"anonymous\";\n",
              "        element.integrity = \"sha384-\" + hashes[url];\n",
              "      }\n",
              "      console.debug(\"Bokeh: injecting script tag for BokehJS library: \", url);\n",
              "      document.head.appendChild(element);\n",
              "    }\n",
              "  };\n",
              "\n",
              "  function inject_raw_css(css) {\n",
              "    const element = document.createElement(\"style\");\n",
              "    element.appendChild(document.createTextNode(css));\n",
              "    document.body.appendChild(element);\n",
              "  }\n",
              "\n",
              "  \n",
              "  var js_urls = [\"https://cdn.bokeh.org/bokeh/release/bokeh-2.1.1.min.js\", \"https://cdn.bokeh.org/bokeh/release/bokeh-widgets-2.1.1.min.js\", \"https://cdn.bokeh.org/bokeh/release/bokeh-tables-2.1.1.min.js\", \"https://cdn.bokeh.org/bokeh/release/bokeh-gl-2.1.1.min.js\"];\n",
              "  var css_urls = [];\n",
              "  \n",
              "\n",
              "  var inline_js = [\n",
              "    function(Bokeh) {\n",
              "      Bokeh.set_log_level(\"info\");\n",
              "    },\n",
              "    function(Bokeh) {\n",
              "    \n",
              "    \n",
              "    }\n",
              "  ];\n",
              "\n",
              "  function run_inline_js() {\n",
              "    \n",
              "    if (root.Bokeh !== undefined || force === true) {\n",
              "      \n",
              "    for (var i = 0; i < inline_js.length; i++) {\n",
              "      inline_js[i].call(root, root.Bokeh);\n",
              "    }\n",
              "    } else if (Date.now() < root._bokeh_timeout) {\n",
              "      setTimeout(run_inline_js, 100);\n",
              "    } else if (!root._bokeh_failed_load) {\n",
              "      console.log(\"Bokeh: BokehJS failed to load within specified timeout.\");\n",
              "      root._bokeh_failed_load = true;\n",
              "    } else if (force !== true) {\n",
              "      var cell = $(document.getElementById(null)).parents('.cell').data().cell;\n",
              "      cell.output_area.append_execute_result(NB_LOAD_WARNING)\n",
              "    }\n",
              "\n",
              "  }\n",
              "\n",
              "  if (root._bokeh_is_loading === 0) {\n",
              "    console.debug(\"Bokeh: BokehJS loaded, going straight to plotting\");\n",
              "    run_inline_js();\n",
              "  } else {\n",
              "    load_libs(css_urls, js_urls, function() {\n",
              "      console.debug(\"Bokeh: BokehJS plotting callback run at\", now());\n",
              "      run_inline_js();\n",
              "    });\n",
              "  }\n",
              "}(window));"
            ],
            "application/vnd.bokehjs_load.v0+json": "\n(function(root) {\n  function now() {\n    return new Date();\n  }\n\n  var force = true;\n\n  if (typeof root._bokeh_onload_callbacks === \"undefined\" || force === true) {\n    root._bokeh_onload_callbacks = [];\n    root._bokeh_is_loading = undefined;\n  }\n\n  \n\n  \n  if (typeof (root._bokeh_timeout) === \"undefined\" || force === true) {\n    root._bokeh_timeout = Date.now() + 5000;\n    root._bokeh_failed_load = false;\n  }\n\n  var NB_LOAD_WARNING = {'data': {'text/html':\n     \"<div style='background-color: #fdd'>\\n\"+\n     \"<p>\\n\"+\n     \"BokehJS does not appear to have successfully loaded. If loading BokehJS from CDN, this \\n\"+\n     \"may be due to a slow or bad network connection. Possible fixes:\\n\"+\n     \"</p>\\n\"+\n     \"<ul>\\n\"+\n     \"<li>re-rerun `output_notebook()` to attempt to load from CDN again, or</li>\\n\"+\n     \"<li>use INLINE resources instead, as so:</li>\\n\"+\n     \"</ul>\\n\"+\n     \"<code>\\n\"+\n     \"from bokeh.resources import INLINE\\n\"+\n     \"output_notebook(resources=INLINE)\\n\"+\n     \"</code>\\n\"+\n     \"</div>\"}};\n\n  function display_loaded() {\n    var el = document.getElementById(null);\n    if (el != null) {\n      el.textContent = \"BokehJS is loading...\";\n    }\n    if (root.Bokeh !== undefined) {\n      if (el != null) {\n        el.textContent = \"BokehJS \" + root.Bokeh.version + \" successfully loaded.\";\n      }\n    } else if (Date.now() < root._bokeh_timeout) {\n      setTimeout(display_loaded, 100)\n    }\n  }\n\n\n  function run_callbacks() {\n    try {\n      root._bokeh_onload_callbacks.forEach(function(callback) {\n        if (callback != null)\n          callback();\n      });\n    } finally {\n      delete root._bokeh_onload_callbacks\n    }\n    console.debug(\"Bokeh: all callbacks have finished\");\n  }\n\n  function load_libs(css_urls, js_urls, callback) {\n    if (css_urls == null) css_urls = [];\n    if (js_urls == null) js_urls = [];\n\n    root._bokeh_onload_callbacks.push(callback);\n    if (root._bokeh_is_loading > 0) {\n      console.debug(\"Bokeh: BokehJS is being loaded, scheduling callback at\", now());\n      return null;\n    }\n    if (js_urls == null || js_urls.length === 0) {\n      run_callbacks();\n      return null;\n    }\n    console.debug(\"Bokeh: BokehJS not loaded, scheduling load and callback at\", now());\n    root._bokeh_is_loading = css_urls.length + js_urls.length;\n\n    function on_load() {\n      root._bokeh_is_loading--;\n      if (root._bokeh_is_loading === 0) {\n        console.debug(\"Bokeh: all BokehJS libraries/stylesheets loaded\");\n        run_callbacks()\n      }\n    }\n\n    function on_error() {\n      console.error(\"failed to load \" + url);\n    }\n\n    for (var i = 0; i < css_urls.length; i++) {\n      var url = css_urls[i];\n      const element = document.createElement(\"link\");\n      element.onload = on_load;\n      element.onerror = on_error;\n      element.rel = \"stylesheet\";\n      element.type = \"text/css\";\n      element.href = url;\n      console.debug(\"Bokeh: injecting link tag for BokehJS stylesheet: \", url);\n      document.body.appendChild(element);\n    }\n\n    const hashes = {\"https://cdn.bokeh.org/bokeh/release/bokeh-2.1.1.min.js\": \"kLr4fYcqcSpbuI95brIH3vnnYCquzzSxHPU6XGQCIkQRGJwhg0StNbj1eegrHs12\", \"https://cdn.bokeh.org/bokeh/release/bokeh-widgets-2.1.1.min.js\": \"xIGPmVtaOm+z0BqfSOMn4lOR6ciex448GIKG4eE61LsAvmGj48XcMQZtKcE/UXZe\", \"https://cdn.bokeh.org/bokeh/release/bokeh-tables-2.1.1.min.js\": \"Dc9u1wF/0zApGIWoBbH77iWEHtdmkuYWG839Uzmv8y8yBLXebjO9ZnERsde5Ln/P\", \"https://cdn.bokeh.org/bokeh/release/bokeh-gl-2.1.1.min.js\": \"cT9JaBz7GiRXdENrJLZNSC6eMNF3nh3fa5fTF51Svp+ukxPdwcU5kGXGPBgDCa2j\"};\n\n    for (var i = 0; i < js_urls.length; i++) {\n      var url = js_urls[i];\n      var element = document.createElement('script');\n      element.onload = on_load;\n      element.onerror = on_error;\n      element.async = false;\n      element.src = url;\n      if (url in hashes) {\n        element.crossOrigin = \"anonymous\";\n        element.integrity = \"sha384-\" + hashes[url];\n      }\n      console.debug(\"Bokeh: injecting script tag for BokehJS library: \", url);\n      document.head.appendChild(element);\n    }\n  };\n\n  function inject_raw_css(css) {\n    const element = document.createElement(\"style\");\n    element.appendChild(document.createTextNode(css));\n    document.body.appendChild(element);\n  }\n\n  \n  var js_urls = [\"https://cdn.bokeh.org/bokeh/release/bokeh-2.1.1.min.js\", \"https://cdn.bokeh.org/bokeh/release/bokeh-widgets-2.1.1.min.js\", \"https://cdn.bokeh.org/bokeh/release/bokeh-tables-2.1.1.min.js\", \"https://cdn.bokeh.org/bokeh/release/bokeh-gl-2.1.1.min.js\"];\n  var css_urls = [];\n  \n\n  var inline_js = [\n    function(Bokeh) {\n      Bokeh.set_log_level(\"info\");\n    },\n    function(Bokeh) {\n    \n    \n    }\n  ];\n\n  function run_inline_js() {\n    \n    if (root.Bokeh !== undefined || force === true) {\n      \n    for (var i = 0; i < inline_js.length; i++) {\n      inline_js[i].call(root, root.Bokeh);\n    }\n    } else if (Date.now() < root._bokeh_timeout) {\n      setTimeout(run_inline_js, 100);\n    } else if (!root._bokeh_failed_load) {\n      console.log(\"Bokeh: BokehJS failed to load within specified timeout.\");\n      root._bokeh_failed_load = true;\n    } else if (force !== true) {\n      var cell = $(document.getElementById(null)).parents('.cell').data().cell;\n      cell.output_area.append_execute_result(NB_LOAD_WARNING)\n    }\n\n  }\n\n  if (root._bokeh_is_loading === 0) {\n    console.debug(\"Bokeh: BokehJS loaded, going straight to plotting\");\n    run_inline_js();\n  } else {\n    load_libs(css_urls, js_urls, function() {\n      console.debug(\"Bokeh: BokehJS plotting callback run at\", now());\n      run_inline_js();\n    });\n  }\n}(window));"
          },
          "metadata": {
            "tags": []
          }
        },
        {
          "output_type": "display_data",
          "data": {
            "text/html": [
              "\n",
              "\n",
              "\n",
              "\n",
              "\n",
              "\n",
              "  <div class=\"bk-root\" id=\"84457d03-3665-42b8-b786-b0e8afec9bbd\" data-root-id=\"12768\"></div>\n"
            ]
          },
          "metadata": {
            "tags": []
          }
        },
        {
          "output_type": "display_data",
          "data": {
            "application/javascript": [
              "(function(root) {\n",
              "  function embed_document(root) {\n",
              "    \n",
              "  var docs_json = {\"cc8da66b-bfa9-4118-8bcd-792baf1002b3\":{\"roots\":{\"references\":[{\"attributes\":{\"below\":[{\"id\":\"12779\"}],\"center\":[{\"id\":\"12782\"},{\"id\":\"12786\"},{\"id\":\"12814\"}],\"left\":[{\"id\":\"12783\"}],\"renderers\":[{\"id\":\"12804\"},{\"id\":\"12819\"}],\"title\":{\"id\":\"12769\"},\"toolbar\":{\"id\":\"12794\"},\"x_range\":{\"id\":\"12771\"},\"x_scale\":{\"id\":\"12775\"},\"y_range\":{\"id\":\"12773\"},\"y_scale\":{\"id\":\"12777\"}},\"id\":\"12768\",\"subtype\":\"Figure\",\"type\":\"Plot\"},{\"attributes\":{\"label\":{\"value\":\"g (x)\"},\"renderers\":[{\"id\":\"12804\"}]},\"id\":\"12815\",\"type\":\"LegendItem\"},{\"attributes\":{},\"id\":\"12775\",\"type\":\"LinearScale\"},{\"attributes\":{\"items\":[{\"id\":\"12815\"},{\"id\":\"12831\"}]},\"id\":\"12814\",\"type\":\"Legend\"},{\"attributes\":{},\"id\":\"12777\",\"type\":\"LinearScale\"},{\"attributes\":{\"axis_label\":\"x\",\"formatter\":{\"id\":\"12807\"},\"ticker\":{\"id\":\"12780\"}},\"id\":\"12779\",\"type\":\"LinearAxis\"},{\"attributes\":{\"bottom_units\":\"screen\",\"fill_alpha\":0.5,\"fill_color\":\"lightgrey\",\"left_units\":\"screen\",\"level\":\"overlay\",\"line_alpha\":1.0,\"line_color\":\"black\",\"line_dash\":[4,4],\"line_width\":2,\"right_units\":\"screen\",\"top_units\":\"screen\"},\"id\":\"12793\",\"type\":\"BoxAnnotation\"},{\"attributes\":{},\"id\":\"12812\",\"type\":\"UnionRenderers\"},{\"attributes\":{},\"id\":\"12780\",\"type\":\"BasicTicker\"},{\"attributes\":{\"line_color\":\"#1f77b4\",\"line_width\":3,\"x\":{\"field\":\"x\"},\"y\":{\"field\":\"y\"}},\"id\":\"12802\",\"type\":\"Line\"},{\"attributes\":{\"axis\":{\"id\":\"12779\"},\"ticker\":null},\"id\":\"12782\",\"type\":\"Grid\"},{\"attributes\":{\"line_alpha\":0.1,\"line_color\":\"#1f77b4\",\"line_width\":3,\"x\":{\"field\":\"x\"},\"y\":{\"field\":\"y\"}},\"id\":\"12803\",\"type\":\"Line\"},{\"attributes\":{\"axis_label\":\"y\",\"formatter\":{\"id\":\"12809\"},\"ticker\":{\"id\":\"12784\"}},\"id\":\"12783\",\"type\":\"LinearAxis\"},{\"attributes\":{\"source\":{\"id\":\"12801\"}},\"id\":\"12805\",\"type\":\"CDSView\"},{\"attributes\":{\"data\":{\"x\":[0.0,0.1,0.2,0.30000000000000004,0.4,0.5,0.6000000000000001,0.7000000000000001,0.8,0.9,1.0,1.1,1.2000000000000002,1.3,1.4000000000000001,1.5,1.6,1.7000000000000002,1.8,1.9000000000000001,2.0,2.1,2.2,2.3000000000000003,2.4000000000000004,2.5,2.6,2.7,2.8000000000000003,2.9000000000000004,3.0,3.1,3.2,3.3000000000000003,3.4000000000000004,3.5,3.6,3.7,3.8000000000000003,3.9000000000000004,4.0,4.1000000000000005,4.2,4.3,4.4,4.5,4.6000000000000005,4.7,4.800000000000001,4.9,5.0,5.1000000000000005,5.2,5.300000000000001,5.4,5.5,5.6000000000000005,5.7,5.800000000000001,5.9,6.0,6.1000000000000005,6.2,6.300000000000001,6.4,6.5,6.6000000000000005,6.7,6.800000000000001,6.9,7.0,7.1000000000000005,7.2,7.300000000000001,7.4,7.5,7.6000000000000005,7.7,7.800000000000001,7.9,8.0,8.1,8.200000000000001,8.3,8.4,8.5,8.6,8.700000000000001,8.8,8.9,9.0,9.1,9.200000000000001,9.3,9.4,9.5,9.600000000000001,9.700000000000001,9.8,9.9,10.0,10.100000000000001,10.200000000000001,10.3,10.4,10.5,10.600000000000001,10.700000000000001,10.8,10.9,11.0,11.100000000000001,11.200000000000001,11.3,11.4,11.5,11.600000000000001,11.700000000000001,11.8,11.9,12.0,12.100000000000001,12.200000000000001,12.3,12.4,12.5,12.600000000000001,12.700000000000001,12.8,12.9,13.0,13.100000000000001,13.200000000000001,13.3,13.4,13.5,13.600000000000001,13.700000000000001,13.8,13.9,14.0,14.100000000000001,14.200000000000001,14.3,14.4,14.5,14.600000000000001,14.700000000000001,14.8,14.9,15.0,15.100000000000001,15.200000000000001,15.3,15.4,15.5,15.600000000000001,15.700000000000001,15.8,15.9,16.0,16.1,16.2,16.3,16.400000000000002,16.5,16.6,16.7,16.8,16.900000000000002,17.0,17.1,17.2,17.3,17.400000000000002,17.5,17.6,17.7,17.8,17.900000000000002,18.0,18.1,18.2,18.3,18.400000000000002,18.5,18.6,18.7,18.8,18.900000000000002,19.0,19.1,19.200000000000003,19.3,19.400000000000002,19.5,19.6,19.700000000000003,19.8,19.900000000000002],\"y\":[1.0,1.1,1.2,1.3,1.4,1.5,1.6,1.7000000000000002,1.8,1.9,2.0,2.1,2.2,2.3,2.4000000000000004,2.5,2.6,2.7,2.8,2.9000000000000004,3.0,3.1,3.2,3.3000000000000003,3.4000000000000004,3.5,3.6,3.7,3.8000000000000003,3.9000000000000004,4.0,4.1,4.2,4.300000000000001,4.4,4.5,4.6,4.7,4.800000000000001,4.9,5.0,5.1000000000000005,5.2,5.3,5.4,5.5,5.6000000000000005,5.7,5.800000000000001,5.9,6.0,6.1000000000000005,6.2,6.300000000000001,6.4,6.5,6.6000000000000005,6.7,6.800000000000001,6.9,7.0,7.1000000000000005,7.2,7.300000000000001,7.4,7.5,7.6000000000000005,7.7,7.800000000000001,7.9,8.0,8.100000000000001,8.2,8.3,8.4,8.5,8.600000000000001,8.7,8.8,8.9,9.0,9.1,9.200000000000001,9.3,9.4,9.5,9.6,9.700000000000001,9.8,9.9,10.0,10.1,10.200000000000001,10.3,10.4,10.5,10.600000000000001,10.700000000000001,10.8,10.9,11.0,11.100000000000001,11.200000000000001,11.3,11.4,11.5,11.600000000000001,11.700000000000001,11.8,11.9,12.0,12.100000000000001,12.200000000000001,12.3,12.4,12.5,12.600000000000001,12.700000000000001,12.8,12.9,13.0,13.100000000000001,13.200000000000001,13.3,13.4,13.5,13.600000000000001,13.700000000000001,13.8,13.9,14.0,14.100000000000001,14.200000000000001,14.3,14.4,14.5,14.600000000000001,14.700000000000001,14.8,14.9,15.0,15.100000000000001,15.200000000000001,15.3,15.4,15.5,15.600000000000001,15.700000000000001,15.8,15.9,16.0,16.1,16.200000000000003,16.3,16.4,16.5,16.6,16.700000000000003,16.8,16.9,17.0,17.1,17.2,17.3,17.400000000000002,17.5,17.6,17.7,17.8,17.900000000000002,18.0,18.1,18.2,18.3,18.400000000000002,18.5,18.6,18.7,18.8,18.900000000000002,19.0,19.1,19.2,19.3,19.400000000000002,19.5,19.6,19.7,19.8,19.900000000000002,20.0,20.1,20.200000000000003,20.3,20.400000000000002,20.5,20.6,20.700000000000003,20.8,20.900000000000002]},\"selected\":{\"id\":\"12830\"},\"selection_policy\":{\"id\":\"12829\"}},\"id\":\"12816\",\"type\":\"ColumnDataSource\"},{\"attributes\":{},\"id\":\"12784\",\"type\":\"BasicTicker\"},{\"attributes\":{},\"id\":\"12809\",\"type\":\"BasicTickFormatter\"},{\"attributes\":{\"axis\":{\"id\":\"12783\"},\"dimension\":1,\"ticker\":null},\"id\":\"12786\",\"type\":\"Grid\"},{\"attributes\":{},\"id\":\"12773\",\"type\":\"DataRange1d\"},{\"attributes\":{},\"id\":\"12771\",\"type\":\"DataRange1d\"},{\"attributes\":{\"data_source\":{\"id\":\"12801\"},\"glyph\":{\"id\":\"12802\"},\"hover_glyph\":null,\"muted_glyph\":null,\"nonselection_glyph\":{\"id\":\"12803\"},\"selection_glyph\":null,\"view\":{\"id\":\"12805\"}},\"id\":\"12804\",\"type\":\"GlyphRenderer\"},{\"attributes\":{\"data_source\":{\"id\":\"12816\"},\"glyph\":{\"id\":\"12817\"},\"hover_glyph\":null,\"muted_glyph\":null,\"nonselection_glyph\":{\"id\":\"12818\"},\"selection_glyph\":null,\"view\":{\"id\":\"12820\"}},\"id\":\"12819\",\"type\":\"GlyphRenderer\"},{\"attributes\":{\"text\":\"Gr\\u00e1fico com Bokeh\"},\"id\":\"12769\",\"type\":\"Title\"},{\"attributes\":{\"line_color\":\"green\",\"line_width\":3,\"x\":{\"field\":\"x\"},\"y\":{\"field\":\"y\"}},\"id\":\"12817\",\"type\":\"Line\"},{\"attributes\":{\"line_alpha\":0.1,\"line_color\":\"green\",\"line_width\":3,\"x\":{\"field\":\"x\"},\"y\":{\"field\":\"y\"}},\"id\":\"12818\",\"type\":\"Line\"},{\"attributes\":{},\"id\":\"12807\",\"type\":\"BasicTickFormatter\"},{\"attributes\":{},\"id\":\"12813\",\"type\":\"Selection\"},{\"attributes\":{},\"id\":\"12787\",\"type\":\"PanTool\"},{\"attributes\":{\"source\":{\"id\":\"12816\"}},\"id\":\"12820\",\"type\":\"CDSView\"},{\"attributes\":{},\"id\":\"12788\",\"type\":\"WheelZoomTool\"},{\"attributes\":{},\"id\":\"12830\",\"type\":\"Selection\"},{\"attributes\":{\"data\":{\"x\":[0.0,0.1,0.2,0.30000000000000004,0.4,0.5,0.6000000000000001,0.7000000000000001,0.8,0.9,1.0,1.1,1.2000000000000002,1.3,1.4000000000000001,1.5,1.6,1.7000000000000002,1.8,1.9000000000000001,2.0,2.1,2.2,2.3000000000000003,2.4000000000000004,2.5,2.6,2.7,2.8000000000000003,2.9000000000000004,3.0,3.1,3.2,3.3000000000000003,3.4000000000000004,3.5,3.6,3.7,3.8000000000000003,3.9000000000000004,4.0,4.1000000000000005,4.2,4.3,4.4,4.5,4.6000000000000005,4.7,4.800000000000001,4.9,5.0,5.1000000000000005,5.2,5.300000000000001,5.4,5.5,5.6000000000000005,5.7,5.800000000000001,5.9,6.0,6.1000000000000005,6.2,6.300000000000001,6.4,6.5,6.6000000000000005,6.7,6.800000000000001,6.9,7.0,7.1000000000000005,7.2,7.300000000000001,7.4,7.5,7.6000000000000005,7.7,7.800000000000001,7.9,8.0,8.1,8.200000000000001,8.3,8.4,8.5,8.6,8.700000000000001,8.8,8.9,9.0,9.1,9.200000000000001,9.3,9.4,9.5,9.600000000000001,9.700000000000001,9.8,9.9,10.0,10.100000000000001,10.200000000000001,10.3,10.4,10.5,10.600000000000001,10.700000000000001,10.8,10.9,11.0,11.100000000000001,11.200000000000001,11.3,11.4,11.5,11.600000000000001,11.700000000000001,11.8,11.9,12.0,12.100000000000001,12.200000000000001,12.3,12.4,12.5,12.600000000000001,12.700000000000001,12.8,12.9,13.0,13.100000000000001,13.200000000000001,13.3,13.4,13.5,13.600000000000001,13.700000000000001,13.8,13.9,14.0,14.100000000000001,14.200000000000001,14.3,14.4,14.5,14.600000000000001,14.700000000000001,14.8,14.9,15.0,15.100000000000001,15.200000000000001,15.3,15.4,15.5,15.600000000000001,15.700000000000001,15.8,15.9,16.0,16.1,16.2,16.3,16.400000000000002,16.5,16.6,16.7,16.8,16.900000000000002,17.0,17.1,17.2,17.3,17.400000000000002,17.5,17.6,17.7,17.8,17.900000000000002,18.0,18.1,18.2,18.3,18.400000000000002,18.5,18.6,18.7,18.8,18.900000000000002,19.0,19.1,19.200000000000003,19.3,19.400000000000002,19.5,19.6,19.700000000000003,19.8,19.900000000000002],\"y\":[1.0,1.3650887029798744,1.5327734739193533,1.6520730637611563,1.733645666604845,1.7798383414024352,1.790744579962408,1.7657477745547225,1.7040988617593307,1.6051879531060065,1.4686939399158851,1.2946763885557782,1.0836357600844955,0.8365536146972218,0.5549184122206827,0.24073975527436126,-0.10344741476211072,-0.4745878236568161,-0.8691195545013726,-1.2829960535554397,-1.7117161330568504,-2.150361645281147,-2.5936424617708984,-3.0359483317943035,-3.4714071233351063,-3.8939488739202828,-4.2973750013095104,-4.675431948425796,-5.0218884651798055,-5.330615663884774,-5.595668926326118,-5.8113706905614615,-5.972393105313064,-6.073839510336771,-6.111323683209628,-6.081045787216639,-5.979863961921685,-5.805360517906301,-5.555901730217501,-5.230690271283549,-4.829809383269385,-4.354257961719984,-3.8059758063840516,-3.187858390662815,-2.5037606073726963,-1.7584890644769808,-0.9577826290180895,-0.10828104942232827,0.7825183757161155,1.7063159718119822,2.654076449468045,3.6161068500013864,4.582145126377637,5.541458666491651,6.482951925544225,7.395282199783041,8.266982446853143,9.08658994015196,9.84277943755439,10.524499450231856,11.121110116498643,11.622521120017142,12.019328042478874,12.30294550908585,12.465735471647015,12.50112897954745,12.403739813707963,12.169468403182266,11.795594508266413,11.2808572377212,10.625521070500831,9.83142667357633,8.902025446143519,7.842396875590928,6.659247960731763,5.3608941414234765,3.957221369063137,2.4596291576253106,0.8809546678098494,-0.7646219047468628,-2.4616901447323145,-4.193739721242149,-5.943307245717075,-7.692138532867408,-9.421364904848028,-11.111691979668413,-12.743599197676634,-14.297548167398709,-15.754197756406404,-17.09462371645277,-18.300540516918325,-19.354522968531732,-20.24022515202561,-20.942594125286494,-21.44807586881993,-21.744810943858642,-21.82281738078059,-21.674158387945962,-21.293092572561346,-20.676204495356536,-19.822513539003943,-18.73355925527915,-17.413461566577936,-15.868954431875038,-14.109391843526375,-12.14672529717349,-9.995452169829223,-7.672534748169053,-5.197289967058661,-2.5912502441516483,0.12200387344624823,2.9170382034928104,5.766785188867456,8.642788227249763,11.515468062550177,14.354408933344114,17.12866189419537,19.807062467656785,22.35855955130525,24.75255229860879,26.959231517719175,28.949921991136446,30.69742201400655,32.17633638165141,33.36339902947981,34.23778154198429,34.781383802957436,34.97910315679361,34.81907859074596,34.29290662978956,33.3958258583294,32.12686724494361,30.488967745759044,28.489044996547047,26.138031270394002,23.450865273607658,20.44644077374153,17.14751149625956,13.58055218609859,9.775576202608333,5.765910496192915,1.5879292973954537,-2.719251671048084,-7.114118176803626,-11.553134914199463,-15.99115421314462,-20.38185242347078,-24.678189990134804,-28.832890881183747,-32.798936715278124,-36.53007066323043,-39.981305972396605,-43.109433787410396,-45.87352481875102,-48.23541934454925,-50.16020002289144,-51.61664204310613,-52.5776352559382,-53.02057309432361,-52.92770332820495,-52.28643598735909,-51.08960413375043,-49.33567356703956,-47.02889800047261,-44.17941674573968,-40.80329249020042,-36.92248733325256,-32.56477586515575,-27.763594715422574,-22.55782866265884,-16.991534076766847,-11.113601150767732,-4.9773570659206445,1.359887087062413,7.837342143515094,14.391295327680027,20.955708601010883,27.462855578244284,33.8439911616596,40.030047562502745,45.95234995390207,51.543344637505015,56.73733231179644,61.47119880826308,65.6851355161808,69.3233416510869,72.33470053836731,74.67342218347257,76.29964458482858,77.17998651437527,77.28804484282912,76.60482992024636,75.11913303440743,72.82782055617119,69.73605003762103,65.85740425003999,61.21393992821185,55.836148818200066,49.76282949983678,43.04086936430754]},\"selected\":{\"id\":\"12813\"},\"selection_policy\":{\"id\":\"12812\"}},\"id\":\"12801\",\"type\":\"ColumnDataSource\"},{\"attributes\":{\"overlay\":{\"id\":\"12793\"}},\"id\":\"12789\",\"type\":\"BoxZoomTool\"},{\"attributes\":{\"label\":{\"value\":\"f (x)\"},\"renderers\":[{\"id\":\"12819\"}]},\"id\":\"12831\",\"type\":\"LegendItem\"},{\"attributes\":{\"callback\":null,\"mode\":\"vline\",\"tooltips\":\"<font face=\\\"Arial\\\" size=\\\"3\\\"> x = @x{0.00}, y = @y{0.00}</font>\"},\"id\":\"12832\",\"type\":\"HoverTool\"},{\"attributes\":{},\"id\":\"12790\",\"type\":\"SaveTool\"},{\"attributes\":{},\"id\":\"12791\",\"type\":\"ResetTool\"},{\"attributes\":{},\"id\":\"12792\",\"type\":\"HelpTool\"},{\"attributes\":{},\"id\":\"12829\",\"type\":\"UnionRenderers\"},{\"attributes\":{\"active_drag\":\"auto\",\"active_inspect\":\"auto\",\"active_multi\":null,\"active_scroll\":\"auto\",\"active_tap\":\"auto\",\"tools\":[{\"id\":\"12787\"},{\"id\":\"12788\"},{\"id\":\"12789\"},{\"id\":\"12790\"},{\"id\":\"12791\"},{\"id\":\"12792\"},{\"id\":\"12832\"}]},\"id\":\"12794\",\"type\":\"Toolbar\"}],\"root_ids\":[\"12768\"]},\"title\":\"Bokeh Application\",\"version\":\"2.1.1\"}};\n",
              "  var render_items = [{\"docid\":\"cc8da66b-bfa9-4118-8bcd-792baf1002b3\",\"root_ids\":[\"12768\"],\"roots\":{\"12768\":\"84457d03-3665-42b8-b786-b0e8afec9bbd\"}}];\n",
              "  root.Bokeh.embed.embed_items_notebook(docs_json, render_items);\n",
              "\n",
              "  }\n",
              "  if (root.Bokeh !== undefined) {\n",
              "    embed_document(root);\n",
              "  } else {\n",
              "    var attempts = 0;\n",
              "    var timer = setInterval(function(root) {\n",
              "      if (root.Bokeh !== undefined) {\n",
              "        clearInterval(timer);\n",
              "        embed_document(root);\n",
              "      } else {\n",
              "        attempts++;\n",
              "        if (attempts > 100) {\n",
              "          clearInterval(timer);\n",
              "          console.log(\"Bokeh: ERROR: Unable to run BokehJS code because BokehJS library is missing\");\n",
              "        }\n",
              "      }\n",
              "    }, 10, root)\n",
              "  }\n",
              "})(window);"
            ],
            "application/vnd.bokehjs_exec.v0+json": ""
          },
          "metadata": {
            "tags": [],
            "application/vnd.bokehjs_exec.v0+json": {
              "id": "12768"
            }
          }
        }
      ]
    },
    {
      "cell_type": "markdown",
      "metadata": {
        "id": "tmokHbL-aFHG"
      },
      "source": [
        "## Definindo Variação Instantânea\n",
        "\n",
        "A variação instantânea de f(x) corresponde ao limite da variação média da f(x) quando $ \\Delta x$ tende a 0:\n",
        "\n",
        "$ \\lim_{\\Delta x \\to 0} \\left[\\dfrac{f(x + \\Delta x)-f(x)}{\\Delta x}\\right]$\n",
        "\n"
      ]
    },
    {
      "cell_type": "code",
      "metadata": {
        "id": "5D5nxs6kN547",
        "outputId": "ba24e15a-ac95-4499-9bce-951501fe894b",
        "colab": {
          "base_uri": "https://localhost:8080/",
          "height": 47
        }
      },
      "source": [
        "var ('x delta')\n",
        "\n",
        "def h(x): return x**3 + 3*x**2 +1\n",
        "def i(x,delta): return (h(x+delta)-h(x))/delta\n",
        "\n",
        "i(x,delta)"
      ],
      "execution_count": 117,
      "outputs": [
        {
          "output_type": "execute_result",
          "data": {
            "image/png": "[encoded data removed]",
            "text/latex": "$$\\frac{1}{\\delta} \\left(- x^{3} - 3 x^{2} + \\left(\\delta + x\\right)^{3} + 3 \\left(\\delta + x\\right)^{2}\\right)$$",
            "text/plain": [
              "   3      2          3            2\n",
              "- x  - 3⋅x  + (δ + x)  + 3⋅(δ + x) \n",
              "───────────────────────────────────\n",
              "                 δ                 "
            ]
          },
          "metadata": {
            "tags": []
          },
          "execution_count": 117
        }
      ]
    },
    {
      "cell_type": "code",
      "metadata": {
        "id": "60w4ApbafUj5",
        "outputId": "30f513c9-b97c-4646-8d9b-2e1105f40af4",
        "colab": {
          "base_uri": "https://localhost:8080/",
          "height": 97
        }
      },
      "source": [
        "# Testando a função\n",
        "display(i(1,0.55))\n",
        "display(i(1,3))\n",
        "display(i(1,2))\n",
        "display(i(1,0.5))"
      ],
      "execution_count": 121,
      "outputs": [
        {
          "output_type": "display_data",
          "data": {
            "image/png": "[encoded data removed]",
            "text/latex": "$$12.602500000000004$$",
            "text/plain": [
              "12.602500000000004"
            ]
          },
          "metadata": {
            "tags": []
          }
        },
        {
          "output_type": "display_data",
          "data": {
            "image/png": "[encoded data removed]",
            "text/latex": "$$36.0$$",
            "text/plain": [
              "36.0"
            ]
          },
          "metadata": {
            "tags": []
          }
        },
        {
          "output_type": "display_data",
          "data": {
            "image/png": "[encoded data removed]",
            "text/latex": "$$25.0$$",
            "text/plain": [
              "25.0"
            ]
          },
          "metadata": {
            "tags": []
          }
        },
        {
          "output_type": "display_data",
          "data": {
            "image/png": "[encoded data removed]",
            "text/latex": "$$12.25$$",
            "text/plain": [
              "12.25"
            ]
          },
          "metadata": {
            "tags": []
          }
        }
      ]
    },
    {
      "cell_type": "code",
      "metadata": {
        "id": "_7a-cLq2gIfG",
        "outputId": "866f9704-f9de-48ee-9c3d-b41997bc2e13",
        "colab": {
          "base_uri": "https://localhost:8080/",
          "height": 97
        }
      },
      "source": [
        "def variacao_inst(x): return limit(i(x,delta),delta,0)\n",
        "\n",
        "# Testando a função por x\n",
        "# Variação instantânea é chamada de derivada\n",
        "display(variacao_inst(1))\n",
        "display(variacao_inst(3))\n",
        "display(variacao_inst(2))\n",
        "display(variacao_inst(9))"
      ],
      "execution_count": 125,
      "outputs": [
        {
          "output_type": "display_data",
          "data": {
            "image/png": "[encoded data removed]",
            "text/latex": "$$9$$",
            "text/plain": [
              "9"
            ]
          },
          "metadata": {
            "tags": []
          }
        },
        {
          "output_type": "display_data",
          "data": {
            "image/png": "[encoded data removed]",
            "text/latex": "$$45$$",
            "text/plain": [
              "45"
            ]
          },
          "metadata": {
            "tags": []
          }
        },
        {
          "output_type": "display_data",
          "data": {
            "image/png": "[encoded data removed]",
            "text/latex": "$$24$$",
            "text/plain": [
              "24"
            ]
          },
          "metadata": {
            "tags": []
          }
        },
        {
          "output_type": "display_data",
          "data": {
            "image/png": "[encoded data removed]",
            "text/latex": "$$297$$",
            "text/plain": [
              "297"
            ]
          },
          "metadata": {
            "tags": []
          }
        }
      ]
    },
    {
      "cell_type": "markdown",
      "metadata": {
        "id": "-32aGqC0hsJR"
      },
      "source": [
        "# Derivada e Variação Instantânea\n",
        "\n",
        "## **Definição**\n",
        "\n",
        "A variação instantânea de uma função f(x) leva um nome particular: ela chama-se a derivada da função f(x) no ponto x, e é simbolizada como:\n",
        "\n",
        "$ \\dfrac{\\partial f(x)}{\\partial x} = \\lim_{\\Delta x \\to 0} \\left[\\dfrac{f(x + \\Delta x)-f(x)}{\\Delta x}\\right]$"
      ]
    },
    {
      "cell_type": "markdown",
      "metadata": {
        "id": "MjhNc5k-jBMJ"
      },
      "source": [
        "##**Calculando a primeira derivada**\n",
        "\n",
        "Assumindo  a função \n",
        "\n",
        "$ f(x) = x^2$\n",
        "\n",
        "Podemos perceber o seguinte comportamento na variação instantânea\n",
        "\n",
        "$(a+b)^2 = a^2 + 2ab + b^2$\n",
        "\n",
        "Logo:\n",
        "\n",
        "$f(x + \\Delta x) = (x + \\Delta x)^2 = x^2 + 2x\\Delta x + \\Delta x ^2 $\n",
        "\n",
        "Assim temos:\n",
        "\n",
        "$f(x + \\Delta x) = (x + \\Delta x)^2 = x^2 + 2x\\Delta x + \\Delta x ^2  - x^2 = 2x\\Delta x + \\Delta x ^2 $\n",
        "\n",
        "Substituindo:\n",
        "\n",
        " $\\lim_{\\Delta x \\to 0} \\left[\\dfrac{2x\\Delta x + \\Delta x ^2}{\\Delta x}\\right] = \\lim_{\\Delta x \\to 0} \\left[2x+ \\Delta x \\right] $\n",
        "\n",
        "Por fim,  se $\\Delta x $ tende a 0, obtemos:\n",
        "\n",
        " $ \\lim_{\\Delta x \\to 0} 2x +  \\lim_{\\Delta x \\to 0} \\Delta x =  2x +  0  = 2x $\n",
        "\n",
        " **Resultado do Cálculo:** \n",
        " \n",
        "## $ 2x$\n",
        "\n"
      ]
    },
    {
      "cell_type": "code",
      "metadata": {
        "id": "H0FCIigQjKeg",
        "outputId": "7fe5ec0b-c7fb-4302-9baf-81e8910df657",
        "colab": {
          "base_uri": "https://localhost:8080/",
          "height": 108
        }
      },
      "source": [
        "def f(x): return x**2\n",
        "def i(x,delta): return (f(x+delta)-f(x))/delta\n",
        "def variacao_inst(x): return limit(i(x,delta),delta,0)\n",
        "\n",
        "# Resultado da função criada\n",
        "print('Resultado Função Criada:')\n",
        "display(variacao_inst(x))\n",
        "\n",
        "print()\n",
        "\n",
        "print('Resultado Função Numpy:')\n",
        "# Resultado da função existente no numpy\n",
        "display(diff(f(x)))"
      ],
      "execution_count": 175,
      "outputs": [
        {
          "output_type": "stream",
          "text": [
            "Resultado Função Criada:\n"
          ],
          "name": "stdout"
        },
        {
          "output_type": "display_data",
          "data": {
            "image/png": "[encoded data removed]",
            "text/latex": "$$2 x$$",
            "text/plain": [
              "2⋅x"
            ]
          },
          "metadata": {
            "tags": []
          }
        },
        {
          "output_type": "stream",
          "text": [
            "\n",
            "Resultado Função Numpy:\n"
          ],
          "name": "stdout"
        },
        {
          "output_type": "display_data",
          "data": {
            "image/png": "[encoded data removed]",
            "text/latex": "$$2 x$$",
            "text/plain": [
              "2⋅x"
            ]
          },
          "metadata": {
            "tags": []
          }
        }
      ]
    },
    {
      "cell_type": "markdown",
      "metadata": {
        "id": "sT4Ceo-QoOK0"
      },
      "source": [
        "## **Regra da Derivada de potência**\n",
        "\n",
        "$ \\dfrac{\\partial x^n}{\\partial x} = nx ^{n-1}$\n",
        "\n",
        "\n",
        "\n",
        "\n"
      ]
    }
  ]
}