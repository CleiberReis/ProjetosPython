{
  "nbformat": 4,
  "nbformat_minor": 0,
  "metadata": {
    "colab": {
      "name": "Machine_Learning04.ipynb",
      "provenance": [],
      "collapsed_sections": [
        "D0xHDPWcofmD",
        "nahZac6ho24h",
        "cSgoDRN8rLLb",
        "i4MeR3OXstQJ",
        "Tl03HFDm1_kd",
        "Pv-pRvNYi6ej",
        "B6_W5MbFk9yP",
        "hlvHgnWzpXx7"
      ],
      "authorship_tag": "ABX9TyOX6AGajrfy9OzrBHylbsMt",
      "include_colab_link": true
    },
    "kernelspec": {
      "name": "python3",
      "display_name": "Python 3"
    }
  },
  "cells": [
    {
      "cell_type": "markdown",
      "metadata": {
        "id": "view-in-github",
        "colab_type": "text"
      },
      "source": [
        "<a href=\"https://colab.research.google.com/github/gabrielvieiraf/ProjetosPython/blob/master/GoogleColab/MachineLearning/Machine_Learning04.ipynb\" target=\"_parent\"><img src=\"https://colab.research.google.com/assets/colab-badge.svg\" alt=\"Open In Colab\"/></a>"
      ]
    },
    {
      "cell_type": "markdown",
      "metadata": {
        "id": "Fs2tri8QoLZA"
      },
      "source": [
        "># Iniciando com Machine Learning 04\n",
        ">### Introdução a sistemas de recomendações"
      ]
    },
    {
      "cell_type": "markdown",
      "metadata": {
        "id": "D0xHDPWcofmD"
      },
      "source": [
        "> ## Importando dados do Google Drive\n",
        "Utilizaremos a base de dados disponível para download em: \n",
        "\n",
        "\n",
        "https://grouplens.org/datasets/movielens/latest/"
      ]
    },
    {
      "cell_type": "code",
      "metadata": {
        "colab": {
          "base_uri": "https://localhost:8080/"
        },
        "id": "l0X_ueiMl8Vc",
        "outputId": "322e18a4-37b9-4dcf-c098-165eeea4439f"
      },
      "source": [
        "# Permite Importar dados do Google Drive\n",
        "from google.colab import drive\n",
        "drive.mount('/content/drive')"
      ],
      "execution_count": 1,
      "outputs": [
        {
          "output_type": "stream",
          "text": [
            "Mounted at /content/drive\n"
          ],
          "name": "stdout"
        }
      ]
    },
    {
      "cell_type": "markdown",
      "metadata": {
        "id": "nahZac6ho24h"
      },
      "source": [
        "> ## Iniciando visualização com Pandas\n",
        "> Em primeiro momento, vamos importar os filmes"
      ]
    },
    {
      "cell_type": "code",
      "metadata": {
        "colab": {
          "base_uri": "https://localhost:8080/",
          "height": 0
        },
        "id": "QSridjHHo7LB",
        "outputId": "46a63edc-97de-4a1b-fc72-402fdf665a07"
      },
      "source": [
        "import pandas as pd\n",
        "\n",
        "# Caminho para dados do arquivo csv \n",
        "csv = '/content/drive/My Drive/Colab Notebooks/Alura/filme_100mil/movies.csv'\n",
        "filmes = pd.read_csv(csv)\n",
        "filmes.head()"
      ],
      "execution_count": 2,
      "outputs": [
        {
          "output_type": "execute_result",
          "data": {
            "text/html": [
              "<div>\n",
              "<style scoped>\n",
              "    .dataframe tbody tr th:only-of-type {\n",
              "        vertical-align: middle;\n",
              "    }\n",
              "\n",
              "    .dataframe tbody tr th {\n",
              "        vertical-align: top;\n",
              "    }\n",
              "\n",
              "    .dataframe thead th {\n",
              "        text-align: right;\n",
              "    }\n",
              "</style>\n",
              "<table border=\"1\" class=\"dataframe\">\n",
              "  <thead>\n",
              "    <tr style=\"text-align: right;\">\n",
              "      <th></th>\n",
              "      <th>movieId</th>\n",
              "      <th>title</th>\n",
              "      <th>genres</th>\n",
              "    </tr>\n",
              "  </thead>\n",
              "  <tbody>\n",
              "    <tr>\n",
              "      <th>0</th>\n",
              "      <td>1</td>\n",
              "      <td>Toy Story (1995)</td>\n",
              "      <td>Adventure|Animation|Children|Comedy|Fantasy</td>\n",
              "    </tr>\n",
              "    <tr>\n",
              "      <th>1</th>\n",
              "      <td>2</td>\n",
              "      <td>Jumanji (1995)</td>\n",
              "      <td>Adventure|Children|Fantasy</td>\n",
              "    </tr>\n",
              "    <tr>\n",
              "      <th>2</th>\n",
              "      <td>3</td>\n",
              "      <td>Grumpier Old Men (1995)</td>\n",
              "      <td>Comedy|Romance</td>\n",
              "    </tr>\n",
              "    <tr>\n",
              "      <th>3</th>\n",
              "      <td>4</td>\n",
              "      <td>Waiting to Exhale (1995)</td>\n",
              "      <td>Comedy|Drama|Romance</td>\n",
              "    </tr>\n",
              "    <tr>\n",
              "      <th>4</th>\n",
              "      <td>5</td>\n",
              "      <td>Father of the Bride Part II (1995)</td>\n",
              "      <td>Comedy</td>\n",
              "    </tr>\n",
              "  </tbody>\n",
              "</table>\n",
              "</div>"
            ],
            "text/plain": [
              "   movieId  ...                                       genres\n",
              "0        1  ...  Adventure|Animation|Children|Comedy|Fantasy\n",
              "1        2  ...                   Adventure|Children|Fantasy\n",
              "2        3  ...                               Comedy|Romance\n",
              "3        4  ...                         Comedy|Drama|Romance\n",
              "4        5  ...                                       Comedy\n",
              "\n",
              "[5 rows x 3 columns]"
            ]
          },
          "metadata": {
            "tags": []
          },
          "execution_count": 2
        }
      ]
    },
    {
      "cell_type": "markdown",
      "metadata": {
        "id": "Ya21xJuHpGzG"
      },
      "source": [
        "> ### Traduzindo Colunas\n",
        "\n",
        "Como queremos trazer maior facilidade de visualização de dados, vamos traduzir as colunas de nosso dataset, de uma maneira bem simples, utilizando o próprio pandas"
      ]
    },
    {
      "cell_type": "code",
      "metadata": {
        "colab": {
          "base_uri": "https://localhost:8080/",
          "height": 0
        },
        "id": "ILOnuEoApWb4",
        "outputId": "782bbd10-60dd-4498-85a5-fa4ab68fead6"
      },
      "source": [
        "filmes.columns = ['id_filme','titulo','genero']\n",
        "\n",
        "# Definindo id como index do dataset\n",
        "filmes = filmes.set_index(\"id_filme\")\n",
        "filmes.head()"
      ],
      "execution_count": 3,
      "outputs": [
        {
          "output_type": "execute_result",
          "data": {
            "text/html": [
              "<div>\n",
              "<style scoped>\n",
              "    .dataframe tbody tr th:only-of-type {\n",
              "        vertical-align: middle;\n",
              "    }\n",
              "\n",
              "    .dataframe tbody tr th {\n",
              "        vertical-align: top;\n",
              "    }\n",
              "\n",
              "    .dataframe thead th {\n",
              "        text-align: right;\n",
              "    }\n",
              "</style>\n",
              "<table border=\"1\" class=\"dataframe\">\n",
              "  <thead>\n",
              "    <tr style=\"text-align: right;\">\n",
              "      <th></th>\n",
              "      <th>titulo</th>\n",
              "      <th>genero</th>\n",
              "    </tr>\n",
              "    <tr>\n",
              "      <th>id_filme</th>\n",
              "      <th></th>\n",
              "      <th></th>\n",
              "    </tr>\n",
              "  </thead>\n",
              "  <tbody>\n",
              "    <tr>\n",
              "      <th>1</th>\n",
              "      <td>Toy Story (1995)</td>\n",
              "      <td>Adventure|Animation|Children|Comedy|Fantasy</td>\n",
              "    </tr>\n",
              "    <tr>\n",
              "      <th>2</th>\n",
              "      <td>Jumanji (1995)</td>\n",
              "      <td>Adventure|Children|Fantasy</td>\n",
              "    </tr>\n",
              "    <tr>\n",
              "      <th>3</th>\n",
              "      <td>Grumpier Old Men (1995)</td>\n",
              "      <td>Comedy|Romance</td>\n",
              "    </tr>\n",
              "    <tr>\n",
              "      <th>4</th>\n",
              "      <td>Waiting to Exhale (1995)</td>\n",
              "      <td>Comedy|Drama|Romance</td>\n",
              "    </tr>\n",
              "    <tr>\n",
              "      <th>5</th>\n",
              "      <td>Father of the Bride Part II (1995)</td>\n",
              "      <td>Comedy</td>\n",
              "    </tr>\n",
              "  </tbody>\n",
              "</table>\n",
              "</div>"
            ],
            "text/plain": [
              "                                      titulo                                       genero\n",
              "id_filme                                                                                 \n",
              "1                           Toy Story (1995)  Adventure|Animation|Children|Comedy|Fantasy\n",
              "2                             Jumanji (1995)                   Adventure|Children|Fantasy\n",
              "3                    Grumpier Old Men (1995)                               Comedy|Romance\n",
              "4                   Waiting to Exhale (1995)                         Comedy|Drama|Romance\n",
              "5         Father of the Bride Part II (1995)                                       Comedy"
            ]
          },
          "metadata": {
            "tags": []
          },
          "execution_count": 3
        }
      ]
    },
    {
      "cell_type": "markdown",
      "metadata": {
        "id": "cSgoDRN8rLLb"
      },
      "source": [
        "> ## Prosseguindo com o Pandas\n",
        "> Agora iremos importar também as notas\n"
      ]
    },
    {
      "cell_type": "code",
      "metadata": {
        "colab": {
          "base_uri": "https://localhost:8080/",
          "height": 0
        },
        "id": "tvZL339LrTMZ",
        "outputId": "e939a251-4fff-4ba4-e60c-0451039e35a1"
      },
      "source": [
        "# Caminho para dados do arquivo csv \n",
        "csv = '/content/drive/My Drive/Colab Notebooks/Alura/filme_100mil/ratings.csv'\n",
        "notas = pd.read_csv(csv)\n",
        "notas.head()"
      ],
      "execution_count": 4,
      "outputs": [
        {
          "output_type": "execute_result",
          "data": {
            "text/html": [
              "<div>\n",
              "<style scoped>\n",
              "    .dataframe tbody tr th:only-of-type {\n",
              "        vertical-align: middle;\n",
              "    }\n",
              "\n",
              "    .dataframe tbody tr th {\n",
              "        vertical-align: top;\n",
              "    }\n",
              "\n",
              "    .dataframe thead th {\n",
              "        text-align: right;\n",
              "    }\n",
              "</style>\n",
              "<table border=\"1\" class=\"dataframe\">\n",
              "  <thead>\n",
              "    <tr style=\"text-align: right;\">\n",
              "      <th></th>\n",
              "      <th>userId</th>\n",
              "      <th>movieId</th>\n",
              "      <th>rating</th>\n",
              "      <th>timestamp</th>\n",
              "    </tr>\n",
              "  </thead>\n",
              "  <tbody>\n",
              "    <tr>\n",
              "      <th>0</th>\n",
              "      <td>1</td>\n",
              "      <td>1</td>\n",
              "      <td>4.0</td>\n",
              "      <td>964982703</td>\n",
              "    </tr>\n",
              "    <tr>\n",
              "      <th>1</th>\n",
              "      <td>1</td>\n",
              "      <td>3</td>\n",
              "      <td>4.0</td>\n",
              "      <td>964981247</td>\n",
              "    </tr>\n",
              "    <tr>\n",
              "      <th>2</th>\n",
              "      <td>1</td>\n",
              "      <td>6</td>\n",
              "      <td>4.0</td>\n",
              "      <td>964982224</td>\n",
              "    </tr>\n",
              "    <tr>\n",
              "      <th>3</th>\n",
              "      <td>1</td>\n",
              "      <td>47</td>\n",
              "      <td>5.0</td>\n",
              "      <td>964983815</td>\n",
              "    </tr>\n",
              "    <tr>\n",
              "      <th>4</th>\n",
              "      <td>1</td>\n",
              "      <td>50</td>\n",
              "      <td>5.0</td>\n",
              "      <td>964982931</td>\n",
              "    </tr>\n",
              "  </tbody>\n",
              "</table>\n",
              "</div>"
            ],
            "text/plain": [
              "   userId  movieId  rating  timestamp\n",
              "0       1        1     4.0  964982703\n",
              "1       1        3     4.0  964981247\n",
              "2       1        6     4.0  964982224\n",
              "3       1       47     5.0  964983815\n",
              "4       1       50     5.0  964982931"
            ]
          },
          "metadata": {
            "tags": []
          },
          "execution_count": 4
        }
      ]
    },
    {
      "cell_type": "markdown",
      "metadata": {
        "id": "n1wP0zpBsARK"
      },
      "source": [
        "> ### Traduzindo Colunas\n",
        "\n",
        "Do mesmo modo como fizemos com os filmes, vamos traduzir as colunas das notas"
      ]
    },
    {
      "cell_type": "code",
      "metadata": {
        "colab": {
          "base_uri": "https://localhost:8080/",
          "height": 0
        },
        "id": "YUFMBKeDsIxL",
        "outputId": "62e79eff-b2ef-4541-9980-0ba8c9229314"
      },
      "source": [
        "notas.columns = ['id_usuario','id_filme','nota','data']\n",
        "notas.head()"
      ],
      "execution_count": 5,
      "outputs": [
        {
          "output_type": "execute_result",
          "data": {
            "text/html": [
              "<div>\n",
              "<style scoped>\n",
              "    .dataframe tbody tr th:only-of-type {\n",
              "        vertical-align: middle;\n",
              "    }\n",
              "\n",
              "    .dataframe tbody tr th {\n",
              "        vertical-align: top;\n",
              "    }\n",
              "\n",
              "    .dataframe thead th {\n",
              "        text-align: right;\n",
              "    }\n",
              "</style>\n",
              "<table border=\"1\" class=\"dataframe\">\n",
              "  <thead>\n",
              "    <tr style=\"text-align: right;\">\n",
              "      <th></th>\n",
              "      <th>id_usuario</th>\n",
              "      <th>id_filme</th>\n",
              "      <th>nota</th>\n",
              "      <th>data</th>\n",
              "    </tr>\n",
              "  </thead>\n",
              "  <tbody>\n",
              "    <tr>\n",
              "      <th>0</th>\n",
              "      <td>1</td>\n",
              "      <td>1</td>\n",
              "      <td>4.0</td>\n",
              "      <td>964982703</td>\n",
              "    </tr>\n",
              "    <tr>\n",
              "      <th>1</th>\n",
              "      <td>1</td>\n",
              "      <td>3</td>\n",
              "      <td>4.0</td>\n",
              "      <td>964981247</td>\n",
              "    </tr>\n",
              "    <tr>\n",
              "      <th>2</th>\n",
              "      <td>1</td>\n",
              "      <td>6</td>\n",
              "      <td>4.0</td>\n",
              "      <td>964982224</td>\n",
              "    </tr>\n",
              "    <tr>\n",
              "      <th>3</th>\n",
              "      <td>1</td>\n",
              "      <td>47</td>\n",
              "      <td>5.0</td>\n",
              "      <td>964983815</td>\n",
              "    </tr>\n",
              "    <tr>\n",
              "      <th>4</th>\n",
              "      <td>1</td>\n",
              "      <td>50</td>\n",
              "      <td>5.0</td>\n",
              "      <td>964982931</td>\n",
              "    </tr>\n",
              "  </tbody>\n",
              "</table>\n",
              "</div>"
            ],
            "text/plain": [
              "   id_usuario  id_filme  nota       data\n",
              "0           1         1   4.0  964982703\n",
              "1           1         3   4.0  964981247\n",
              "2           1         6   4.0  964982224\n",
              "3           1        47   5.0  964983815\n",
              "4           1        50   5.0  964982931"
            ]
          },
          "metadata": {
            "tags": []
          },
          "execution_count": 5
        }
      ]
    },
    {
      "cell_type": "markdown",
      "metadata": {
        "id": "i4MeR3OXstQJ"
      },
      "source": [
        "> ## Primeira Tentativa de Recomendação\n",
        ">Verificando a popularidade de filmes para um usuário com dados desconhecidos"
      ]
    },
    {
      "cell_type": "code",
      "metadata": {
        "colab": {
          "base_uri": "https://localhost:8080/"
        },
        "id": "xA9e0ZADs9pY",
        "outputId": "f2dddb4a-d6a9-402c-e321-d595a8851861"
      },
      "source": [
        "# Verificando número notas por filme id\n",
        "total_votos = notas['id_filme'].value_counts()\n",
        "total_votos"
      ],
      "execution_count": 6,
      "outputs": [
        {
          "output_type": "execute_result",
          "data": {
            "text/plain": [
              "356       329\n",
              "318       317\n",
              "296       307\n",
              "593       279\n",
              "2571      278\n",
              "         ... \n",
              "5986        1\n",
              "100304      1\n",
              "34800       1\n",
              "83976       1\n",
              "8196        1\n",
              "Name: id_filme, Length: 9724, dtype: int64"
            ]
          },
          "metadata": {
            "tags": []
          },
          "execution_count": 6
        }
      ]
    },
    {
      "cell_type": "markdown",
      "metadata": {
        "id": "8xU3pV66uwUK"
      },
      "source": [
        "> ### Verificando Número de Votos por Filme\n",
        "\n",
        "Isso nos ajudará a conhecer os filmes mais famosos para recomendar ao usuário"
      ]
    },
    {
      "cell_type": "code",
      "metadata": {
        "colab": {
          "base_uri": "https://localhost:8080/",
          "height": 0
        },
        "id": "EGGE21dpthYA",
        "outputId": "03a3ac46-37b1-469d-fd6d-d3eeb8a6fcf3"
      },
      "source": [
        "filmes['total_votos'] = total_votos\n",
        "filmes.head()"
      ],
      "execution_count": 7,
      "outputs": [
        {
          "output_type": "execute_result",
          "data": {
            "text/html": [
              "<div>\n",
              "<style scoped>\n",
              "    .dataframe tbody tr th:only-of-type {\n",
              "        vertical-align: middle;\n",
              "    }\n",
              "\n",
              "    .dataframe tbody tr th {\n",
              "        vertical-align: top;\n",
              "    }\n",
              "\n",
              "    .dataframe thead th {\n",
              "        text-align: right;\n",
              "    }\n",
              "</style>\n",
              "<table border=\"1\" class=\"dataframe\">\n",
              "  <thead>\n",
              "    <tr style=\"text-align: right;\">\n",
              "      <th></th>\n",
              "      <th>titulo</th>\n",
              "      <th>genero</th>\n",
              "      <th>total_votos</th>\n",
              "    </tr>\n",
              "    <tr>\n",
              "      <th>id_filme</th>\n",
              "      <th></th>\n",
              "      <th></th>\n",
              "      <th></th>\n",
              "    </tr>\n",
              "  </thead>\n",
              "  <tbody>\n",
              "    <tr>\n",
              "      <th>1</th>\n",
              "      <td>Toy Story (1995)</td>\n",
              "      <td>Adventure|Animation|Children|Comedy|Fantasy</td>\n",
              "      <td>215.0</td>\n",
              "    </tr>\n",
              "    <tr>\n",
              "      <th>2</th>\n",
              "      <td>Jumanji (1995)</td>\n",
              "      <td>Adventure|Children|Fantasy</td>\n",
              "      <td>110.0</td>\n",
              "    </tr>\n",
              "    <tr>\n",
              "      <th>3</th>\n",
              "      <td>Grumpier Old Men (1995)</td>\n",
              "      <td>Comedy|Romance</td>\n",
              "      <td>52.0</td>\n",
              "    </tr>\n",
              "    <tr>\n",
              "      <th>4</th>\n",
              "      <td>Waiting to Exhale (1995)</td>\n",
              "      <td>Comedy|Drama|Romance</td>\n",
              "      <td>7.0</td>\n",
              "    </tr>\n",
              "    <tr>\n",
              "      <th>5</th>\n",
              "      <td>Father of the Bride Part II (1995)</td>\n",
              "      <td>Comedy</td>\n",
              "      <td>49.0</td>\n",
              "    </tr>\n",
              "  </tbody>\n",
              "</table>\n",
              "</div>"
            ],
            "text/plain": [
              "                                      titulo  ... total_votos\n",
              "id_filme                                      ...            \n",
              "1                           Toy Story (1995)  ...       215.0\n",
              "2                             Jumanji (1995)  ...       110.0\n",
              "3                    Grumpier Old Men (1995)  ...        52.0\n",
              "4                   Waiting to Exhale (1995)  ...         7.0\n",
              "5         Father of the Bride Part II (1995)  ...        49.0\n",
              "\n",
              "[5 rows x 3 columns]"
            ]
          },
          "metadata": {
            "tags": []
          },
          "execution_count": 7
        }
      ]
    },
    {
      "cell_type": "code",
      "metadata": {
        "colab": {
          "base_uri": "https://localhost:8080/",
          "height": 0
        },
        "id": "SxZJNrPxvHGm",
        "outputId": "f8db59bf-eacb-4ff3-88ad-31d721d78d18"
      },
      "source": [
        "# Ordenando valores\n",
        "filmes.sort_values('total_votos',ascending = False).head()"
      ],
      "execution_count": 8,
      "outputs": [
        {
          "output_type": "execute_result",
          "data": {
            "text/html": [
              "<div>\n",
              "<style scoped>\n",
              "    .dataframe tbody tr th:only-of-type {\n",
              "        vertical-align: middle;\n",
              "    }\n",
              "\n",
              "    .dataframe tbody tr th {\n",
              "        vertical-align: top;\n",
              "    }\n",
              "\n",
              "    .dataframe thead th {\n",
              "        text-align: right;\n",
              "    }\n",
              "</style>\n",
              "<table border=\"1\" class=\"dataframe\">\n",
              "  <thead>\n",
              "    <tr style=\"text-align: right;\">\n",
              "      <th></th>\n",
              "      <th>titulo</th>\n",
              "      <th>genero</th>\n",
              "      <th>total_votos</th>\n",
              "    </tr>\n",
              "    <tr>\n",
              "      <th>id_filme</th>\n",
              "      <th></th>\n",
              "      <th></th>\n",
              "      <th></th>\n",
              "    </tr>\n",
              "  </thead>\n",
              "  <tbody>\n",
              "    <tr>\n",
              "      <th>356</th>\n",
              "      <td>Forrest Gump (1994)</td>\n",
              "      <td>Comedy|Drama|Romance|War</td>\n",
              "      <td>329.0</td>\n",
              "    </tr>\n",
              "    <tr>\n",
              "      <th>318</th>\n",
              "      <td>Shawshank Redemption, The (1994)</td>\n",
              "      <td>Crime|Drama</td>\n",
              "      <td>317.0</td>\n",
              "    </tr>\n",
              "    <tr>\n",
              "      <th>296</th>\n",
              "      <td>Pulp Fiction (1994)</td>\n",
              "      <td>Comedy|Crime|Drama|Thriller</td>\n",
              "      <td>307.0</td>\n",
              "    </tr>\n",
              "    <tr>\n",
              "      <th>593</th>\n",
              "      <td>Silence of the Lambs, The (1991)</td>\n",
              "      <td>Crime|Horror|Thriller</td>\n",
              "      <td>279.0</td>\n",
              "    </tr>\n",
              "    <tr>\n",
              "      <th>2571</th>\n",
              "      <td>Matrix, The (1999)</td>\n",
              "      <td>Action|Sci-Fi|Thriller</td>\n",
              "      <td>278.0</td>\n",
              "    </tr>\n",
              "  </tbody>\n",
              "</table>\n",
              "</div>"
            ],
            "text/plain": [
              "                                    titulo  ... total_votos\n",
              "id_filme                                    ...            \n",
              "356                    Forrest Gump (1994)  ...       329.0\n",
              "318       Shawshank Redemption, The (1994)  ...       317.0\n",
              "296                    Pulp Fiction (1994)  ...       307.0\n",
              "593       Silence of the Lambs, The (1991)  ...       279.0\n",
              "2571                    Matrix, The (1999)  ...       278.0\n",
              "\n",
              "[5 rows x 3 columns]"
            ]
          },
          "metadata": {
            "tags": []
          },
          "execution_count": 8
        }
      ]
    },
    {
      "cell_type": "markdown",
      "metadata": {
        "id": "oizfziSfwGKy"
      },
      "source": [
        "> ### Verificando a média das notas dos filmes"
      ]
    },
    {
      "cell_type": "code",
      "metadata": {
        "id": "LWroI9ZiwNH-"
      },
      "source": [
        "media_notas = notas.groupby(\"id_filme\").mean()['nota']"
      ],
      "execution_count": 9,
      "outputs": []
    },
    {
      "cell_type": "markdown",
      "metadata": {
        "id": "Rixy4bPYxkm9"
      },
      "source": [
        "> ### Criando coluna para notas em filmes"
      ]
    },
    {
      "cell_type": "code",
      "metadata": {
        "colab": {
          "base_uri": "https://localhost:8080/",
          "height": 0
        },
        "id": "zNphgs78xj4B",
        "outputId": "23b19fea-dcec-4638-c627-d2107d491ea3"
      },
      "source": [
        "filmes['media_nota'] = media_notas\n",
        "filmes.head()"
      ],
      "execution_count": 10,
      "outputs": [
        {
          "output_type": "execute_result",
          "data": {
            "text/html": [
              "<div>\n",
              "<style scoped>\n",
              "    .dataframe tbody tr th:only-of-type {\n",
              "        vertical-align: middle;\n",
              "    }\n",
              "\n",
              "    .dataframe tbody tr th {\n",
              "        vertical-align: top;\n",
              "    }\n",
              "\n",
              "    .dataframe thead th {\n",
              "        text-align: right;\n",
              "    }\n",
              "</style>\n",
              "<table border=\"1\" class=\"dataframe\">\n",
              "  <thead>\n",
              "    <tr style=\"text-align: right;\">\n",
              "      <th></th>\n",
              "      <th>titulo</th>\n",
              "      <th>genero</th>\n",
              "      <th>total_votos</th>\n",
              "      <th>media_nota</th>\n",
              "    </tr>\n",
              "    <tr>\n",
              "      <th>id_filme</th>\n",
              "      <th></th>\n",
              "      <th></th>\n",
              "      <th></th>\n",
              "      <th></th>\n",
              "    </tr>\n",
              "  </thead>\n",
              "  <tbody>\n",
              "    <tr>\n",
              "      <th>1</th>\n",
              "      <td>Toy Story (1995)</td>\n",
              "      <td>Adventure|Animation|Children|Comedy|Fantasy</td>\n",
              "      <td>215.0</td>\n",
              "      <td>3.920930</td>\n",
              "    </tr>\n",
              "    <tr>\n",
              "      <th>2</th>\n",
              "      <td>Jumanji (1995)</td>\n",
              "      <td>Adventure|Children|Fantasy</td>\n",
              "      <td>110.0</td>\n",
              "      <td>3.431818</td>\n",
              "    </tr>\n",
              "    <tr>\n",
              "      <th>3</th>\n",
              "      <td>Grumpier Old Men (1995)</td>\n",
              "      <td>Comedy|Romance</td>\n",
              "      <td>52.0</td>\n",
              "      <td>3.259615</td>\n",
              "    </tr>\n",
              "    <tr>\n",
              "      <th>4</th>\n",
              "      <td>Waiting to Exhale (1995)</td>\n",
              "      <td>Comedy|Drama|Romance</td>\n",
              "      <td>7.0</td>\n",
              "      <td>2.357143</td>\n",
              "    </tr>\n",
              "    <tr>\n",
              "      <th>5</th>\n",
              "      <td>Father of the Bride Part II (1995)</td>\n",
              "      <td>Comedy</td>\n",
              "      <td>49.0</td>\n",
              "      <td>3.071429</td>\n",
              "    </tr>\n",
              "  </tbody>\n",
              "</table>\n",
              "</div>"
            ],
            "text/plain": [
              "                                      titulo  ... media_nota\n",
              "id_filme                                      ...           \n",
              "1                           Toy Story (1995)  ...   3.920930\n",
              "2                             Jumanji (1995)  ...   3.431818\n",
              "3                    Grumpier Old Men (1995)  ...   3.259615\n",
              "4                   Waiting to Exhale (1995)  ...   2.357143\n",
              "5         Father of the Bride Part II (1995)  ...   3.071429\n",
              "\n",
              "[5 rows x 4 columns]"
            ]
          },
          "metadata": {
            "tags": []
          },
          "execution_count": 10
        }
      ]
    },
    {
      "cell_type": "markdown",
      "metadata": {
        "id": "lyzcpQoqzhU-"
      },
      "source": [
        ">### Ordenando por filmes por notas \n",
        "\n",
        "Verificando problema de quantidade de numero total de votos"
      ]
    },
    {
      "cell_type": "code",
      "metadata": {
        "colab": {
          "base_uri": "https://localhost:8080/",
          "height": 0
        },
        "id": "Z2Nc8ONyzpRl",
        "outputId": "7cba8e4f-4826-4b06-f273-332478e01c50"
      },
      "source": [
        "# Ordenando valores\n",
        "filmes.sort_values('media_nota',ascending = False).head()"
      ],
      "execution_count": 11,
      "outputs": [
        {
          "output_type": "execute_result",
          "data": {
            "text/html": [
              "<div>\n",
              "<style scoped>\n",
              "    .dataframe tbody tr th:only-of-type {\n",
              "        vertical-align: middle;\n",
              "    }\n",
              "\n",
              "    .dataframe tbody tr th {\n",
              "        vertical-align: top;\n",
              "    }\n",
              "\n",
              "    .dataframe thead th {\n",
              "        text-align: right;\n",
              "    }\n",
              "</style>\n",
              "<table border=\"1\" class=\"dataframe\">\n",
              "  <thead>\n",
              "    <tr style=\"text-align: right;\">\n",
              "      <th></th>\n",
              "      <th>titulo</th>\n",
              "      <th>genero</th>\n",
              "      <th>total_votos</th>\n",
              "      <th>media_nota</th>\n",
              "    </tr>\n",
              "    <tr>\n",
              "      <th>id_filme</th>\n",
              "      <th></th>\n",
              "      <th></th>\n",
              "      <th></th>\n",
              "      <th></th>\n",
              "    </tr>\n",
              "  </thead>\n",
              "  <tbody>\n",
              "    <tr>\n",
              "      <th>88448</th>\n",
              "      <td>Paper Birds (Pájaros de papel) (2010)</td>\n",
              "      <td>Comedy|Drama</td>\n",
              "      <td>1.0</td>\n",
              "      <td>5.0</td>\n",
              "    </tr>\n",
              "    <tr>\n",
              "      <th>100556</th>\n",
              "      <td>Act of Killing, The (2012)</td>\n",
              "      <td>Documentary</td>\n",
              "      <td>1.0</td>\n",
              "      <td>5.0</td>\n",
              "    </tr>\n",
              "    <tr>\n",
              "      <th>143031</th>\n",
              "      <td>Jump In! (2007)</td>\n",
              "      <td>Comedy|Drama|Romance</td>\n",
              "      <td>1.0</td>\n",
              "      <td>5.0</td>\n",
              "    </tr>\n",
              "    <tr>\n",
              "      <th>143511</th>\n",
              "      <td>Human (2015)</td>\n",
              "      <td>Documentary</td>\n",
              "      <td>1.0</td>\n",
              "      <td>5.0</td>\n",
              "    </tr>\n",
              "    <tr>\n",
              "      <th>143559</th>\n",
              "      <td>L.A. Slasher (2015)</td>\n",
              "      <td>Comedy|Crime|Fantasy</td>\n",
              "      <td>1.0</td>\n",
              "      <td>5.0</td>\n",
              "    </tr>\n",
              "  </tbody>\n",
              "</table>\n",
              "</div>"
            ],
            "text/plain": [
              "                                         titulo  ... media_nota\n",
              "id_filme                                         ...           \n",
              "88448     Paper Birds (Pájaros de papel) (2010)  ...        5.0\n",
              "100556               Act of Killing, The (2012)  ...        5.0\n",
              "143031                          Jump In! (2007)  ...        5.0\n",
              "143511                             Human (2015)  ...        5.0\n",
              "143559                      L.A. Slasher (2015)  ...        5.0\n",
              "\n",
              "[5 rows x 4 columns]"
            ]
          },
          "metadata": {
            "tags": []
          },
          "execution_count": 11
        }
      ]
    },
    {
      "cell_type": "markdown",
      "metadata": {
        "id": "elRdIXF70SOD"
      },
      "source": [
        "> #### Filtrando numero de notas por Query\n"
      ]
    },
    {
      "cell_type": "code",
      "metadata": {
        "colab": {
          "base_uri": "https://localhost:8080/",
          "height": 0
        },
        "id": "AXqd1UNSz4_B",
        "outputId": "f3182bc1-4a6f-4c1f-ade6-c8007d7e12ad"
      },
      "source": [
        "filmes_200 = filmes.query('total_votos >= 200').sort_values('media_nota',ascending = False).head(10)\n",
        "filmes_200"
      ],
      "execution_count": 12,
      "outputs": [
        {
          "output_type": "execute_result",
          "data": {
            "text/html": [
              "<div>\n",
              "<style scoped>\n",
              "    .dataframe tbody tr th:only-of-type {\n",
              "        vertical-align: middle;\n",
              "    }\n",
              "\n",
              "    .dataframe tbody tr th {\n",
              "        vertical-align: top;\n",
              "    }\n",
              "\n",
              "    .dataframe thead th {\n",
              "        text-align: right;\n",
              "    }\n",
              "</style>\n",
              "<table border=\"1\" class=\"dataframe\">\n",
              "  <thead>\n",
              "    <tr style=\"text-align: right;\">\n",
              "      <th></th>\n",
              "      <th>titulo</th>\n",
              "      <th>genero</th>\n",
              "      <th>total_votos</th>\n",
              "      <th>media_nota</th>\n",
              "    </tr>\n",
              "    <tr>\n",
              "      <th>id_filme</th>\n",
              "      <th></th>\n",
              "      <th></th>\n",
              "      <th></th>\n",
              "      <th></th>\n",
              "    </tr>\n",
              "  </thead>\n",
              "  <tbody>\n",
              "    <tr>\n",
              "      <th>318</th>\n",
              "      <td>Shawshank Redemption, The (1994)</td>\n",
              "      <td>Crime|Drama</td>\n",
              "      <td>317.0</td>\n",
              "      <td>4.429022</td>\n",
              "    </tr>\n",
              "    <tr>\n",
              "      <th>2959</th>\n",
              "      <td>Fight Club (1999)</td>\n",
              "      <td>Action|Crime|Drama|Thriller</td>\n",
              "      <td>218.0</td>\n",
              "      <td>4.272936</td>\n",
              "    </tr>\n",
              "    <tr>\n",
              "      <th>50</th>\n",
              "      <td>Usual Suspects, The (1995)</td>\n",
              "      <td>Crime|Mystery|Thriller</td>\n",
              "      <td>204.0</td>\n",
              "      <td>4.237745</td>\n",
              "    </tr>\n",
              "    <tr>\n",
              "      <th>260</th>\n",
              "      <td>Star Wars: Episode IV - A New Hope (1977)</td>\n",
              "      <td>Action|Adventure|Sci-Fi</td>\n",
              "      <td>251.0</td>\n",
              "      <td>4.231076</td>\n",
              "    </tr>\n",
              "    <tr>\n",
              "      <th>527</th>\n",
              "      <td>Schindler's List (1993)</td>\n",
              "      <td>Drama|War</td>\n",
              "      <td>220.0</td>\n",
              "      <td>4.225000</td>\n",
              "    </tr>\n",
              "    <tr>\n",
              "      <th>1196</th>\n",
              "      <td>Star Wars: Episode V - The Empire Strikes Back...</td>\n",
              "      <td>Action|Adventure|Sci-Fi</td>\n",
              "      <td>211.0</td>\n",
              "      <td>4.215640</td>\n",
              "    </tr>\n",
              "    <tr>\n",
              "      <th>1198</th>\n",
              "      <td>Raiders of the Lost Ark (Indiana Jones and the...</td>\n",
              "      <td>Action|Adventure</td>\n",
              "      <td>200.0</td>\n",
              "      <td>4.207500</td>\n",
              "    </tr>\n",
              "    <tr>\n",
              "      <th>296</th>\n",
              "      <td>Pulp Fiction (1994)</td>\n",
              "      <td>Comedy|Crime|Drama|Thriller</td>\n",
              "      <td>307.0</td>\n",
              "      <td>4.197068</td>\n",
              "    </tr>\n",
              "    <tr>\n",
              "      <th>2571</th>\n",
              "      <td>Matrix, The (1999)</td>\n",
              "      <td>Action|Sci-Fi|Thriller</td>\n",
              "      <td>278.0</td>\n",
              "      <td>4.192446</td>\n",
              "    </tr>\n",
              "    <tr>\n",
              "      <th>356</th>\n",
              "      <td>Forrest Gump (1994)</td>\n",
              "      <td>Comedy|Drama|Romance|War</td>\n",
              "      <td>329.0</td>\n",
              "      <td>4.164134</td>\n",
              "    </tr>\n",
              "  </tbody>\n",
              "</table>\n",
              "</div>"
            ],
            "text/plain": [
              "                                                     titulo  ... media_nota\n",
              "id_filme                                                     ...           \n",
              "318                        Shawshank Redemption, The (1994)  ...   4.429022\n",
              "2959                                      Fight Club (1999)  ...   4.272936\n",
              "50                               Usual Suspects, The (1995)  ...   4.237745\n",
              "260               Star Wars: Episode IV - A New Hope (1977)  ...   4.231076\n",
              "527                                 Schindler's List (1993)  ...   4.225000\n",
              "1196      Star Wars: Episode V - The Empire Strikes Back...  ...   4.215640\n",
              "1198      Raiders of the Lost Ark (Indiana Jones and the...  ...   4.207500\n",
              "296                                     Pulp Fiction (1994)  ...   4.197068\n",
              "2571                                     Matrix, The (1999)  ...   4.192446\n",
              "356                                     Forrest Gump (1994)  ...   4.164134\n",
              "\n",
              "[10 rows x 4 columns]"
            ]
          },
          "metadata": {
            "tags": []
          },
          "execution_count": 12
        }
      ]
    },
    {
      "cell_type": "markdown",
      "metadata": {
        "id": "Tl03HFDm1_kd"
      },
      "source": [
        "> ## Segunda Tentativa de Recomendação\n",
        "> Recomendação baseada em similaridade de genero do filme\n"
      ]
    },
    {
      "cell_type": "code",
      "metadata": {
        "colab": {
          "base_uri": "https://localhost:8080/",
          "height": 0
        },
        "id": "F09il61h2EAh",
        "outputId": "321665c5-95ce-48b8-8e21-824244141320"
      },
      "source": [
        "filmes_assistidos = [1,20,156,42,6]\n",
        "filmes.loc[filmes_assistidos]"
      ],
      "execution_count": 13,
      "outputs": [
        {
          "output_type": "execute_result",
          "data": {
            "text/html": [
              "<div>\n",
              "<style scoped>\n",
              "    .dataframe tbody tr th:only-of-type {\n",
              "        vertical-align: middle;\n",
              "    }\n",
              "\n",
              "    .dataframe tbody tr th {\n",
              "        vertical-align: top;\n",
              "    }\n",
              "\n",
              "    .dataframe thead th {\n",
              "        text-align: right;\n",
              "    }\n",
              "</style>\n",
              "<table border=\"1\" class=\"dataframe\">\n",
              "  <thead>\n",
              "    <tr style=\"text-align: right;\">\n",
              "      <th></th>\n",
              "      <th>titulo</th>\n",
              "      <th>genero</th>\n",
              "      <th>total_votos</th>\n",
              "      <th>media_nota</th>\n",
              "    </tr>\n",
              "    <tr>\n",
              "      <th>id_filme</th>\n",
              "      <th></th>\n",
              "      <th></th>\n",
              "      <th></th>\n",
              "      <th></th>\n",
              "    </tr>\n",
              "  </thead>\n",
              "  <tbody>\n",
              "    <tr>\n",
              "      <th>1</th>\n",
              "      <td>Toy Story (1995)</td>\n",
              "      <td>Adventure|Animation|Children|Comedy|Fantasy</td>\n",
              "      <td>215.0</td>\n",
              "      <td>3.920930</td>\n",
              "    </tr>\n",
              "    <tr>\n",
              "      <th>20</th>\n",
              "      <td>Money Train (1995)</td>\n",
              "      <td>Action|Comedy|Crime|Drama|Thriller</td>\n",
              "      <td>15.0</td>\n",
              "      <td>2.500000</td>\n",
              "    </tr>\n",
              "    <tr>\n",
              "      <th>156</th>\n",
              "      <td>Blue in the Face (1995)</td>\n",
              "      <td>Comedy|Drama</td>\n",
              "      <td>3.0</td>\n",
              "      <td>3.333333</td>\n",
              "    </tr>\n",
              "    <tr>\n",
              "      <th>42</th>\n",
              "      <td>Dead Presidents (1995)</td>\n",
              "      <td>Action|Crime|Drama</td>\n",
              "      <td>7.0</td>\n",
              "      <td>3.000000</td>\n",
              "    </tr>\n",
              "    <tr>\n",
              "      <th>6</th>\n",
              "      <td>Heat (1995)</td>\n",
              "      <td>Action|Crime|Thriller</td>\n",
              "      <td>102.0</td>\n",
              "      <td>3.946078</td>\n",
              "    </tr>\n",
              "  </tbody>\n",
              "</table>\n",
              "</div>"
            ],
            "text/plain": [
              "                           titulo  ... media_nota\n",
              "id_filme                           ...           \n",
              "1                Toy Story (1995)  ...   3.920930\n",
              "20             Money Train (1995)  ...   2.500000\n",
              "156       Blue in the Face (1995)  ...   3.333333\n",
              "42         Dead Presidents (1995)  ...   3.000000\n",
              "6                     Heat (1995)  ...   3.946078\n",
              "\n",
              "[5 rows x 4 columns]"
            ]
          },
          "metadata": {
            "tags": []
          },
          "execution_count": 13
        }
      ]
    },
    {
      "cell_type": "code",
      "metadata": {
        "id": "D8Y6G1252dQC",
        "colab": {
          "base_uri": "https://localhost:8080/",
          "height": 0
        },
        "outputId": "0f2434f4-fc3e-4e4f-eaa7-16ddfdc4e9ef"
      },
      "source": [
        "# Filtramos nossos filmes acima de 200 avaliações pelos gêneros comédia e drama\n",
        "filmes_comedia_drama = filmes_200.query('genero.str.contains(\"Comedy|Drama\")', engine='python')\n",
        "\n",
        "# Retira filmes já assistidos, ordena pela maior nota os filmes de comédia ou/e drama\n",
        "filmes_comedia_drama = filmes_comedia_drama.drop(filmes_assistidos,errors='ignore').sort_values('media_nota', ascending = False)\n",
        "filmes_comedia_drama"
      ],
      "execution_count": 14,
      "outputs": [
        {
          "output_type": "execute_result",
          "data": {
            "text/html": [
              "<div>\n",
              "<style scoped>\n",
              "    .dataframe tbody tr th:only-of-type {\n",
              "        vertical-align: middle;\n",
              "    }\n",
              "\n",
              "    .dataframe tbody tr th {\n",
              "        vertical-align: top;\n",
              "    }\n",
              "\n",
              "    .dataframe thead th {\n",
              "        text-align: right;\n",
              "    }\n",
              "</style>\n",
              "<table border=\"1\" class=\"dataframe\">\n",
              "  <thead>\n",
              "    <tr style=\"text-align: right;\">\n",
              "      <th></th>\n",
              "      <th>titulo</th>\n",
              "      <th>genero</th>\n",
              "      <th>total_votos</th>\n",
              "      <th>media_nota</th>\n",
              "    </tr>\n",
              "    <tr>\n",
              "      <th>id_filme</th>\n",
              "      <th></th>\n",
              "      <th></th>\n",
              "      <th></th>\n",
              "      <th></th>\n",
              "    </tr>\n",
              "  </thead>\n",
              "  <tbody>\n",
              "    <tr>\n",
              "      <th>318</th>\n",
              "      <td>Shawshank Redemption, The (1994)</td>\n",
              "      <td>Crime|Drama</td>\n",
              "      <td>317.0</td>\n",
              "      <td>4.429022</td>\n",
              "    </tr>\n",
              "    <tr>\n",
              "      <th>2959</th>\n",
              "      <td>Fight Club (1999)</td>\n",
              "      <td>Action|Crime|Drama|Thriller</td>\n",
              "      <td>218.0</td>\n",
              "      <td>4.272936</td>\n",
              "    </tr>\n",
              "    <tr>\n",
              "      <th>527</th>\n",
              "      <td>Schindler's List (1993)</td>\n",
              "      <td>Drama|War</td>\n",
              "      <td>220.0</td>\n",
              "      <td>4.225000</td>\n",
              "    </tr>\n",
              "    <tr>\n",
              "      <th>296</th>\n",
              "      <td>Pulp Fiction (1994)</td>\n",
              "      <td>Comedy|Crime|Drama|Thriller</td>\n",
              "      <td>307.0</td>\n",
              "      <td>4.197068</td>\n",
              "    </tr>\n",
              "    <tr>\n",
              "      <th>356</th>\n",
              "      <td>Forrest Gump (1994)</td>\n",
              "      <td>Comedy|Drama|Romance|War</td>\n",
              "      <td>329.0</td>\n",
              "      <td>4.164134</td>\n",
              "    </tr>\n",
              "  </tbody>\n",
              "</table>\n",
              "</div>"
            ],
            "text/plain": [
              "                                    titulo  ... media_nota\n",
              "id_filme                                    ...           \n",
              "318       Shawshank Redemption, The (1994)  ...   4.429022\n",
              "2959                     Fight Club (1999)  ...   4.272936\n",
              "527                Schindler's List (1993)  ...   4.225000\n",
              "296                    Pulp Fiction (1994)  ...   4.197068\n",
              "356                    Forrest Gump (1994)  ...   4.164134\n",
              "\n",
              "[5 rows x 4 columns]"
            ]
          },
          "metadata": {
            "tags": []
          },
          "execution_count": 14
        }
      ]
    },
    {
      "cell_type": "markdown",
      "metadata": {
        "id": "RQPRK8MIgzOV"
      },
      "source": [
        "> ## Terceira tentativa de Recomendação\n",
        "Procurando usuários similares"
      ]
    },
    {
      "cell_type": "markdown",
      "metadata": {
        "id": "Pv-pRvNYi6ej"
      },
      "source": [
        "> ### Calculando a distância entre os pontos"
      ]
    },
    {
      "cell_type": "code",
      "metadata": {
        "colab": {
          "base_uri": "https://localhost:8080/"
        },
        "id": "C6z7Vx2Dg5JP",
        "outputId": "98334eb7-3992-4da0-e53b-07b07df1159d"
      },
      "source": [
        "import numpy as np\n",
        "\n",
        "Gabriel_Vieira = np.array([4,5,2,0])\n",
        "Carla = np.array([0,2,5,4])\n",
        "Paulo = np.array([5,4,2,0])\n",
        "\n",
        "def distancia(a,b):\n",
        "  return np.linalg.norm(a -b)\n",
        "\n",
        "print('Distância entre Gabriel e Carla:')\n",
        "print('%.2f' % distancia(Gabriel_Vieira,Carla))\n",
        "print()\n",
        "print('Distância entre Gabriel e Paulo:')\n",
        "print('%.2f' % distancia(Gabriel_Vieira,Paulo))"
      ],
      "execution_count": 15,
      "outputs": [
        {
          "output_type": "stream",
          "text": [
            "Distância entre Gabriel e Carla:\n",
            "7.07\n",
            "\n",
            "Distância entre Gabriel e Paulo:\n",
            "1.41\n"
          ],
          "name": "stdout"
        }
      ]
    },
    {
      "cell_type": "markdown",
      "metadata": {
        "id": "B6_W5MbFk9yP"
      },
      "source": [
        "> ### Implementando distância de pontos com os usuários"
      ]
    },
    {
      "cell_type": "code",
      "metadata": {
        "colab": {
          "base_uri": "https://localhost:8080/"
        },
        "id": "d-vRvmFklEPc",
        "outputId": "b70cb309-8fec-48f0-912c-6d71419f8bd2"
      },
      "source": [
        "# Notas do usuario com id 1\n",
        "notas_usuario = notas.query('id_usuario == 1')\n",
        "\n",
        "# Dataframe com nota e id do filme como index\n",
        "notas_usuario = notas_usuario[['id_filme','nota']].set_index('id_filme')\n",
        "\n",
        "# Localizando filme de id 47\n",
        "notas_usuario.loc[47]"
      ],
      "execution_count": 16,
      "outputs": [
        {
          "output_type": "execute_result",
          "data": {
            "text/plain": [
              "nota    5.0\n",
              "Name: 47, dtype: float64"
            ]
          },
          "metadata": {
            "tags": []
          },
          "execution_count": 16
        }
      ]
    },
    {
      "cell_type": "markdown",
      "metadata": {
        "id": "hlvHgnWzpXx7"
      },
      "source": [
        "> ### Generalizando em uma função notas_usuario\n",
        "\n"
      ]
    },
    {
      "cell_type": "code",
      "metadata": {
        "colab": {
          "base_uri": "https://localhost:8080/",
          "height": 0
        },
        "id": "gnSeOwWXpcWz",
        "outputId": "5a1d3c4e-f14f-4e00-de06-4e01c9cb1bf0"
      },
      "source": [
        "def notas_usuario(usuario):\n",
        "  # Notas do usuario\n",
        "  notas_usuario = notas.query('id_usuario == %d' % usuario)\n",
        "\n",
        "  # Dataframe com nota e id do filme como index\n",
        "  notas_usuario = notas_usuario[['id_filme','nota']].set_index('id_filme')\n",
        "\n",
        "  return notas_usuario\n",
        "\n",
        "usuario_1 = notas_usuario(1)\n",
        "usuario_4 = notas_usuario(4)\n",
        "\n",
        "# juntando dois dataframes e filtrando notas que apenas um dos usuarios submeteu\n",
        "usuarios = usuario_1.join(usuario_4, lsuffix = '_user01', rsuffix = '_user04' ).dropna()\n",
        "\n",
        "display(usuarios.head())\n",
        "\n",
        "# Calculando distancia entre o usuario 01 e usuario 04\n",
        "print('\\nA distância entre os usuários 01 e 04 é de:')\n",
        "print('%.2f' % distancia(usuarios['nota_user01'],usuarios['nota_user04']))\n"
      ],
      "execution_count": 17,
      "outputs": [
        {
          "output_type": "display_data",
          "data": {
            "text/html": [
              "<div>\n",
              "<style scoped>\n",
              "    .dataframe tbody tr th:only-of-type {\n",
              "        vertical-align: middle;\n",
              "    }\n",
              "\n",
              "    .dataframe tbody tr th {\n",
              "        vertical-align: top;\n",
              "    }\n",
              "\n",
              "    .dataframe thead th {\n",
              "        text-align: right;\n",
              "    }\n",
              "</style>\n",
              "<table border=\"1\" class=\"dataframe\">\n",
              "  <thead>\n",
              "    <tr style=\"text-align: right;\">\n",
              "      <th></th>\n",
              "      <th>nota_user01</th>\n",
              "      <th>nota_user04</th>\n",
              "    </tr>\n",
              "    <tr>\n",
              "      <th>id_filme</th>\n",
              "      <th></th>\n",
              "      <th></th>\n",
              "    </tr>\n",
              "  </thead>\n",
              "  <tbody>\n",
              "    <tr>\n",
              "      <th>47</th>\n",
              "      <td>5.0</td>\n",
              "      <td>2.0</td>\n",
              "    </tr>\n",
              "    <tr>\n",
              "      <th>235</th>\n",
              "      <td>4.0</td>\n",
              "      <td>2.0</td>\n",
              "    </tr>\n",
              "    <tr>\n",
              "      <th>260</th>\n",
              "      <td>5.0</td>\n",
              "      <td>5.0</td>\n",
              "    </tr>\n",
              "    <tr>\n",
              "      <th>296</th>\n",
              "      <td>3.0</td>\n",
              "      <td>1.0</td>\n",
              "    </tr>\n",
              "    <tr>\n",
              "      <th>441</th>\n",
              "      <td>4.0</td>\n",
              "      <td>1.0</td>\n",
              "    </tr>\n",
              "  </tbody>\n",
              "</table>\n",
              "</div>"
            ],
            "text/plain": [
              "          nota_user01  nota_user04\n",
              "id_filme                          \n",
              "47                5.0          2.0\n",
              "235               4.0          2.0\n",
              "260               5.0          5.0\n",
              "296               3.0          1.0\n",
              "441               4.0          1.0"
            ]
          },
          "metadata": {
            "tags": []
          }
        },
        {
          "output_type": "stream",
          "text": [
            "\n",
            "A distância entre os usuários 01 e 04 é de:\n",
            "11.14\n"
          ],
          "name": "stdout"
        }
      ]
    },
    {
      "cell_type": "markdown",
      "metadata": {
        "id": "Ah6NB3DdsUX2"
      },
      "source": [
        "> ### Generalizando em uma função distância entre dois usuarios"
      ]
    },
    {
      "cell_type": "code",
      "metadata": {
        "colab": {
          "base_uri": "https://localhost:8080/"
        },
        "id": "dv_d6dymsZTd",
        "outputId": "e050deab-4eab-4ac8-9c5e-ebfa89d144a8"
      },
      "source": [
        "def distancia_usuarios(id_01,id_02):\n",
        "  usuario_1 = notas_usuario(id_01)\n",
        "  usuario_2 = notas_usuario(id_02)\n",
        "\n",
        "  # juntando dois dataframes e filtrando notas que apenas um dos usuarios submeteu\n",
        "  usuarios = usuario_1.join(usuario_2, lsuffix = '_user%d' % id_01, rsuffix = '_user%d' % id_02 ).dropna()\n",
        "  distancia_usuarios = distancia(usuarios['nota_user%d' % id_01],usuarios['nota_user%d' % id_02])\n",
        "  return [id_01,id_02,distancia_usuarios]\n",
        "\n",
        "# Calculando distancia entre o usuario 01 e usuario 04\n",
        "print('Lista com retorno id 01, id 02 e distância:')\n",
        "print(distancia_usuarios(1,4))"
      ],
      "execution_count": 18,
      "outputs": [
        {
          "output_type": "stream",
          "text": [
            "Lista com retorno id 01, id 02 e distância:\n",
            "[1, 4, 11.135528725660043]\n"
          ],
          "name": "stdout"
        }
      ]
    },
    {
      "cell_type": "markdown",
      "metadata": {
        "id": "uu_ENADPwUdg"
      },
      "source": [
        "> ### Verificando quantidade de usuários"
      ]
    },
    {
      "cell_type": "code",
      "metadata": {
        "colab": {
          "base_uri": "https://localhost:8080/"
        },
        "id": "plW4-LzQwXaH",
        "outputId": "89f18d74-0520-4083-d1d6-95c8ea7b51c5"
      },
      "source": [
        "quantidade_usuarios = len(notas['id_usuario'].unique())\n",
        "print('A quantidade de usuários é de:', quantidade_usuarios)"
      ],
      "execution_count": 19,
      "outputs": [
        {
          "output_type": "stream",
          "text": [
            "A quantidade de usuários é de: 610\n"
          ],
          "name": "stdout"
        }
      ]
    },
    {
      "cell_type": "markdown",
      "metadata": {
        "id": "8lcN7FHxw4H8"
      },
      "source": [
        "> ### Calculando a distância entre um e todos os usuários\n"
      ]
    },
    {
      "cell_type": "code",
      "metadata": {
        "id": "Wk3jliD1w5Y9",
        "colab": {
          "base_uri": "https://localhost:8080/",
          "height": 391
        },
        "outputId": "4c1220cd-1d60-4ef8-ab5d-2779dac97e59"
      },
      "source": [
        "gabriel_id = 1\n",
        "\n",
        "# Maneira imperativa \n",
        "def distancia_todos(ref_id):\n",
        "  distancias = list()\n",
        "  for usuario_id in notas['id_usuario'].unique():\n",
        "    infos = distancia_usuarios(ref_id,usuario_id)\n",
        "    distancias.append(infos)\n",
        "  distancias = pd.DataFrame(distancias, columns = ['ref_id','outro_usuario_id','distancia'])\n",
        "  return distancias\n",
        "\n",
        "def distancia_todos(ref_id):\n",
        "  todos_users = notas['id_usuario'].unique()\n",
        "  distancias = [ distancia_usuarios(ref_id,usuario_id) for usuario_id in todos_users]\n",
        "  distancias = pd.DataFrame(distancias, columns = ['ref_id','outro_usuario_id','distancia'])\n",
        "  return distancias\n",
        "\n",
        "distancia_todos(gabriel_id)"
      ],
      "execution_count": 20,
      "outputs": [
        {
          "output_type": "execute_result",
          "data": {
            "text/html": [
              "<div>\n",
              "<style scoped>\n",
              "    .dataframe tbody tr th:only-of-type {\n",
              "        vertical-align: middle;\n",
              "    }\n",
              "\n",
              "    .dataframe tbody tr th {\n",
              "        vertical-align: top;\n",
              "    }\n",
              "\n",
              "    .dataframe thead th {\n",
              "        text-align: right;\n",
              "    }\n",
              "</style>\n",
              "<table border=\"1\" class=\"dataframe\">\n",
              "  <thead>\n",
              "    <tr style=\"text-align: right;\">\n",
              "      <th></th>\n",
              "      <th>ref_id</th>\n",
              "      <th>outro_usuario_id</th>\n",
              "      <th>distancia</th>\n",
              "    </tr>\n",
              "  </thead>\n",
              "  <tbody>\n",
              "    <tr>\n",
              "      <th>0</th>\n",
              "      <td>1</td>\n",
              "      <td>1</td>\n",
              "      <td>0.000000</td>\n",
              "    </tr>\n",
              "    <tr>\n",
              "      <th>1</th>\n",
              "      <td>1</td>\n",
              "      <td>2</td>\n",
              "      <td>1.414214</td>\n",
              "    </tr>\n",
              "    <tr>\n",
              "      <th>2</th>\n",
              "      <td>1</td>\n",
              "      <td>3</td>\n",
              "      <td>8.200610</td>\n",
              "    </tr>\n",
              "    <tr>\n",
              "      <th>3</th>\n",
              "      <td>1</td>\n",
              "      <td>4</td>\n",
              "      <td>11.135529</td>\n",
              "    </tr>\n",
              "    <tr>\n",
              "      <th>4</th>\n",
              "      <td>1</td>\n",
              "      <td>5</td>\n",
              "      <td>3.741657</td>\n",
              "    </tr>\n",
              "    <tr>\n",
              "      <th>...</th>\n",
              "      <td>...</td>\n",
              "      <td>...</td>\n",
              "      <td>...</td>\n",
              "    </tr>\n",
              "    <tr>\n",
              "      <th>605</th>\n",
              "      <td>1</td>\n",
              "      <td>606</td>\n",
              "      <td>11.510864</td>\n",
              "    </tr>\n",
              "    <tr>\n",
              "      <th>606</th>\n",
              "      <td>1</td>\n",
              "      <td>607</td>\n",
              "      <td>9.899495</td>\n",
              "    </tr>\n",
              "    <tr>\n",
              "      <th>607</th>\n",
              "      <td>1</td>\n",
              "      <td>608</td>\n",
              "      <td>18.241436</td>\n",
              "    </tr>\n",
              "    <tr>\n",
              "      <th>608</th>\n",
              "      <td>1</td>\n",
              "      <td>609</td>\n",
              "      <td>3.162278</td>\n",
              "    </tr>\n",
              "    <tr>\n",
              "      <th>609</th>\n",
              "      <td>1</td>\n",
              "      <td>610</td>\n",
              "      <td>8.031189</td>\n",
              "    </tr>\n",
              "  </tbody>\n",
              "</table>\n",
              "<p>610 rows × 3 columns</p>\n",
              "</div>"
            ],
            "text/plain": [
              "     ref_id  outro_usuario_id  distancia\n",
              "0         1                 1   0.000000\n",
              "1         1                 2   1.414214\n",
              "2         1                 3   8.200610\n",
              "3         1                 4  11.135529\n",
              "4         1                 5   3.741657\n",
              "..      ...               ...        ...\n",
              "605       1               606  11.510864\n",
              "606       1               607   9.899495\n",
              "607       1               608  18.241436\n",
              "608       1               609   3.162278\n",
              "609       1               610   8.031189\n",
              "\n",
              "[610 rows x 3 columns]"
            ]
          },
          "metadata": {
            "tags": []
          },
          "execution_count": 20
        }
      ]
    },
    {
      "cell_type": "markdown",
      "metadata": {
        "id": "dRR1d__l0r2c"
      },
      "source": [
        "> ### Buscando usuários próximos"
      ]
    },
    {
      "cell_type": "code",
      "metadata": {
        "colab": {
          "base_uri": "https://localhost:8080/",
          "height": 335
        },
        "id": "8VqcwPLnxlTn",
        "outputId": "b59855cf-7fc5-44b2-fbf8-2d440f81bee1"
      },
      "source": [
        "dt = distancia_todos(gabriel_id)\n",
        "df_distancias = dt.query('outro_usuario_id != 1')\n",
        "df_distancias.sort_values('distancia').head(10)"
      ],
      "execution_count": 21,
      "outputs": [
        {
          "output_type": "execute_result",
          "data": {
            "text/html": [
              "<div>\n",
              "<style scoped>\n",
              "    .dataframe tbody tr th:only-of-type {\n",
              "        vertical-align: middle;\n",
              "    }\n",
              "\n",
              "    .dataframe tbody tr th {\n",
              "        vertical-align: top;\n",
              "    }\n",
              "\n",
              "    .dataframe thead th {\n",
              "        text-align: right;\n",
              "    }\n",
              "</style>\n",
              "<table border=\"1\" class=\"dataframe\">\n",
              "  <thead>\n",
              "    <tr style=\"text-align: right;\">\n",
              "      <th></th>\n",
              "      <th>ref_id</th>\n",
              "      <th>outro_usuario_id</th>\n",
              "      <th>distancia</th>\n",
              "    </tr>\n",
              "  </thead>\n",
              "  <tbody>\n",
              "    <tr>\n",
              "      <th>305</th>\n",
              "      <td>1</td>\n",
              "      <td>306</td>\n",
              "      <td>0.0</td>\n",
              "    </tr>\n",
              "    <tr>\n",
              "      <th>577</th>\n",
              "      <td>1</td>\n",
              "      <td>578</td>\n",
              "      <td>0.0</td>\n",
              "    </tr>\n",
              "    <tr>\n",
              "      <th>555</th>\n",
              "      <td>1</td>\n",
              "      <td>556</td>\n",
              "      <td>0.0</td>\n",
              "    </tr>\n",
              "    <tr>\n",
              "      <th>76</th>\n",
              "      <td>1</td>\n",
              "      <td>77</td>\n",
              "      <td>0.0</td>\n",
              "    </tr>\n",
              "    <tr>\n",
              "      <th>84</th>\n",
              "      <td>1</td>\n",
              "      <td>85</td>\n",
              "      <td>0.0</td>\n",
              "    </tr>\n",
              "    <tr>\n",
              "      <th>174</th>\n",
              "      <td>1</td>\n",
              "      <td>175</td>\n",
              "      <td>0.0</td>\n",
              "    </tr>\n",
              "    <tr>\n",
              "      <th>252</th>\n",
              "      <td>1</td>\n",
              "      <td>253</td>\n",
              "      <td>0.0</td>\n",
              "    </tr>\n",
              "    <tr>\n",
              "      <th>290</th>\n",
              "      <td>1</td>\n",
              "      <td>291</td>\n",
              "      <td>0.0</td>\n",
              "    </tr>\n",
              "    <tr>\n",
              "      <th>505</th>\n",
              "      <td>1</td>\n",
              "      <td>506</td>\n",
              "      <td>0.0</td>\n",
              "    </tr>\n",
              "    <tr>\n",
              "      <th>495</th>\n",
              "      <td>1</td>\n",
              "      <td>496</td>\n",
              "      <td>0.0</td>\n",
              "    </tr>\n",
              "  </tbody>\n",
              "</table>\n",
              "</div>"
            ],
            "text/plain": [
              "     ref_id  outro_usuario_id  distancia\n",
              "305       1               306        0.0\n",
              "577       1               578        0.0\n",
              "555       1               556        0.0\n",
              "76        1                77        0.0\n",
              "84        1                85        0.0\n",
              "174       1               175        0.0\n",
              "252       1               253        0.0\n",
              "290       1               291        0.0\n",
              "505       1               506        0.0\n",
              "495       1               496        0.0"
            ]
          },
          "metadata": {
            "tags": []
          },
          "execution_count": 21
        }
      ]
    },
    {
      "cell_type": "markdown",
      "metadata": {
        "id": "LCk5II6m1eTF"
      },
      "source": [
        "> ### Arrumando problema de pessoas que não deram notas em filmes"
      ]
    },
    {
      "cell_type": "code",
      "metadata": {
        "id": "mHn_lUQf1jrC"
      },
      "source": [
        "def distancia_usuarios(id_01,id_02, minimo = 6):\n",
        "  usuario_1 = notas_usuario(id_01)\n",
        "  usuario_2 = notas_usuario(id_02)\n",
        "\n",
        "  # juntando dois dataframes e filtrando notas que apenas um dos usuarios submeteu\n",
        "  usuarios = usuario_1.join(usuario_2, lsuffix = '_user%d' % id_01, rsuffix = '_user%d' % id_02 ).dropna()\n",
        "\n",
        "  if (len(usuarios) < minimo):\n",
        "    return [id_01,id_02,100000]\n",
        "\n",
        "  distancia_usuarios = distancia(usuarios['nota_user%d' % id_01],usuarios['nota_user%d' % id_02])\n",
        "  return [id_01,id_02,distancia_usuarios]\n",
        "\n",
        "# Maneira imperativa \n",
        "def distancia_todos(ref_id):\n",
        "  distancias = list()\n",
        "  for usuario_id in notas['id_usuario'].unique():\n",
        "    infos = distancia_usuarios(ref_id,usuario_id)\n",
        "    distancias.append(infos)\n",
        "  distancias = pd.DataFrame(distancias, columns = ['ref_id','outro_usuario_id','distancia'])\n",
        "  return distancias\n",
        "\n",
        "def proximos(ref_id):\n",
        "  distancia = distancia_todos(ref_id)\n",
        "  return distancia.sort_values('distancia').query('outro_usuario_id != %d' % ref_id)\n"
      ],
      "execution_count": 22,
      "outputs": []
    },
    {
      "cell_type": "code",
      "metadata": {
        "colab": {
          "base_uri": "https://localhost:8080/",
          "height": 191
        },
        "id": "VOeZ3_XO-IH3",
        "outputId": "b26b086a-ea26-4bbc-c2e7-3e9e1fbfd5e8"
      },
      "source": [
        " proximos(1).head()"
      ],
      "execution_count": 23,
      "outputs": [
        {
          "output_type": "execute_result",
          "data": {
            "text/html": [
              "<div>\n",
              "<style scoped>\n",
              "    .dataframe tbody tr th:only-of-type {\n",
              "        vertical-align: middle;\n",
              "    }\n",
              "\n",
              "    .dataframe tbody tr th {\n",
              "        vertical-align: top;\n",
              "    }\n",
              "\n",
              "    .dataframe thead th {\n",
              "        text-align: right;\n",
              "    }\n",
              "</style>\n",
              "<table border=\"1\" class=\"dataframe\">\n",
              "  <thead>\n",
              "    <tr style=\"text-align: right;\">\n",
              "      <th></th>\n",
              "      <th>ref_id</th>\n",
              "      <th>outro_usuario_id</th>\n",
              "      <th>distancia</th>\n",
              "    </tr>\n",
              "  </thead>\n",
              "  <tbody>\n",
              "    <tr>\n",
              "      <th>76</th>\n",
              "      <td>1</td>\n",
              "      <td>77</td>\n",
              "      <td>0.000000</td>\n",
              "    </tr>\n",
              "    <tr>\n",
              "      <th>510</th>\n",
              "      <td>1</td>\n",
              "      <td>511</td>\n",
              "      <td>0.500000</td>\n",
              "    </tr>\n",
              "    <tr>\n",
              "      <th>522</th>\n",
              "      <td>1</td>\n",
              "      <td>523</td>\n",
              "      <td>1.000000</td>\n",
              "    </tr>\n",
              "    <tr>\n",
              "      <th>48</th>\n",
              "      <td>1</td>\n",
              "      <td>49</td>\n",
              "      <td>1.000000</td>\n",
              "    </tr>\n",
              "    <tr>\n",
              "      <th>397</th>\n",
              "      <td>1</td>\n",
              "      <td>398</td>\n",
              "      <td>1.224745</td>\n",
              "    </tr>\n",
              "  </tbody>\n",
              "</table>\n",
              "</div>"
            ],
            "text/plain": [
              "     ref_id  outro_usuario_id  distancia\n",
              "76        1                77   0.000000\n",
              "510       1               511   0.500000\n",
              "522       1               523   1.000000\n",
              "48        1                49   1.000000\n",
              "397       1               398   1.224745"
            ]
          },
          "metadata": {
            "tags": []
          },
          "execution_count": 23
        }
      ]
    },
    {
      "cell_type": "markdown",
      "metadata": {
        "id": "oI7sGcw7_rRI"
      },
      "source": [
        "> ### Parâmetros para teste"
      ]
    },
    {
      "cell_type": "code",
      "metadata": {
        "id": "dOcgxLRN_vfY"
      },
      "source": [
        "def distancia_usuarios(id_01,id_02, minimo = 6):\n",
        "  usuario_1 = notas_usuario(id_01)\n",
        "  usuario_2 = notas_usuario(id_02)\n",
        "\n",
        "  # juntando dois dataframes e filtrando notas que apenas um dos usuarios submeteu\n",
        "  usuarios = usuario_1.join(usuario_2, lsuffix = '_user%d' % id_01, rsuffix = '_user%d' % id_02 ).dropna()\n",
        "\n",
        "  if (len(usuarios) < minimo):\n",
        "    return None\n",
        "\n",
        "  distancia_usuarios = distancia(usuarios['nota_user%d' % id_01],usuarios['nota_user%d' % id_02])\n",
        "  return [id_01,id_02,distancia_usuarios]\n",
        "\n",
        "\n",
        "def distancia_todos(ref_id, n = None):\n",
        "  todos_users = notas['id_usuario'].unique()\n",
        "  if n:\n",
        "    todos_users = todos_users[:n]\n",
        "  distancias = [ distancia_usuarios(ref_id,usuario_id) for usuario_id in todos_users]\n",
        "  # Filtrando\n",
        "  distancias = list(filter(None,distancias))\n",
        "  distancias = pd.DataFrame(distancias, columns = ['ref_id','outro_usuario_id','distancia'])\n",
        "  return distancias\n",
        "\n",
        "\n",
        "def proximos(ref_id, n = None):\n",
        "  distancia = distancia_todos(ref_id, n = n)\n",
        "  return distancia.sort_values('distancia').query('outro_usuario_id != %d' % ref_id)"
      ],
      "execution_count": 24,
      "outputs": []
    },
    {
      "cell_type": "code",
      "metadata": {
        "colab": {
          "base_uri": "https://localhost:8080/",
          "height": 191
        },
        "id": "OdvhmsSIA7u0",
        "outputId": "a96d5d37-61ea-4594-e541-80f3a2404c2f"
      },
      "source": [
        "proximos(1, n = 48).head()"
      ],
      "execution_count": 25,
      "outputs": [
        {
          "output_type": "execute_result",
          "data": {
            "text/html": [
              "<div>\n",
              "<style scoped>\n",
              "    .dataframe tbody tr th:only-of-type {\n",
              "        vertical-align: middle;\n",
              "    }\n",
              "\n",
              "    .dataframe tbody tr th {\n",
              "        vertical-align: top;\n",
              "    }\n",
              "\n",
              "    .dataframe thead th {\n",
              "        text-align: right;\n",
              "    }\n",
              "</style>\n",
              "<table border=\"1\" class=\"dataframe\">\n",
              "  <thead>\n",
              "    <tr style=\"text-align: right;\">\n",
              "      <th></th>\n",
              "      <th>ref_id</th>\n",
              "      <th>outro_usuario_id</th>\n",
              "      <th>distancia</th>\n",
              "    </tr>\n",
              "  </thead>\n",
              "  <tbody>\n",
              "    <tr>\n",
              "      <th>21</th>\n",
              "      <td>1</td>\n",
              "      <td>25</td>\n",
              "      <td>1.414214</td>\n",
              "    </tr>\n",
              "    <tr>\n",
              "      <th>9</th>\n",
              "      <td>1</td>\n",
              "      <td>13</td>\n",
              "      <td>1.414214</td>\n",
              "    </tr>\n",
              "    <tr>\n",
              "      <th>26</th>\n",
              "      <td>1</td>\n",
              "      <td>30</td>\n",
              "      <td>1.802776</td>\n",
              "    </tr>\n",
              "    <tr>\n",
              "      <th>31</th>\n",
              "      <td>1</td>\n",
              "      <td>35</td>\n",
              "      <td>2.236068</td>\n",
              "    </tr>\n",
              "    <tr>\n",
              "      <th>22</th>\n",
              "      <td>1</td>\n",
              "      <td>26</td>\n",
              "      <td>2.236068</td>\n",
              "    </tr>\n",
              "  </tbody>\n",
              "</table>\n",
              "</div>"
            ],
            "text/plain": [
              "    ref_id  outro_usuario_id  distancia\n",
              "21       1                25   1.414214\n",
              "9        1                13   1.414214\n",
              "26       1                30   1.802776\n",
              "31       1                35   2.236068\n",
              "22       1                26   2.236068"
            ]
          },
          "metadata": {
            "tags": []
          },
          "execution_count": 25
        }
      ]
    },
    {
      "cell_type": "markdown",
      "metadata": {
        "id": "bSWdh1AFCmXM"
      },
      "source": [
        "> ### Buscando dados sobre usuário mais similar dentro de um conjunto de 48"
      ]
    },
    {
      "cell_type": "code",
      "metadata": {
        "id": "1l2gtAwACYoH"
      },
      "source": [
        "similares = proximos(1, n = 48)\n",
        "similar = similares.iloc[0].name"
      ],
      "execution_count": 26,
      "outputs": []
    },
    {
      "cell_type": "markdown",
      "metadata": {
        "id": "n2qZlcRmIU5T"
      },
      "source": [
        "> ### Eliminando filmes já vistos e criando recomendações em ordem crescente dos filmes com maior nota do usuário semelhante\n"
      ]
    },
    {
      "cell_type": "code",
      "metadata": {
        "colab": {
          "base_uri": "https://localhost:8080/",
          "height": 420
        },
        "id": "RG9Py8z9DdVD",
        "outputId": "df8dc8fc-daea-4c92-f6f5-b8ddb0c1c43b"
      },
      "source": [
        "notas_similar = notas_usuario(similar)\n",
        "filmes_ref = notas_usuario(1).index\n",
        "recomendacoes = notas_similar.drop(filmes_ref, errors='ignore').sort_values('nota', ascending = False)\n",
        "recomendacoes"
      ],
      "execution_count": 27,
      "outputs": [
        {
          "output_type": "execute_result",
          "data": {
            "text/html": [
              "<div>\n",
              "<style scoped>\n",
              "    .dataframe tbody tr th:only-of-type {\n",
              "        vertical-align: middle;\n",
              "    }\n",
              "\n",
              "    .dataframe tbody tr th {\n",
              "        vertical-align: top;\n",
              "    }\n",
              "\n",
              "    .dataframe thead th {\n",
              "        text-align: right;\n",
              "    }\n",
              "</style>\n",
              "<table border=\"1\" class=\"dataframe\">\n",
              "  <thead>\n",
              "    <tr style=\"text-align: right;\">\n",
              "      <th></th>\n",
              "      <th>nota</th>\n",
              "    </tr>\n",
              "    <tr>\n",
              "      <th>id_filme</th>\n",
              "      <th></th>\n",
              "    </tr>\n",
              "  </thead>\n",
              "  <tbody>\n",
              "    <tr>\n",
              "      <th>10</th>\n",
              "      <td>5.0</td>\n",
              "    </tr>\n",
              "    <tr>\n",
              "      <th>370</th>\n",
              "      <td>5.0</td>\n",
              "    </tr>\n",
              "    <tr>\n",
              "      <th>1722</th>\n",
              "      <td>5.0</td>\n",
              "    </tr>\n",
              "    <tr>\n",
              "      <th>2011</th>\n",
              "      <td>5.0</td>\n",
              "    </tr>\n",
              "    <tr>\n",
              "      <th>7573</th>\n",
              "      <td>5.0</td>\n",
              "    </tr>\n",
              "    <tr>\n",
              "      <th>...</th>\n",
              "      <td>...</td>\n",
              "    </tr>\n",
              "    <tr>\n",
              "      <th>1391</th>\n",
              "      <td>0.5</td>\n",
              "    </tr>\n",
              "    <tr>\n",
              "      <th>3000</th>\n",
              "      <td>0.5</td>\n",
              "    </tr>\n",
              "    <tr>\n",
              "      <th>2762</th>\n",
              "      <td>0.5</td>\n",
              "    </tr>\n",
              "    <tr>\n",
              "      <th>2288</th>\n",
              "      <td>0.5</td>\n",
              "    </tr>\n",
              "    <tr>\n",
              "      <th>173307</th>\n",
              "      <td>0.5</td>\n",
              "    </tr>\n",
              "  </tbody>\n",
              "</table>\n",
              "<p>396 rows × 1 columns</p>\n",
              "</div>"
            ],
            "text/plain": [
              "          nota\n",
              "id_filme      \n",
              "10         5.0\n",
              "370        5.0\n",
              "1722       5.0\n",
              "2011       5.0\n",
              "7573       5.0\n",
              "...        ...\n",
              "1391       0.5\n",
              "3000       0.5\n",
              "2762       0.5\n",
              "2288       0.5\n",
              "173307     0.5\n",
              "\n",
              "[396 rows x 1 columns]"
            ]
          },
          "metadata": {
            "tags": []
          },
          "execution_count": 27
        }
      ]
    },
    {
      "cell_type": "markdown",
      "metadata": {
        "id": "hZdB3Aw9IvLy"
      },
      "source": [
        "> ### Generalizando em uma função"
      ]
    },
    {
      "cell_type": "code",
      "metadata": {
        "id": "PmoCCrDVIyQi"
      },
      "source": [
        "def sugestao(id_ref, n_ref):\n",
        "  proximos(id_ref, n = n_ref)\n",
        "  similares = proximos(id_ref, n = n_ref)\n",
        "  similar = similares.iloc[0].name\n",
        "  notas_similar = notas_usuario(similar)\n",
        "  filmes_ref = notas_usuario(id_ref).index\n",
        "  recomendacoes = notas_similar.drop(filmes_ref, errors='ignore').sort_values('nota', ascending = False)\n",
        "  return recomendacoes"
      ],
      "execution_count": 28,
      "outputs": []
    },
    {
      "cell_type": "code",
      "metadata": {
        "colab": {
          "base_uri": "https://localhost:8080/",
          "height": 420
        },
        "id": "O2GMTWMgJdUi",
        "outputId": "54027cb1-7702-4204-dc06-fccdbe710b4f"
      },
      "source": [
        "sugestao(1,48)"
      ],
      "execution_count": 29,
      "outputs": [
        {
          "output_type": "execute_result",
          "data": {
            "text/html": [
              "<div>\n",
              "<style scoped>\n",
              "    .dataframe tbody tr th:only-of-type {\n",
              "        vertical-align: middle;\n",
              "    }\n",
              "\n",
              "    .dataframe tbody tr th {\n",
              "        vertical-align: top;\n",
              "    }\n",
              "\n",
              "    .dataframe thead th {\n",
              "        text-align: right;\n",
              "    }\n",
              "</style>\n",
              "<table border=\"1\" class=\"dataframe\">\n",
              "  <thead>\n",
              "    <tr style=\"text-align: right;\">\n",
              "      <th></th>\n",
              "      <th>nota</th>\n",
              "    </tr>\n",
              "    <tr>\n",
              "      <th>id_filme</th>\n",
              "      <th></th>\n",
              "    </tr>\n",
              "  </thead>\n",
              "  <tbody>\n",
              "    <tr>\n",
              "      <th>10</th>\n",
              "      <td>5.0</td>\n",
              "    </tr>\n",
              "    <tr>\n",
              "      <th>370</th>\n",
              "      <td>5.0</td>\n",
              "    </tr>\n",
              "    <tr>\n",
              "      <th>1722</th>\n",
              "      <td>5.0</td>\n",
              "    </tr>\n",
              "    <tr>\n",
              "      <th>2011</th>\n",
              "      <td>5.0</td>\n",
              "    </tr>\n",
              "    <tr>\n",
              "      <th>7573</th>\n",
              "      <td>5.0</td>\n",
              "    </tr>\n",
              "    <tr>\n",
              "      <th>...</th>\n",
              "      <td>...</td>\n",
              "    </tr>\n",
              "    <tr>\n",
              "      <th>1391</th>\n",
              "      <td>0.5</td>\n",
              "    </tr>\n",
              "    <tr>\n",
              "      <th>3000</th>\n",
              "      <td>0.5</td>\n",
              "    </tr>\n",
              "    <tr>\n",
              "      <th>2762</th>\n",
              "      <td>0.5</td>\n",
              "    </tr>\n",
              "    <tr>\n",
              "      <th>2288</th>\n",
              "      <td>0.5</td>\n",
              "    </tr>\n",
              "    <tr>\n",
              "      <th>173307</th>\n",
              "      <td>0.5</td>\n",
              "    </tr>\n",
              "  </tbody>\n",
              "</table>\n",
              "<p>396 rows × 1 columns</p>\n",
              "</div>"
            ],
            "text/plain": [
              "          nota\n",
              "id_filme      \n",
              "10         5.0\n",
              "370        5.0\n",
              "1722       5.0\n",
              "2011       5.0\n",
              "7573       5.0\n",
              "...        ...\n",
              "1391       0.5\n",
              "3000       0.5\n",
              "2762       0.5\n",
              "2288       0.5\n",
              "173307     0.5\n",
              "\n",
              "[396 rows x 1 columns]"
            ]
          },
          "metadata": {
            "tags": []
          },
          "execution_count": 29
        }
      ]
    },
    {
      "cell_type": "markdown",
      "metadata": {
        "id": "McWy52LbKDXd"
      },
      "source": [
        "> ## Finalizando Recomendação\n",
        "\n",
        "Recomendando o filme baseado em mais de um usuário"
      ]
    },
    {
      "cell_type": "code",
      "metadata": {
        "colab": {
          "base_uri": "https://localhost:8080/",
          "height": 420
        },
        "id": "8W0WkOpkKN2L",
        "outputId": "4d763489-d024-484f-8412-e8445e8e1f52"
      },
      "source": [
        "def proximos(ref_id, n = None, n_proximos = 10):\n",
        "  distancia = distancia_todos(ref_id, n = n)\n",
        "  return distancia.sort_values('distancia').query('outro_usuario_id != %d' % ref_id).head(n_proximos)\n",
        "\n",
        "def sugestao(id_ref, n_ref = None):\n",
        "\n",
        "  notas_ref = notas_usuario(id_ref)\n",
        "  filmes_ref = notas_usuario(id_ref).index\n",
        "\n",
        "  similares = proximos(id_ref, n = n_ref).index\n",
        "  notas_similares = notas.set_index(['id_usuario']).loc[similares]\n",
        "\n",
        "\n",
        "  recomendacoes = notas_similares.groupby('id_filme').mean()[['nota']]\n",
        "  recomendacoes = recomendacoes.sort_values('nota', ascending = False)\n",
        "  return recomendacoes.join(filmes)\n",
        "\n",
        "sugestao(1, 500)"
      ],
      "execution_count": 40,
      "outputs": [
        {
          "output_type": "execute_result",
          "data": {
            "text/html": [
              "<div>\n",
              "<style scoped>\n",
              "    .dataframe tbody tr th:only-of-type {\n",
              "        vertical-align: middle;\n",
              "    }\n",
              "\n",
              "    .dataframe tbody tr th {\n",
              "        vertical-align: top;\n",
              "    }\n",
              "\n",
              "    .dataframe thead th {\n",
              "        text-align: right;\n",
              "    }\n",
              "</style>\n",
              "<table border=\"1\" class=\"dataframe\">\n",
              "  <thead>\n",
              "    <tr style=\"text-align: right;\">\n",
              "      <th></th>\n",
              "      <th>nota</th>\n",
              "      <th>titulo</th>\n",
              "      <th>genero</th>\n",
              "      <th>total_votos</th>\n",
              "      <th>media_nota</th>\n",
              "    </tr>\n",
              "    <tr>\n",
              "      <th>id_filme</th>\n",
              "      <th></th>\n",
              "      <th></th>\n",
              "      <th></th>\n",
              "      <th></th>\n",
              "      <th></th>\n",
              "    </tr>\n",
              "  </thead>\n",
              "  <tbody>\n",
              "    <tr>\n",
              "      <th>2078</th>\n",
              "      <td>5.0</td>\n",
              "      <td>Jungle Book, The (1967)</td>\n",
              "      <td>Animation|Children|Comedy|Musical</td>\n",
              "      <td>53.0</td>\n",
              "      <td>3.830189</td>\n",
              "    </tr>\n",
              "    <tr>\n",
              "      <th>1792</th>\n",
              "      <td>5.0</td>\n",
              "      <td>U.S. Marshals (1998)</td>\n",
              "      <td>Action|Crime|Thriller</td>\n",
              "      <td>23.0</td>\n",
              "      <td>3.021739</td>\n",
              "    </tr>\n",
              "    <tr>\n",
              "      <th>3798</th>\n",
              "      <td>5.0</td>\n",
              "      <td>What Lies Beneath (2000)</td>\n",
              "      <td>Drama|Horror|Mystery</td>\n",
              "      <td>25.0</td>\n",
              "      <td>3.200000</td>\n",
              "    </tr>\n",
              "    <tr>\n",
              "      <th>52328</th>\n",
              "      <td>5.0</td>\n",
              "      <td>Sunshine (2007)</td>\n",
              "      <td>Adventure|Drama|Sci-Fi|Thriller</td>\n",
              "      <td>14.0</td>\n",
              "      <td>3.642857</td>\n",
              "    </tr>\n",
              "    <tr>\n",
              "      <th>4901</th>\n",
              "      <td>5.0</td>\n",
              "      <td>Spy Game (2001)</td>\n",
              "      <td>Action|Crime|Drama|Thriller</td>\n",
              "      <td>27.0</td>\n",
              "      <td>3.481481</td>\n",
              "    </tr>\n",
              "    <tr>\n",
              "      <th>...</th>\n",
              "      <td>...</td>\n",
              "      <td>...</td>\n",
              "      <td>...</td>\n",
              "      <td>...</td>\n",
              "      <td>...</td>\n",
              "    </tr>\n",
              "    <tr>\n",
              "      <th>107013</th>\n",
              "      <td>0.5</td>\n",
              "      <td>Christmas Carol, A (1977)</td>\n",
              "      <td>Drama|Fantasy</td>\n",
              "      <td>1.0</td>\n",
              "      <td>0.500000</td>\n",
              "    </tr>\n",
              "    <tr>\n",
              "      <th>786</th>\n",
              "      <td>0.5</td>\n",
              "      <td>Eraser (1996)</td>\n",
              "      <td>Action|Drama|Thriller</td>\n",
              "      <td>64.0</td>\n",
              "      <td>3.109375</td>\n",
              "    </tr>\n",
              "    <tr>\n",
              "      <th>509</th>\n",
              "      <td>0.5</td>\n",
              "      <td>Piano, The (1993)</td>\n",
              "      <td>Drama|Romance</td>\n",
              "      <td>61.0</td>\n",
              "      <td>3.540984</td>\n",
              "    </tr>\n",
              "    <tr>\n",
              "      <th>442</th>\n",
              "      <td>0.5</td>\n",
              "      <td>Demolition Man (1993)</td>\n",
              "      <td>Action|Adventure|Sci-Fi</td>\n",
              "      <td>81.0</td>\n",
              "      <td>3.092593</td>\n",
              "    </tr>\n",
              "    <tr>\n",
              "      <th>173307</th>\n",
              "      <td>0.5</td>\n",
              "      <td>The Gracefield Incident (2015)</td>\n",
              "      <td>Action|Horror|Sci-Fi</td>\n",
              "      <td>1.0</td>\n",
              "      <td>0.500000</td>\n",
              "    </tr>\n",
              "  </tbody>\n",
              "</table>\n",
              "<p>917 rows × 5 columns</p>\n",
              "</div>"
            ],
            "text/plain": [
              "          nota                          titulo  ... total_votos  media_nota\n",
              "id_filme                                        ...                        \n",
              "2078       5.0         Jungle Book, The (1967)  ...        53.0    3.830189\n",
              "1792       5.0            U.S. Marshals (1998)  ...        23.0    3.021739\n",
              "3798       5.0        What Lies Beneath (2000)  ...        25.0    3.200000\n",
              "52328      5.0                 Sunshine (2007)  ...        14.0    3.642857\n",
              "4901       5.0                 Spy Game (2001)  ...        27.0    3.481481\n",
              "...        ...                             ...  ...         ...         ...\n",
              "107013     0.5       Christmas Carol, A (1977)  ...         1.0    0.500000\n",
              "786        0.5                   Eraser (1996)  ...        64.0    3.109375\n",
              "509        0.5               Piano, The (1993)  ...        61.0    3.540984\n",
              "442        0.5           Demolition Man (1993)  ...        81.0    3.092593\n",
              "173307     0.5  The Gracefield Incident (2015)  ...         1.0    0.500000\n",
              "\n",
              "[917 rows x 5 columns]"
            ]
          },
          "metadata": {
            "tags": []
          },
          "execution_count": 40
        }
      ]
    }
  ]
}