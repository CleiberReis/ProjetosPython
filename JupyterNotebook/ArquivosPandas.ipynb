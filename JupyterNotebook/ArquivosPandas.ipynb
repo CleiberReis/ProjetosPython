# Exibição HTML e links
import html, base64, io
from IPython.display import HTML,display,clear_output,Javascript
import pandas as pd

# Criar link de download para CSV
def DownloadCSV( df, title = None, filename = None):
    if not filename:
        if not title:
            filename = "data.csv"
        else:
            filename = title + ".csv" 
    if not title:
        title = "Download CSV file"
    
    csv = df.to_csv(index=False)
    payload = base64.b64encode(csv.encode()).decode()
    html = '<a download="{filename}" href="data:text/csv;base64,{payload}" target="_blank">{title}</a>'
    display(HTML(html.format(payload=payload,title=title,filename=filename)))

def DownloadExcel( df, title = None, filename = None):
    if not filename:
        if not title:
            filename = "data.xlsx"
        else:
            filename = title + ".xlsx" 
    if not title:
        title = "Download XLSX file"
    
    saida = io.BytesIO()
    writer = pd.ExcelWriter(saida, engine='openpyxl')
    df.to_excel(writer, index=False)
    writer.save()
    xlsx_data = saida.getvalue()
    payload = base64.b64encode(xlsx_data).decode()
    html = '<a download="{filename}" href="data:application/vnd.openxmlformats-officedocument.spreadsheetml.sheet;base64,{payload}" target="_blank">{title}</a>'
    display(HTML(html.format(payload=payload,title=title,filename=filename)))

# COMO USAR
# import pandas as pd
# meudf = pd.DataFrame([1,2,3,4])
# DownloadExcel(meudf)
